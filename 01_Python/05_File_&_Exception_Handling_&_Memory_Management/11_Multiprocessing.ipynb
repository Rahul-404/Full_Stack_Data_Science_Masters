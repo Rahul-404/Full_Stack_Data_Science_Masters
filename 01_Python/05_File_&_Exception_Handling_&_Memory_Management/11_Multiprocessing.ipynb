{
 "cells": [
  {
   "cell_type": "markdown",
   "metadata": {},
   "source": [
    "# Multi-Processing"
   ]
  },
  {
   "cell_type": "markdown",
   "metadata": {},
   "source": [
    "<div style=\"text-align: center;\">\n",
    "  <img src=\"assets/cpu_cores.png\" alt=\"CPU Cores\" />\n",
    "</div>\n"
   ]
  },
  {
   "cell_type": "markdown",
   "metadata": {},
   "source": [
    "- Let's say we have `Quad-Core` system, we have processor no 1 , processor no 2, processor no 3 and processor no 4, so we have in total 4 processors in side our system.\n",
    "\n",
    "- now incase of threading in a single core we can try to run a multiple instances of a program , and again if one program is executing then another program will not be able to execute, either we have to stop it and then start another one, or may be we have to wait till complition of one program and then only we will able to start execution of next one.\n",
    "\n",
    "- mean another we go with above technique or try `context switching` which is again default feature of our operating system. \n",
    "\n",
    "- what if i like to run Multiple instances of program parallaly ?\n",
    "\n",
    "- What if i would like to achive parallelism , in that case if i can run one program in one processor and then another program may be in another processor, may be another program in another processor, next program in my another processor.\n",
    "\n",
    "- so in this case 4 programs i will be able to execue in parallel., and this is where the idea of multiprocessing comes into picture.\n",
    "\n",
    "- If you after the wording which is `Multi-Processing` means i am just trying to involve a multiple processors so that it will be able to execute a program in parallel, and also multiple programs on multiple processors parallely\n",
    "\n",
    "- In case of 4 processors it will 1/4 amount of the time\n",
    "\n",
    "- using this we can able to reduce the latency of a program, multiple instances will be able to run in easiest possible way.\n",
    "- Apart from this if there a shared resource between two processors even i will be able to utilize it.\n",
    "\n",
    "- This is what we will going to learn in this tutorial.\n"
   ]
  },
  {
   "cell_type": "code",
   "execution_count": 2,
   "metadata": {},
   "outputs": [],
   "source": [
    "# importing multiprocessing library\n",
    "import multiprocessing"
   ]
  },
  {
   "cell_type": "code",
   "execution_count": 2,
   "metadata": {},
   "outputs": [],
   "source": [
    "# creating function\n",
    "def test():\n",
    "    print(\"this is my multiprocessing program\")"
   ]
  },
  {
   "cell_type": "code",
   "execution_count": 3,
   "metadata": {},
   "outputs": [
    {
     "name": "stdout",
     "output_type": "stream",
     "text": [
      "this is my multiprocessing program\n"
     ]
    }
   ],
   "source": [
    "test()"
   ]
  },
  {
   "cell_type": "markdown",
   "metadata": {},
   "source": [
    "Lets suppose i have to execute this program with some other program, so in that case what ? and how i will be able to execute ?\n",
    "\n",
    "-> so in this case, will create a `main` method, basically this `main` method is reponsible for executing everything inside your python compiler, will be able to create it as follows"
   ]
  },
  {
   "cell_type": "code",
   "execution_count": 4,
   "metadata": {},
   "outputs": [
    {
     "name": "stdout",
     "output_type": "stream",
     "text": [
      "this is my main program\n"
     ]
    }
   ],
   "source": [
    "# creating function\n",
    "def test():\n",
    "    print(\"this is my multiprocessing program\")\n",
    "\n",
    "if __name__ == \"__main__\": # this is process in itself\n",
    "    m = multiprocessing.Process(target=test)\n",
    "    print(\"this is my main program\")\n",
    "    m.start()\n",
    "    m.join()"
   ]
  },
  {
   "cell_type": "markdown",
   "metadata": {},
   "source": [
    "1. we create a multi processing instance\n",
    "2. target is `test`\n",
    "\n",
    "main method will be my main program as a instance and under that will execute another program using multiprocessing method as another instance we can say a `child` program inside a main program.\n",
    "\n",
    "How to start that child program ?\n",
    "\n",
    "```m.start()```\n",
    "\n",
    "then `m.join()` in case of `join` wait until child process terminates, because child process will consume some resources in terms of CPU, may be in terms of Memory so again this program will try to terminate it and then release all the resources so that my other programs will be able to use.  "
   ]
  },
  {
   "cell_type": "markdown",
   "metadata": {},
   "source": [
    "- writing a `square`function to square the input"
   ]
  },
  {
   "cell_type": "code",
   "execution_count": 5,
   "metadata": {},
   "outputs": [],
   "source": [
    "def square(x):\n",
    "    return x**2"
   ]
  },
  {
   "cell_type": "markdown",
   "metadata": {},
   "source": [
    "- it is better that always create a main method and call othe functions as  child proecsses\n",
    "\n",
    "- last time we called `Process` now will call `Pool`, so that i can provide the pool of data inside this program."
   ]
  },
  {
   "cell_type": "code",
   "execution_count": 3,
   "metadata": {},
   "outputs": [],
   "source": [
    "def square(x):\n",
    "    return x**2\n",
    "\n",
    "if __name__ == \"__main__\":\n",
    "    with multiprocessing.Pool(processes=5) as pool:\n",
    "        out = pool.map(square, [3,4,6,5,7,98,7,3,5])\n",
    "        print(out)"
   ]
  },
  {
   "cell_type": "markdown",
   "metadata": {},
   "source": [
    "- this will give pool of processes , lets suppose we have written `process = 5` what ever data tha we are going insert it will try to allocate a 5 different processes automatically, and then parallaly it will try execute each every process and try to accumulate the result to you . lets try to understand how"
   ]
  },
  {
   "cell_type": "code",
   "execution_count": null,
   "metadata": {},
   "outputs": [],
   "source": []
  },
  {
   "cell_type": "markdown",
   "metadata": {},
   "source": [
    "- Now i won't be using `pool` , will use `Queue` *first come forst serve* "
   ]
  },
  {
   "cell_type": "code",
   "execution_count": 6,
   "metadata": {},
   "outputs": [],
   "source": [
    "import multiprocessing\n",
    "\n",
    "def producer(q):\n",
    "    for i in [\"rahul\", \"shelke\", \"myskills\", \"ajay\", \"thakur\"]:\n",
    "        q.put(i) # it will start putting in to queue\n",
    "\n",
    "\n",
    "def consume(q):\n",
    "    while True:\n",
    "        item = q.get() # get data\n",
    "        if item is None:\n",
    "            break\n",
    "        print(item)\n",
    "\n",
    "if __name__ == \"__main__\":\n",
    "    queue =  multiprocessing.Queue()\n",
    "    m1 = multiprocessing.Process(target=producer, args=(queue, )) # Enqueue operation\n",
    "    m2 = multiprocessing.Process(target=consume, args=(queue, )) # Dequeue operation\n",
    "    m1.start()\n",
    "    m2.start() \n",
    "    queue.put(\"XYZ\")\n",
    "    m1.join()\n",
    "    m2.join()"
   ]
  },
  {
   "cell_type": "markdown",
   "metadata": {},
   "source": [
    "- Another example of multiprocessing "
   ]
  },
  {
   "cell_type": "code",
   "execution_count": 9,
   "metadata": {},
   "outputs": [],
   "source": [
    "import multiprocessing"
   ]
  },
  {
   "cell_type": "code",
   "execution_count": 12,
   "metadata": {},
   "outputs": [
    {
     "name": "stdout",
     "output_type": "stream",
     "text": [
      "[7, 654, 6, 4, 65, 4, 65, 54, 1, 3]\n"
     ]
    }
   ],
   "source": [
    "import multiprocessing.process\n",
    "\n",
    "\n",
    "def square(index, value):\n",
    "    \"\"\"\n",
    "    it will extract all the value and will take their squares and return those\n",
    "    \"\"\"\n",
    "    value[index] = value[index]**2\n",
    "\n",
    "\n",
    "if __name__ == \"__main__\":\n",
    "    arr = multiprocessing.Array('i', [ 7,654,6,4,65,4,65,54,1,3])\n",
    "    process = []\n",
    "    for i in range(10) :\n",
    "        m = multiprocessing.Process(target=square, args=(i, arr))\n",
    "        process.append(m)\n",
    "        m.start()\n",
    "        \n",
    "    for m in process:\n",
    "        m.join()\n",
    "    print(list(arr))"
   ]
  },
  {
   "cell_type": "markdown",
   "metadata": {},
   "source": [
    "- even if we have multiple processors on job , i will have gloabl array, it is going to create for us, which can be accessed by multiple processesor, because i just have one function\n",
    "\n",
    "- system divide this arrays as multiple processes and then perform `square` function on them parallaly, and then it will accumulate the results and give it to you"
   ]
  },
  {
   "cell_type": "code",
   "execution_count": 14,
   "metadata": {},
   "outputs": [
    {
     "data": {
      "text/plain": [
       "[<Process name='Process-5' pid=12204 parent=9452 stopped exitcode=1>,\n",
       " <Process name='Process-6' pid=8672 parent=9452 stopped exitcode=1>,\n",
       " <Process name='Process-7' pid=3056 parent=9452 stopped exitcode=1>,\n",
       " <Process name='Process-8' pid=11060 parent=9452 stopped exitcode=1>,\n",
       " <Process name='Process-9' pid=6268 parent=9452 stopped exitcode=1>,\n",
       " <Process name='Process-10' pid=2900 parent=9452 stopped exitcode=1>,\n",
       " <Process name='Process-11' pid=7884 parent=9452 stopped exitcode=1>,\n",
       " <Process name='Process-12' pid=10320 parent=9452 stopped exitcode=1>,\n",
       " <Process name='Process-13' pid=10868 parent=9452 stopped exitcode=1>,\n",
       " <Process name='Process-14' pid=8116 parent=9452 stopped exitcode=1>]"
      ]
     },
     "execution_count": 14,
     "metadata": {},
     "output_type": "execute_result"
    }
   ],
   "source": [
    "process"
   ]
  },
  {
   "cell_type": "markdown",
   "metadata": {},
   "source": [
    "- Now let's try to understand example with `pipe`, \n",
    "\n",
    "How i able to create pipe ?\n",
    "How i able to understand this concept?\n",
    "\n",
    "you must be using `whatsapp` , now when ever send a message, let's supose i am using whatsapp and i have mobile number 1 (which is mine) and there is another mobile number 2 (which is my friends), \n",
    "\n",
    "- when i send a message, then somewhere it will go, process it, and then my friend will able to get it.\n",
    "\n",
    "- Again if my friend is sending message then i will be able to get it.\n",
    "\n",
    "- Basically i am talking about two process\n",
    "    1. which will keep producing the messages.\n",
    "    2. which will keep reciving the messages.\n",
    "or vice-versa, But there must be a process which will controll both the sides - `whatsapp server`\n",
    "\n",
    "\n",
    "<div style=\"text-align: center;\">\n",
    "  <img src=\"assets/multi_processing.png\" alt=\"Whatsapp Example\" />\n",
    "</div>\n",
    "\n",
    "\n",
    "\n",
    "basically someone has written a program so that it will be able to process it, sohow this kind of operation happens?\n",
    "\n",
    "\n",
    "- this kisnd of operations called as `piping operation`\n",
    "\n",
    "- means we are trying to set one way communication or two way communication., which is possible through `Pipe`.\n",
    "\n",
    "- `Pipe` will open up two way communication each will run in individual system, and able to communicate b/w each other, thats the whole idea behind piping.\n",
    "\n",
    "now lets see how can you achive this kind of thing."
   ]
  },
  {
   "cell_type": "code",
   "execution_count": 15,
   "metadata": {},
   "outputs": [],
   "source": [
    "import multiprocessing\n",
    "\n",
    "def sender(conn, msg):\n",
    "    ''' \n",
    "    this will send a message after establishing a connection, a pipe will create this connection\n",
    "    '''\n",
    "    for i in msg:\n",
    "        conn.send(i)\n",
    "    conn.close()\n",
    "\n",
    "def receive(conn):\n",
    "    while True:\n",
    "        try:\n",
    "            msg = conn.recv()\n",
    "        except Exception as e:\n",
    "            print(e)\n",
    "            break\n",
    "        print(msg)\n",
    "\n",
    "\n",
    "if __name__ == \"__main__\":\n",
    "    msg = [\"my name is rahul\", \"this is my msg to my students\", \"i am taking class for dsm \", \"try to practice all the code\"]\n",
    "    # establish the connection using pipe\n",
    "    parent_conn, child_conn = multiprocessing.Pipe() \n",
    "    # by default duplex connection will be formed, besically everyone can send and every one can recive\n",
    "    # if duplex = false then messeging will happen in simplex mode, means one can only send and one can only receive \n",
    "    m1 = multiprocessing.Process(target=sender, args=(child_conn, msg))\n",
    "    m2 = multiprocessing.Process(target=receive, args=(parent_conn, msg))\n",
    "    m1.start()\n",
    "    m2.start()\n",
    "    m1.join()\n",
    "    child_conn.close()\n",
    "    m2.join()\n",
    "    parent_conn.close()"
   ]
  },
  {
   "cell_type": "code",
   "execution_count": null,
   "metadata": {},
   "outputs": [],
   "source": []
  }
 ],
 "metadata": {
  "kernelspec": {
   "display_name": "base",
   "language": "python",
   "name": "python3"
  },
  "language_info": {
   "codemirror_mode": {
    "name": "ipython",
    "version": 3
   },
   "file_extension": ".py",
   "mimetype": "text/x-python",
   "name": "python",
   "nbconvert_exporter": "python",
   "pygments_lexer": "ipython3",
   "version": "3.11.7"
  }
 },
 "nbformat": 4,
 "nbformat_minor": 2
}
