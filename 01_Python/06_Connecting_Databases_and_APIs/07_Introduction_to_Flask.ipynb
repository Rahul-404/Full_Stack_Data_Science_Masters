{
 "cells": [
  {
   "cell_type": "markdown",
   "metadata": {},
   "source": [
    "## Flas Introduction, Application , Open Link Flask, App Routing Flask & Url Building Flask "
   ]
  },
  {
   "cell_type": "markdown",
   "metadata": {},
   "source": [
    "Try to understand \n",
    "\n",
    "*What is an API ?*,  \n",
    "\n",
    "*How we can try to create an API ?*, \n",
    "\n",
    "*How we can do a URL buinding ?*, \n",
    "\n",
    "*How we can perform a routing operartions ?* \n",
    "\n",
    "so that we can understand APIs in better way. And then going forward we can use them in our project."
   ]
  },
  {
   "cell_type": "markdown",
   "metadata": {},
   "source": [
    "We are going to use **Flask** frame work to create an API\n",
    "\n",
    "What is Flask?\n",
    "\n",
    "- Flask is framework or can say it is an library by which we all can create an APIs.  "
   ]
  },
  {
   "cell_type": "markdown",
   "metadata": {},
   "source": [
    "1. install flask library in our local system and import it"
   ]
  },
  {
   "cell_type": "markdown",
   "metadata": {},
   "source": [
    "copy following command in cmd and install Flask in your python evironment\n",
    "\n",
    "\n",
    "```\n",
    "pip install Flask\n",
    "```\n",
    "\n",
    "2. In your local system you will not be able to make your URL or APIs global but in your AWS you have the provision to make your URL and API public to others.\n",
    "\n",
    "Let's start writing the APIs\n",
    "\n"
   ]
  },
  {
   "cell_type": "markdown",
   "metadata": {},
   "source": [
    "refer [app.py](https://github.com/Rahul-404/Full_Stack_Data_Science_Masters/blob/master/01_Python/06_Connecting_Databases_and_APIs/Flask/app.py)\n",
    "\n",
    "```python\n",
    "\n",
    "from flask import Flask\n",
    "\n",
    "app = Flask(__name__)\n",
    "\n",
    "@app.route(\"/\")\n",
    "def hello_world():\n",
    "    return \"Hello, world!\"\n",
    "\n",
    "if __name__ == \"__main__\":\n",
    "    app.run(host=\"0.0.0.0\")\n",
    "\n",
    "```"
   ]
  },
  {
   "cell_type": "markdown",
   "metadata": {},
   "source": [
    "Now we have very simple function called `hello_world` and it returns string `\"Hello, world!\"`\n",
    "\n",
    "Our requirement is that we have to expose this `hello_world` function to the outer world, so that any one with the URL will be able to access that particular function from any where"
   ]
  },
  {
   "cell_type": "markdown",
   "metadata": {},
   "source": [
    "<div style=\"text-align: center;\">\n",
    "  <img src=\"assets/client_server_network.PNG\" alt=\"Client-Server-Architectue\" width=500/>\n",
    "</div>"
   ]
  },
  {
   "cell_type": "markdown",
   "metadata": {},
   "source": [
    "- Let's try to understand `Client-Server` Architecture, and how those two related to each other.\n",
    "- In this tutorial we will try to create a server , a `server` is nothing but a simple machine or a computer,\n",
    "\n",
    "Let's assume that i have written piece of code in over server , may be one function or may be 100's of functions i have created inside my server computer, now let's say i have another server which is behaving like a client, now my client is going to access all of this function which is available inside a server, suppose my client is a browser (but it can be any web application) which is going to request server that please execute this `XYZ` function on server, basically client computer is going to access something from my server computer.\n",
    "\n",
    "If it is able to access then i can say that , okay i have exposed my functions through an API to the outer world and yes every one is able to access it and that's it, this is waht we suppose to understand\n",
    "\n",
    "So Smilarly this above code is going to behave as server to me.\n",
    "\n",
    "How i will be able to make it as a server with the help of **Flask** and that is the reason we are trying to do an import as falsk in line 1\n",
    "\n",
    "- creating an object of my flask in line 2 , and passing as dunger `__name__`, `app` is object variable\n",
    "\n",
    "-\n",
    "\n",
    "- we are trying to decorate this `hello_world` custome function with route, so instade of calling function directly by its name we are calling it by a URL, if we call it by URL then it will become platform dependent, but URL is not platform dependent, it is basically HTTP protocol which is going to follow.\n",
    "\n",
    "- So idea is to expose this function on some URL so that it is accessable, thats the reason we are giving `route` , and we will also try to create our custome routes.\n",
    "\n",
    "if i have to access the function `hello_world`\n",
    "\n",
    "STEP 1 : reachout to the server\n",
    "\n",
    "STEP 2 : know the PORT No where the program is been exposed to \n",
    "\n",
    "STEP 3 : the i can try to give the route\n",
    "\n",
    "then it will be able to access this `hello_world` perticular function from any system\n",
    "\n",
    "so inside our `main` method we are going run the entire application as a server for now "
   ]
  },
  {
   "cell_type": "markdown",
   "metadata": {},
   "source": [
    "When we run the code it will become a development server \n",
    "\n",
    "<div style=\"text-align: center;\">\n",
    "  <img src=\"assets/local_server.PNG\" alt=\"local server\" width=800/>\n",
    "</div>\n",
    "\n",
    "it has created a server and inside that server my function `hello_world` is running.\n",
    "\n",
    "Now i have to execute that function now how i will be able to do this ?\n",
    "\n",
    "STEP 1 : reach out to the URL, for now it is running on `localhost` and `5000` is default PORT number on flask, open it in a new tab of browser\n",
    "\n",
    "<div style=\"text-align: center;\">\n",
    "  <img src=\"assets/ping.PNG\" alt=\"ping\" width=800/>\n",
    "</div>\n",
    "\n",
    "STEP 2 : It is showing us `Hello, World!` , means that we are able to access our function and what ever is written with in this function we are able to access it.\n",
    "\n",
    "<div style=\"text-align: center;\">\n",
    "  <img src=\"assets/hello_world.PNG\" alt=\"browser tab\" width=800/>\n",
    "</div>\n"
   ]
  },
  {
   "cell_type": "markdown",
   "metadata": {},
   "source": [
    "Here entire browser unit in my client , i am able to execute my python function from the URL from a browser it self. if put this experiment on AWS EC2 instance we will be able to access this function on other devices also provided the URL."
   ]
  },
  {
   "cell_type": "markdown",
   "metadata": {},
   "source": [
    "Let's add two more functions to same code and expose them using different route, and route is everything in APIs"
   ]
  },
  {
   "cell_type": "markdown",
   "metadata": {},
   "source": [
    "refer [app1.py](https://github.com/Rahul-404/Full_Stack_Data_Science_Masters/blob/master/01_Python/06_Connecting_Databases_and_APIs/Flask/app1.py)\n",
    "\n",
    "\n",
    "```python\n",
    "\n",
    "from flask import Flask\n",
    "\n",
    "app = Flask(__name__)\n",
    "\n",
    "@app.route(\"/\")\n",
    "def hello_world():\n",
    "    return \"Hello, world!\"\n",
    "\n",
    "@app.route(\"/hello1\")\n",
    "def hello_world1():\n",
    "    return \"Hello, world!1\"\n",
    "\n",
    "@app.route(\"/hello2\")\n",
    "def hello_world2():\n",
    "    return \"Hello, world!2\"\n",
    "\n",
    "\n",
    "if __name__ == \"__main__\":\n",
    "    app.run(host=\"0.0.0.0\")\n",
    "\n",
    "```"
   ]
  },
  {
   "cell_type": "markdown",
   "metadata": {},
   "source": [
    "When we run the code it will become a development server \n",
    "\n",
    "<div style=\"text-align: center;\">\n",
    "  <img src=\"assets/local_server_1.PNG\" alt=\"local server\" width=800/>\n",
    "</div>\n",
    "\n",
    "it has created a server and inside that server my function `hello_world`, `hello_world1` and `hello_world2` is running.\n",
    "\n",
    "Now i have to execute that function now how i will be able to do this ?\n",
    "\n",
    "STEP 1 : reach out to the URL, for now it is running on `localhost` and `5000` is default PORT number on flask, open it in a new tab of browser\n",
    "\n",
    "<div style=\"text-align: center;\">\n",
    "  <img src=\"assets/ping_1.PNG\" alt=\"ping\" width=800/>\n",
    "</div>\n",
    "\n",
    "STEP 2 : It is showing us `Hello, World!` , means that we are able to access our function and what ever is written with in this function we are able to access it.\n",
    "\n",
    "Now let's change the url to `localhost:5000/hello1`\n",
    "\n",
    "<div style=\"text-align: center;\">\n",
    "  <img src=\"assets/hello_world_1.PNG\" alt=\"browser tab\" width=800/>\n",
    "</div>\n",
    "\n",
    "\n",
    "Again change the url to `localhost:5000/hello2`\n",
    "\n",
    "<div style=\"text-align: center;\">\n",
    "  <img src=\"assets/hello_world_2.PNG\" alt=\"browser tab\" width=800/>\n",
    "</div>\n",
    "\n",
    "Both newly added function are working, Amazing !!!\n",
    "\n",
    "We are able to run python function by without calling them, just by URL we are able to run those. it follows the HTTP protocols"
   ]
  },
  {
   "cell_type": "markdown",
   "metadata": {},
   "source": [
    "Let's create one more custome function \n",
    "\n",
    "refer [app2.py](https://github.com/Rahul-404/Full_Stack_Data_Science_Masters/blob/master/01_Python/06_Connecting_Databases_and_APIs/Flask/app2.py)\n",
    "\n",
    "\n",
    "```python\n",
    "\n",
    "from flask import Flask\n",
    "\n",
    "app = Flask(__name__)\n",
    "\n",
    "@app.route(\"/\")\n",
    "def hello_world():\n",
    "    return \"Hello, world!\"\n",
    "\n",
    "@app.route(\"/hello1\")\n",
    "def hello_world1():\n",
    "    return \"Hello, world!1\"\n",
    "\n",
    "@app.route(\"/hello2\")\n",
    "def hello_world2():\n",
    "    return \"Hello, world!2\"\n",
    "\n",
    "@app.route(\"/test_fun\")\n",
    "def test():\n",
    "    a = 5+6\n",
    "    return \"this is my first fun in flask {}\".format(a)\n",
    "\n",
    "if __name__ == \"__main__\":\n",
    "    app.run(host=\"0.0.0.0\")\n",
    "\n",
    "```"
   ]
  },
  {
   "cell_type": "markdown",
   "metadata": {},
   "source": [
    "Again change the url to `localhost:5000/test_fun`\n",
    "\n",
    "<div style=\"text-align: center;\">\n",
    "  <img src=\"assets/test_fun.PNG\" alt=\"browser tab\" width=800/>\n",
    "</div>"
   ]
  },
  {
   "cell_type": "markdown",
   "metadata": {},
   "source": [
    "**Requirement:** I have to create a function which will take a input when ever i am going to call it, it should take a input and then it should return that particular input or may be after performing some sort of operation.  \n",
    "\n",
    "- to request something from a server we have module for it in flask which is `request`"
   ]
  },
  {
   "cell_type": "markdown",
   "metadata": {},
   "source": [
    "refer [app3.py](https://github.com/Rahul-404/Full_Stack_Data_Science_Masters/blob/master/01_Python/06_Connecting_Databases_and_APIs/Flask/app3.py)\n",
    "\n",
    "\n",
    "```python\n",
    "\n",
    "from flask import Flask\n",
    "from flask import request\n",
    "\n",
    "app = Flask(__name__)\n",
    "\n",
    "@app.route(\"/\")\n",
    "def hello_world():\n",
    "    return \"Hello, world!\"\n",
    "\n",
    "@app.route(\"/hello1\")\n",
    "def hello_world1():\n",
    "    return \"Hello, world!1\"\n",
    "\n",
    "@app.route(\"/hello2\")\n",
    "def hello_world2():\n",
    "    return \"Hello, world!2\"\n",
    "\n",
    "@app.route(\"/test_fun\")\n",
    "def test():\n",
    "    a = 5+6\n",
    "    return \"this is my first fun in flask {}\".format(a)\n",
    "\n",
    "@app.route(\"/input_url\")\n",
    "def request_input():\n",
    "    data = request.args.get('x')\n",
    "    return \"this is my input from url {}\".format(data)\n",
    "\n",
    "if __name__ == \"__main__\":\n",
    "    app.run(host=\"0.0.0.0\")\n",
    "\n",
    "```"
   ]
  },
  {
   "cell_type": "markdown",
   "metadata": {},
   "source": [
    "**Above Function:**\n",
    "\n",
    "-"
   ]
  },
  {
   "cell_type": "code",
   "execution_count": null,
   "metadata": {},
   "outputs": [],
   "source": []
  }
 ],
 "metadata": {
  "kernelspec": {
   "display_name": "base",
   "language": "python",
   "name": "python3"
  },
  "language_info": {
   "codemirror_mode": {
    "name": "ipython",
    "version": 3
   },
   "file_extension": ".py",
   "mimetype": "text/x-python",
   "name": "python",
   "nbconvert_exporter": "python",
   "pygments_lexer": "ipython3",
   "version": "3.11.7"
  }
 },
 "nbformat": 4,
 "nbformat_minor": 2
}
