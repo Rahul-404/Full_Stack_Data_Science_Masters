{
 "cells": [
  {
   "cell_type": "markdown",
   "metadata": {},
   "source": [
    "### 3] Remove Duplicate in a List\n",
    "\n",
    "Remove Duplicates from a List\n",
    "\n",
    "You are given a list of integers. Write a Python program that removes any duplicate elements from the list and returns a new list with only unique elements. The order of elements in the list should be maintained.\n",
    "\n",
    "Parameters:\n",
    "\n",
    "lst (List of integers): The list of integers from which duplicates should be removed.\n",
    "\n",
    "Returns:\n",
    "\n",
    "A list of integers where all duplicates have been removed, preserving the original order.\n",
    "\n",
    "Example:\n",
    "```\n",
    "Input: lst = [1, 2, 2, 3, 4, 4, 5]\n",
    "Output: [1, 2, 3, 4, 5]\n",
    "\n",
    "Input: lst = [4, 5, 5, 4, 6, 7]\n",
    "Output: [4, 5, 6, 7]\n",
    "```\n",
    "\n",
    "Note :- Please don't use set or inbuilt functions. Try to use brute force logic."
   ]
  },
  {
   "cell_type": "code",
   "execution_count": 1,
   "metadata": {},
   "outputs": [],
   "source": [
    "input = [1, 2, 2, 3, 4, 4, 5]\n",
    "output = [1, 2, 3, 4, 5]"
   ]
  },
  {
   "cell_type": "markdown",
   "metadata": {},
   "source": [
    "Approach 1: using built-in function\n",
    "\n",
    "1. create frequency table for numbers\n",
    "2. if freq > 1:\n",
    "    remove that number from list\n",
    "3. return list"
   ]
  },
  {
   "cell_type": "code",
   "execution_count": 2,
   "metadata": {},
   "outputs": [],
   "source": [
    "d = dict()"
   ]
  },
  {
   "cell_type": "code",
   "execution_count": 4,
   "metadata": {},
   "outputs": [],
   "source": [
    "for i in input:\n",
    "    d[i] = 1 + d.setdefault(i, 0) # we are using built in function"
   ]
  },
  {
   "cell_type": "code",
   "execution_count": 8,
   "metadata": {},
   "outputs": [],
   "source": [
    "for _, value in enumerate(d):\n",
    "    if d[value] > 1:\n",
    "        input.remove(value)"
   ]
  },
  {
   "cell_type": "code",
   "execution_count": 9,
   "metadata": {},
   "outputs": [
    {
     "data": {
      "text/plain": [
       "[1, 2, 3, 4, 5]"
      ]
     },
     "execution_count": 9,
     "metadata": {},
     "output_type": "execute_result"
    }
   ],
   "source": [
    "input"
   ]
  },
  {
   "cell_type": "code",
   "execution_count": 10,
   "metadata": {},
   "outputs": [],
   "source": [
    "def remove_duplicate(input):\n",
    "    d = dict()\n",
    "    for i in input:\n",
    "        d[i] = 1 + d.setdefault(i, 0) # we are using built in function\n",
    "    for _, value in enumerate(d):\n",
    "        if d[value] > 1:\n",
    "            input.remove(value)\n",
    "    return input"
   ]
  },
  {
   "cell_type": "code",
   "execution_count": 11,
   "metadata": {},
   "outputs": [
    {
     "data": {
      "text/plain": [
       "True"
      ]
     },
     "execution_count": 11,
     "metadata": {},
     "output_type": "execute_result"
    }
   ],
   "source": [
    "input = [1, 2, 2, 3, 4, 4, 5]\n",
    "output = [1, 2, 3, 4, 5]\n",
    "\n",
    "output == remove_duplicate(input)"
   ]
  },
  {
   "cell_type": "code",
   "execution_count": 16,
   "metadata": {},
   "outputs": [],
   "source": [
    "input = [4, 5, 5, 4, 6, 7]\n",
    "output = [4, 5, 6, 7]\n",
    "\n",
    "# output == remove_duplicate(input)"
   ]
  },
  {
   "cell_type": "code",
   "execution_count": 15,
   "metadata": {},
   "outputs": [
    {
     "name": "stdout",
     "output_type": "stream",
     "text": [
      "[4, 5, 6, 7]\n"
     ]
    },
    {
     "data": {
      "text/plain": [
       "[5, 4, 6, 7]"
      ]
     },
     "execution_count": 15,
     "metadata": {},
     "output_type": "execute_result"
    }
   ],
   "source": [
    "print(output)\n",
    "remove_duplicate(input)"
   ]
  },
  {
   "cell_type": "markdown",
   "metadata": {},
   "source": [
    "Approach 2: without built-in function\n"
   ]
  },
  {
   "cell_type": "code",
   "execution_count": 88,
   "metadata": {},
   "outputs": [],
   "source": [
    "input = [1, 2, 2, 3, 4, 4, 5]\n",
    "output = [1, 2, 3, 4, 5]"
   ]
  },
  {
   "cell_type": "code",
   "execution_count": 98,
   "metadata": {},
   "outputs": [],
   "source": [
    "def Remove(duplicate):\n",
    "    final_list = []\n",
    "    for num in duplicate:\n",
    "        if num not in final_list:\n",
    "            final_list.append(num)\n",
    "    return final_list"
   ]
  },
  {
   "cell_type": "code",
   "execution_count": 100,
   "metadata": {},
   "outputs": [
    {
     "data": {
      "text/plain": [
       "True"
      ]
     },
     "execution_count": 100,
     "metadata": {},
     "output_type": "execute_result"
    }
   ],
   "source": [
    "Remove(input) == output"
   ]
  },
  {
   "cell_type": "code",
   "execution_count": 101,
   "metadata": {},
   "outputs": [],
   "source": [
    "input = [4, 5, 5, 4, 6, 7]\n",
    "output = [4, 5, 6, 7]"
   ]
  },
  {
   "cell_type": "code",
   "execution_count": 102,
   "metadata": {},
   "outputs": [
    {
     "data": {
      "text/plain": [
       "True"
      ]
     },
     "execution_count": 102,
     "metadata": {},
     "output_type": "execute_result"
    }
   ],
   "source": [
    "output == Remove(input)"
   ]
  },
  {
   "cell_type": "markdown",
   "metadata": {},
   "source": [
    "Approach 3: without keyword"
   ]
  },
  {
   "cell_type": "code",
   "execution_count": 129,
   "metadata": {},
   "outputs": [],
   "source": [
    "input = [1, 2, 2, 3, 4, 4, 5]\n",
    "output = [1, 2, 3, 4, 5]"
   ]
  },
  {
   "cell_type": "code",
   "execution_count": 130,
   "metadata": {},
   "outputs": [],
   "source": [
    "final_list = []\n",
    "\n",
    "for num1 in input:\n",
    "\n",
    "    # if num not in final_list : in code \n",
    "    present = False\n",
    "    for num2 in final_list:\n",
    "        if num1 == num2:\n",
    "            present = True\n",
    "            \n",
    "    if not present:\n",
    "        final_list.append(num1)"
   ]
  },
  {
   "cell_type": "code",
   "execution_count": 131,
   "metadata": {},
   "outputs": [
    {
     "data": {
      "text/plain": [
       "[1, 2, 3, 4, 5]"
      ]
     },
     "execution_count": 131,
     "metadata": {},
     "output_type": "execute_result"
    }
   ],
   "source": [
    "final_list"
   ]
  },
  {
   "cell_type": "code",
   "execution_count": 132,
   "metadata": {},
   "outputs": [],
   "source": [
    "input = [4, 5, 5, 4, 6, 7]\n",
    "output = [4, 5, 6, 7]"
   ]
  },
  {
   "cell_type": "code",
   "execution_count": 133,
   "metadata": {},
   "outputs": [],
   "source": [
    "final_list = []\n",
    "\n",
    "for num1 in input:\n",
    "\n",
    "    # if num not in final_list : in code \n",
    "    present = False\n",
    "    for num2 in final_list:\n",
    "        if num1 == num2:\n",
    "            present = True\n",
    "            \n",
    "    if not present:\n",
    "        final_list.append(num1)"
   ]
  },
  {
   "cell_type": "code",
   "execution_count": 134,
   "metadata": {},
   "outputs": [
    {
     "data": {
      "text/plain": [
       "[4, 5, 6, 7]"
      ]
     },
     "execution_count": 134,
     "metadata": {},
     "output_type": "execute_result"
    }
   ],
   "source": [
    "final_list"
   ]
  },
  {
   "cell_type": "code",
   "execution_count": null,
   "metadata": {},
   "outputs": [],
   "source": []
  }
 ],
 "metadata": {
  "kernelspec": {
   "display_name": "base",
   "language": "python",
   "name": "python3"
  },
  "language_info": {
   "codemirror_mode": {
    "name": "ipython",
    "version": 3
   },
   "file_extension": ".py",
   "mimetype": "text/x-python",
   "name": "python",
   "nbconvert_exporter": "python",
   "pygments_lexer": "ipython3",
   "version": "3.11.7"
  }
 },
 "nbformat": 4,
 "nbformat_minor": 2
}
