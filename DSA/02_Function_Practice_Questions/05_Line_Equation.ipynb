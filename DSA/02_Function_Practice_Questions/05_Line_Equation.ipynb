{
 "cells": [
  {
   "cell_type": "markdown",
   "metadata": {},
   "source": [
    "## Line Equation\n",
    "\n",
    "**Problem Description:**\n",
    "\n",
    "You are given the slope m and the y-intercept b of a line, along with a value x. Your task is to calculate and return the value of y using the equation of a line in slope-intercept form:\n",
    "\n",
    "y=mx+b\n",
    "\n",
    "**Input:**\n",
    "\n",
    "Three floating-point numbers: slope, intercept, and x.\n",
    "\n",
    "**Output:**\n",
    "\n",
    "A floating-point number representing the value of yyy corresponding to the given xxx.\n",
    "\n",
    "**Example:**\n",
    "\n",
    "```\n",
    "Input: slope = 2, intercept = 3, x = 4\n",
    "Output: 11.0\n",
    " \n",
    "Input: slope = 1.5, intercept = -2, x = 2\n",
    "Output: 1.0\n",
    "```"
   ]
  },
  {
   "cell_type": "code",
   "execution_count": 3,
   "metadata": {},
   "outputs": [],
   "source": [
    "def calculate_y(slope, intercept, x):\n",
    "    \"\"\"\n",
    "    Function to calculate the value of y using the slope-intercept form of a line.\n",
    "    \n",
    "    Parameters:\n",
    "    slope (float): The slope of the line.\n",
    "    intercept (float): The y-intercept of the line.\n",
    "    x (float): The value of x for which y needs to be calculated.\n",
    "    \n",
    "    Returns:\n",
    "    float: The calculated value of y.\n",
    "    \"\"\"\n",
    "    y = float((x*slope) + intercept)\n",
    "\n",
    "    print(f\"Output: {y}\")\n",
    "    \n",
    "    return y\n"
   ]
  },
  {
   "cell_type": "code",
   "execution_count": 4,
   "metadata": {},
   "outputs": [],
   "source": [
    "# Input: \n",
    "slope = 2\n",
    "intercept = 3\n",
    "x = 4\n",
    "Output= 11.0"
   ]
  },
  {
   "cell_type": "code",
   "execution_count": 5,
   "metadata": {},
   "outputs": [
    {
     "name": "stdout",
     "output_type": "stream",
     "text": [
      "Output: 11.0\n"
     ]
    },
    {
     "data": {
      "text/plain": [
       "True"
      ]
     },
     "execution_count": 5,
     "metadata": {},
     "output_type": "execute_result"
    }
   ],
   "source": [
    "Output == calculate_y(slope, intercept, x)"
   ]
  },
  {
   "cell_type": "code",
   "execution_count": 6,
   "metadata": {},
   "outputs": [],
   "source": [
    "# Input: \n",
    "slope = 1.5\n",
    "intercept = -2\n",
    "x = 2\n",
    "Output= 1.0"
   ]
  },
  {
   "cell_type": "code",
   "execution_count": 7,
   "metadata": {},
   "outputs": [
    {
     "name": "stdout",
     "output_type": "stream",
     "text": [
      "Output: 1.0\n"
     ]
    },
    {
     "data": {
      "text/plain": [
       "True"
      ]
     },
     "execution_count": 7,
     "metadata": {},
     "output_type": "execute_result"
    }
   ],
   "source": [
    "Output == calculate_y(slope, intercept, x)"
   ]
  },
  {
   "cell_type": "code",
   "execution_count": null,
   "metadata": {},
   "outputs": [],
   "source": []
  }
 ],
 "metadata": {
  "kernelspec": {
   "display_name": "base",
   "language": "python",
   "name": "python3"
  },
  "language_info": {
   "codemirror_mode": {
    "name": "ipython",
    "version": 3
   },
   "file_extension": ".py",
   "mimetype": "text/x-python",
   "name": "python",
   "nbconvert_exporter": "python",
   "pygments_lexer": "ipython3",
   "version": "3.11.7"
  }
 },
 "nbformat": 4,
 "nbformat_minor": 2
}
