{
 "cells": [
  {
   "cell_type": "markdown",
   "metadata": {},
   "source": [
    "## Area of a Rectangle\n",
    "\n",
    "**Problem Description:**\n",
    "\n",
    "You are given the length and breadth of a rectangle. Your task is to compute and return the area of the rectangle.\n",
    "\n",
    "**Formula:**\n",
    "\n",
    "To calculate the area of a rectangle:\n",
    "\n",
    "Area=length×breadth\n",
    "\n",
    "**Input:**\n",
    "\n",
    "Two floating-point numbers, length and breadth, representing the dimensions of the rectangle.\n",
    "\n",
    "**Output:**\n",
    "\n",
    "A floating-point number representing the area of the rectangle.\n",
    "\n",
    "**Example:**\n",
    "```\n",
    "Input: length = 5, breadth = 3\n",
    "Output: 15.0\n",
    " \n",
    "Input: length = 7.5, breadth = 2.4\n",
    "Output: 18.0\n",
    "```"
   ]
  },
  {
   "cell_type": "code",
   "execution_count": 8,
   "metadata": {},
   "outputs": [],
   "source": [
    "#Input: \n",
    "length = 5\n",
    "breadth = 3\n",
    "Output = 15.0"
   ]
  },
  {
   "cell_type": "code",
   "execution_count": 6,
   "metadata": {},
   "outputs": [
    {
     "name": "stdout",
     "output_type": "stream",
     "text": [
      "Output: 15.0\n"
     ]
    }
   ],
   "source": [
    "area = float(length * breadth) \n",
    "\n",
    "print(f\"Output: {area}\")"
   ]
  },
  {
   "cell_type": "code",
   "execution_count": 7,
   "metadata": {},
   "outputs": [],
   "source": [
    "def area_of_rectangle(length, breadth):\n",
    "    \"\"\"\n",
    "    Function to calculate the area of a rectangle.\n",
    "    \n",
    "    Parameters:\n",
    "    length (float): The length of the rectangle.\n",
    "    breadth (float): The breadth of the rectangle.\n",
    "    \n",
    "    Returns:\n",
    "    float: The area of the rectangle.\n",
    "    \"\"\"\n",
    "    area = float(length * breadth) \n",
    "\n",
    "    print(f\"Output: {area}\")\n",
    "\n",
    "    return area\n"
   ]
  },
  {
   "cell_type": "code",
   "execution_count": 9,
   "metadata": {},
   "outputs": [
    {
     "name": "stdout",
     "output_type": "stream",
     "text": [
      "Output: 15.0\n"
     ]
    },
    {
     "data": {
      "text/plain": [
       "True"
      ]
     },
     "execution_count": 9,
     "metadata": {},
     "output_type": "execute_result"
    }
   ],
   "source": [
    "Output == area_of_rectangle(length, breadth)"
   ]
  },
  {
   "cell_type": "code",
   "execution_count": 10,
   "metadata": {},
   "outputs": [],
   "source": [
    "# Input: \n",
    "length = 7.5\n",
    "breadth = 2.4\n",
    "Output = 18.0"
   ]
  },
  {
   "cell_type": "code",
   "execution_count": 11,
   "metadata": {},
   "outputs": [
    {
     "name": "stdout",
     "output_type": "stream",
     "text": [
      "Output: 18.0\n"
     ]
    },
    {
     "data": {
      "text/plain": [
       "True"
      ]
     },
     "execution_count": 11,
     "metadata": {},
     "output_type": "execute_result"
    }
   ],
   "source": [
    "Output == area_of_rectangle(length, breadth)"
   ]
  },
  {
   "cell_type": "code",
   "execution_count": null,
   "metadata": {},
   "outputs": [],
   "source": []
  }
 ],
 "metadata": {
  "kernelspec": {
   "display_name": "base",
   "language": "python",
   "name": "python3"
  },
  "language_info": {
   "codemirror_mode": {
    "name": "ipython",
    "version": 3
   },
   "file_extension": ".py",
   "mimetype": "text/x-python",
   "name": "python",
   "nbconvert_exporter": "python",
   "pygments_lexer": "ipython3",
   "version": "3.11.7"
  }
 },
 "nbformat": 4,
 "nbformat_minor": 2
}
