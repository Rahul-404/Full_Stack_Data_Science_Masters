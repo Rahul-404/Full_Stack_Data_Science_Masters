{
 "cells": [
  {
   "cell_type": "markdown",
   "metadata": {},
   "source": [
    "## 10] Intersection of two Lists\n",
    "\n",
    "**Asked in Companies:**\n",
    "\n",
    "- Google\n",
    "\n",
    "- Amazon\n",
    "\n",
    "- Microsoft\n",
    "\n",
    "- Facebook\n",
    "\n",
    "\n",
    "\n",
    "**Description:**\n",
    "\n",
    "Given two integer arrays nums1 and nums2, return an array of their intersection. Each element in the result must be unique, and you may return the result in any order.\n",
    "\n",
    "\n",
    "\n",
    "**Input Parameters:**\n",
    "\n",
    "nums1 (List[int]): An array of integers.\n",
    "\n",
    "nums2 (List[int]): An array of integers.\n",
    "\n",
    "**Output:**\n",
    "\n",
    "List[int]: An array of unique integers that are present in both nums1 and nums2.\n",
    "\n",
    "\n",
    "\n",
    "**Example:**\n",
    "\n",
    "```\n",
    "Input: nums1 = [1, 2, 3], nums2 = [4, 5, 6]\n",
    "Output: []\n",
    " \n",
    "Input: nums1 = [1, 2, 2, 1], nums2 = [2, 2]\n",
    "Output: [2]\n",
    " \n",
    "Input: nums1 = [4, 9, 5], nums2 = [9, 4, 9, 8, 4]\n",
    "Output: [9, 4]\n",
    "```"
   ]
  },
  {
   "cell_type": "code",
   "execution_count": 18,
   "metadata": {},
   "outputs": [],
   "source": [
    "def intersection(nums1, nums2):\n",
    "    \"\"\"\n",
    "    Function to find the intersection of two integer arrays.\n",
    "    :param nums1: List[int] -> First array of integers\n",
    "    :param nums2: List[int] -> Second array of integers\n",
    "    :return: List[int] -> An array of unique integers present in both arrays\n",
    "    \"\"\"\n",
    "    if len(nums1) > len(nums2):\n",
    "        return list(set(nums1).intersection(set(nums2)))\n",
    "    else:\n",
    "        return list(set(nums2).intersection(set(nums1)))\n"
   ]
  },
  {
   "cell_type": "code",
   "execution_count": 19,
   "metadata": {},
   "outputs": [],
   "source": [
    "# if len(nums1) > len(nums2):\n",
    "#     print(f\"output: {list(set(nums1).intersection(set(nums2)))}\")\n",
    "# else:\n",
    "#     print(f\"output: {list(set(nums2).intersection(set(nums1)))}\")"
   ]
  },
  {
   "cell_type": "code",
   "execution_count": 20,
   "metadata": {},
   "outputs": [],
   "source": [
    "nums1 = [1, 2, 3]\n",
    "nums2 = [4, 5, 6]\n",
    "output = []"
   ]
  },
  {
   "cell_type": "code",
   "execution_count": 21,
   "metadata": {},
   "outputs": [
    {
     "data": {
      "text/plain": [
       "True"
      ]
     },
     "execution_count": 21,
     "metadata": {},
     "output_type": "execute_result"
    }
   ],
   "source": [
    "output == intersection(nums1, nums2)"
   ]
  },
  {
   "cell_type": "code",
   "execution_count": 22,
   "metadata": {},
   "outputs": [],
   "source": [
    "nums1 = [1, 2, 2, 1]\n",
    "nums2 = [2, 2]\n",
    "output = [2]"
   ]
  },
  {
   "cell_type": "code",
   "execution_count": 23,
   "metadata": {},
   "outputs": [
    {
     "data": {
      "text/plain": [
       "True"
      ]
     },
     "execution_count": 23,
     "metadata": {},
     "output_type": "execute_result"
    }
   ],
   "source": [
    "output == intersection(nums1, nums2)"
   ]
  },
  {
   "cell_type": "code",
   "execution_count": 24,
   "metadata": {},
   "outputs": [],
   "source": [
    "nums1 = [4, 9, 5]\n",
    "nums2 = [9, 4, 9, 8, 4]\n",
    "output = [9, 4]"
   ]
  },
  {
   "cell_type": "code",
   "execution_count": 25,
   "metadata": {},
   "outputs": [
    {
     "data": {
      "text/plain": [
       "True"
      ]
     },
     "execution_count": 25,
     "metadata": {},
     "output_type": "execute_result"
    }
   ],
   "source": [
    "output == intersection(nums1, nums2)"
   ]
  },
  {
   "cell_type": "markdown",
   "metadata": {},
   "source": [
    "**Reference:**\n",
    "\n",
    "- [https://leetcode.com/problems/intersection-of-two-arrays/](https://leetcode.com/problems/intersection-of-two-arrays/)"
   ]
  },
  {
   "cell_type": "markdown",
   "metadata": {},
   "source": []
  }
 ],
 "metadata": {
  "kernelspec": {
   "display_name": "base",
   "language": "python",
   "name": "python3"
  },
  "language_info": {
   "codemirror_mode": {
    "name": "ipython",
    "version": 3
   },
   "file_extension": ".py",
   "mimetype": "text/x-python",
   "name": "python",
   "nbconvert_exporter": "python",
   "pygments_lexer": "ipython3",
   "version": "3.11.7"
  }
 },
 "nbformat": 4,
 "nbformat_minor": 2
}
