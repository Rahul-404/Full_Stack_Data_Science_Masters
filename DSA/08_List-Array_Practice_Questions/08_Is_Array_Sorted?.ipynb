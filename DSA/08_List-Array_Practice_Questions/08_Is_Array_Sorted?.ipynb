{
 "cells": [
  {
   "cell_type": "markdown",
   "metadata": {},
   "source": [
    "## 08] Is Array Sorted?\n",
    "\n",
    "**Asked in Companies:**\n",
    "\n",
    "- Google\n",
    "\n",
    "- Microsoft\n",
    "\n",
    "- Amazon\n",
    "\n",
    "- Facebook\n",
    "\n",
    "\n",
    "\n",
    "**Description:**\n",
    "\n",
    "Write a function that checks whether the given array is sorted in non-decreasing order. The array is considered sorted if every element is less than or equal to the next element.\n",
    "\n",
    "**Input Parameters:**\n",
    "\n",
    "arr (List[int]): A list of integers.\n",
    "\n",
    "**Output:**\n",
    "\n",
    "bool: True if the array is sorted in non-decreasing order, False otherwise.\n",
    "\n",
    "\n",
    "\n",
    "**Example:**\n",
    "\n",
    "```\n",
    "Input: arr = [5, 4, 3, 2, 1]\n",
    "Output: False\n",
    " \n",
    "Input: arr = [1, 3, 2, 4, 5]\n",
    "Output: False\n",
    " \n",
    "Input: arr = [1, 2, 3, 4, 5]\n",
    "Output: True\n",
    "```"
   ]
  },
  {
   "cell_type": "code",
   "execution_count": 33,
   "metadata": {},
   "outputs": [],
   "source": [
    "def is_sorted(arr):\n",
    "    \"\"\"\n",
    "    Function to check if the given array is sorted in non-decreasing order.\n",
    "    :param arr: List[int] -> A list of integers\n",
    "    :return: bool -> True if the array is sorted, False otherwise\n",
    "    \"\"\"\n",
    "    min_num = arr[0]\n",
    "    NON_DECREASING = True\n",
    "    for i in arr[1:]:\n",
    "        if min_num > i:\n",
    "            NON_DECREASING = False\n",
    "            break\n",
    "        else:\n",
    "            min_num = i\n",
    "\n",
    "    print(f\"output: {NON_DECREASING}\")\n",
    "\n",
    "    return NON_DECREASING"
   ]
  },
  {
   "cell_type": "code",
   "execution_count": 22,
   "metadata": {},
   "outputs": [],
   "source": [
    "# non-decreasing order\n",
    "# example 1 : [1, 2, 3, 4, 5]\n",
    "# example 2 : [1, 2, 2, 3, 3, 3, 4, 4, 4, 4, 5, 5, 5, 5, 5]"
   ]
  },
  {
   "cell_type": "code",
   "execution_count": 32,
   "metadata": {},
   "outputs": [
    {
     "name": "stdout",
     "output_type": "stream",
     "text": [
      "output: True\n"
     ]
    }
   ],
   "source": [
    "# min_num = arr[0]\n",
    "# NON_DECREASING = True\n",
    "# for i in arr[1:]:\n",
    "#     if min_num > i:\n",
    "#         NON_DECREASING = False\n",
    "#         break\n",
    "#     else:\n",
    "#         min_num = i\n",
    "\n",
    "# print(f\"output: {NON_DECREASING}\")"
   ]
  },
  {
   "cell_type": "code",
   "execution_count": 34,
   "metadata": {},
   "outputs": [],
   "source": [
    "arr = [5, 4, 3, 2, 1]\n",
    "output = False"
   ]
  },
  {
   "cell_type": "code",
   "execution_count": 35,
   "metadata": {},
   "outputs": [
    {
     "name": "stdout",
     "output_type": "stream",
     "text": [
      "output: False\n"
     ]
    },
    {
     "data": {
      "text/plain": [
       "True"
      ]
     },
     "execution_count": 35,
     "metadata": {},
     "output_type": "execute_result"
    }
   ],
   "source": [
    "output == is_sorted(arr)"
   ]
  },
  {
   "cell_type": "code",
   "execution_count": 36,
   "metadata": {},
   "outputs": [],
   "source": [
    "arr = [1, 3, 2, 4, 5]\n",
    "output = False"
   ]
  },
  {
   "cell_type": "code",
   "execution_count": 37,
   "metadata": {},
   "outputs": [
    {
     "name": "stdout",
     "output_type": "stream",
     "text": [
      "output: False\n"
     ]
    },
    {
     "data": {
      "text/plain": [
       "True"
      ]
     },
     "execution_count": 37,
     "metadata": {},
     "output_type": "execute_result"
    }
   ],
   "source": [
    "output == is_sorted(arr)"
   ]
  },
  {
   "cell_type": "code",
   "execution_count": 38,
   "metadata": {},
   "outputs": [],
   "source": [
    "arr = [1, 2, 3, 4, 5]\n",
    "output = True"
   ]
  },
  {
   "cell_type": "code",
   "execution_count": 39,
   "metadata": {},
   "outputs": [
    {
     "name": "stdout",
     "output_type": "stream",
     "text": [
      "output: True\n"
     ]
    },
    {
     "data": {
      "text/plain": [
       "True"
      ]
     },
     "execution_count": 39,
     "metadata": {},
     "output_type": "execute_result"
    }
   ],
   "source": [
    "output == is_sorted(arr)"
   ]
  },
  {
   "cell_type": "code",
   "execution_count": null,
   "metadata": {},
   "outputs": [],
   "source": []
  }
 ],
 "metadata": {
  "kernelspec": {
   "display_name": "base",
   "language": "python",
   "name": "python3"
  },
  "language_info": {
   "codemirror_mode": {
    "name": "ipython",
    "version": 3
   },
   "file_extension": ".py",
   "mimetype": "text/x-python",
   "name": "python",
   "nbconvert_exporter": "python",
   "pygments_lexer": "ipython3",
   "version": "3.11.7"
  }
 },
 "nbformat": 4,
 "nbformat_minor": 2
}
