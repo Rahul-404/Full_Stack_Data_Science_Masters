{
 "cells": [
  {
   "cell_type": "markdown",
   "metadata": {},
   "source": [
    "## 01] Maximum Element in a List.\n",
    "\n",
    "**Asked in Companies:**\n",
    "\n",
    "- Google\n",
    "\n",
    "- Amazon\n",
    "\n",
    "- Microsoft\n",
    "\n",
    "- Facebook\n",
    "\n",
    "\n",
    "\n",
    "**Description:**\n",
    "\n",
    "Given a list of integers, write a function to find the maximum element in the list.\n",
    "\n",
    "\n",
    "\n",
    "**Input Parameters:**\n",
    "\n",
    "lst (List[int]): A list of integers.\n",
    "\n",
    "**Output:**\n",
    "\n",
    "int: The maximum element in the list.\n",
    "\n",
    "\n",
    "\n",
    "**Example:**\n",
    "```\n",
    "Input: lst = [3, 5, 2, 9, 6]\n",
    "Output: 9\n",
    " \n",
    "Input: lst = [-1, -2, -3, -4]\n",
    "Output: -1\n",
    " \n",
    "Input: lst = [7]\n",
    "Output: 7\n",
    "```"
   ]
  },
  {
   "cell_type": "code",
   "execution_count": 29,
   "metadata": {},
   "outputs": [],
   "source": [
    "def find_max_element(lst):\n",
    "    \"\"\"\n",
    "    Function to find the maximum element in a list.\n",
    "    :param lst: List[int] -> List of integers\n",
    "    :return: int -> The maximum element in the list\n",
    "    \"\"\"\n",
    "    # TODO: Implement this function    \n",
    "    max_num = lst[0]\n",
    "\n",
    "    for index in range(1, len(lst)):\n",
    "        if max_num < lst[index]:\n",
    "            max_num = lst[index]\n",
    "    return max_num\n"
   ]
  },
  {
   "cell_type": "code",
   "execution_count": 30,
   "metadata": {},
   "outputs": [
    {
     "name": "stdout",
     "output_type": "stream",
     "text": [
      "7\n"
     ]
    }
   ],
   "source": [
    "max_num = lst[0]\n",
    "\n",
    "for index in range(1, len(lst)):\n",
    "    if max_num < lst[index]:\n",
    "        max_num = lst[index]\n",
    "print(max_num)"
   ]
  },
  {
   "cell_type": "code",
   "execution_count": 31,
   "metadata": {},
   "outputs": [],
   "source": [
    "lst = [3, 5, 2, 9, 6]\n",
    "output = 9"
   ]
  },
  {
   "cell_type": "code",
   "execution_count": 32,
   "metadata": {},
   "outputs": [
    {
     "data": {
      "text/plain": [
       "True"
      ]
     },
     "execution_count": 32,
     "metadata": {},
     "output_type": "execute_result"
    }
   ],
   "source": [
    "output == find_max_element(lst)"
   ]
  },
  {
   "cell_type": "code",
   "execution_count": 33,
   "metadata": {},
   "outputs": [],
   "source": [
    "lst = [-1, -2, -3, -4]\n",
    "output = -1"
   ]
  },
  {
   "cell_type": "code",
   "execution_count": 34,
   "metadata": {},
   "outputs": [
    {
     "data": {
      "text/plain": [
       "True"
      ]
     },
     "execution_count": 34,
     "metadata": {},
     "output_type": "execute_result"
    }
   ],
   "source": [
    "output == find_max_element(lst)"
   ]
  },
  {
   "cell_type": "code",
   "execution_count": 35,
   "metadata": {},
   "outputs": [],
   "source": [
    "lst = [7]\n",
    "output = 7"
   ]
  },
  {
   "cell_type": "code",
   "execution_count": 36,
   "metadata": {},
   "outputs": [
    {
     "data": {
      "text/plain": [
       "True"
      ]
     },
     "execution_count": 36,
     "metadata": {},
     "output_type": "execute_result"
    }
   ],
   "source": [
    "output == find_max_element(lst)"
   ]
  },
  {
   "cell_type": "markdown",
   "metadata": {},
   "source": [
    "**References:**\n",
    "\n",
    "- [link](link)"
   ]
  },
  {
   "cell_type": "markdown",
   "metadata": {},
   "source": []
  }
 ],
 "metadata": {
  "kernelspec": {
   "display_name": "base",
   "language": "python",
   "name": "python3"
  },
  "language_info": {
   "codemirror_mode": {
    "name": "ipython",
    "version": 3
   },
   "file_extension": ".py",
   "mimetype": "text/x-python",
   "name": "python",
   "nbconvert_exporter": "python",
   "pygments_lexer": "ipython3",
   "version": "3.11.7"
  }
 },
 "nbformat": 4,
 "nbformat_minor": 2
}
