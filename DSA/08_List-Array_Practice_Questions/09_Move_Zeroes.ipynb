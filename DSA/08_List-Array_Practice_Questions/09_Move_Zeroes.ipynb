{
 "cells": [
  {
   "cell_type": "markdown",
   "metadata": {},
   "source": [
    "## 09] Move Zeroes\n",
    "\n",
    "**Asked in Companies:**\n",
    "\n",
    "- Google\n",
    "\n",
    "- Amazon\n",
    "\n",
    "- Microsoft\n",
    "\n",
    "- Facebook\n",
    "\n",
    "\n",
    "\n",
    "**Description:**\n",
    "\n",
    "Given an integer array nums, write a function to move all 0s to the end of the array while maintaining the relative order of the non-zero elements.\n",
    "\n",
    "\n",
    "\n",
    "**Input Parameters:**\n",
    "\n",
    "nums (List[int]): A list of integers.\n",
    "\n",
    "**Output:**\n",
    "\n",
    "The list nums with all 0s moved to the end, preserving the order of non-zero elements.\n",
    "\n",
    "**Example:**\n",
    "```\n",
    "Input: nums = [0, 1, 0, 3, 12]\n",
    "Output: [1, 3, 12, 0, 0]\n",
    " \n",
    "Input: nums = [0, 0, 1]\n",
    "Output: [1, 0, 0]\n",
    " \n",
    "Input: nums = [4, 2, 4, 0, 0, 3, 0, 5, 1, 0]\n",
    "Output: [4, 2, 4, 3, 5, 1, 0, 0, 0, 0]\n",
    "```"
   ]
  },
  {
   "cell_type": "code",
   "execution_count": 135,
   "metadata": {},
   "outputs": [],
   "source": [
    "def move_zeroes(nums):\n",
    "    \"\"\"\n",
    "    Function to move all 0's to the end of the array while maintaining the order of non-zero elements.\n",
    "    :param nums: List[int] -> A list of integers\n",
    "    :return: None -> The list is modified in place\n",
    "    \"\"\"\n",
    "    non_zero_index = 0\n",
    "\n",
    "    for i in range(len(nums)):\n",
    "        if nums[i] != 0:\n",
    "            nums[non_zero_index] = nums[i]\n",
    "            non_zero_index += 1\n",
    "\n",
    "    # Fill remaining positions with zeros\n",
    "    while non_zero_index < len(nums):\n",
    "        nums[non_zero_index] = 0\n",
    "        non_zero_index += 1\n",
    "\n",
    "    print(f\"output : {nums}\")\n",
    "\n",
    "    return nums"
   ]
  },
  {
   "cell_type": "code",
   "execution_count": 136,
   "metadata": {},
   "outputs": [],
   "source": [
    "nums = [0, 1, 0, 3, 12]\n",
    "output = [1, 3, 12, 0, 0]"
   ]
  },
  {
   "cell_type": "code",
   "execution_count": 137,
   "metadata": {},
   "outputs": [
    {
     "name": "stdout",
     "output_type": "stream",
     "text": [
      "output : [1, 3, 12, 0, 0]\n"
     ]
    },
    {
     "data": {
      "text/plain": [
       "True"
      ]
     },
     "execution_count": 137,
     "metadata": {},
     "output_type": "execute_result"
    }
   ],
   "source": [
    "output == move_zeroes(nums)"
   ]
  },
  {
   "cell_type": "code",
   "execution_count": 138,
   "metadata": {},
   "outputs": [],
   "source": [
    "nums = [0, 0, 1]\n",
    "output = [1, 0, 0]"
   ]
  },
  {
   "cell_type": "code",
   "execution_count": 139,
   "metadata": {},
   "outputs": [
    {
     "name": "stdout",
     "output_type": "stream",
     "text": [
      "output : [1, 0, 0]\n"
     ]
    },
    {
     "data": {
      "text/plain": [
       "True"
      ]
     },
     "execution_count": 139,
     "metadata": {},
     "output_type": "execute_result"
    }
   ],
   "source": [
    "output == move_zeroes(nums)"
   ]
  },
  {
   "cell_type": "code",
   "execution_count": 140,
   "metadata": {},
   "outputs": [],
   "source": [
    "nums = [4, 2, 4, 0, 0, 3, 0, 5, 1, 0]\n",
    "output = [4, 2, 4, 3, 5, 1, 0, 0, 0, 0]"
   ]
  },
  {
   "cell_type": "code",
   "execution_count": 141,
   "metadata": {},
   "outputs": [
    {
     "name": "stdout",
     "output_type": "stream",
     "text": [
      "output : [4, 2, 4, 3, 5, 1, 0, 0, 0, 0]\n"
     ]
    },
    {
     "data": {
      "text/plain": [
       "True"
      ]
     },
     "execution_count": 141,
     "metadata": {},
     "output_type": "execute_result"
    }
   ],
   "source": [
    "output == move_zeroes(nums)"
   ]
  },
  {
   "cell_type": "markdown",
   "metadata": {},
   "source": [
    "**Reference:**\n",
    "\n",
    "- [https://leetcode.com/problems/move-zeroes/description/](https://leetcode.com/problems/move-zeroes/description/)"
   ]
  },
  {
   "cell_type": "code",
   "execution_count": null,
   "metadata": {},
   "outputs": [],
   "source": []
  }
 ],
 "metadata": {
  "kernelspec": {
   "display_name": "base",
   "language": "python",
   "name": "python3"
  },
  "language_info": {
   "codemirror_mode": {
    "name": "ipython",
    "version": 3
   },
   "file_extension": ".py",
   "mimetype": "text/x-python",
   "name": "python",
   "nbconvert_exporter": "python",
   "pygments_lexer": "ipython3",
   "version": "3.11.7"
  }
 },
 "nbformat": 4,
 "nbformat_minor": 2
}
