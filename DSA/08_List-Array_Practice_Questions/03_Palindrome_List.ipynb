{
 "cells": [
  {
   "cell_type": "markdown",
   "metadata": {},
   "source": [
    "## 03] Palindrome List\n",
    "\n",
    "**Asked in Companies:**\n",
    "\n",
    "- Google\n",
    "\n",
    "- Amazon\n",
    "\n",
    "- Microsoft\n",
    "\n",
    "- Facebook\n",
    "\n",
    "\n",
    "\n",
    "**Description:**\n",
    "\n",
    "Given a list of integers, determine if it is a palindrome. A list is considered a palindrome if it reads the same forward and backward.\n",
    "\n",
    "\n",
    "\n",
    "**Input Parameters:**\n",
    "\n",
    "lst (List[int]): A list of integers.\n",
    "\n",
    "**Output:**\n",
    "\n",
    "bool: Return True if the list is a palindrome, otherwise False.\n",
    "\n",
    "\n",
    "\n",
    "**Example:**\n",
    "```\n",
    "Input: lst = [7, 8, 9, 8, 7]\n",
    "Output: True\n",
    " \n",
    "Input: lst = [1, 2, 3, 4, 5]\n",
    "Output: False\n",
    " \n",
    "Input: lst = [1, 2, 3, 2, 1]\n",
    "Output: True\n",
    "```"
   ]
  },
  {
   "cell_type": "code",
   "execution_count": 10,
   "metadata": {},
   "outputs": [],
   "source": [
    "def is_palindrome(lst):\n",
    "    \"\"\"\n",
    "    Function to check if a list is a palindrome.\n",
    "    :param lst: List[int] -> List of integers\n",
    "    :return: bool -> True if the list is a palindrome, False otherwise\n",
    "    \"\"\"\n",
    "    array_len = len(lst)\n",
    "\n",
    "    pelindrome = True\n",
    "\n",
    "    for index in range(int(array_len/2)):\n",
    "        if lst[index] != lst[array_len - 1 - index]:\n",
    "            pelindrome = False\n",
    "\n",
    "    print(f\"output : {pelindrome}\")\n",
    "\n",
    "    return pelindrome\n"
   ]
  },
  {
   "cell_type": "code",
   "execution_count": 9,
   "metadata": {},
   "outputs": [],
   "source": [
    "# array_len = len(lst)\n",
    "\n",
    "# pelindrome = True\n",
    "\n",
    "# for index in range(int(array_len/2)):\n",
    "#     if lst[index] != lst[array_len - 1 - index]:\n",
    "#         pelindrome = False\n",
    "\n",
    "# print(f\"output : {pelindrome}\")"
   ]
  },
  {
   "cell_type": "code",
   "execution_count": 4,
   "metadata": {},
   "outputs": [],
   "source": [
    "lst = [7, 8, 9, 8, 7]\n",
    "output = True"
   ]
  },
  {
   "cell_type": "code",
   "execution_count": 11,
   "metadata": {},
   "outputs": [
    {
     "name": "stdout",
     "output_type": "stream",
     "text": [
      "output : True\n"
     ]
    },
    {
     "data": {
      "text/plain": [
       "True"
      ]
     },
     "execution_count": 11,
     "metadata": {},
     "output_type": "execute_result"
    }
   ],
   "source": [
    "output == is_palindrome(lst)"
   ]
  },
  {
   "cell_type": "code",
   "execution_count": 12,
   "metadata": {},
   "outputs": [],
   "source": [
    "lst = [1, 2, 3, 4, 5]\n",
    "output = False"
   ]
  },
  {
   "cell_type": "code",
   "execution_count": 13,
   "metadata": {},
   "outputs": [
    {
     "name": "stdout",
     "output_type": "stream",
     "text": [
      "output : False\n"
     ]
    },
    {
     "data": {
      "text/plain": [
       "True"
      ]
     },
     "execution_count": 13,
     "metadata": {},
     "output_type": "execute_result"
    }
   ],
   "source": [
    "output == is_palindrome(lst)"
   ]
  },
  {
   "cell_type": "code",
   "execution_count": 14,
   "metadata": {},
   "outputs": [],
   "source": [
    "lst = [1, 2, 3, 2, 1]\n",
    "output = True"
   ]
  },
  {
   "cell_type": "code",
   "execution_count": 15,
   "metadata": {},
   "outputs": [
    {
     "name": "stdout",
     "output_type": "stream",
     "text": [
      "output : True\n"
     ]
    },
    {
     "data": {
      "text/plain": [
       "True"
      ]
     },
     "execution_count": 15,
     "metadata": {},
     "output_type": "execute_result"
    }
   ],
   "source": [
    "output == is_palindrome(lst)"
   ]
  },
  {
   "cell_type": "code",
   "execution_count": null,
   "metadata": {},
   "outputs": [],
   "source": []
  }
 ],
 "metadata": {
  "kernelspec": {
   "display_name": "base",
   "language": "python",
   "name": "python3"
  },
  "language_info": {
   "codemirror_mode": {
    "name": "ipython",
    "version": 3
   },
   "file_extension": ".py",
   "mimetype": "text/x-python",
   "name": "python",
   "nbconvert_exporter": "python",
   "pygments_lexer": "ipython3",
   "version": "3.11.7"
  }
 },
 "nbformat": 4,
 "nbformat_minor": 2
}
