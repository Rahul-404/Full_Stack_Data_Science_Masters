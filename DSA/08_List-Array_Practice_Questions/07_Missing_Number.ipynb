{
 "cells": [
  {
   "cell_type": "markdown",
   "metadata": {},
   "source": [
    "## 07] Missing Number\n",
    "\n",
    "**Asked in Companies:**\n",
    "\n",
    "- Google\n",
    "\n",
    "- Microsoft\n",
    "\n",
    "- Amazon\n",
    "\n",
    "- Facebook\n",
    "\n",
    "\n",
    "\n",
    "**Description:**\n",
    "\n",
    "Given an array nums containing n distinct numbers in the range [0, n], return the only number in the range that is missing from the array.\n",
    "\n",
    "\n",
    "\n",
    "**Input Parameters:**\n",
    "\n",
    "nums (List[int]): A list of integers where each integer is unique and in the range [0, n].\n",
    "\n",
    "**Output:**\n",
    "\n",
    "int: The missing number in the range [0, n].\n",
    "\n",
    "\n",
    "\n",
    "**Example:**\n",
    "\n",
    "```\n",
    "Input: nums = [3, 0, 1]\n",
    "Output: 2\n",
    "```\n",
    "**Explanation:** n = 3 since there are 3 numbers, so all numbers are in the range [0,3]. 2 is the missing number in the range since it does not appear in nums.\n",
    "\n",
    "```\n",
    "Input: nums = [0, 1]\n",
    "Output: 2\n",
    "```\n",
    "**Explanation:** n = 2 since there are 2 numbers, so all numbers are in the range [0,2]. 2 is the missing number in the range since it does not appear in nums.\n",
    "\n",
    "\n",
    "```\n",
    "Input: nums = [8, 7, 6, 4, 3, 2, 0, 1]\n",
    "Output: 5\n",
    "```\n",
    "**Explanation:** n = 9 since there are 9 numbers, so all numbers are in the range [0,9]. 8 is the missing number in the range since it does not appear in nums."
   ]
  },
  {
   "cell_type": "code",
   "execution_count": 14,
   "metadata": {},
   "outputs": [],
   "source": [
    "def find_missing_number(nums):\n",
    "    \"\"\"\n",
    "    Function to find the missing number in the array.\n",
    "    :param nums: List[int] -> A list of distinct integers in the range [0, n]\n",
    "    :return: int -> The missing number in the range\n",
    "    \"\"\"\n",
    "    array_len = len(nums)+1\n",
    "\n",
    "    for i in range(0, array_len):\n",
    "        if i not in nums:\n",
    "            print(f\"output: {i}\")\n",
    "            return i\n",
    "            break"
   ]
  },
  {
   "cell_type": "code",
   "execution_count": 15,
   "metadata": {},
   "outputs": [],
   "source": [
    "# array_len = len(nums)+1\n",
    "\n",
    "# for i in range(0, array_len):\n",
    "#     if i not in nums:\n",
    "#         print(f\"output: {i}\")\n",
    "#         break"
   ]
  },
  {
   "cell_type": "code",
   "execution_count": 16,
   "metadata": {},
   "outputs": [],
   "source": [
    "nums = [3, 0, 1]\n",
    "output = 2"
   ]
  },
  {
   "cell_type": "code",
   "execution_count": 17,
   "metadata": {},
   "outputs": [
    {
     "name": "stdout",
     "output_type": "stream",
     "text": [
      "output: 2\n"
     ]
    },
    {
     "data": {
      "text/plain": [
       "True"
      ]
     },
     "execution_count": 17,
     "metadata": {},
     "output_type": "execute_result"
    }
   ],
   "source": [
    "output == find_missing_number(nums)"
   ]
  },
  {
   "cell_type": "code",
   "execution_count": 18,
   "metadata": {},
   "outputs": [],
   "source": [
    "nums = [0, 1]\n",
    "output = 2"
   ]
  },
  {
   "cell_type": "code",
   "execution_count": 19,
   "metadata": {},
   "outputs": [
    {
     "name": "stdout",
     "output_type": "stream",
     "text": [
      "output: 2\n"
     ]
    },
    {
     "data": {
      "text/plain": [
       "True"
      ]
     },
     "execution_count": 19,
     "metadata": {},
     "output_type": "execute_result"
    }
   ],
   "source": [
    "output == find_missing_number(nums)"
   ]
  },
  {
   "cell_type": "code",
   "execution_count": 20,
   "metadata": {},
   "outputs": [],
   "source": [
    "nums = [8, 7, 6, 4, 3, 2, 0, 1]\n",
    "output = 5"
   ]
  },
  {
   "cell_type": "code",
   "execution_count": 21,
   "metadata": {},
   "outputs": [
    {
     "name": "stdout",
     "output_type": "stream",
     "text": [
      "output: 5\n"
     ]
    },
    {
     "data": {
      "text/plain": [
       "True"
      ]
     },
     "execution_count": 21,
     "metadata": {},
     "output_type": "execute_result"
    }
   ],
   "source": [
    "output == find_missing_number(nums)"
   ]
  },
  {
   "cell_type": "markdown",
   "metadata": {},
   "source": [
    "**Reference:**\n",
    "\n",
    "- [https://leetcode.com/problems/missing-number/description/](https://leetcode.com/problems/missing-number/description/)"
   ]
  },
  {
   "cell_type": "markdown",
   "metadata": {},
   "source": []
  }
 ],
 "metadata": {
  "kernelspec": {
   "display_name": "base",
   "language": "python",
   "name": "python3"
  },
  "language_info": {
   "codemirror_mode": {
    "name": "ipython",
    "version": 3
   },
   "file_extension": ".py",
   "mimetype": "text/x-python",
   "name": "python",
   "nbconvert_exporter": "python",
   "pygments_lexer": "ipython3",
   "version": "3.11.7"
  }
 },
 "nbformat": 4,
 "nbformat_minor": 2
}
