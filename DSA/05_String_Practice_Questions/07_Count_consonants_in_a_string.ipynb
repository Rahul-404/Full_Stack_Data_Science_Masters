{
 "cells": [
  {
   "cell_type": "markdown",
   "metadata": {},
   "source": [
    "## 07]Count consonants in a string\n",
    "\n",
    "**Problem Description:**\n",
    "\n",
    "You are given a string s. Your task is to count the number of consonants in the string and return the total count. A consonant is any alphabetic character that is not a vowel (a, e, i, o, u).\n",
    "\n",
    "**Input:**\n",
    "\n",
    "A single string s, where the length of s is between 1 and 1000.\n",
    "\n",
    "**Output:**\n",
    "\n",
    "An integer representing the total count of consonants in the input string.\n",
    "\n",
    "**Example:**\n",
    "```\n",
    "Input: \"Hello, World!\"\n",
    "Output: 7\n",
    " \n",
    "Input: \"Python Programming\"\n",
    "Output: 13\n",
    "```"
   ]
  },
  {
   "cell_type": "code",
   "execution_count": 42,
   "metadata": {},
   "outputs": [],
   "source": [
    "def count_consonants(s):\n",
    "    \"\"\"\n",
    "    Function to count the number of consonants in the input string.\n",
    "    \n",
    "    Parameters:\n",
    "    s (str): The input string to check for consonants.\n",
    "    \n",
    "    Returns:\n",
    "    int: The count of consonants in the input string.\n",
    "    \"\"\"\n",
    "    count = 0\n",
    "    vowals = 'aeiou'\n",
    "    sc = \"\"\",./;'[]\\=-0987654321\"<>?:{}|+_)(*&^%$#@!) \"\"\"\n",
    "    for i in list(s.lower()):\n",
    "        if i not in list(vowals) + list(sc):\n",
    "            count += 1\n",
    "\n",
    "    return count"
   ]
  },
  {
   "cell_type": "code",
   "execution_count": 43,
   "metadata": {},
   "outputs": [],
   "source": [
    "s =  \"Hello, World!\"\n",
    "output = 7"
   ]
  },
  {
   "cell_type": "code",
   "execution_count": 45,
   "metadata": {},
   "outputs": [
    {
     "data": {
      "text/plain": [
       "True"
      ]
     },
     "execution_count": 45,
     "metadata": {},
     "output_type": "execute_result"
    }
   ],
   "source": [
    "output == count_consonants(s)"
   ]
  },
  {
   "cell_type": "code",
   "execution_count": 46,
   "metadata": {},
   "outputs": [],
   "source": [
    "s = \"Python Programming\"\n",
    "output = 13"
   ]
  },
  {
   "cell_type": "code",
   "execution_count": 47,
   "metadata": {},
   "outputs": [
    {
     "data": {
      "text/plain": [
       "True"
      ]
     },
     "execution_count": 47,
     "metadata": {},
     "output_type": "execute_result"
    }
   ],
   "source": [
    "output == count_consonants(s)"
   ]
  },
  {
   "cell_type": "code",
   "execution_count": null,
   "metadata": {},
   "outputs": [],
   "source": []
  }
 ],
 "metadata": {
  "kernelspec": {
   "display_name": "base",
   "language": "python",
   "name": "python3"
  },
  "language_info": {
   "codemirror_mode": {
    "name": "ipython",
    "version": 3
   },
   "file_extension": ".py",
   "mimetype": "text/x-python",
   "name": "python",
   "nbconvert_exporter": "python",
   "pygments_lexer": "ipython3",
   "version": "3.11.7"
  }
 },
 "nbformat": 4,
 "nbformat_minor": 2
}
