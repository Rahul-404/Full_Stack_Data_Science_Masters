{
 "cells": [
  {
   "cell_type": "markdown",
   "metadata": {},
   "source": [
    "## 01] Reverse a String\n",
    "\n",
    "### Problem Description:\n",
    "\n",
    "You are given a string `s`. Your task is to return the reversed version of the string.\n",
    "\n",
    "### Input:\n",
    "A single string `s`, where the length of `s` is between 1 and 1000.\n",
    "\n",
    "### Output:\n",
    "A single string that is the reverse of the input string.\n",
    "\n",
    "### Example:\n",
    "\n",
    "**Input:**  \n",
    "\"hello\"\n",
    "\n",
    "**Output:**  \n",
    "\"olleh\"\n",
    "\n",
    "---\n",
    "\n",
    "**Input:**  \n",
    "\"Python\"\n",
    "\n",
    "**Output:**  \n",
    "\"nohtyP\"\n"
   ]
  },
  {
   "cell_type": "code",
   "execution_count": 27,
   "metadata": {},
   "outputs": [],
   "source": [
    "def reverse_string(s):\n",
    "    \"\"\"\n",
    "    Function to return the reversed version of the input string.\n",
    "    \n",
    "    Parameters:\n",
    "    s (str): The input string to be reversed.\n",
    "    \n",
    "    Returns:\n",
    "    str: The reversed string.\n",
    "    \"\"\"\n",
    "    # Your code here\n",
    "    new_string = \"\"\n",
    "    s = list(s)\n",
    "    length = len(s)\n",
    "    for i in range(length-1, -1, -1):\n",
    "        new_string+=s[i]\n",
    "        \n",
    "    return new_string"
   ]
  },
  {
   "cell_type": "code",
   "execution_count": 28,
   "metadata": {},
   "outputs": [],
   "source": [
    "s = \"hello\"\n",
    "output = \"olleh\""
   ]
  },
  {
   "cell_type": "code",
   "execution_count": 29,
   "metadata": {},
   "outputs": [
    {
     "data": {
      "text/plain": [
       "True"
      ]
     },
     "execution_count": 29,
     "metadata": {},
     "output_type": "execute_result"
    }
   ],
   "source": [
    "output == reverse_string(s)"
   ]
  },
  {
   "cell_type": "code",
   "execution_count": 30,
   "metadata": {},
   "outputs": [],
   "source": [
    "s = \"Python\"\n",
    "output = \"nohtyP\""
   ]
  },
  {
   "cell_type": "code",
   "execution_count": 31,
   "metadata": {},
   "outputs": [
    {
     "data": {
      "text/plain": [
       "True"
      ]
     },
     "execution_count": 31,
     "metadata": {},
     "output_type": "execute_result"
    }
   ],
   "source": [
    "output == reverse_string(s)"
   ]
  },
  {
   "cell_type": "code",
   "execution_count": null,
   "metadata": {},
   "outputs": [],
   "source": []
  }
 ],
 "metadata": {
  "kernelspec": {
   "display_name": "base",
   "language": "python",
   "name": "python3"
  },
  "language_info": {
   "codemirror_mode": {
    "name": "ipython",
    "version": 3
   },
   "file_extension": ".py",
   "mimetype": "text/x-python",
   "name": "python",
   "nbconvert_exporter": "python",
   "pygments_lexer": "ipython3",
   "version": "3.11.7"
  }
 },
 "nbformat": 4,
 "nbformat_minor": 2
}
