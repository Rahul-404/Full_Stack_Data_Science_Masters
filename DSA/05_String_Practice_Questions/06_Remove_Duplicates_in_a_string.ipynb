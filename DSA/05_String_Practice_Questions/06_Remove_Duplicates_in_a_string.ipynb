{
 "cells": [
  {
   "cell_type": "markdown",
   "metadata": {},
   "source": [
    "## 06] Remove Duplicates in a string\n",
    "\n",
    "**Problem Description:**\n",
    "\n",
    "You are given a string s. Your task is to remove duplicate characters from the string while preserving the order of the first occurrences and return the modified string.\n",
    "\n",
    "**Input:**\n",
    "\n",
    "A single string s, where the length of s is between 1 and 1000.\n",
    "\n",
    "**Output:**\n",
    "\n",
    "A string that contains only the first occurrence of each character from the input string.\n",
    "\n",
    "**Example:**\n",
    "```\n",
    "Input: \"programming\"\n",
    "Output: \"progamin\"\n",
    " \n",
    "Input: \"Hello, World!\"\n",
    "Output: \"Helo, Wrd!\"\n",
    "```"
   ]
  },
  {
   "cell_type": "code",
   "execution_count": 11,
   "metadata": {},
   "outputs": [],
   "source": [
    "def remove_duplicates(s):\n",
    "    \"\"\"\n",
    "    Function to remove duplicate characters from the input string.\n",
    "    \n",
    "    Parameters:\n",
    "    s (str): The input string from which duplicates need to be removed.\n",
    "    \n",
    "    Returns:\n",
    "    str: The modified string with duplicates removed.\n",
    "    \"\"\"\n",
    "    final_word = \"\"\n",
    "    words = set(s)\n",
    "    for i in s:\n",
    "        if i not in list(final_word):\n",
    "            final_word += i\n",
    "    return final_word\n"
   ]
  },
  {
   "cell_type": "code",
   "execution_count": 12,
   "metadata": {},
   "outputs": [],
   "source": [
    "s = \"programming\"\n",
    "output = \"progamin\""
   ]
  },
  {
   "cell_type": "code",
   "execution_count": 13,
   "metadata": {},
   "outputs": [
    {
     "data": {
      "text/plain": [
       "True"
      ]
     },
     "execution_count": 13,
     "metadata": {},
     "output_type": "execute_result"
    }
   ],
   "source": [
    "output == remove_duplicates(s)"
   ]
  },
  {
   "cell_type": "code",
   "execution_count": 14,
   "metadata": {},
   "outputs": [],
   "source": [
    "s = \"Hello, World!\"\n",
    "output = \"Helo, Wrd!\""
   ]
  },
  {
   "cell_type": "code",
   "execution_count": 15,
   "metadata": {},
   "outputs": [
    {
     "data": {
      "text/plain": [
       "True"
      ]
     },
     "execution_count": 15,
     "metadata": {},
     "output_type": "execute_result"
    }
   ],
   "source": [
    "output == remove_duplicates(s)"
   ]
  },
  {
   "cell_type": "code",
   "execution_count": null,
   "metadata": {},
   "outputs": [],
   "source": []
  }
 ],
 "metadata": {
  "kernelspec": {
   "display_name": "base",
   "language": "python",
   "name": "python3"
  },
  "language_info": {
   "codemirror_mode": {
    "name": "ipython",
    "version": 3
   },
   "file_extension": ".py",
   "mimetype": "text/x-python",
   "name": "python",
   "nbconvert_exporter": "python",
   "pygments_lexer": "ipython3",
   "version": "3.11.7"
  }
 },
 "nbformat": 4,
 "nbformat_minor": 2
}
