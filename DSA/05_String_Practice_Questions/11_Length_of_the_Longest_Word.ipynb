{
 "cells": [
  {
   "cell_type": "markdown",
   "metadata": {},
   "source": [
    "## 11] Length of the Longest Word\n",
    "\n",
    "**Problem Description:**\n",
    "\n",
    "You are given a string s. Your task is to find the length of the longest word in the string. A word is defined as a sequence of characters separated by spaces. Do not use any built-in functions for string manipulation.\n",
    "\n",
    "**Input:**\n",
    "\n",
    "A string s, where the length of s is between 1 and 1000 characters.\n",
    "\n",
    "**Output:**\n",
    "\n",
    "An integer representing the length of the longest word in the string.\n",
    "\n",
    "**Example:**\n",
    "```\n",
    "Input: s = \"The quick brown fox jumps over the lazy dog\"\n",
    "Output: 5\n",
    " \n",
    "Input: s = \"Hello World\"\n",
    "Output: 5\n",
    "```"
   ]
  },
  {
   "cell_type": "code",
   "execution_count": 7,
   "metadata": {},
   "outputs": [],
   "source": [
    "def longest_word_length(s):\n",
    "    \"\"\"\n",
    "    Function to find the length of the longest word in a string without using built-in functions.\n",
    "    \n",
    "    Parameters:\n",
    "    s (str): The input string.\n",
    "    \n",
    "    Returns:\n",
    "    int: The length of the longest word.\n",
    "    \"\"\"\n",
    "    max_len = 0\n",
    "\n",
    "    for i in s.split():\n",
    "        if max_len < len(i):\n",
    "            max_len = len(i)\n",
    "    \n",
    "    return max_len"
   ]
  },
  {
   "cell_type": "code",
   "execution_count": 8,
   "metadata": {},
   "outputs": [],
   "source": [
    "s = \"The quick brown fox jumps over the lazy dog\"\n",
    "output = 5"
   ]
  },
  {
   "cell_type": "code",
   "execution_count": 9,
   "metadata": {},
   "outputs": [
    {
     "data": {
      "text/plain": [
       "True"
      ]
     },
     "execution_count": 9,
     "metadata": {},
     "output_type": "execute_result"
    }
   ],
   "source": [
    "output == longest_word_length(s)"
   ]
  },
  {
   "cell_type": "code",
   "execution_count": 10,
   "metadata": {},
   "outputs": [],
   "source": [
    "s = \"Hello World\"\n",
    "output = 5"
   ]
  },
  {
   "cell_type": "code",
   "execution_count": 11,
   "metadata": {},
   "outputs": [
    {
     "data": {
      "text/plain": [
       "True"
      ]
     },
     "execution_count": 11,
     "metadata": {},
     "output_type": "execute_result"
    }
   ],
   "source": [
    "output == longest_word_length(s)"
   ]
  },
  {
   "cell_type": "code",
   "execution_count": null,
   "metadata": {},
   "outputs": [],
   "source": []
  }
 ],
 "metadata": {
  "kernelspec": {
   "display_name": "base",
   "language": "python",
   "name": "python3"
  },
  "language_info": {
   "codemirror_mode": {
    "name": "ipython",
    "version": 3
   },
   "file_extension": ".py",
   "mimetype": "text/x-python",
   "name": "python",
   "nbconvert_exporter": "python",
   "pygments_lexer": "ipython3",
   "version": "3.11.7"
  }
 },
 "nbformat": 4,
 "nbformat_minor": 2
}
