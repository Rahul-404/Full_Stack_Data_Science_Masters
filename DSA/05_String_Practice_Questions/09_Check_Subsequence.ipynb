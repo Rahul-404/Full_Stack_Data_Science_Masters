{
 "cells": [
  {
   "cell_type": "markdown",
   "metadata": {},
   "source": [
    "## 09] Check Subsequence\n",
    "\n",
    "**Problem Description:**\n",
    "\n",
    "You are given two strings s and t. Your task is to determine if string t is a subsequence of string s. A subsequence of a string is a new string that is formed from the original string by deleting some (or no) characters without changing the order of the remaining characters.\n",
    "\n",
    "**Input:**\n",
    "\n",
    "Two strings s and t where the length of s is between 1 and 1000, and the length of t is between 1 and 1000.\n",
    "\n",
    "**Output:**\n",
    "\n",
    "Return True if t is a subsequence of s, and False otherwise.\n",
    "\n",
    "**Example:**\n",
    "```\n",
    "Input: s = \"abcde\", t = \"ace\"\n",
    "Output: True\n",
    " \n",
    "Input: s = \"abcde\", t = \"aec\"\n",
    "Output: False\n",
    "```"
   ]
  },
  {
   "cell_type": "code",
   "execution_count": 48,
   "metadata": {},
   "outputs": [],
   "source": [
    "def is_subsequence(s, t):\n",
    "    \"\"\"\n",
    "    Function to check if t is a subsequence of s.\n",
    "    \n",
    "    Parameters:\n",
    "    s (str): The original string.\n",
    "    t (str): The target subsequence string.\n",
    "    \n",
    "    Returns:\n",
    "    bool: True if t is a subsequence of s, False otherwise.\n",
    "    \"\"\"\n",
    "    sub_count = 0\n",
    "    if t == \"\":\n",
    "        return True\n",
    "    else:\n",
    "        for i in list(s):\n",
    "            if t[sub_count] == i:\n",
    "                sub_count += 1\n",
    "        if len(t) == sub_count:\n",
    "            return True\n",
    "        else:\n",
    "            return False"
   ]
  },
  {
   "cell_type": "code",
   "execution_count": 36,
   "metadata": {},
   "outputs": [],
   "source": [
    "s = \"abcde\"\n",
    "t = \"ace\"\n",
    "output = True"
   ]
  },
  {
   "cell_type": "code",
   "execution_count": 37,
   "metadata": {},
   "outputs": [
    {
     "data": {
      "text/plain": [
       "True"
      ]
     },
     "execution_count": 37,
     "metadata": {},
     "output_type": "execute_result"
    }
   ],
   "source": [
    "output == is_subsequence(s, t)"
   ]
  },
  {
   "cell_type": "code",
   "execution_count": 38,
   "metadata": {},
   "outputs": [],
   "source": [
    "s = \"abcde\"\n",
    "t = \"aec\"\n",
    "output = False"
   ]
  },
  {
   "cell_type": "code",
   "execution_count": 39,
   "metadata": {},
   "outputs": [
    {
     "data": {
      "text/plain": [
       "True"
      ]
     },
     "execution_count": 39,
     "metadata": {},
     "output_type": "execute_result"
    }
   ],
   "source": [
    "output == is_subsequence(s, t)"
   ]
  },
  {
   "cell_type": "code",
   "execution_count": 46,
   "metadata": {},
   "outputs": [],
   "source": [
    "s = \"abcde\"\n",
    "t = \"\"\n",
    "output = True"
   ]
  },
  {
   "cell_type": "code",
   "execution_count": 47,
   "metadata": {},
   "outputs": [
    {
     "data": {
      "text/plain": [
       "False"
      ]
     },
     "execution_count": 47,
     "metadata": {},
     "output_type": "execute_result"
    }
   ],
   "source": [
    "output == is_subsequence(s, t)"
   ]
  },
  {
   "cell_type": "code",
   "execution_count": null,
   "metadata": {},
   "outputs": [],
   "source": []
  }
 ],
 "metadata": {
  "kernelspec": {
   "display_name": "base",
   "language": "python",
   "name": "python3"
  },
  "language_info": {
   "codemirror_mode": {
    "name": "ipython",
    "version": 3
   },
   "file_extension": ".py",
   "mimetype": "text/x-python",
   "name": "python",
   "nbconvert_exporter": "python",
   "pygments_lexer": "ipython3",
   "version": "3.11.7"
  }
 },
 "nbformat": 4,
 "nbformat_minor": 2
}
