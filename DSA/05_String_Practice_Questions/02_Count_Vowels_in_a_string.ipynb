{
 "cells": [
  {
   "cell_type": "markdown",
   "metadata": {},
   "source": [
    "## 02] Count Vowels in a string\n",
    "\n",
    "**Problem Description:**\n",
    "\n",
    "You are given a string s. Your task is to count the number of vowels (both uppercase and lowercase) in the string and return the total count.\n",
    "\n",
    "**Input:**\n",
    "\n",
    "A single string s, where the length of s is between 1 and 1000.\n",
    "\n",
    "**Output:**\n",
    "\n",
    "An integer representing the total count of vowels in the input string.\n",
    "\n",
    "**Example:**\n",
    "```\n",
    "Input: \"Hello, World!\"\n",
    "Output: 3\n",
    " \n",
    "Input: \"Python Programming\"\n",
    "Output: 4\n",
    "```"
   ]
  },
  {
   "cell_type": "code",
   "execution_count": 14,
   "metadata": {},
   "outputs": [],
   "source": [
    "def count_vowels(s):\n",
    "    \"\"\"\n",
    "    Function to count the number of vowels in the input string.\n",
    "    \n",
    "    Parameters:\n",
    "    s (str): The input string to check for vowels.\n",
    "    \n",
    "    Returns:\n",
    "    int: The count of vowels in the input string.\n",
    "    \"\"\"\n",
    "    words = list(s)\n",
    "    vowels = ['a', 'A', 'e', 'E', 'i', 'I', 'o', 'O', 'u', 'U']\n",
    "    count = 0\n",
    "    for w in words:\n",
    "        if w in vowels:\n",
    "            count += 1\n",
    "    return count\n"
   ]
  },
  {
   "cell_type": "code",
   "execution_count": 15,
   "metadata": {},
   "outputs": [],
   "source": [
    "s = \"Hello, World!\"\n",
    "output = 3"
   ]
  },
  {
   "cell_type": "code",
   "execution_count": 17,
   "metadata": {},
   "outputs": [
    {
     "data": {
      "text/plain": [
       "True"
      ]
     },
     "execution_count": 17,
     "metadata": {},
     "output_type": "execute_result"
    }
   ],
   "source": [
    "output == count_vowels(s)"
   ]
  },
  {
   "cell_type": "code",
   "execution_count": 18,
   "metadata": {},
   "outputs": [],
   "source": [
    "s = \"Python Programming\"\n",
    "output = 4"
   ]
  },
  {
   "cell_type": "code",
   "execution_count": 20,
   "metadata": {},
   "outputs": [
    {
     "data": {
      "text/plain": [
       "True"
      ]
     },
     "execution_count": 20,
     "metadata": {},
     "output_type": "execute_result"
    }
   ],
   "source": [
    "output == count_vowels(s)"
   ]
  },
  {
   "cell_type": "code",
   "execution_count": null,
   "metadata": {},
   "outputs": [],
   "source": []
  }
 ],
 "metadata": {
  "kernelspec": {
   "display_name": "base",
   "language": "python",
   "name": "python3"
  },
  "language_info": {
   "codemirror_mode": {
    "name": "ipython",
    "version": 3
   },
   "file_extension": ".py",
   "mimetype": "text/x-python",
   "name": "python",
   "nbconvert_exporter": "python",
   "pygments_lexer": "ipython3",
   "version": "3.11.7"
  }
 },
 "nbformat": 4,
 "nbformat_minor": 2
}
