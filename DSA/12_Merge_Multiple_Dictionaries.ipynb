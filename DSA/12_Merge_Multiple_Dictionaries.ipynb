{
 "cells": [
  {
   "cell_type": "markdown",
   "metadata": {},
   "source": [
    "## 12] Merge Multiple Dictionaries\n",
    "\n",
    "Merge Three Dictionaries\n",
    "\n",
    "Design a Python function named merge_three_dictionaries to merge exactly three dictionaries into one.\n",
    "\n",
    "Parameters:\n",
    "\n",
    "dict1 (Dictionary): The first dictionary to be merged.\n",
    "dict2 (Dictionary): The second dictionary to be merged.\n",
    "dict3 (Dictionary): The third dictionary to be merged.\n",
    "\n",
    "Returns:\n",
    "\n",
    "A single dictionary containing all key-value pairs from the three input dictionaries.\n",
    "\n",
    "Example:\n",
    "```\n",
    "Input: ({'a': 1, 'b': 2}, {'c': 3, 'd': 4}, {'e': 5, 'f': 6})\n",
    "Output: {'a': 1, 'b': 2, 'c': 3, 'd': 4, 'e': 5, 'f': 6}\n",
    "```\n",
    "```\n",
    "Input: ({'x': 10, 'y': 20}, {'z': 30}, {'a': 40, 'b': 50})\n",
    "Output: {'x': 10, 'y': 20, 'z': 30, 'a': 40, 'b': 50}\n",
    "```"
   ]
  },
  {
   "cell_type": "markdown",
   "metadata": {},
   "source": []
  }
 ],
 "metadata": {
  "language_info": {
   "name": "python"
  }
 },
 "nbformat": 4,
 "nbformat_minor": 2
}
