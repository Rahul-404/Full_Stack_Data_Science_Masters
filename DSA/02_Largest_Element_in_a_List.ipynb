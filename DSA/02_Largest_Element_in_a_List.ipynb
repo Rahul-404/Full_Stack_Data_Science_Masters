{
 "cells": [
  {
   "cell_type": "markdown",
   "metadata": {},
   "source": [
    "### 2] Largest Element in a List\n",
    "\n",
    "Find the Largest Element in a List\n",
    "\n",
    "Write a Python function that finds and returns the largest element in a given list of integers.\n",
    "\n",
    "Parameters:\n",
    "\n",
    "numbers (List of integers): The input list containing integers.\n",
    "\n",
    "Returns:\n",
    "An integer representing the largest element in the input list.\n",
    "\n",
    "Example:\n",
    "\n",
    "```\n",
    "Input: numbers = [3, 8, 2, 10, 5]\n",
    "Output: 10\n",
    "Input: numbers = [-5, -10, -2, -1, -7]\n",
    "Output: -1\n",
    "```"
   ]
  },
  {
   "cell_type": "code",
   "execution_count": 3,
   "metadata": {},
   "outputs": [],
   "source": [
    "numbers = [3, 8, 2, 10, 5]\n",
    "output = 10"
   ]
  },
  {
   "cell_type": "code",
   "execution_count": 4,
   "metadata": {},
   "outputs": [],
   "source": [
    "def find_largets(numbers):\n",
    "    large = numbers[0]\n",
    "\n",
    "    for num in numbers[1:]:\n",
    "        if num > large:\n",
    "            large  = num\n",
    "    return large"
   ]
  },
  {
   "cell_type": "code",
   "execution_count": 5,
   "metadata": {},
   "outputs": [
    {
     "data": {
      "text/plain": [
       "True"
      ]
     },
     "execution_count": 5,
     "metadata": {},
     "output_type": "execute_result"
    }
   ],
   "source": [
    "output == find_largets(numbers)"
   ]
  },
  {
   "cell_type": "code",
   "execution_count": 8,
   "metadata": {},
   "outputs": [],
   "source": [
    "numbers = [-5, -10, -2, -1, -7]\n",
    "output = -1"
   ]
  },
  {
   "cell_type": "code",
   "execution_count": 10,
   "metadata": {},
   "outputs": [
    {
     "data": {
      "text/plain": [
       "-1"
      ]
     },
     "execution_count": 10,
     "metadata": {},
     "output_type": "execute_result"
    }
   ],
   "source": [
    "find_largets(numbers)"
   ]
  },
  {
   "cell_type": "code",
   "execution_count": 9,
   "metadata": {},
   "outputs": [
    {
     "data": {
      "text/plain": [
       "True"
      ]
     },
     "execution_count": 9,
     "metadata": {},
     "output_type": "execute_result"
    }
   ],
   "source": [
    "output == find_largets(numbers)"
   ]
  },
  {
   "cell_type": "code",
   "execution_count": null,
   "metadata": {},
   "outputs": [],
   "source": []
  }
 ],
 "metadata": {
  "kernelspec": {
   "display_name": "base",
   "language": "python",
   "name": "python3"
  },
  "language_info": {
   "codemirror_mode": {
    "name": "ipython",
    "version": 3
   },
   "file_extension": ".py",
   "mimetype": "text/x-python",
   "name": "python",
   "nbconvert_exporter": "python",
   "pygments_lexer": "ipython3",
   "version": "3.11.7"
  }
 },
 "nbformat": 4,
 "nbformat_minor": 2
}
