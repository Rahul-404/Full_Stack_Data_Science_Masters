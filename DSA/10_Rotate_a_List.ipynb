{
 "cells": [
  {
   "cell_type": "markdown",
   "metadata": {},
   "source": [
    "## 10] Rotate a List\n",
    "\n",
    "Rotate a List (Without Slicing)\n",
    "\n",
    "You are given a list of integers and an integer k. Write a Python function to rotate the list to the right by k positions without using slicing. A rotation shifts elements from the end of the list to the front.\n",
    "\n",
    "Parameters:\n",
    "\n",
    "lst (List of integers): The list to be rotated.\n",
    "k (Integer): The number of positions to rotate the list.\n",
    "\n",
    "Returns:\n",
    "\n",
    "A list of integers rotated by k positions.\n",
    "\n",
    "Example:\n",
    "```\n",
    "Input: lst = [1, 2, 3, 4, 5], k = 2\n",
    "Output: [4, 5, 1, 2, 3]\n",
    "```\n",
    "```\n",
    "Input: lst = [10, 20, 30, 40, 50], k = 3\n",
    "Output: [30, 40, 50, 10, 20]\n",
    "```"
   ]
  },
  {
   "cell_type": "code",
   "execution_count": 21,
   "metadata": {},
   "outputs": [],
   "source": [
    "input = lst = [1, 2, 3, 4, 5]\n",
    "k = 2\n",
    "output      = [4, 5, 1, 2, 3]"
   ]
  },
  {
   "cell_type": "code",
   "execution_count": 18,
   "metadata": {},
   "outputs": [
    {
     "name": "stdout",
     "output_type": "stream",
     "text": [
      "Ex1: [4, 5, 1, 2, 3]\n"
     ]
    }
   ],
   "source": [
    "# solution with slicing \n",
    "print(\"Ex1:\", lst[-1*k:] + lst[:-1*k])"
   ]
  },
  {
   "cell_type": "code",
   "execution_count": 28,
   "metadata": {},
   "outputs": [],
   "source": [
    "input = lst = [10, 20, 30, 40, 50]\n",
    "k = 3\n",
    "output      = [30, 40, 50, 10, 20]"
   ]
  },
  {
   "cell_type": "code",
   "execution_count": 20,
   "metadata": {},
   "outputs": [
    {
     "name": "stdout",
     "output_type": "stream",
     "text": [
      "Ex2: [30, 40, 50, 10, 20]\n"
     ]
    }
   ],
   "source": [
    "# solution with slicing \n",
    "print(\"Ex2:\", lst[-1*k:] + lst[:-1*k])"
   ]
  },
  {
   "cell_type": "markdown",
   "metadata": {},
   "source": [
    "#### bruit force approach\n",
    "k = 2\n",
    "\n",
    "[1, 2, 3, 4, 5]\n",
    "\n",
    "[0, 1, 2, 3, 4]\n",
    "\n",
    "\n",
    "```\n",
    "create a new list\n",
    "\n",
    "for k to end of list:\n",
    "    append elements in new list\n",
    "\n",
    "for start of list to k-1:\n",
    "    append elements in new list\n",
    "\n",
    "return list\n",
    "```"
   ]
  },
  {
   "cell_type": "code",
   "execution_count": 222,
   "metadata": {},
   "outputs": [],
   "source": [
    "input = lst = [1, 2, 3, 4, 5]\n",
    "k = 2\n",
    "output      = [4, 5, 1, 2, 3]"
   ]
  },
  {
   "cell_type": "markdown",
   "metadata": {},
   "source": [
    "```\n",
    "k = 2 # 2 position places\n",
    "\n",
    "[0, 1, 2, 3, 4]\n",
    "\n",
    "[3, 4]-[0, 1, 2]\n",
    "\n",
    "```"
   ]
  },
  {
   "cell_type": "code",
   "execution_count": 223,
   "metadata": {},
   "outputs": [
    {
     "data": {
      "text/plain": [
       "(array([3, 4]), array([0, 1, 2]))"
      ]
     },
     "execution_count": 223,
     "metadata": {},
     "output_type": "execute_result"
    }
   ],
   "source": [
    "import numpy as np\n",
    "np.arange(k+1, len(lst)) , np.arange(0, len(lst)-k)"
   ]
  },
  {
   "cell_type": "code",
   "execution_count": 224,
   "metadata": {},
   "outputs": [
    {
     "name": "stdout",
     "output_type": "stream",
     "text": [
      "3\n",
      "4\n",
      "0\n",
      "1\n",
      "2\n"
     ]
    }
   ],
   "source": [
    "final_list = []\n",
    "for i in range(k+1, len(lst)):\n",
    "    print(i)\n",
    "for i in range(0, len(lst)-k):\n",
    "    print(i)"
   ]
  },
  {
   "cell_type": "code",
   "execution_count": 220,
   "metadata": {},
   "outputs": [],
   "source": [
    "input = lst = [10, 20, 30, 40, 50]\n",
    "k = 3\n",
    "output      = [30, 40, 50, 10, 20]"
   ]
  },
  {
   "cell_type": "markdown",
   "metadata": {},
   "source": [
    "```\n",
    "k = 3 # 3 position places\n",
    "\n",
    "[10, 20, 30, 40, 50]\n",
    "\n",
    "[30, 40, 50, 10, 20]\n",
    "\n",
    "[2, 3, 4]-[0, 1]\n",
    "\n",
    "```"
   ]
  },
  {
   "cell_type": "code",
   "execution_count": 225,
   "metadata": {},
   "outputs": [
    {
     "name": "stdout",
     "output_type": "stream",
     "text": [
      "3\n",
      "4\n",
      "0\n",
      "1\n",
      "2\n"
     ]
    }
   ],
   "source": [
    "final_list = []\n",
    "for i in range(k+1, len(lst)):\n",
    "    print(i)\n",
    "for i in range(0, len(lst)-k):\n",
    "    print(i)"
   ]
  },
  {
   "cell_type": "code",
   "execution_count": 232,
   "metadata": {},
   "outputs": [],
   "source": [
    "def rotate_list(lst, k):\n",
    "    final_list = []\n",
    "    for i in range(k+1, len(lst)):\n",
    "        final_list.append(lst[i])\n",
    "    for j in range(0, len(lst)-k):\n",
    "        final_list.append(lst[j])\n",
    "    return final_list"
   ]
  },
  {
   "cell_type": "code",
   "execution_count": 233,
   "metadata": {},
   "outputs": [],
   "source": [
    "input = lst = [1, 2, 3, 4, 5]\n",
    "k = 2\n",
    "output      = [4, 5, 1, 2, 3]"
   ]
  },
  {
   "cell_type": "code",
   "execution_count": 234,
   "metadata": {},
   "outputs": [
    {
     "data": {
      "text/plain": [
       "[4, 5, 1, 2, 3]"
      ]
     },
     "execution_count": 234,
     "metadata": {},
     "output_type": "execute_result"
    }
   ],
   "source": [
    "rotate_list(lst, k)"
   ]
  },
  {
   "cell_type": "code",
   "execution_count": 235,
   "metadata": {},
   "outputs": [],
   "source": [
    "input = lst = [10, 20, 30, 40, 50]\n",
    "k = 3\n",
    "output      = [30, 40, 50, 10, 20]"
   ]
  },
  {
   "cell_type": "code",
   "execution_count": 236,
   "metadata": {},
   "outputs": [
    {
     "data": {
      "text/plain": [
       "[50, 10, 20]"
      ]
     },
     "execution_count": 236,
     "metadata": {},
     "output_type": "execute_result"
    }
   ],
   "source": [
    "rotate_list(lst, k)"
   ]
  },
  {
   "cell_type": "code",
   "execution_count": null,
   "metadata": {},
   "outputs": [],
   "source": []
  },
  {
   "cell_type": "code",
   "execution_count": null,
   "metadata": {},
   "outputs": [],
   "source": []
  }
 ],
 "metadata": {
  "kernelspec": {
   "display_name": "base",
   "language": "python",
   "name": "python3"
  },
  "language_info": {
   "codemirror_mode": {
    "name": "ipython",
    "version": 3
   },
   "file_extension": ".py",
   "mimetype": "text/x-python",
   "name": "python",
   "nbconvert_exporter": "python",
   "pygments_lexer": "ipython3",
   "version": "3.11.7"
  }
 },
 "nbformat": 4,
 "nbformat_minor": 2
}
