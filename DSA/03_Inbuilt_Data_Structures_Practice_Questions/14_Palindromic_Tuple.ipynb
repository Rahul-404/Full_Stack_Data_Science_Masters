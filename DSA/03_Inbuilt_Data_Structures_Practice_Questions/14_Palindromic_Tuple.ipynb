{
 "cells": [
  {
   "cell_type": "markdown",
   "metadata": {},
   "source": [
    "## 15] Palindromic Tuple\n",
    "\n",
    "Check if Tuple is Palindromic\n",
    "\n",
    "Design a Python function named is_palindromic_tuple to check if a tuple is palindromic, meaning it reads the same forwards and backwards.\n",
    "\n",
    "Parameters:\n",
    "\n",
    "tup (tuple): The input tuple that you need to check for palindromic property.\n",
    "\n",
    "Returns:\n",
    "\n",
    "True if the tuple is palindromic, False otherwise.\n",
    "\n",
    "Example:\n",
    "\n",
    "```\n",
    "Input: (1, 2, 3, 2, 1)\n",
    "Output: True\n",
    "Input: ('a', 'b', 'c', 'b', 'a')\n",
    "Output: True\n",
    "Input: (1, 2, 3, 4, 5)\n",
    "Output: False\n",
    "Input: ('x', 'y', 'z', 'x')\n",
    "Output: False\n",
    "Input: ('a',)\n",
    "Output: True\n",
    "```"
   ]
  },
  {
   "cell_type": "markdown",
   "metadata": {},
   "source": []
  }
 ],
 "metadata": {
  "language_info": {
   "name": "python"
  }
 },
 "nbformat": 4,
 "nbformat_minor": 2
}
