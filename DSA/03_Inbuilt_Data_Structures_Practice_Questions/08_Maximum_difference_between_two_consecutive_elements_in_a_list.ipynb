{
 "cells": [
  {
   "cell_type": "markdown",
   "metadata": {},
   "source": [
    "Maximum difference between two consecutive elements in a list.\n",
    "\n",
    "Find Maximum Difference Between Two Consecutive Elements (Brute Force Approach)\n",
    "\n",
    "You are given a list of integers. Write a Python program to find the maximum difference between two consecutive elements in the list using a brute-force approach. The difference is defined as the absolute value of the difference between two consecutive elements.\n",
    "\n",
    "Parameters:\n",
    "\n",
    "lst (List of integers): A list of integers.\n",
    "\n",
    "Returns:\n",
    "\n",
    "An integer representing the maximum difference between two consecutive elements.\n",
    "\n",
    "Example:\n",
    "```\n",
    "Input: lst = [1, 7, 3, 10, 5]\n",
    "Output: 7\n",
    "```\n",
    "The maximum difference is between 3 and 10 (i.e., |3 - 10| = 7).\n",
    "```\n",
    "Input: lst = [10, 11, 15, 3]\n",
    "Output: 12\n",
    "```\n",
    "The maximum difference is between 15 and 3 (i.e., |15 - 3| = 12)."
   ]
  },
  {
   "cell_type": "code",
   "execution_count": null,
   "metadata": {},
   "outputs": [],
   "source": [
    "def max_consecutive_difference(lst):\n",
    "    max_diff = 0\n",
    "    for idx in range(len(lst)-1):\n",
    "        diff = abs(lst[idx] - lst[idx+1])\n",
    "        # print(diff)\n",
    "        if diff > max_diff:\n",
    "            max_diff = diff\n",
    "    return max_diff"
   ]
  },
  {
   "cell_type": "code",
   "execution_count": 16,
   "metadata": {},
   "outputs": [],
   "source": [
    "input = lst = [1, 7, 3, 10, 5]\n",
    "output = 7"
   ]
  },
  {
   "cell_type": "code",
   "execution_count": 17,
   "metadata": {},
   "outputs": [
    {
     "data": {
      "text/plain": [
       "True"
      ]
     },
     "execution_count": 17,
     "metadata": {},
     "output_type": "execute_result"
    }
   ],
   "source": [
    "output == max_consecutive_difference(lst)"
   ]
  },
  {
   "cell_type": "code",
   "execution_count": 18,
   "metadata": {},
   "outputs": [],
   "source": [
    "input = lst = [10, 11, 15, 3]\n",
    "output = 12"
   ]
  },
  {
   "cell_type": "code",
   "execution_count": 19,
   "metadata": {},
   "outputs": [
    {
     "data": {
      "text/plain": [
       "True"
      ]
     },
     "execution_count": 19,
     "metadata": {},
     "output_type": "execute_result"
    }
   ],
   "source": [
    "output == max_consecutive_difference(lst)"
   ]
  },
  {
   "cell_type": "code",
   "execution_count": null,
   "metadata": {},
   "outputs": [],
   "source": []
  }
 ],
 "metadata": {
  "kernelspec": {
   "display_name": "base",
   "language": "python",
   "name": "python3"
  },
  "language_info": {
   "codemirror_mode": {
    "name": "ipython",
    "version": 3
   },
   "file_extension": ".py",
   "mimetype": "text/x-python",
   "name": "python",
   "nbconvert_exporter": "python",
   "pygments_lexer": "ipython3",
   "version": "3.11.7"
  }
 },
 "nbformat": 4,
 "nbformat_minor": 2
}
