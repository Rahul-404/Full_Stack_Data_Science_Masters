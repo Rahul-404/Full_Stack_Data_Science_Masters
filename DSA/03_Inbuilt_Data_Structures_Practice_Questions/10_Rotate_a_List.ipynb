{
 "cells": [
  {
   "cell_type": "markdown",
   "metadata": {},
   "source": [
    "## 10] Rotate a List\n",
    "\n",
    "Rotate a List (Without Slicing)\n",
    "\n",
    "You are given a list of integers and an integer k. Write a Python function to rotate the list to the right by k positions without using slicing. A rotation shifts elements from the end of the list to the front.\n",
    "\n",
    "Parameters:\n",
    "\n",
    "lst (List of integers): The list to be rotated.\n",
    "k (Integer): The number of positions to rotate the list.\n",
    "\n",
    "Returns:\n",
    "\n",
    "A list of integers rotated by k positions.\n",
    "\n",
    "Example:\n",
    "```\n",
    "Input: lst = [1, 2, 3, 4, 5], k = 2\n",
    "Output: [4, 5, 1, 2, 3]\n",
    "```\n",
    "```\n",
    "Input: lst = [10, 20, 30, 40, 50], k = 3\n",
    "Output: [30, 40, 50, 10, 20]\n",
    "```"
   ]
  },
  {
   "cell_type": "markdown",
   "metadata": {},
   "source": [
    "### Using built-in function"
   ]
  },
  {
   "cell_type": "code",
   "execution_count": 1,
   "metadata": {},
   "outputs": [],
   "source": [
    "input = lst = [1, 2, 3, 4, 5]\n",
    "k = 2\n",
    "output      = [4, 5, 1, 2, 3]"
   ]
  },
  {
   "cell_type": "code",
   "execution_count": 2,
   "metadata": {},
   "outputs": [
    {
     "name": "stdout",
     "output_type": "stream",
     "text": [
      "Ex1: [4, 5, 1, 2, 3]\n"
     ]
    }
   ],
   "source": [
    "# solution with slicing \n",
    "print(\"Ex1:\", lst[-1*k:] + lst[:-1*k])"
   ]
  },
  {
   "cell_type": "code",
   "execution_count": 3,
   "metadata": {},
   "outputs": [],
   "source": [
    "input = lst = [10, 20, 30, 40, 50]\n",
    "k = 3\n",
    "output      = [30, 40, 50, 10, 20]"
   ]
  },
  {
   "cell_type": "code",
   "execution_count": 4,
   "metadata": {},
   "outputs": [
    {
     "name": "stdout",
     "output_type": "stream",
     "text": [
      "Ex2: [30, 40, 50, 10, 20]\n"
     ]
    }
   ],
   "source": [
    "# solution with slicing \n",
    "print(\"Ex2:\", lst[-1*k:] + lst[:-1*k])"
   ]
  },
  {
   "cell_type": "markdown",
   "metadata": {},
   "source": [
    "### With bruit force approach\n",
    "k = 2\n",
    "\n",
    "[1, 2, 3, 4, 5]\n",
    "\n",
    "[0, 1, 2, 3, 4]\n",
    "\n",
    "\n",
    "```\n",
    "create a new list\n",
    "\n",
    "for k to end of list:\n",
    "    append elements in new list\n",
    "\n",
    "for start of list to k-1:\n",
    "    append elements in new list\n",
    "\n",
    "return list\n",
    "```"
   ]
  },
  {
   "cell_type": "code",
   "execution_count": 47,
   "metadata": {},
   "outputs": [],
   "source": [
    "input = lst = [1, 2, 3, 4, 5]\n",
    "k = 2\n",
    "output      = [4, 5, 1, 2, 3]"
   ]
  },
  {
   "cell_type": "code",
   "execution_count": 48,
   "metadata": {},
   "outputs": [
    {
     "name": "stdout",
     "output_type": "stream",
     "text": [
      "output: [4, 5, 1, 2, 3]\n"
     ]
    }
   ],
   "source": [
    "final_list = []\n",
    "\n",
    "# copy len-k element in final list\n",
    "for i in range(len(lst) - k , len(lst)):\n",
    "    final_list.append(lst[i])\n",
    "\n",
    "for j in range(0, len(lst) - k):\n",
    "    final_list.append(lst[j])\n",
    "\n",
    "print(f\"output: {final_list}\")"
   ]
  },
  {
   "cell_type": "code",
   "execution_count": 49,
   "metadata": {},
   "outputs": [],
   "source": [
    "def rotate_list(lst, k):\n",
    "\n",
    "    final_list = []\n",
    "    if len(lst):\n",
    "        # copy len-k element in final list\n",
    "        for i in range(len(lst) - k , len(lst)):\n",
    "            final_list.append(lst[i])\n",
    "\n",
    "        for j in range(0, len(lst) - k):\n",
    "            final_list.append(lst[j])\n",
    "\n",
    "        print(f\"output: {final_list}\")\n",
    "\n",
    "        return final_list\n",
    "    else:\n",
    "        return final_list"
   ]
  },
  {
   "cell_type": "code",
   "execution_count": 50,
   "metadata": {},
   "outputs": [
    {
     "name": "stdout",
     "output_type": "stream",
     "text": [
      "output: [4, 5, 1, 2, 3]\n"
     ]
    },
    {
     "data": {
      "text/plain": [
       "True"
      ]
     },
     "execution_count": 50,
     "metadata": {},
     "output_type": "execute_result"
    }
   ],
   "source": [
    "output == rotate_list(lst, k)"
   ]
  },
  {
   "cell_type": "code",
   "execution_count": 51,
   "metadata": {},
   "outputs": [],
   "source": [
    "# rotate_list(lst, k)"
   ]
  },
  {
   "cell_type": "code",
   "execution_count": 52,
   "metadata": {},
   "outputs": [],
   "source": [
    "input = lst = [10, 20, 30, 40, 50]\n",
    "k = 3\n",
    "output      = [30, 40, 50, 10, 20]"
   ]
  },
  {
   "cell_type": "code",
   "execution_count": 53,
   "metadata": {},
   "outputs": [
    {
     "name": "stdout",
     "output_type": "stream",
     "text": [
      "output: [30, 40, 50, 10, 20]\n"
     ]
    },
    {
     "data": {
      "text/plain": [
       "True"
      ]
     },
     "execution_count": 53,
     "metadata": {},
     "output_type": "execute_result"
    }
   ],
   "source": [
    "output == rotate_list(lst, k)"
   ]
  },
  {
   "cell_type": "code",
   "execution_count": 67,
   "metadata": {},
   "outputs": [],
   "source": [
    "input = lst = []\n",
    "k = 3\n",
    "output      = []"
   ]
  },
  {
   "cell_type": "code",
   "execution_count": 68,
   "metadata": {},
   "outputs": [
    {
     "data": {
      "text/plain": [
       "True"
      ]
     },
     "execution_count": 68,
     "metadata": {},
     "output_type": "execute_result"
    }
   ],
   "source": [
    "output == rotate_list(lst, k)"
   ]
  },
  {
   "cell_type": "markdown",
   "metadata": {},
   "source": [
    "**if k is greather than lst length?**\n",
    "\n",
    "$\\longrightarrow$ When the rotation value `k` is greater than the length of the list, it is equivalent to rotating the list by `k % n` positions, where `n` is the length of the list. This is because rotating a list of length `n` by `n` positions (or any multiple of `n`) results in the same list. Therefore, rotating by a larger value is essentially the same as rotating by the remainder of `k` divided by the length of the list.\n",
    "\n",
    "**Example:**\n",
    "\n",
    "- Let's say we have a list of length 5: [1, 2, 3, 4, 5].\n",
    "- If k = 7, rotating by 7 positions is the same as rotating by 7 % 5 = 2 positions because after 5 rotations, the list comes back to its original position, and we only need to rotate by the remainder (which is 2 in this case).\n",
    "\n",
    "**Why does k % n work?**\n",
    "\n",
    "When you rotate a list of length `n` by `k` positions, the positions are essentially cyclical, meaning that if `k >= n`, it will eventually \"wrap around\". By taking the modulus `k % n`, we ensure the rotation doesn't exceed the list size, and we always rotate by the smallest possible equivalent number of positions."
   ]
  },
  {
   "cell_type": "code",
   "execution_count": 63,
   "metadata": {},
   "outputs": [],
   "source": [
    "input = lst = [1, 2, 3, 4, 5]\n",
    "k = 7\n",
    "output      = [4, 5, 1, 2, 3]"
   ]
  },
  {
   "cell_type": "markdown",
   "metadata": {},
   "source": [
    "**Problme with the previous code:**"
   ]
  },
  {
   "cell_type": "code",
   "execution_count": 59,
   "metadata": {},
   "outputs": [
    {
     "name": "stdout",
     "output_type": "stream",
     "text": [
      "output: [4, 5, 1, 2, 3, 4, 5]\n"
     ]
    }
   ],
   "source": [
    "final_list = []\n",
    "\n",
    "# copy len-k element in final list\n",
    "for i in range(len(lst) - k , len(lst)):\n",
    "    final_list.append(lst[i])\n",
    "\n",
    "for j in range(0, len(lst) - k):\n",
    "    final_list.append(lst[j])\n",
    "\n",
    "print(f\"output: {final_list}\")"
   ]
  },
  {
   "cell_type": "markdown",
   "metadata": {},
   "source": [
    "**Solution to Code:**"
   ]
  },
  {
   "cell_type": "code",
   "execution_count": 61,
   "metadata": {},
   "outputs": [
    {
     "name": "stdout",
     "output_type": "stream",
     "text": [
      "output: [4, 5, 1, 2, 3]\n"
     ]
    }
   ],
   "source": [
    "final_list = []\n",
    "\n",
    "if k >= len(lst):\n",
    "    k = k%len(lst)\n",
    "\n",
    "# copy len-k element in final list\n",
    "for i in range(len(lst) - k , len(lst)):\n",
    "    final_list.append(lst[i])\n",
    "\n",
    "for j in range(0, len(lst) - k):\n",
    "    final_list.append(lst[j])\n",
    "\n",
    "print(f\"output: {final_list}\")"
   ]
  },
  {
   "cell_type": "code",
   "execution_count": 66,
   "metadata": {},
   "outputs": [],
   "source": [
    "def rotate_list(lst, k):\n",
    "\n",
    "    final_list = []\n",
    "\n",
    "    if len(lst):\n",
    "\n",
    "        if k >= len(lst):\n",
    "            k = k%len(lst)\n",
    "        # copy len-k element in final list\n",
    "        for i in range(len(lst) - k , len(lst)):\n",
    "            final_list.append(lst[i])\n",
    "\n",
    "        for j in range(0, len(lst) - k):\n",
    "            final_list.append(lst[j])\n",
    "\n",
    "        print(f\"output: {final_list}\")\n",
    "\n",
    "        return final_list\n",
    "    else:\n",
    "        return final_list"
   ]
  },
  {
   "cell_type": "code",
   "execution_count": 65,
   "metadata": {},
   "outputs": [
    {
     "name": "stdout",
     "output_type": "stream",
     "text": [
      "output: [4, 5, 1, 2, 3]\n"
     ]
    },
    {
     "data": {
      "text/plain": [
       "True"
      ]
     },
     "execution_count": 65,
     "metadata": {},
     "output_type": "execute_result"
    }
   ],
   "source": [
    "output == rotate_list(lst, k)"
   ]
  },
  {
   "cell_type": "code",
   "execution_count": null,
   "metadata": {},
   "outputs": [],
   "source": []
  }
 ],
 "metadata": {
  "kernelspec": {
   "display_name": "base",
   "language": "python",
   "name": "python3"
  },
  "language_info": {
   "codemirror_mode": {
    "name": "ipython",
    "version": 3
   },
   "file_extension": ".py",
   "mimetype": "text/x-python",
   "name": "python",
   "nbconvert_exporter": "python",
   "pygments_lexer": "ipython3",
   "version": "3.11.7"
  }
 },
 "nbformat": 4,
 "nbformat_minor": 2
}
