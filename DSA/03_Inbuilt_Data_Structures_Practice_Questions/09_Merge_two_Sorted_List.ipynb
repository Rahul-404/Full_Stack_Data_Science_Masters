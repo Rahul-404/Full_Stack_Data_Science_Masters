{
 "cells": [
  {
   "cell_type": "markdown",
   "metadata": {},
   "source": [
    "## 9] Merge two Sorted List\n",
    "\n",
    "Merge Two Sorted Lists\n",
    "\n",
    "You are given two sorted lists of integers. Write a Python function to merge these two sorted lists into one sorted list. The resulting list should also be in non-decreasing order.\n",
    "\n",
    "Parameters:\n",
    "\n",
    "list1 (List of integers): The first sorted list.\n",
    "list2 (List of integers): The second sorted list.\n",
    "\n",
    "Returns:\n",
    "\n",
    "A single list of integers, containing all elements from list1 and list2, sorted in non-decreasing order.\n",
    "\n",
    "Example:\n",
    "```\n",
    "Input: list1 = [1, 3, 5], list2 = [2, 4, 6]\n",
    "Output: [1, 2, 3, 4, 5, 6]\n",
    "```\n",
    "```\n",
    "Input: list1 = [1, 4, 7], list2 = [2, 3, 5, 8]\n",
    "Output: [1, 2, 3, 4, 5, 7, 8]\n",
    "```"
   ]
  },
  {
   "cell_type": "code",
   "execution_count": 42,
   "metadata": {},
   "outputs": [],
   "source": [
    "list1 = [1, 3, 5]\n",
    "list2 = [2, 4, 6]\n",
    "output = [1, 2, 3, 4, 5, 6]"
   ]
  },
  {
   "cell_type": "code",
   "execution_count": 41,
   "metadata": {},
   "outputs": [
    {
     "name": "stdout",
     "output_type": "stream",
     "text": [
      "1 2 | 0 0\n",
      "[1]\n",
      "3 2 | 1 0\n",
      "[1, 2]\n",
      "3 4 | 1 1\n",
      "[1, 2, 3]\n",
      "5 4 | 2 1\n",
      "[1, 2, 3, 4]\n",
      "5 6 | 2 2\n",
      "[1, 2, 3, 4, 5]\n",
      "    | 3 2\n",
      "[1, 2, 3, 4, 5, 6]\n"
     ]
    }
   ],
   "source": [
    "new_list = []\n",
    "c1 = 0\n",
    "c2 = 0\n",
    "total_length = len(list1)+len(list2)-1\n",
    "while len(new_list) < total_length:\n",
    "    print(list1[c1] , list2[c2], '|', c1, c2)\n",
    "    if list1[c1] < list2[c2]:\n",
    "        new_list.append(list1[c1])\n",
    "        c1+=1\n",
    "    else:\n",
    "        new_list.append(list2[c2])\n",
    "        c2+=1\n",
    "    print(new_list)\n",
    "\n",
    "print('    |',c1, c2)\n",
    "if c1 < c2:\n",
    "    new_list.append(list1[c1])\n",
    "else:\n",
    "    new_list.append(list2[c2])\n",
    "print(new_list)"
   ]
  },
  {
   "cell_type": "code",
   "execution_count": 49,
   "metadata": {},
   "outputs": [],
   "source": [
    "def merge_two_sorted_lists(list1, list2):\n",
    "    new_list = []\n",
    "    c1 = 0\n",
    "    c2 = 0\n",
    "    total_length = len(list1)+len(list2)-1\n",
    "    if len(list1) == 0:\n",
    "        return list2\n",
    "    elif len(list2) == 0:\n",
    "        return list1\n",
    "    else:\n",
    "        while len(new_list) < total_length:\n",
    "            if list1[c1] < list2[c2]:\n",
    "                new_list.append(list1[c1])\n",
    "                c1+=1\n",
    "            else:\n",
    "                new_list.append(list2[c2])\n",
    "                c2+=1\n",
    "\n",
    "        if c1 < c2:\n",
    "            new_list.append(list1[c1])\n",
    "        else:\n",
    "            new_list.append(list2[c2])\n",
    "        \n",
    "        return new_list"
   ]
  },
  {
   "cell_type": "code",
   "execution_count": 50,
   "metadata": {},
   "outputs": [],
   "source": [
    "list1 = [1, 3, 5]\n",
    "list2 = [2, 4, 6]\n",
    "output = [1, 2, 3, 4, 5, 6]"
   ]
  },
  {
   "cell_type": "code",
   "execution_count": 51,
   "metadata": {},
   "outputs": [
    {
     "data": {
      "text/plain": [
       "True"
      ]
     },
     "execution_count": 51,
     "metadata": {},
     "output_type": "execute_result"
    }
   ],
   "source": [
    "output == merge_two_sorted_lists(list1, list2)"
   ]
  },
  {
   "cell_type": "code",
   "execution_count": 52,
   "metadata": {},
   "outputs": [],
   "source": [
    "list1 = [1, 4, 7]\n",
    "list2 = [2, 3, 5, 8]\n",
    "output = [1, 2, 3, 4, 5, 7, 8]"
   ]
  },
  {
   "cell_type": "code",
   "execution_count": 53,
   "metadata": {},
   "outputs": [
    {
     "data": {
      "text/plain": [
       "True"
      ]
     },
     "execution_count": 53,
     "metadata": {},
     "output_type": "execute_result"
    }
   ],
   "source": [
    "output == merge_two_sorted_lists(list1, list2)"
   ]
  },
  {
   "cell_type": "markdown",
   "metadata": {},
   "source": [
    "#### Edge Condition"
   ]
  },
  {
   "cell_type": "code",
   "execution_count": 54,
   "metadata": {},
   "outputs": [],
   "source": [
    "list1 = [1, 2, 3]\n",
    "list2 = []\n",
    "output = [1, 2, 3]"
   ]
  },
  {
   "cell_type": "code",
   "execution_count": 55,
   "metadata": {},
   "outputs": [
    {
     "data": {
      "text/plain": [
       "True"
      ]
     },
     "execution_count": 55,
     "metadata": {},
     "output_type": "execute_result"
    }
   ],
   "source": [
    "output == merge_two_sorted_lists(list1, list2)"
   ]
  },
  {
   "cell_type": "code",
   "execution_count": 56,
   "metadata": {},
   "outputs": [],
   "source": [
    "list1 = []\n",
    "list2 = [1, 2, 3]\n",
    "output = [1, 2, 3]"
   ]
  },
  {
   "cell_type": "code",
   "execution_count": 57,
   "metadata": {},
   "outputs": [
    {
     "data": {
      "text/plain": [
       "True"
      ]
     },
     "execution_count": 57,
     "metadata": {},
     "output_type": "execute_result"
    }
   ],
   "source": [
    "output == merge_two_sorted_lists(list1, list2)"
   ]
  },
  {
   "cell_type": "code",
   "execution_count": null,
   "metadata": {},
   "outputs": [],
   "source": []
  }
 ],
 "metadata": {
  "kernelspec": {
   "display_name": "base",
   "language": "python",
   "name": "python3"
  },
  "language_info": {
   "codemirror_mode": {
    "name": "ipython",
    "version": 3
   },
   "file_extension": ".py",
   "mimetype": "text/x-python",
   "name": "python",
   "nbconvert_exporter": "python",
   "pygments_lexer": "ipython3",
   "version": "3.11.7"
  }
 },
 "nbformat": 4,
 "nbformat_minor": 2
}
