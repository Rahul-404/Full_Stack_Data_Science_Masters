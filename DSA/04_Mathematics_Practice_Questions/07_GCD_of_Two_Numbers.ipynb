{
 "cells": [
  {
   "cell_type": "markdown",
   "metadata": {},
   "source": [
    "## 07] GCD of Two Numbers\n",
    "\n",
    "**Problem Description:**\n",
    "\n",
    "You are given two integers n and m. Your task is to find the GCD of these two numbers. The GCD is the largest positive integer that divides both numbers without leaving a remainder. Do not use any built-in functions and do not use recursion.\n",
    "\n",
    "**Input:**\n",
    "\n",
    "Two integers n and m, where 1 <= n, m <= 10^9.\n",
    "\n",
    "**Output:**\n",
    "\n",
    "An integer representing the GCD of n and m.\n",
    "\n",
    "**Example:**\n",
    "```\n",
    "Input: n = 48, m = 18\n",
    "Output: 6\n",
    " \n",
    "Input: n = 56, m = 98\n",
    "Output: 14\n",
    "```"
   ]
  },
  {
   "cell_type": "code",
   "execution_count": 6,
   "metadata": {},
   "outputs": [],
   "source": [
    "n = 48\n",
    "m = 18\n",
    "output = 6"
   ]
  },
  {
   "cell_type": "code",
   "execution_count": 9,
   "metadata": {},
   "outputs": [],
   "source": [
    "def gcd(n, m):\n",
    "    \"\"\"\n",
    "    Function to find the GCD of two integers without using built-in functions and recursion.\n",
    "    \n",
    "    Parameters:\n",
    "    n (int): The first integer.\n",
    "    m (int): The second integer.\n",
    "    \n",
    "    Returns:\n",
    "    int: The GCD of n and m.\n",
    "    \"\"\"\n",
    "    while m :\n",
    "        n, m = m,  n % m \n",
    "    \n",
    "    print(f\"output: {n}\")\n",
    "\n",
    "    return n\n"
   ]
  },
  {
   "cell_type": "code",
   "execution_count": 10,
   "metadata": {},
   "outputs": [
    {
     "name": "stdout",
     "output_type": "stream",
     "text": [
      "output: 6\n"
     ]
    },
    {
     "data": {
      "text/plain": [
       "True"
      ]
     },
     "execution_count": 10,
     "metadata": {},
     "output_type": "execute_result"
    }
   ],
   "source": [
    "output == gcd(n, m)"
   ]
  },
  {
   "cell_type": "code",
   "execution_count": 11,
   "metadata": {},
   "outputs": [],
   "source": [
    "n = 56\n",
    "m = 98\n",
    "output = 14"
   ]
  },
  {
   "cell_type": "code",
   "execution_count": 12,
   "metadata": {},
   "outputs": [
    {
     "name": "stdout",
     "output_type": "stream",
     "text": [
      "output: 14\n"
     ]
    },
    {
     "data": {
      "text/plain": [
       "True"
      ]
     },
     "execution_count": 12,
     "metadata": {},
     "output_type": "execute_result"
    }
   ],
   "source": [
    "output == gcd(n, m)"
   ]
  },
  {
   "cell_type": "code",
   "execution_count": null,
   "metadata": {},
   "outputs": [],
   "source": []
  }
 ],
 "metadata": {
  "kernelspec": {
   "display_name": "base",
   "language": "python",
   "name": "python3"
  },
  "language_info": {
   "codemirror_mode": {
    "name": "ipython",
    "version": 3
   },
   "file_extension": ".py",
   "mimetype": "text/x-python",
   "name": "python",
   "nbconvert_exporter": "python",
   "pygments_lexer": "ipython3",
   "version": "3.11.7"
  }
 },
 "nbformat": 4,
 "nbformat_minor": 2
}
