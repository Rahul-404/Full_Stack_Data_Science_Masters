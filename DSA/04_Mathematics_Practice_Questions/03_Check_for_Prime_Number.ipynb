{
 "cells": [
  {
   "cell_type": "markdown",
   "metadata": {},
   "source": [
    "## 03] Check for Prime Number\n",
    "\n",
    "**Problem Description:**\n",
    "\n",
    "You are given an integer n. Your task is to check whether the number is prime or not. A prime number is a number greater than 1 that has no divisors other than 1 and itself. Return True if the number is prime, and False otherwise.\n",
    "\n",
    "**Input:**\n",
    "\n",
    "A single integer n where 1 <= n <= 10^6.\n",
    "\n",
    "**Output:**\n",
    "\n",
    "Return True if n is a prime number, otherwise return False.\n",
    "\n",
    "**Example:**\n",
    "```\n",
    "Input: n = 5\n",
    "Output: True\n",
    " \n",
    "Input: n = 4\n",
    "Output: False\n",
    "```"
   ]
  },
  {
   "cell_type": "code",
   "execution_count": 2,
   "metadata": {},
   "outputs": [],
   "source": [
    "input = n = 5\n",
    "output = True"
   ]
  },
  {
   "cell_type": "code",
   "execution_count": 1,
   "metadata": {},
   "outputs": [],
   "source": [
    "import math\n",
    "\n",
    "def is_prime(n):\n",
    "    \"\"\"\n",
    "    Function to check if a number is prime.\n",
    "    \n",
    "    Parameters:\n",
    "    n (int): The number to check.\n",
    "    \n",
    "    Returns:\n",
    "    bool: True if n is prime, False otherwise.\n",
    "    \"\"\"\n",
    "    # Your code here\n",
    "\n",
    "\n",
    "    # handle special case\n",
    "    if n <= 1:\n",
    "        return False\n",
    "\n",
    "    if n == 2:\n",
    "        return True # 2 is only even prime number\n",
    "\n",
    "    if n % 2 == 0:\n",
    "        return False # other even numbers are not prime\n",
    "\n",
    "    # Check divisibility from 3 to sqrt(n)\n",
    "    for i in range(3, int(math.sqrt(n))+1, 2): # only check for odd numbers\n",
    "        if n % i == 0:\n",
    "            return False\n",
    "\n",
    "    return True"
   ]
  },
  {
   "cell_type": "code",
   "execution_count": 3,
   "metadata": {},
   "outputs": [
    {
     "data": {
      "text/plain": [
       "True"
      ]
     },
     "execution_count": 3,
     "metadata": {},
     "output_type": "execute_result"
    }
   ],
   "source": [
    "output == is_prime(n)"
   ]
  },
  {
   "cell_type": "code",
   "execution_count": 4,
   "metadata": {},
   "outputs": [],
   "source": [
    "input = n = 4\n",
    "output = False"
   ]
  },
  {
   "cell_type": "code",
   "execution_count": 5,
   "metadata": {},
   "outputs": [
    {
     "data": {
      "text/plain": [
       "True"
      ]
     },
     "execution_count": 5,
     "metadata": {},
     "output_type": "execute_result"
    }
   ],
   "source": [
    "output == is_prime(n)"
   ]
  },
  {
   "cell_type": "code",
   "execution_count": null,
   "metadata": {},
   "outputs": [],
   "source": []
  }
 ],
 "metadata": {
  "kernelspec": {
   "display_name": "base",
   "language": "python",
   "name": "python3"
  },
  "language_info": {
   "codemirror_mode": {
    "name": "ipython",
    "version": 3
   },
   "file_extension": ".py",
   "mimetype": "text/x-python",
   "name": "python",
   "nbconvert_exporter": "python",
   "pygments_lexer": "ipython3",
   "version": "3.11.7"
  }
 },
 "nbformat": 4,
 "nbformat_minor": 2
}
