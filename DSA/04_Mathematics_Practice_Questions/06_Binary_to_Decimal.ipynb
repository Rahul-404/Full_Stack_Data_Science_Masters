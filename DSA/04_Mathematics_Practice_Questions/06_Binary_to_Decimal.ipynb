{
 "cells": [
  {
   "cell_type": "markdown",
   "metadata": {},
   "source": [
    "## 06] Binary to Decimal\n",
    "\n",
    "**Problem Description:**\n",
    "\n",
    "You are given a string binary_str representing a binary number. Your task is to convert this binary string to its corresponding decimal integer. Do not use any built-in functions for conversion.\n",
    "\n",
    "**Input:**\n",
    "\n",
    "A string binary_str, consisting of characters '0' and '1', where the length of the string is between 1 and 30 (inclusive).\n",
    "\n",
    "**Output:**\n",
    "\n",
    "An integer representing the decimal value of the binary string\n",
    "\n",
    "**Example:**\n",
    "```\n",
    "Input: binary_str = \"101\"\n",
    "Output: 5\n",
    " \n",
    "Input: binary_str = \"1101\"\n",
    "Output: 13\n",
    "```"
   ]
  },
  {
   "cell_type": "code",
   "execution_count": 44,
   "metadata": {},
   "outputs": [],
   "source": [
    "input = binary_str = \"101\"\n",
    "output = 5"
   ]
  },
  {
   "cell_type": "code",
   "execution_count": 45,
   "metadata": {},
   "outputs": [],
   "source": [
    "def binary_to_decimal(binary_str):\n",
    "    \"\"\"\n",
    "    Function to convert a binary string to its decimal integer representation.\n",
    "    \n",
    "    Parameters:\n",
    "    binary_str (str): The binary string to convert.\n",
    "    \n",
    "    Returns:\n",
    "    int: The decimal representation of the binary string.\n",
    "    \"\"\"\n",
    "    num = 0\n",
    "    for index, value in enumerate(binary_str[::-1]):\n",
    "        num += int(value) * (2 ** int(index))\n",
    "\n",
    "    print(f\"output: {num}\")\n",
    "\n",
    "    return num\n"
   ]
  },
  {
   "cell_type": "code",
   "execution_count": 46,
   "metadata": {},
   "outputs": [
    {
     "name": "stdout",
     "output_type": "stream",
     "text": [
      "output: 5\n"
     ]
    },
    {
     "data": {
      "text/plain": [
       "True"
      ]
     },
     "execution_count": 46,
     "metadata": {},
     "output_type": "execute_result"
    }
   ],
   "source": [
    "output == binary_to_decimal(binary_str)"
   ]
  },
  {
   "cell_type": "code",
   "execution_count": 47,
   "metadata": {},
   "outputs": [],
   "source": [
    "input = binary_str = \"1101\"\n",
    "output = 13"
   ]
  },
  {
   "cell_type": "code",
   "execution_count": 48,
   "metadata": {},
   "outputs": [
    {
     "name": "stdout",
     "output_type": "stream",
     "text": [
      "output: 13\n"
     ]
    },
    {
     "data": {
      "text/plain": [
       "True"
      ]
     },
     "execution_count": 48,
     "metadata": {},
     "output_type": "execute_result"
    }
   ],
   "source": [
    "output == binary_to_decimal(binary_str)"
   ]
  },
  {
   "cell_type": "code",
   "execution_count": null,
   "metadata": {},
   "outputs": [],
   "source": []
  }
 ],
 "metadata": {
  "kernelspec": {
   "display_name": "base",
   "language": "python",
   "name": "python3"
  },
  "language_info": {
   "codemirror_mode": {
    "name": "ipython",
    "version": 3
   },
   "file_extension": ".py",
   "mimetype": "text/x-python",
   "name": "python",
   "nbconvert_exporter": "python",
   "pygments_lexer": "ipython3",
   "version": "3.11.7"
  }
 },
 "nbformat": 4,
 "nbformat_minor": 2
}
