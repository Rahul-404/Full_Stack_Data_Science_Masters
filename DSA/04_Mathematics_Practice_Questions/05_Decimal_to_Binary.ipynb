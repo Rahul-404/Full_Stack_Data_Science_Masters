{
 "cells": [
  {
   "cell_type": "markdown",
   "metadata": {},
   "source": [
    "## 05] Decimal to Binary\n",
    "\n",
    "**Problem Description:**\n",
    "\n",
    "You are given an integer n. Your task is to return its binary representation as a string. Do not use any built-in functions for conversion.\n",
    "\n",
    "**Input:**\n",
    "\n",
    "A single integer n, where -10^9 <= n <= 10^9.\n",
    "\n",
    "**Output:**\n",
    "\n",
    "A string representing the binary representation of n.\n",
    "\n",
    "**Example:**\n",
    "```\n",
    "Input: n = 5\n",
    "Output: \"101\"\n",
    " \n",
    "Input: n = -5\n",
    "Output: \"-101\"\n",
    "```"
   ]
  },
  {
   "cell_type": "markdown",
   "metadata": {},
   "source": [
    "**Logic**\n",
    "\n",
    "Convert `10` to binary:\n",
    "\n",
    "- `10 ÷ 2 = 5` (remainder 0)\n",
    "- `5 ÷ 2 = 2` (remainder 1)\n",
    "- `2 ÷ 2 = 1` (remainder 0)\n",
    "- `1 ÷ 2 = 0` (remainder 1)"
   ]
  },
  {
   "cell_type": "code",
   "execution_count": 55,
   "metadata": {},
   "outputs": [],
   "source": [
    "input = n = 5\n",
    "output = \"101\""
   ]
  },
  {
   "cell_type": "code",
   "execution_count": 56,
   "metadata": {},
   "outputs": [],
   "source": [
    "def int_to_binary(n):\n",
    "    \"\"\"\n",
    "    Function to convert an integer to its binary representation.\n",
    "    \n",
    "    Parameters:\n",
    "    n (int): The integer to convert.\n",
    "    \n",
    "    Returns:\n",
    "    str: The binary representation of the integer.\n",
    "    \"\"\"\n",
    "    if n > 0:\n",
    "        binary = \"\"\n",
    "    elif n < 0:\n",
    "        binary = \"-\"\n",
    "        n = n * -1\n",
    "    else:\n",
    "        print(f\"output: 0\")\n",
    "        return \"0\"\n",
    "\n",
    "    while n > 0 :\n",
    "        binary += str(n % 2)\n",
    "        n = n // 2\n",
    "\n",
    "    print(f\"output: {binary}\")\n",
    "\n",
    "    return binary\n"
   ]
  },
  {
   "cell_type": "code",
   "execution_count": 57,
   "metadata": {},
   "outputs": [
    {
     "name": "stdout",
     "output_type": "stream",
     "text": [
      "output: 101\n"
     ]
    },
    {
     "data": {
      "text/plain": [
       "True"
      ]
     },
     "execution_count": 57,
     "metadata": {},
     "output_type": "execute_result"
    }
   ],
   "source": [
    "output == int_to_binary(n)"
   ]
  },
  {
   "cell_type": "code",
   "execution_count": 58,
   "metadata": {},
   "outputs": [],
   "source": [
    "input = n = -5\n",
    "output = \"-101\""
   ]
  },
  {
   "cell_type": "code",
   "execution_count": 59,
   "metadata": {},
   "outputs": [
    {
     "name": "stdout",
     "output_type": "stream",
     "text": [
      "output: -101\n"
     ]
    },
    {
     "data": {
      "text/plain": [
       "True"
      ]
     },
     "execution_count": 59,
     "metadata": {},
     "output_type": "execute_result"
    }
   ],
   "source": [
    "output == int_to_binary(n)"
   ]
  },
  {
   "cell_type": "code",
   "execution_count": 60,
   "metadata": {},
   "outputs": [],
   "source": [
    "input = n = 0\n",
    "output = \"0\""
   ]
  },
  {
   "cell_type": "code",
   "execution_count": 61,
   "metadata": {},
   "outputs": [
    {
     "name": "stdout",
     "output_type": "stream",
     "text": [
      "output: 0\n"
     ]
    },
    {
     "data": {
      "text/plain": [
       "True"
      ]
     },
     "execution_count": 61,
     "metadata": {},
     "output_type": "execute_result"
    }
   ],
   "source": [
    "output == int_to_binary(n)"
   ]
  },
  {
   "cell_type": "code",
   "execution_count": null,
   "metadata": {},
   "outputs": [],
   "source": []
  }
 ],
 "metadata": {
  "kernelspec": {
   "display_name": "base",
   "language": "python",
   "name": "python3"
  },
  "language_info": {
   "codemirror_mode": {
    "name": "ipython",
    "version": 3
   },
   "file_extension": ".py",
   "mimetype": "text/x-python",
   "name": "python",
   "nbconvert_exporter": "python",
   "pygments_lexer": "ipython3",
   "version": "3.11.7"
  }
 },
 "nbformat": 4,
 "nbformat_minor": 2
}
