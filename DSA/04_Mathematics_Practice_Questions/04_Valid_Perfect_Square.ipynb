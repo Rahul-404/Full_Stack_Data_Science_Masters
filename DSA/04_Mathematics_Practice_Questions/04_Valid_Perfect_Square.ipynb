{
 "cells": [
  {
   "cell_type": "markdown",
   "metadata": {},
   "source": [
    "## 04] Valid Perfect Square\n",
    "\n",
    "**Problem Description:**\n",
    "\n",
    "You are given a positive integer num. Your task is to check whether num is a perfect square or not. A perfect square is an integer that is the square of an integer (e.g., 1, 4, 9, 16, ...). Return True if num is a perfect square, and False otherwise.\n",
    "\n",
    "**Input:**\n",
    "\n",
    "A single positive integer num where 1 <= num <= 10^9.\n",
    "\n",
    "**Output:**\n",
    "\n",
    "Return True if num is a perfect square, otherwise return False.\n",
    "\n",
    "**Example:**\n",
    "```\n",
    "Input: num = 16\n",
    "Output: True\n",
    " \n",
    "Input: num = 14\n",
    "Output: False\n",
    "```"
   ]
  },
  {
   "cell_type": "code",
   "execution_count": 3,
   "metadata": {},
   "outputs": [],
   "source": [
    "input = num = 16\n",
    "output = True"
   ]
  },
  {
   "cell_type": "code",
   "execution_count": 4,
   "metadata": {},
   "outputs": [],
   "source": [
    "import math\n",
    "\n",
    "def is_perfect_square(num):\n",
    "    \"\"\"\n",
    "    Function to check if a number is a perfect square.\n",
    "    \n",
    "    Parameters:\n",
    "    num (int): The number to check.\n",
    "    \n",
    "    Returns:\n",
    "    bool: True if num is a perfect square, False otherwise.\n",
    "    \"\"\"\n",
    "    if num < 0:\n",
    "        return False\n",
    "    else:\n",
    "        square_x = int(math.sqrt(num))\n",
    "\n",
    "        return num == (square_x)**2\n"
   ]
  },
  {
   "cell_type": "code",
   "execution_count": 5,
   "metadata": {},
   "outputs": [
    {
     "data": {
      "text/plain": [
       "True"
      ]
     },
     "execution_count": 5,
     "metadata": {},
     "output_type": "execute_result"
    }
   ],
   "source": [
    "output == is_perfect_square(num)"
   ]
  },
  {
   "cell_type": "code",
   "execution_count": 6,
   "metadata": {},
   "outputs": [],
   "source": [
    "input = num = 14\n",
    "output = False"
   ]
  },
  {
   "cell_type": "code",
   "execution_count": 7,
   "metadata": {},
   "outputs": [
    {
     "data": {
      "text/plain": [
       "True"
      ]
     },
     "execution_count": 7,
     "metadata": {},
     "output_type": "execute_result"
    }
   ],
   "source": [
    "output == is_perfect_square(num)"
   ]
  },
  {
   "cell_type": "code",
   "execution_count": null,
   "metadata": {},
   "outputs": [],
   "source": []
  }
 ],
 "metadata": {
  "kernelspec": {
   "display_name": "base",
   "language": "python",
   "name": "python3"
  },
  "language_info": {
   "codemirror_mode": {
    "name": "ipython",
    "version": 3
   },
   "file_extension": ".py",
   "mimetype": "text/x-python",
   "name": "python",
   "nbconvert_exporter": "python",
   "pygments_lexer": "ipython3",
   "version": "3.11.7"
  }
 },
 "nbformat": 4,
 "nbformat_minor": 2
}
