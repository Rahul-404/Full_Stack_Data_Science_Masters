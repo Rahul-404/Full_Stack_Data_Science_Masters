{
 "cells": [
  {
   "cell_type": "markdown",
   "metadata": {},
   "source": [
    "## 01] Sum of N Even Natural Numbers\n",
    "\n",
    "\n",
    "**Problem Description:**\n",
    "\n",
    "You are given an integer n. Your task is to calculate and return the sum of the first n even natural numbers. The even natural numbers are: 2, 4, 6, 8, ...\n",
    "\n",
    "**Input:**\n",
    "\n",
    "A single integer n where 1 <= n <= 10^4.\n",
    "\n",
    "**Output:**\n",
    "\n",
    "Return the sum of the first n even natural numbers.\n",
    "\n",
    "**Example:**\n",
    "```\n",
    "Input: n = 3\n",
    "Output: 12  # (2 + 4 + 6)\n",
    " \n",
    "Input: n = 5\n",
    "Output: 30  # (2 + 4 + 6 + 8 + 10)\n",
    "```\n",
    "\n",
    "**Disclaimer:** This Udemy coding exercise is still in development, so some advanced complexities might not be fully checked. Please use it primarily for basic code validation."
   ]
  },
  {
   "cell_type": "code",
   "execution_count": 3,
   "metadata": {},
   "outputs": [],
   "source": [
    "input = n = 3\n",
    "output = 12  # (2 + 4 + 6)"
   ]
  },
  {
   "cell_type": "code",
   "execution_count": 7,
   "metadata": {},
   "outputs": [
    {
     "name": "stdout",
     "output_type": "stream",
     "text": [
      "output: 12\n"
     ]
    }
   ],
   "source": [
    "total = 0\n",
    "for i in range(2, (2*n+2), 2):\n",
    "    total += i\n",
    "\n",
    "print(f\"output: {total}\")"
   ]
  },
  {
   "cell_type": "code",
   "execution_count": 8,
   "metadata": {},
   "outputs": [],
   "source": [
    "def sum_of_even_numbers(n):\n",
    "    \"\"\"\n",
    "    Function to return the sum of the first n even natural numbers.\n",
    "    \n",
    "    Parameters:\n",
    "    n (int): The number of even numbers to sum.\n",
    "    \n",
    "    Returns:\n",
    "    int: The sum of the first n even natural numbers.\n",
    "    \"\"\"\n",
    "    total = 0\n",
    "    for i in range(2, (2*n+2), 2):\n",
    "        total += i\n",
    "\n",
    "    print(f\"output: {total}\")\n",
    "\n",
    "    return total\n"
   ]
  },
  {
   "cell_type": "code",
   "execution_count": 9,
   "metadata": {},
   "outputs": [
    {
     "name": "stdout",
     "output_type": "stream",
     "text": [
      "output: 12\n"
     ]
    },
    {
     "data": {
      "text/plain": [
       "True"
      ]
     },
     "execution_count": 9,
     "metadata": {},
     "output_type": "execute_result"
    }
   ],
   "source": [
    "output == sum_of_even_numbers(n)"
   ]
  },
  {
   "cell_type": "code",
   "execution_count": 15,
   "metadata": {},
   "outputs": [],
   "source": [
    "input = n = 5\n",
    "output = 30  # (2 + 4 + 6 + 8 + 10)"
   ]
  },
  {
   "cell_type": "code",
   "execution_count": 17,
   "metadata": {},
   "outputs": [
    {
     "name": "stdout",
     "output_type": "stream",
     "text": [
      "output: 30\n"
     ]
    },
    {
     "data": {
      "text/plain": [
       "True"
      ]
     },
     "execution_count": 17,
     "metadata": {},
     "output_type": "execute_result"
    }
   ],
   "source": [
    "output == sum_of_even_numbers(n)"
   ]
  },
  {
   "cell_type": "code",
   "execution_count": null,
   "metadata": {},
   "outputs": [],
   "source": []
  }
 ],
 "metadata": {
  "kernelspec": {
   "display_name": "base",
   "language": "python",
   "name": "python3"
  },
  "language_info": {
   "codemirror_mode": {
    "name": "ipython",
    "version": 3
   },
   "file_extension": ".py",
   "mimetype": "text/x-python",
   "name": "python",
   "nbconvert_exporter": "python",
   "pygments_lexer": "ipython3",
   "version": "3.11.7"
  }
 },
 "nbformat": 4,
 "nbformat_minor": 2
}
