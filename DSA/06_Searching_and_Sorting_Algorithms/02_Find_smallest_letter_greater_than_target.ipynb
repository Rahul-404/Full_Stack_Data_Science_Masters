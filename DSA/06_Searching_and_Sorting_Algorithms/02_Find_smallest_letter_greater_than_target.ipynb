{
 "cells": [
  {
   "cell_type": "markdown",
   "metadata": {},
   "source": [
    "## 02] Find smallest letter greater than target\n",
    "\n",
    "**Asked in companies:**\n",
    "\n",
    "- JP Morgan\n",
    "\n",
    "- TCS\n",
    "\n",
    "- Wells fargo\n",
    "\n",
    "- Gameskraft\n",
    "\n",
    "\n",
    "\n",
    "**Description:**\n",
    "\n",
    "You are given a sorted array of characters letters, sorted in non-decreasing order, and a character target. There are at least two different characters in letters. Your task is to return the smallest character in letters that is lexicographically greater than target. If such a character does not exist, return the first character in letters.\n",
    "\n",
    "\n",
    "\n",
    "**Input:**\n",
    "\n",
    "letters: A sorted array of characters in non-decreasing order.\n",
    "\n",
    "target: A character to compare against.\n",
    "\n",
    "**Output:**\n",
    "\n",
    "Return the smallest character that is greater than target. If no such character exists, return the first character in letters.\n",
    "\n",
    "\n",
    "\n",
    "**Example:**\n",
    "```\n",
    "Input:\n",
    "letters = ['c', 'f', 'j']\n",
    "target = 'k'\n",
    "Output: 'c'\n",
    " \n",
    "Input:\n",
    "letters = ['c', 'f', 'j']\n",
    "target = 'c'\n",
    "Output: 'f'\n",
    " \n",
    "Input:\n",
    "letters = ['c', 'f', 'j']\n",
    "target = 'a'\n",
    "Output: 'c'\n",
    "```"
   ]
  },
  {
   "cell_type": "code",
   "execution_count": 7,
   "metadata": {},
   "outputs": [],
   "source": [
    "l = [3, 6, 10]\n",
    "t = 11\n",
    "o = 3\n",
    "\n",
    "l = [3, 6, 10]\n",
    "t = 3\n",
    "o = 6\n",
    "\n",
    "l = [3, 6, 10]\n",
    "t = 1\n",
    "o = 3"
   ]
  },
  {
   "cell_type": "code",
   "execution_count": 17,
   "metadata": {},
   "outputs": [],
   "source": [
    "def next_greatest_letter(letters, target):\n",
    "    \"\"\"\n",
    "    Return the smallest character in letters that is lexicographically greater than target.\n",
    "\n",
    "    Parameters:\n",
    "    letters (List[char]): Sorted array of characters.\n",
    "    target (char): The target character.\n",
    "\n",
    "    Returns:\n",
    "    char: The smallest character greater than target, or the first character if no such character exists.\n",
    "    \"\"\"\n",
    "    if target not in letters:\n",
    "        return letters[0]\n",
    "    else:\n",
    "        for index, letter in enumerate(letters):\n",
    "            if target == letter:\n",
    "                return letters[index+1]\n",
    "                break"
   ]
  },
  {
   "cell_type": "code",
   "execution_count": 18,
   "metadata": {},
   "outputs": [],
   "source": [
    "letters = ['c', 'f', 'j']\n",
    "target = 'k'\n",
    "output = 'c'"
   ]
  },
  {
   "cell_type": "code",
   "execution_count": 19,
   "metadata": {},
   "outputs": [
    {
     "data": {
      "text/plain": [
       "True"
      ]
     },
     "execution_count": 19,
     "metadata": {},
     "output_type": "execute_result"
    }
   ],
   "source": [
    "output == next_greatest_letter(letters, target)"
   ]
  },
  {
   "cell_type": "code",
   "execution_count": 20,
   "metadata": {},
   "outputs": [],
   "source": [
    "letters = ['c', 'f', 'j']\n",
    "target = 'c'\n",
    "output = 'f'"
   ]
  },
  {
   "cell_type": "code",
   "execution_count": 21,
   "metadata": {},
   "outputs": [
    {
     "data": {
      "text/plain": [
       "True"
      ]
     },
     "execution_count": 21,
     "metadata": {},
     "output_type": "execute_result"
    }
   ],
   "source": [
    "output == next_greatest_letter(letters, target)"
   ]
  },
  {
   "cell_type": "code",
   "execution_count": 22,
   "metadata": {},
   "outputs": [],
   "source": [
    "letters = ['c', 'f', 'j']\n",
    "target = 'a'\n",
    "output = 'c'"
   ]
  },
  {
   "cell_type": "code",
   "execution_count": 23,
   "metadata": {},
   "outputs": [
    {
     "data": {
      "text/plain": [
       "True"
      ]
     },
     "execution_count": 23,
     "metadata": {},
     "output_type": "execute_result"
    }
   ],
   "source": [
    "output == next_greatest_letter(letters, target)"
   ]
  },
  {
   "cell_type": "markdown",
   "metadata": {},
   "source": [
    "**References:**\n",
    "\n",
    "- (https://leetcode.com/problems/find-smallest-letter-greater-than-target/description/)[https://leetcode.com/problems/find-smallest-letter-greater-than-target/description/]"
   ]
  },
  {
   "cell_type": "code",
   "execution_count": null,
   "metadata": {},
   "outputs": [],
   "source": []
  }
 ],
 "metadata": {
  "kernelspec": {
   "display_name": "base",
   "language": "python",
   "name": "python3"
  },
  "language_info": {
   "codemirror_mode": {
    "name": "ipython",
    "version": 3
   },
   "file_extension": ".py",
   "mimetype": "text/x-python",
   "name": "python",
   "nbconvert_exporter": "python",
   "pygments_lexer": "ipython3",
   "version": "3.11.7"
  }
 },
 "nbformat": 4,
 "nbformat_minor": 2
}
