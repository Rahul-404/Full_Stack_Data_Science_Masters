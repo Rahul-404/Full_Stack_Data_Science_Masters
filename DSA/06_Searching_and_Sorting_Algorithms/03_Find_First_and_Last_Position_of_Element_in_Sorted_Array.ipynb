{
 "cells": [
  {
   "cell_type": "markdown",
   "metadata": {},
   "source": [
    "## 03] Find First and Last Position of Element in Sorted Array\n",
    "\n",
    "**Asked in companies**\n",
    "\n",
    "- Goldman sachs\n",
    "\n",
    "- Amazon\n",
    "\n",
    "- Wipro\n",
    "\n",
    "- Airtel\n",
    "\n",
    "\n",
    "\n",
    "**Description:**\n",
    "\n",
    "Given an array of integers nums sorted in non-decreasing order, and an integer target, find the starting and ending position of the given target value. If target is not found in the array, return [-1, -1].\n",
    "\n",
    "\n",
    "\n",
    "**Parameters:**\n",
    "\n",
    "nums (List[int]): A list of integers sorted in non-decreasing order.\n",
    "\n",
    "target (int): The target value to search for.\n",
    "\n",
    "**Return Values:**\n",
    "\n",
    "List[int]: The starting and ending positions of the target value in the array. If the target is not found, return [-1, -1].\n",
    "\n",
    "\n",
    "\n",
    "**Example:**\n",
    "```\n",
    "Input: nums = [5, 7, 7, 8, 8, 10], target = 8 \n",
    "Output: [3, 4] \n",
    "Explanation: The target 8 appears from index 3 to index 4.\n",
    " \n",
    " \n",
    "Input: nums = [5, 7, 7, 8, 8, 10], target = 6 \n",
    "Output: [-1, -1] \n",
    "Explanation: The target 6 is not found in the array.\n",
    "```\n"
   ]
  },
  {
   "cell_type": "code",
   "execution_count": 42,
   "metadata": {},
   "outputs": [],
   "source": [
    "def searchRange(nums, target):\n",
    "    pos = [-1, -1]\n",
    "    array_len = len(nums)\n",
    "    FROM_START = True\n",
    "    FROM_END = True\n",
    "\n",
    "    for index, num in enumerate(nums):\n",
    "        if FROM_START:\n",
    "            if target == num:\n",
    "                pos[0] = index\n",
    "                FROM_START = False\n",
    "        if FROM_END:\n",
    "            if target == nums[array_len - 1 - index]:\n",
    "                pos[1] = array_len - 1 - index\n",
    "                FROM_END = False\n",
    "\n",
    "    print(f\"{pos}\")\n",
    "    return pos\n"
   ]
  },
  {
   "cell_type": "code",
   "execution_count": 43,
   "metadata": {},
   "outputs": [],
   "source": [
    "# pos = [-1, -1]\n",
    "# array_len = len(nums)\n",
    "# FROM_START = True\n",
    "# FROM_END = True\n",
    "\n",
    "# for index, num in enumerate(nums):\n",
    "#     if FROM_START:\n",
    "#         if target == num:\n",
    "#             pos[0] = index\n",
    "#             FROM_START = False\n",
    "#     if FROM_END:\n",
    "#         if target == nums[array_len - 1 - index]:\n",
    "#             pos[1] = array_len - 1 - index\n",
    "#             FROM_END = False\n",
    "\n",
    "# print(f\"{pos}\")"
   ]
  },
  {
   "cell_type": "code",
   "execution_count": 44,
   "metadata": {},
   "outputs": [],
   "source": [
    "nums = [5, 7, 7, 8, 8, 10]\n",
    "target = 8 \n",
    "output = [3, 4] \n",
    "# Explanation: The target 8 appears from index 3 to index 4.\n",
    " "
   ]
  },
  {
   "cell_type": "code",
   "execution_count": 45,
   "metadata": {},
   "outputs": [
    {
     "name": "stdout",
     "output_type": "stream",
     "text": [
      "[3, 4]\n"
     ]
    },
    {
     "data": {
      "text/plain": [
       "True"
      ]
     },
     "execution_count": 45,
     "metadata": {},
     "output_type": "execute_result"
    }
   ],
   "source": [
    "output == searchRange(nums, target)"
   ]
  },
  {
   "cell_type": "code",
   "execution_count": 46,
   "metadata": {},
   "outputs": [],
   "source": [
    "nums = [5, 7, 7, 8, 8, 10]\n",
    "target = 6 \n",
    "output = [-1, -1] \n",
    "# Explanation: The target 6 is not found in the array."
   ]
  },
  {
   "cell_type": "code",
   "execution_count": 47,
   "metadata": {},
   "outputs": [
    {
     "name": "stdout",
     "output_type": "stream",
     "text": [
      "[-1, -1]\n"
     ]
    },
    {
     "data": {
      "text/plain": [
       "True"
      ]
     },
     "execution_count": 47,
     "metadata": {},
     "output_type": "execute_result"
    }
   ],
   "source": [
    "output == searchRange(nums, target)"
   ]
  },
  {
   "cell_type": "markdown",
   "metadata": {},
   "source": [
    "**References:**\n",
    "\n",
    "- [https://leetcode.com/problems/find-first-and-last-position-of-element-in-sorted-array/description/](https://leetcode.com/problems/find-first-and-last-position-of-element-in-sorted-array/description/)"
   ]
  },
  {
   "cell_type": "code",
   "execution_count": null,
   "metadata": {},
   "outputs": [],
   "source": []
  }
 ],
 "metadata": {
  "kernelspec": {
   "display_name": "base",
   "language": "python",
   "name": "python3"
  },
  "language_info": {
   "codemirror_mode": {
    "name": "ipython",
    "version": 3
   },
   "file_extension": ".py",
   "mimetype": "text/x-python",
   "name": "python",
   "nbconvert_exporter": "python",
   "pygments_lexer": "ipython3",
   "version": "3.11.7"
  }
 },
 "nbformat": 4,
 "nbformat_minor": 2
}
