{
 "cells": [
  {
   "cell_type": "markdown",
   "metadata": {},
   "source": [
    "## 05] Search in Rotated Sorted Array\n",
    "\n",
    "**Asked in companies:**\n",
    "\n",
    "- Microsoft\n",
    "\n",
    "- Amazon\n",
    "\n",
    "- Uber\n",
    "\n",
    "\n",
    "\n",
    "**Description:**\n",
    "\n",
    "Given a sorted array that has been rotated, find the index of a given target value. The array was originally sorted in ascending order and then rotated at some pivot.\n",
    "\n",
    "\n",
    "\n",
    "**Parameters:**\n",
    "\n",
    "nums (List[int]): A list of integers sorted in ascending order but rotated at an unknown pivot.\n",
    "\n",
    "target (int): The integer value to search for in the array.\n",
    "\n",
    "**Return Values:**\n",
    "\n",
    "int: The index of the target value in the array, or -1 if the target is not in the array.\n",
    "\n",
    "\n",
    "\n",
    "**Example:**\n",
    "\n",
    "```\n",
    "Input: nums = [4, 5, 6, 7, 0, 1, 2], target = 0 \n",
    "Output: 4 \n",
    "Explanation: The target value 0 is at index 4 in the rotated array.\n",
    " \n",
    " \n",
    "Input: nums = [4, 5, 6, 7, 0, 1, 2], target = 3 \n",
    "Output: -1 \n",
    "Explanation: The target value 3 is not present in the array.\n",
    "```"
   ]
  },
  {
   "cell_type": "code",
   "execution_count": 12,
   "metadata": {},
   "outputs": [],
   "source": [
    "def search(nums, target):\n",
    "    n_array = len(nums)\n",
    "\n",
    "    pos = -1\n",
    "\n",
    "    if target > nums[0]:\n",
    "        # start to end\n",
    "        for index in range(0, n_array):\n",
    "            if target == nums[index]:\n",
    "                pos = index\n",
    "                break\n",
    "            else:\n",
    "                pos = -1\n",
    "                \n",
    "    else:\n",
    "        # end to start\n",
    "        for index in range(n_array-1, -1, -1):\n",
    "            if target == nums[index]:\n",
    "                pos = index\n",
    "                break\n",
    "            else:\n",
    "                pos = -1\n",
    "\n",
    "    return pos"
   ]
  },
  {
   "cell_type": "code",
   "execution_count": 13,
   "metadata": {},
   "outputs": [],
   "source": [
    "# n_array = len(nums)\n",
    "\n",
    "# pos = -1\n",
    "\n",
    "# if target > nums[0]:\n",
    "#     # start to end\n",
    "#     for index in range(0, n_array):\n",
    "#         if target == nums[index]:\n",
    "#             print(index)\n",
    "#             break\n",
    "#         else:\n",
    "#             pos = -1\n",
    "            \n",
    "# else:\n",
    "#     # end to start\n",
    "#     for index in range(n_array-1, -1, -1):\n",
    "#         if target == nums[index]:\n",
    "#             pos = index\n",
    "#             break\n",
    "#         else:\n",
    "#             pos = -1\n",
    "\n",
    "# print(f\"output : {pos}\")\n"
   ]
  },
  {
   "cell_type": "code",
   "execution_count": 14,
   "metadata": {},
   "outputs": [],
   "source": [
    "nums = [4, 5, 6, 7, 0, 1, 2]\n",
    "target = 0 \n",
    "output = 4 \n",
    "# Explanation: The target value 0 is at index 4 in the rotated array."
   ]
  },
  {
   "cell_type": "code",
   "execution_count": 15,
   "metadata": {},
   "outputs": [
    {
     "data": {
      "text/plain": [
       "True"
      ]
     },
     "execution_count": 15,
     "metadata": {},
     "output_type": "execute_result"
    }
   ],
   "source": [
    "output == search(nums, target)"
   ]
  },
  {
   "cell_type": "code",
   "execution_count": 16,
   "metadata": {},
   "outputs": [],
   "source": [
    "nums = [4, 5, 6, 7, 0, 1, 2]\n",
    "target = 3 \n",
    "output = -1 \n",
    "# Explanation: The target value 3 is not present in the array."
   ]
  },
  {
   "cell_type": "code",
   "execution_count": 17,
   "metadata": {},
   "outputs": [
    {
     "data": {
      "text/plain": [
       "True"
      ]
     },
     "execution_count": 17,
     "metadata": {},
     "output_type": "execute_result"
    }
   ],
   "source": [
    "output == search(nums, target)"
   ]
  },
  {
   "cell_type": "markdown",
   "metadata": {},
   "source": [
    "**References:**\n",
    "- [https://leetcode.com/problems/search-in-rotated-sorted-array/description/](https://leetcode.com/problems/search-in-rotated-sorted-array/description/)"
   ]
  },
  {
   "cell_type": "markdown",
   "metadata": {},
   "source": []
  }
 ],
 "metadata": {
  "kernelspec": {
   "display_name": "base",
   "language": "python",
   "name": "python3"
  },
  "language_info": {
   "codemirror_mode": {
    "name": "ipython",
    "version": 3
   },
   "file_extension": ".py",
   "mimetype": "text/x-python",
   "name": "python",
   "nbconvert_exporter": "python",
   "pygments_lexer": "ipython3",
   "version": "3.11.7"
  }
 },
 "nbformat": 4,
 "nbformat_minor": 2
}
