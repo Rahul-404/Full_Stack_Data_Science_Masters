{
 "cells": [
  {
   "cell_type": "markdown",
   "metadata": {},
   "source": [
    "## 04] Minimum in Rotated Sorted Array\n",
    "\n",
    "**Asked in companies**\n",
    "\n",
    "- Google\n",
    "\n",
    "- Arcesium\n",
    "\n",
    "- Phone Pe\n",
    "\n",
    "- Qualcomm\n",
    "\n",
    "\n",
    "\n",
    "**Description:**\n",
    "\n",
    "Given a sorted array that has been rotated, find the minimum element in the array. The array was originally sorted in ascending order and then rotated at some pivot.\n",
    "\n",
    "\n",
    "\n",
    "**Parameters:**\n",
    "\n",
    "nums (List[int]): A list of integers sorted in ascending order but rotated at an unknown pivot.\n",
    "\n",
    "**Return Values:**\n",
    "\n",
    "int: The minimum element in the rotated sorted array.\n",
    "\n",
    "\n",
    "\n",
    "**Example:**\n",
    "```\n",
    "Input: nums = [4, 5, 6, 7, 0, 1, 2] \n",
    "Output: 0 \n",
    "Explanation: The minimum element is 0.\n",
    " \n",
    "Input: nums = [11, 13, 15, 17] \n",
    "Output: 11 \n",
    "Explanation: The array was not rotated, and the minimum element is the first element.\n",
    "```\n"
   ]
  },
  {
   "cell_type": "code",
   "execution_count": 50,
   "metadata": {},
   "outputs": [],
   "source": [
    "def findMin(nums):\n",
    "    array_n = len(nums)\n",
    "\n",
    "    if nums[0] < nums[-1]:\n",
    "\n",
    "        min_num = nums[0]\n",
    "\n",
    "        for i in range(1, array_n):\n",
    "            if min_num > nums[i+1]:\n",
    "                min_num = nums[i+1]\n",
    "            if min_num < nums[i+1]:\n",
    "                break\n",
    "    else:\n",
    "        min_num = nums[array_n-1]\n",
    "\n",
    "        for i in range(array_n-2, 0, -1):\n",
    "            if min_num > nums[i-1]:\n",
    "                min_num = nums[i-1]\n",
    "            if min_num < nums[i-1]:\n",
    "                break\n",
    "\n",
    "    return min_num"
   ]
  },
  {
   "cell_type": "code",
   "execution_count": 48,
   "metadata": {},
   "outputs": [],
   "source": [
    "nums = [4, 5, 6, 7, 0, 1, 2] \n",
    "output = 0 \n",
    "# Explanation: The minimum element is 0."
   ]
  },
  {
   "cell_type": "code",
   "execution_count": 55,
   "metadata": {},
   "outputs": [],
   "source": [
    "# array_n = len(nums)\n",
    "\n",
    "# if nums[0] < nums[-1]:\n",
    "\n",
    "#     min_num = nums[0]\n",
    "\n",
    "#     for i in range(1, array_n):\n",
    "#         if min_num > nums[i+1]:\n",
    "#             min_num = nums[i+1]\n",
    "#         if min_num < nums[i+1]:\n",
    "#             break\n",
    "# else:\n",
    "#     min_num = nums[array_n-1]\n",
    "\n",
    "#     for i in range(array_n-2, 0, -1):\n",
    "#         if min_num > nums[i-1]:\n",
    "#             min_num = nums[i-1]\n",
    "#         if min_num < nums[i-1]:\n",
    "#             break\n",
    "\n",
    "# print(f\"min : {min_num}\")"
   ]
  },
  {
   "cell_type": "code",
   "execution_count": 52,
   "metadata": {},
   "outputs": [
    {
     "data": {
      "text/plain": [
       "True"
      ]
     },
     "execution_count": 52,
     "metadata": {},
     "output_type": "execute_result"
    }
   ],
   "source": [
    "output == findMin(nums)"
   ]
  },
  {
   "cell_type": "code",
   "execution_count": 53,
   "metadata": {},
   "outputs": [],
   "source": [
    "nums = [11, 13, 15, 17] \n",
    "output = 11 \n",
    "# Explanation: The array was not rotated, and the minimum element is the first element."
   ]
  },
  {
   "cell_type": "code",
   "execution_count": 54,
   "metadata": {},
   "outputs": [
    {
     "data": {
      "text/plain": [
       "True"
      ]
     },
     "execution_count": 54,
     "metadata": {},
     "output_type": "execute_result"
    }
   ],
   "source": [
    "output == findMin(nums)"
   ]
  },
  {
   "cell_type": "markdown",
   "metadata": {},
   "source": [
    "**References:**\n",
    "\n",
    "- [https://leetcode.com/problems/find-minimum-in-rotated-sorted-array/description/](https://leetcode.com/problems/find-minimum-in-rotated-sorted-array/description/)"
   ]
  },
  {
   "cell_type": "code",
   "execution_count": null,
   "metadata": {},
   "outputs": [],
   "source": []
  }
 ],
 "metadata": {
  "kernelspec": {
   "display_name": "base",
   "language": "python",
   "name": "python3"
  },
  "language_info": {
   "codemirror_mode": {
    "name": "ipython",
    "version": 3
   },
   "file_extension": ".py",
   "mimetype": "text/x-python",
   "name": "python",
   "nbconvert_exporter": "python",
   "pygments_lexer": "ipython3",
   "version": "3.11.7"
  }
 },
 "nbformat": 4,
 "nbformat_minor": 2
}
