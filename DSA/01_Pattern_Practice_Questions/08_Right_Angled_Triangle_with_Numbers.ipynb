{
 "cells": [
  {
   "cell_type": "markdown",
   "metadata": {},
   "source": [
    "## Right Angled Triangle with Numbers\n",
    "\n",
    "**Problem Description:**\n",
    "\n",
    "You are given an integer n. Your task is to return a right-angled triangle pattern where each row contains repeated digits. The first row contains the number 1 repeated once, the second row contains the number 2 repeated twice, and so on until the nth row contains the number n repeated n times.\n",
    "\n",
    "**Input:**\n",
    "\n",
    "A single integer n, where 1 <= n <= 100.\n",
    "\n",
    "**Output:**\n",
    "\n",
    "A list of strings where each string represents a row in the triangle. The ith row contains the digit i repeated i times.\n",
    "\n",
    "**Example:**\n",
    "```\n",
    "Input: 5\n",
    "Output: ['1', '22', '333', '4444', '55555']\n",
    " \n",
    "Input: 3\n",
    "Output: ['1', '22', '333']\n",
    "```"
   ]
  },
  {
   "cell_type": "code",
   "execution_count": 6,
   "metadata": {},
   "outputs": [],
   "source": [
    "Input = n = 5\n",
    "Output = ['1', '22', '333', '4444', '55555']"
   ]
  },
  {
   "cell_type": "code",
   "execution_count": 15,
   "metadata": {},
   "outputs": [
    {
     "name": "stdout",
     "output_type": "stream",
     "text": [
      "Output: ['1', '22', '333', '4444', '55555']\n"
     ]
    }
   ],
   "source": [
    "final_list = []\n",
    "for i in range(1, n+1):\n",
    "    final_list.append(str(i)*i)\n",
    "print(f\"Output: {final_list}\")"
   ]
  },
  {
   "cell_type": "code",
   "execution_count": 16,
   "metadata": {},
   "outputs": [],
   "source": [
    "def generate_number_triangle(n):\n",
    "    \"\"\"\n",
    "    Function to return a right-angled triangle of repeated numbers of side n as a list of strings.\n",
    "    \n",
    "    Parameters:\n",
    "    n (int): The height of the triangle.\n",
    "    \n",
    "    Returns:\n",
    "    list: A list of strings where each string represents a row of the triangle.\n",
    "    \"\"\"\n",
    "    final_list = []\n",
    "    for i in range(1, n+1):\n",
    "        final_list.append(str(i)*i)\n",
    "\n",
    "    print(f\"Output: {final_list}\")\n",
    "\n",
    "    return final_list"
   ]
  },
  {
   "cell_type": "code",
   "execution_count": 17,
   "metadata": {},
   "outputs": [
    {
     "name": "stdout",
     "output_type": "stream",
     "text": [
      "Output: ['1', '22', '333', '4444', '55555']\n"
     ]
    },
    {
     "data": {
      "text/plain": [
       "True"
      ]
     },
     "execution_count": 17,
     "metadata": {},
     "output_type": "execute_result"
    }
   ],
   "source": [
    "Output == generate_number_triangle(n)"
   ]
  },
  {
   "cell_type": "code",
   "execution_count": 18,
   "metadata": {},
   "outputs": [],
   "source": [
    "Input = n = 3\n",
    "Output = ['1', '22', '333']"
   ]
  },
  {
   "cell_type": "code",
   "execution_count": 19,
   "metadata": {},
   "outputs": [
    {
     "name": "stdout",
     "output_type": "stream",
     "text": [
      "Output: ['1', '22', '333']\n"
     ]
    },
    {
     "data": {
      "text/plain": [
       "True"
      ]
     },
     "execution_count": 19,
     "metadata": {},
     "output_type": "execute_result"
    }
   ],
   "source": [
    "Output == generate_number_triangle(n)"
   ]
  },
  {
   "cell_type": "code",
   "execution_count": null,
   "metadata": {},
   "outputs": [],
   "source": []
  }
 ],
 "metadata": {
  "kernelspec": {
   "display_name": "base",
   "language": "python",
   "name": "python3"
  },
  "language_info": {
   "codemirror_mode": {
    "name": "ipython",
    "version": 3
   },
   "file_extension": ".py",
   "mimetype": "text/x-python",
   "name": "python",
   "nbconvert_exporter": "python",
   "pygments_lexer": "ipython3",
   "version": "3.11.7"
  }
 },
 "nbformat": 4,
 "nbformat_minor": 2
}
