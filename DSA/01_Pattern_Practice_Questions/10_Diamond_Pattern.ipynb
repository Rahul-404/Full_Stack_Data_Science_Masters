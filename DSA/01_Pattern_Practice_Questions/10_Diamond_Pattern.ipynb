{
 "cells": [
  {
   "cell_type": "markdown",
   "metadata": {},
   "source": [
    "## Diamond Pattern\n",
    "\n",
    "**Problem Description:**\n",
    "\n",
    "You are given an integer n. Your task is to return a diamond pattern of '*' with n rows for the upper part (the widest row will have 2n - 1 stars), and the lower part is the mirrored version of the upper part. Each row should be centered with appropriate spaces.\n",
    "\n",
    "**Input:**\n",
    "\n",
    "A single integer n, where 1 <= n <= 100.\n",
    "\n",
    "**Output:**\n",
    "\n",
    "A list of strings where each string represents a row in the diamond pattern.\n",
    "\n",
    "**Example:**\n",
    "```\n",
    "Input: 3\n",
    "Output: ['  *  ', ' *** ', '*****', ' *** ', '  *  ']\n",
    " \n",
    "Input: 5\n",
    "Output: ['    *    ', '   ***   ', '  *****  ', ' ******* ', '*********', ' ******* ', '  *****  ', '   ***   ', '    *    ']\n",
    "```"
   ]
  },
  {
   "cell_type": "code",
   "execution_count": 31,
   "metadata": {},
   "outputs": [],
   "source": [
    "Input = n = 3\n",
    "Output = ['  *  ', ' *** ', '*****', ' *** ', '  *  ']"
   ]
  },
  {
   "cell_type": "code",
   "execution_count": 32,
   "metadata": {},
   "outputs": [
    {
     "name": "stdout",
     "output_type": "stream",
     "text": [
      "  *   0\n",
      " ***  1\n",
      "***** 2\n",
      " ***  1\n",
      "  *   0\n"
     ]
    }
   ],
   "source": [
    "for i in range(n):\n",
    "    num_of_spaces = (n-i-1)\n",
    "    num_of_stars = (2*i) + 1\n",
    "    string = ' '*num_of_spaces+'*'*num_of_stars+' '*num_of_spaces\n",
    "    print(string, i)\n",
    "    if i+1 == n:\n",
    "        for j in range(i-1, -1, -1):\n",
    "            num_of_spaces = (n-j-1)\n",
    "            num_of_stars = (2*j) + 1\n",
    "            string = ' '*num_of_spaces+'*'*num_of_stars+' '*num_of_spaces        \n",
    "            print(string, j)"
   ]
  },
  {
   "cell_type": "code",
   "execution_count": 35,
   "metadata": {},
   "outputs": [],
   "source": [
    "def generate_diamond(n):\n",
    "    \"\"\"\n",
    "    Function to return a diamond pattern of '*' of side n as a list of strings.\n",
    "    \n",
    "    Parameters:\n",
    "    n (int): The number of rows for the upper part of the diamond.\n",
    "    \n",
    "    Returns:\n",
    "    list: A list of strings where each string represents a row of the diamond.\n",
    "    \"\"\"\n",
    "    diamond = []\n",
    "    for i in range(n):\n",
    "        num_of_spaces = (n-i-1)\n",
    "        num_of_stars = (2*i) + 1\n",
    "        string = ' '*num_of_spaces+'*'*num_of_stars+' '*num_of_spaces\n",
    "        # print(string, i)\n",
    "        diamond.append(string)\n",
    "        if i+1 == n:\n",
    "            for j in range(i-1, -1, -1):\n",
    "                num_of_spaces = (n-j-1)\n",
    "                num_of_stars = (2*j) + 1\n",
    "                string = ' '*num_of_spaces+'*'*num_of_stars+' '*num_of_spaces        \n",
    "                # print(string, j)\n",
    "                diamond.append(string)\n",
    "    print(f\"Output: {diamond}\")\n",
    "\n",
    "    return diamond"
   ]
  },
  {
   "cell_type": "code",
   "execution_count": 36,
   "metadata": {},
   "outputs": [
    {
     "name": "stdout",
     "output_type": "stream",
     "text": [
      "Output: ['  *  ', ' *** ', '*****', ' *** ', '  *  ']\n"
     ]
    },
    {
     "data": {
      "text/plain": [
       "True"
      ]
     },
     "execution_count": 36,
     "metadata": {},
     "output_type": "execute_result"
    }
   ],
   "source": [
    "Output == generate_diamond(n)"
   ]
  },
  {
   "cell_type": "code",
   "execution_count": 38,
   "metadata": {},
   "outputs": [],
   "source": [
    "Input = n = 5\n",
    "Output = ['    *    ', '   ***   ', '  *****  ', ' ******* ', '*********', ' ******* ', '  *****  ', '   ***   ', '    *    ']"
   ]
  },
  {
   "cell_type": "code",
   "execution_count": 39,
   "metadata": {},
   "outputs": [
    {
     "name": "stdout",
     "output_type": "stream",
     "text": [
      "Output: ['    *    ', '   ***   ', '  *****  ', ' ******* ', '*********', ' ******* ', '  *****  ', '   ***   ', '    *    ']\n"
     ]
    },
    {
     "data": {
      "text/plain": [
       "True"
      ]
     },
     "execution_count": 39,
     "metadata": {},
     "output_type": "execute_result"
    }
   ],
   "source": [
    "Output == generate_diamond(n)"
   ]
  },
  {
   "cell_type": "code",
   "execution_count": null,
   "metadata": {},
   "outputs": [],
   "source": []
  }
 ],
 "metadata": {
  "kernelspec": {
   "display_name": "base",
   "language": "python",
   "name": "python3"
  },
  "language_info": {
   "codemirror_mode": {
    "name": "ipython",
    "version": 3
   },
   "file_extension": ".py",
   "mimetype": "text/x-python",
   "name": "python",
   "nbconvert_exporter": "python",
   "pygments_lexer": "ipython3",
   "version": "3.11.7"
  }
 },
 "nbformat": 4,
 "nbformat_minor": 2
}
