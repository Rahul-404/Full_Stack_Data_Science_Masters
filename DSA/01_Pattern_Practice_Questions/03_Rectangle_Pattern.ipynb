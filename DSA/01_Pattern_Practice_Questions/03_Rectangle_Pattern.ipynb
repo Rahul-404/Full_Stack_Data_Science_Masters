{
 "cells": [
  {
   "cell_type": "markdown",
   "metadata": {},
   "source": [
    "## Rectangle Pattern\n",
    "\n",
    "**Problem Description:**\n",
    "\n",
    "You are given two integers, n and m. Your task is to return a rectangle pattern of '*', where n represents the number of rows (length) and m represents the number of columns (breadth).\n",
    "\n",
    "**Input:**\n",
    "\n",
    "Two integers n and m, where 1 <= n, m <= 100.\n",
    "\n",
    "**Output:**\n",
    "\n",
    "A list of strings where each string represents a row of the rectangle pattern.\n",
    "\n",
    "**Example:**\n",
    "```\n",
    "Input: n = 4, m = 5\n",
    "Output: ['*****', '*****', '*****', '*****']\n",
    " \n",
    "Input: n = 3, m = 2\n",
    "\n",
    "Output: ['**', '**', '**']\n",
    "```\n",
    "Disclaimer: This Udemy coding exercise is still in development, so some advanced complexities might not be fully checked. Please use it primarily for basic code validation."
   ]
  },
  {
   "cell_type": "code",
   "execution_count": 9,
   "metadata": {},
   "outputs": [],
   "source": [
    "# Input:\n",
    "n = 4\n",
    "m = 5\n",
    "\n",
    "# Output:\n",
    "output = ['*****', '*****', '*****', '*****']"
   ]
  },
  {
   "cell_type": "code",
   "execution_count": 11,
   "metadata": {},
   "outputs": [
    {
     "name": "stdout",
     "output_type": "stream",
     "text": [
      "['*****', '*****', '*****', '*****']\n"
     ]
    }
   ],
   "source": [
    "square = []\n",
    "for i in range(n):\n",
    "    square.append('*'*m)\n",
    "print(square)"
   ]
  },
  {
   "cell_type": "code",
   "execution_count": 12,
   "metadata": {},
   "outputs": [],
   "source": [
    "def generate_rectangle(n, m):\n",
    "    \"\"\"\n",
    "    Function to return a rectangle pattern of '*' with length n and breadth m as a list of strings.\n",
    "    \n",
    "    Parameters:\n",
    "    n (int): The number of rows in the rectangle.\n",
    "    m (int): The number of columns in the rectangle.\n",
    "    \n",
    "    Returns:\n",
    "    list: A list of strings where each string represents a row of the rectangle pattern.\n",
    "    \"\"\"\n",
    "    square = []\n",
    "    for i in range(n):\n",
    "        square.append('*'*m)\n",
    "    print(f\"Output: {square}\")\n",
    "\n",
    "    return square"
   ]
  },
  {
   "cell_type": "code",
   "execution_count": 13,
   "metadata": {},
   "outputs": [
    {
     "name": "stdout",
     "output_type": "stream",
     "text": [
      "Output: ['*****', '*****', '*****', '*****']\n"
     ]
    },
    {
     "data": {
      "text/plain": [
       "True"
      ]
     },
     "execution_count": 13,
     "metadata": {},
     "output_type": "execute_result"
    }
   ],
   "source": [
    "output == generate_rectangle(n, m)"
   ]
  },
  {
   "cell_type": "code",
   "execution_count": 14,
   "metadata": {},
   "outputs": [],
   "source": [
    "# Input: \n",
    "n = 3\n",
    "m = 2\n",
    "\n",
    "#Output: \n",
    "output = ['**', '**', '**']"
   ]
  },
  {
   "cell_type": "code",
   "execution_count": 15,
   "metadata": {},
   "outputs": [
    {
     "name": "stdout",
     "output_type": "stream",
     "text": [
      "Output: ['**', '**', '**']\n"
     ]
    },
    {
     "data": {
      "text/plain": [
       "True"
      ]
     },
     "execution_count": 15,
     "metadata": {},
     "output_type": "execute_result"
    }
   ],
   "source": [
    "output == generate_rectangle(n, m)"
   ]
  },
  {
   "cell_type": "code",
   "execution_count": null,
   "metadata": {},
   "outputs": [],
   "source": []
  }
 ],
 "metadata": {
  "kernelspec": {
   "display_name": "base",
   "language": "python",
   "name": "python3"
  },
  "language_info": {
   "codemirror_mode": {
    "name": "ipython",
    "version": 3
   },
   "file_extension": ".py",
   "mimetype": "text/x-python",
   "name": "python",
   "nbconvert_exporter": "python",
   "pygments_lexer": "ipython3",
   "version": "3.11.7"
  }
 },
 "nbformat": 4,
 "nbformat_minor": 2
}
