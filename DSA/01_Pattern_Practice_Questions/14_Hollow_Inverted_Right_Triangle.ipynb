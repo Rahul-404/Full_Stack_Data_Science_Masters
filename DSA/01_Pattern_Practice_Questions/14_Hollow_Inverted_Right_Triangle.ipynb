{
 "cells": [
  {
   "cell_type": "markdown",
   "metadata": {},
   "source": [
    "## Hollow Inverted Right Triangle\n",
    "\n",
    "**Problem Description:**\n",
    "\n",
    "You are given an integer n. Your task is to return a hollow inverted right-angled triangle pattern of '*', where the first row contains n stars, while the inner rows contain a star at the beginning and end, with spaces in between. The triangle should be left-aligned.\n",
    "\n",
    "**Input:**\n",
    "\n",
    "A single integer n, where 1 <= n <= 100.\n",
    "\n",
    "**Output:**\n",
    "\n",
    "A list of strings where each string represents a row in the hollow inverted right-angled triangle.\n",
    "\n",
    "**Example:**\n",
    "```\n",
    "Input: 4\n",
    "Output: ['****', '* *', '**', '*']\n",
    " \n",
    "Input: 5\n",
    "Output: ['*****', '*  *', '* *', '**', '*']\n",
    "```"
   ]
  },
  {
   "cell_type": "code",
   "execution_count": 1,
   "metadata": {},
   "outputs": [],
   "source": [
    "Input = n = 4\n",
    "Output = ['****', '* *', '**', '*']\n"
   ]
  },
  {
   "cell_type": "code",
   "execution_count": 17,
   "metadata": {},
   "outputs": [
    {
     "name": "stdout",
     "output_type": "stream",
     "text": [
      "Output: ['****', '* *', '**', '*']\n"
     ]
    }
   ],
   "source": [
    "final_list = []\n",
    "for i in range(n, 0, -1):\n",
    "    string = \"\"\n",
    "    if i == n:\n",
    "        final_list.append('*'*i)\n",
    "    elif (i<n) and (i>1):\n",
    "        string += '*'\n",
    "        num_of_space = (i-2)\n",
    "        string += ' '*num_of_space\n",
    "        string += '*'\n",
    "\n",
    "        final_list.append(string)\n",
    "    else:\n",
    "        final_list.append('*'*i)\n",
    "print(f\"Output: {final_list}\")"
   ]
  },
  {
   "cell_type": "code",
   "execution_count": 18,
   "metadata": {},
   "outputs": [],
   "source": [
    "def generate_hollow_inverted_right_angled_triangle(n):\n",
    "    \"\"\"\n",
    "    Function to return a hollow inverted right-angled triangle of '*' of side n as a list of strings.\n",
    "    \n",
    "    Parameters:\n",
    "    n (int): The height of the triangle.\n",
    "    \n",
    "    Returns:\n",
    "    list: A list of strings where each string represents a row of the triangle.\n",
    "    \"\"\"\n",
    "    final_list = []\n",
    "    for i in range(n, 0, -1):\n",
    "        string = \"\"\n",
    "        if i == n:\n",
    "            final_list.append('*'*i)\n",
    "        elif (i<n) and (i>1):\n",
    "            string += '*'\n",
    "            num_of_space = (i-2)\n",
    "            string += ' '*num_of_space\n",
    "            string += '*'\n",
    "\n",
    "            final_list.append(string)\n",
    "        else:\n",
    "            final_list.append('*'*i)\n",
    "    print(f\"Output: {final_list}\")\n",
    "\n",
    "    return final_list\n"
   ]
  },
  {
   "cell_type": "code",
   "execution_count": 19,
   "metadata": {},
   "outputs": [
    {
     "name": "stdout",
     "output_type": "stream",
     "text": [
      "Output: ['****', '* *', '**', '*']\n"
     ]
    },
    {
     "data": {
      "text/plain": [
       "True"
      ]
     },
     "execution_count": 19,
     "metadata": {},
     "output_type": "execute_result"
    }
   ],
   "source": [
    "Output == generate_hollow_inverted_right_angled_triangle(n)"
   ]
  },
  {
   "cell_type": "code",
   "execution_count": 20,
   "metadata": {},
   "outputs": [],
   "source": [
    "Input = n = 5\n",
    "Output = ['*****', '*  *', '* *', '**', '*']"
   ]
  },
  {
   "cell_type": "code",
   "execution_count": 21,
   "metadata": {},
   "outputs": [
    {
     "name": "stdout",
     "output_type": "stream",
     "text": [
      "Output: ['*****', '*  *', '* *', '**', '*']\n"
     ]
    },
    {
     "data": {
      "text/plain": [
       "True"
      ]
     },
     "execution_count": 21,
     "metadata": {},
     "output_type": "execute_result"
    }
   ],
   "source": [
    "Output == generate_hollow_inverted_right_angled_triangle(n)"
   ]
  },
  {
   "cell_type": "code",
   "execution_count": null,
   "metadata": {},
   "outputs": [],
   "source": []
  }
 ],
 "metadata": {
  "kernelspec": {
   "display_name": "base",
   "language": "python",
   "name": "python3"
  },
  "language_info": {
   "codemirror_mode": {
    "name": "ipython",
    "version": 3
   },
   "file_extension": ".py",
   "mimetype": "text/x-python",
   "name": "python",
   "nbconvert_exporter": "python",
   "pygments_lexer": "ipython3",
   "version": "3.11.7"
  }
 },
 "nbformat": 4,
 "nbformat_minor": 2
}
