{
 "cells": [
  {
   "cell_type": "markdown",
   "metadata": {},
   "source": [
    "## Sandglass Pattern\n",
    "\n",
    "**Problem Description:**\n",
    "\n",
    "You are given an integer n. Your task is to return a sandglass pattern of '*', where the first row contains 2n - 1 stars and each subsequent row decreases the number of stars by 2, until the last row contains a single star. After reaching the smallest width, the pattern then continues with the same number of stars increasing back to 2n - 1. The stars in each row should be centered.\n",
    "\n",
    "**Input:**\n",
    "\n",
    "A single integer n, where 1 <= n <= 100.\n",
    "\n",
    "**Output:**\n",
    "\n",
    "A list of strings where each string represents a row in the sandglass pattern.\n",
    "\n",
    "**Example:**\n",
    "```\n",
    "Input: 3\n",
    "Output: ['*****', ' *** ', '  *  ', ' *** ', '*****']\n",
    " \n",
    "Input: 4\n",
    "Output: ['*******', ' ***** ', '  ***  ', '   *   ', '  ***  ', ' ***** ', '*******']\n",
    "```"
   ]
  },
  {
   "cell_type": "code",
   "execution_count": 12,
   "metadata": {},
   "outputs": [],
   "source": [
    "Input = n = 3\n",
    "Output = ['*****', ' *** ', '  *  ', ' *** ', '*****']"
   ]
  },
  {
   "cell_type": "code",
   "execution_count": 29,
   "metadata": {},
   "outputs": [
    {
     "name": "stdout",
     "output_type": "stream",
     "text": [
      "*****\n",
      " *** \n",
      "  *  \n",
      " *** \n",
      "*****\n",
      "Output: ['*****', ' *** ', '  *  ', ' *** ', '*****']\n"
     ]
    }
   ],
   "source": [
    "final_list = []\n",
    "for i in range(n,0,-1):\n",
    "    num_of_stars = (2*i)-1\n",
    "    num_of_spaces = n-i\n",
    "    string = ' '*num_of_spaces+'*'*num_of_stars+' '*num_of_spaces\n",
    "    print(string)\n",
    "    final_list.append(string)\n",
    "\n",
    "for i in range(2,n+1):\n",
    "    num_of_stars = (2*i)-1\n",
    "    num_of_spaces = n - i\n",
    "    string = ' '*num_of_spaces+'*'*num_of_stars+' '*num_of_spaces\n",
    "    print(string)\n",
    "    final_list.append(string)\n",
    "\n",
    "print(f\"Output: {final_list}\")"
   ]
  },
  {
   "cell_type": "code",
   "execution_count": 33,
   "metadata": {},
   "outputs": [],
   "source": [
    "def generate_sandglass(n):\n",
    "    \"\"\"\n",
    "    Function to return a sandglass pattern of '*' of side n as a list of strings.\n",
    "    \n",
    "    Parameters:\n",
    "    n (int): The height of the sandglass.\n",
    "    \n",
    "    Returns:\n",
    "    list: A list of strings where each string represents a row of the sandglass pattern.\n",
    "    \"\"\"\n",
    "    final_list = []\n",
    "    for i in range(n,0,-1):\n",
    "        num_of_stars = (2*i)-1\n",
    "        num_of_spaces = n-i\n",
    "        string = ' '*num_of_spaces+'*'*num_of_stars+' '*num_of_spaces\n",
    "        # print(string)\n",
    "        final_list.append(string)\n",
    "\n",
    "    for i in range(2,n+1):\n",
    "        num_of_stars = (2*i)-1\n",
    "        num_of_spaces = n - i\n",
    "        string = ' '*num_of_spaces+'*'*num_of_stars+' '*num_of_spaces\n",
    "        # print(string)\n",
    "        final_list.append(string)\n",
    "\n",
    "    print(f\"Output: {final_list}\")\n",
    "\n",
    "    return final_list\n"
   ]
  },
  {
   "cell_type": "code",
   "execution_count": 34,
   "metadata": {},
   "outputs": [
    {
     "name": "stdout",
     "output_type": "stream",
     "text": [
      "Output: ['*******', ' ***** ', '  ***  ', '   *   ', '  ***  ', ' ***** ', '*******']\n"
     ]
    },
    {
     "data": {
      "text/plain": [
       "True"
      ]
     },
     "execution_count": 34,
     "metadata": {},
     "output_type": "execute_result"
    }
   ],
   "source": [
    "Output == generate_sandglass(n)"
   ]
  },
  {
   "cell_type": "code",
   "execution_count": 35,
   "metadata": {},
   "outputs": [],
   "source": [
    "Input = n = 4\n",
    "Output = ['*******', ' ***** ', '  ***  ', '   *   ', '  ***  ', ' ***** ', '*******']"
   ]
  },
  {
   "cell_type": "code",
   "execution_count": 36,
   "metadata": {},
   "outputs": [
    {
     "name": "stdout",
     "output_type": "stream",
     "text": [
      "Output: ['*******', ' ***** ', '  ***  ', '   *   ', '  ***  ', ' ***** ', '*******']\n"
     ]
    },
    {
     "data": {
      "text/plain": [
       "True"
      ]
     },
     "execution_count": 36,
     "metadata": {},
     "output_type": "execute_result"
    }
   ],
   "source": [
    "Output == generate_sandglass(n)"
   ]
  },
  {
   "cell_type": "code",
   "execution_count": null,
   "metadata": {},
   "outputs": [],
   "source": []
  }
 ],
 "metadata": {
  "kernelspec": {
   "display_name": "base",
   "language": "python",
   "name": "python3"
  },
  "language_info": {
   "codemirror_mode": {
    "name": "ipython",
    "version": 3
   },
   "file_extension": ".py",
   "mimetype": "text/x-python",
   "name": "python",
   "nbconvert_exporter": "python",
   "pygments_lexer": "ipython3",
   "version": "3.11.7"
  }
 },
 "nbformat": 4,
 "nbformat_minor": 2
}
