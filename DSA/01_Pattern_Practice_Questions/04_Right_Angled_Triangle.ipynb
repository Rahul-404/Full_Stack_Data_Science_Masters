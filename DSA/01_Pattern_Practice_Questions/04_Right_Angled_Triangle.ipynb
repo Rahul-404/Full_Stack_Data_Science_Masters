{
 "cells": [
  {
   "cell_type": "markdown",
   "metadata": {},
   "source": [
    "## Right Angled Triangle\n",
    "\n",
    "**Problem Description:**\n",
    "\n",
    "You are given an integer n. Your task is to return a right-angled triangle pattern of '*' where each side has n characters, represented as a list of strings. The triangle has '*' characters, starting with 1 star in the first row, 2 stars in the second row, and so on until the last row has n stars.\n",
    "\n",
    "**Input Parameters:**\n",
    "\n",
    "n (int): The height and base of the right-angled triangle.\n",
    "\n",
    "**Output:**\n",
    "\n",
    "A list of strings where each string is a row of '*' characters that increases in length from 1 to n.\n",
    "\n",
    "**Example:**\n",
    "```\n",
    "Input: 3\n",
    "Output: ['*', '**', '***']\n",
    " \n",
    "Input: 5\n",
    "Output: ['*', '**', '***', '****', '*****']\n",
    "```"
   ]
  },
  {
   "cell_type": "code",
   "execution_count": 9,
   "metadata": {},
   "outputs": [],
   "source": [
    "input = 3\n",
    "output = ['*', '**', '***']"
   ]
  },
  {
   "cell_type": "code",
   "execution_count": 12,
   "metadata": {},
   "outputs": [
    {
     "name": "stdout",
     "output_type": "stream",
     "text": [
      "\n",
      "*\n",
      "**\n",
      "***\n"
     ]
    }
   ],
   "source": [
    "for i in range(input+1):\n",
    "    print('*'*i)"
   ]
  },
  {
   "cell_type": "code",
   "execution_count": 17,
   "metadata": {},
   "outputs": [],
   "source": [
    "def generate_triangle(n):\n",
    "    \"\"\"\n",
    "    Function to return a right-angled triangle of '*' of side n as a list of strings.\n",
    "    \n",
    "    Parameters:\n",
    "    n (int): The height and base of the triangle.\n",
    "    \n",
    "    Returns:\n",
    "    list: A list of strings where each string represents a row of the triangle.\n",
    "    \"\"\"\n",
    "    triangle = []\n",
    "    for i in range(1, input+1):\n",
    "        triangle.append('*'*i)\n",
    "\n",
    "    print(f\"Output: {triangle}\")\n",
    "\n",
    "    return triangle"
   ]
  },
  {
   "cell_type": "code",
   "execution_count": 18,
   "metadata": {},
   "outputs": [
    {
     "name": "stdout",
     "output_type": "stream",
     "text": [
      "Output: ['*', '**', '***']\n"
     ]
    },
    {
     "data": {
      "text/plain": [
       "True"
      ]
     },
     "execution_count": 18,
     "metadata": {},
     "output_type": "execute_result"
    }
   ],
   "source": [
    "output == generate_triangle(input)"
   ]
  },
  {
   "cell_type": "code",
   "execution_count": 19,
   "metadata": {},
   "outputs": [],
   "source": [
    "input = 5\n",
    "output = ['*', '**', '***', '****', '*****']"
   ]
  },
  {
   "cell_type": "code",
   "execution_count": 20,
   "metadata": {},
   "outputs": [
    {
     "name": "stdout",
     "output_type": "stream",
     "text": [
      "Output: ['*', '**', '***', '****', '*****']\n"
     ]
    },
    {
     "data": {
      "text/plain": [
       "True"
      ]
     },
     "execution_count": 20,
     "metadata": {},
     "output_type": "execute_result"
    }
   ],
   "source": [
    "output == generate_triangle(input)"
   ]
  },
  {
   "cell_type": "code",
   "execution_count": null,
   "metadata": {},
   "outputs": [],
   "source": []
  }
 ],
 "metadata": {
  "kernelspec": {
   "display_name": "base",
   "language": "python",
   "name": "python3"
  },
  "language_info": {
   "codemirror_mode": {
    "name": "ipython",
    "version": 3
   },
   "file_extension": ".py",
   "mimetype": "text/x-python",
   "name": "python",
   "nbconvert_exporter": "python",
   "pygments_lexer": "ipython3",
   "version": "3.11.7"
  }
 },
 "nbformat": 4,
 "nbformat_minor": 2
}
