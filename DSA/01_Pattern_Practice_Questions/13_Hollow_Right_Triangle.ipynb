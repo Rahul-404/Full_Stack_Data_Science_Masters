{
 "cells": [
  {
   "cell_type": "markdown",
   "metadata": {},
   "source": [
    "## Hollow Right Triangle\n",
    "\n",
    "**Problem Description:**\n",
    "\n",
    "You are given an integer n. Your task is to return a hollow right-angled triangle pattern of '*', where the first and last rows contain stars, while the inner rows contain a star at the beginning and end, with spaces in between. The triangle should be right-aligned.\n",
    "\n",
    "**Input:**\n",
    "\n",
    "A single integer n, where 1 <= n <= 100.\n",
    "\n",
    "**Output:**\n",
    "\n",
    "A list of strings where each string represents a row in the hollow right-angled triangle.\n",
    "\n",
    "**Example:**\n",
    "```\n",
    "Input: 4\n",
    "Output: ['*', '**', '* *', '****']\n",
    " \n",
    "Input: 5\n",
    "Output: ['*', '**', '* *', '*  *', '*****']\n",
    "```"
   ]
  },
  {
   "cell_type": "code",
   "execution_count": 37,
   "metadata": {},
   "outputs": [],
   "source": [
    "Input = n = 4\n",
    "Output = ['*', '**', '* *', '****']"
   ]
  },
  {
   "cell_type": "code",
   "execution_count": 38,
   "metadata": {},
   "outputs": [
    {
     "name": "stdout",
     "output_type": "stream",
     "text": [
      "Output: ['*', '**', '* *', '****']\n"
     ]
    }
   ],
   "source": [
    "final_list = []\n",
    "for i in range(n):\n",
    "    if i < 2:\n",
    "        final_list.append('*'*(i+1))\n",
    "    elif (i > 1) and (i < n-1):\n",
    "        string = \"\"\n",
    "        # add star\n",
    "        string += \"*\"\n",
    "        string += ' '*(i-1)\n",
    "        string += \"*\"\n",
    "        final_list.append(string)\n",
    "    else:\n",
    "        final_list.append('*'*(n))\n",
    "print(f\"Output: {final_list}\")"
   ]
  },
  {
   "cell_type": "code",
   "execution_count": 39,
   "metadata": {},
   "outputs": [],
   "source": [
    "def generate_hollow_right_angled_triangle(n):\n",
    "    \"\"\"\n",
    "    Function to return a hollow right-angled triangle of '*' of side n as a list of strings.\n",
    "    \n",
    "    Parameters:\n",
    "    n (int): The height of the triangle.\n",
    "    \n",
    "    Returns:\n",
    "    list: A list of strings where each string represents a row of the triangle.\n",
    "    \"\"\"\n",
    "    final_list = []\n",
    "    for i in range(n):\n",
    "        if i < 2:\n",
    "            final_list.append('*'*(i+1))\n",
    "        elif (i > 1) and (i < n-1):\n",
    "            string = \"\"\n",
    "            # add star\n",
    "            string += \"*\"\n",
    "            string += ' '*(i-1)\n",
    "            string += \"*\"\n",
    "            final_list.append(string)\n",
    "        else:\n",
    "            final_list.append('*'*(n))\n",
    "    \n",
    "    print(f\"Output: {final_list}\")\n",
    "\n",
    "    return final_list\n"
   ]
  },
  {
   "cell_type": "code",
   "execution_count": 40,
   "metadata": {},
   "outputs": [
    {
     "name": "stdout",
     "output_type": "stream",
     "text": [
      "Output: ['*', '**', '* *', '****']\n"
     ]
    },
    {
     "data": {
      "text/plain": [
       "True"
      ]
     },
     "execution_count": 40,
     "metadata": {},
     "output_type": "execute_result"
    }
   ],
   "source": [
    "Output == generate_hollow_right_angled_triangle(n)"
   ]
  },
  {
   "cell_type": "code",
   "execution_count": 41,
   "metadata": {},
   "outputs": [],
   "source": [
    "Input = n = 5\n",
    "Output = ['*', '**', '* *', '*  *', '*****']"
   ]
  },
  {
   "cell_type": "code",
   "execution_count": 42,
   "metadata": {},
   "outputs": [
    {
     "name": "stdout",
     "output_type": "stream",
     "text": [
      "Output: ['*', '**', '* *', '*  *', '*****']\n"
     ]
    },
    {
     "data": {
      "text/plain": [
       "True"
      ]
     },
     "execution_count": 42,
     "metadata": {},
     "output_type": "execute_result"
    }
   ],
   "source": [
    "Output == generate_hollow_right_angled_triangle(n)"
   ]
  },
  {
   "cell_type": "code",
   "execution_count": null,
   "metadata": {},
   "outputs": [],
   "source": []
  }
 ],
 "metadata": {
  "kernelspec": {
   "display_name": "base",
   "language": "python",
   "name": "python3"
  },
  "language_info": {
   "codemirror_mode": {
    "name": "ipython",
    "version": 3
   },
   "file_extension": ".py",
   "mimetype": "text/x-python",
   "name": "python",
   "nbconvert_exporter": "python",
   "pygments_lexer": "ipython3",
   "version": "3.11.7"
  }
 },
 "nbformat": 4,
 "nbformat_minor": 2
}
