{
 "cells": [
  {
   "cell_type": "markdown",
   "metadata": {},
   "source": [
    "## Pyramid Pattern\n",
    "\n",
    "**Problem Description:**\n",
    "\n",
    "You are given an integer n. Your task is to return a pyramid pattern of '*' where each side has n rows, represented as a list of strings. The pyramid is centered, with 1 star in the first row, 3 stars in the second row, and so on, increasing by 2 stars per row until the base row has 2n - 1 stars.\n",
    "\n",
    "**Input:**\n",
    "\n",
    "A single integer n, where 1 <= n <= 100.\n",
    "\n",
    "**Output:**\n",
    "\n",
    "A list of strings where each string contains stars ('*') centered, forming a pyramid shape. Each row has an increasing number of stars, with appropriate spaces for centering.\n",
    "\n",
    "**Example:**\n",
    "```\n",
    "Input: 3\n",
    "Output: ['  *  ', ' *** ', '*****']\n",
    " \n",
    "Input: 5\n",
    "Output: ['    *    ', '   ***   ', '  *****  ', ' ******* ', '*********']\n",
    "```"
   ]
  },
  {
   "cell_type": "code",
   "execution_count": 11,
   "metadata": {},
   "outputs": [],
   "source": [
    "Input = n = 3\n",
    "Output = ['  *  ', ' *** ', '*****']"
   ]
  },
  {
   "cell_type": "code",
   "execution_count": 28,
   "metadata": {},
   "outputs": [
    {
     "name": "stdout",
     "output_type": "stream",
     "text": [
      "Output: ['  *  ', ' *** ', '*****']\n"
     ]
    }
   ],
   "source": [
    "pyramid = []\n",
    "for i in range(n):\n",
    "    num_of_spaces = n-i-1\n",
    "    num_of_stars = 2*(i+1)-1\n",
    "    string = ' '*(num_of_spaces)+'*'*(num_of_stars)+' '*(num_of_spaces)\n",
    "    pyramid.append(string)\n",
    "print(f\"Output: {pyramid}\")"
   ]
  },
  {
   "cell_type": "code",
   "execution_count": 29,
   "metadata": {},
   "outputs": [],
   "source": [
    "def generate_pyramid(n):\n",
    "    \"\"\"\n",
    "    Function to return a pyramid pattern of '*' of side n as a list of strings.\n",
    "    \n",
    "    Parameters:\n",
    "    n (int): The number of rows in the pyramid.\n",
    "    \n",
    "    Returns:\n",
    "    list: A list of strings where each string represents a row of the pyramid.\n",
    "    \"\"\"\n",
    "    pyramid = []\n",
    "    for i in range(n):\n",
    "        num_of_spaces = n-i-1\n",
    "        num_of_stars = 2*(i+1)-1\n",
    "        string = ' '*(num_of_spaces)+'*'*(num_of_stars)+' '*(num_of_spaces)\n",
    "        pyramid.append(string)\n",
    "    print(f\"Output: {pyramid}\")\n",
    "\n",
    "    return pyramid\n"
   ]
  },
  {
   "cell_type": "code",
   "execution_count": 30,
   "metadata": {},
   "outputs": [
    {
     "name": "stdout",
     "output_type": "stream",
     "text": [
      "Output: ['  *  ', ' *** ', '*****']\n"
     ]
    },
    {
     "data": {
      "text/plain": [
       "True"
      ]
     },
     "execution_count": 30,
     "metadata": {},
     "output_type": "execute_result"
    }
   ],
   "source": [
    "Output == generate_pyramid(n)"
   ]
  },
  {
   "cell_type": "code",
   "execution_count": 31,
   "metadata": {},
   "outputs": [],
   "source": [
    "Input = n = 5\n",
    "Output = ['    *    ', '   ***   ', '  *****  ', ' ******* ', '*********']"
   ]
  },
  {
   "cell_type": "code",
   "execution_count": 32,
   "metadata": {},
   "outputs": [
    {
     "name": "stdout",
     "output_type": "stream",
     "text": [
      "Output: ['    *    ', '   ***   ', '  *****  ', ' ******* ', '*********']\n"
     ]
    },
    {
     "data": {
      "text/plain": [
       "True"
      ]
     },
     "execution_count": 32,
     "metadata": {},
     "output_type": "execute_result"
    }
   ],
   "source": [
    "Output == generate_pyramid(n)"
   ]
  },
  {
   "cell_type": "code",
   "execution_count": null,
   "metadata": {},
   "outputs": [],
   "source": []
  }
 ],
 "metadata": {
  "kernelspec": {
   "display_name": "base",
   "language": "python",
   "name": "python3"
  },
  "language_info": {
   "codemirror_mode": {
    "name": "ipython",
    "version": 3
   },
   "file_extension": ".py",
   "mimetype": "text/x-python",
   "name": "python",
   "nbconvert_exporter": "python",
   "pygments_lexer": "ipython3",
   "version": "3.11.7"
  }
 },
 "nbformat": 4,
 "nbformat_minor": 2
}
