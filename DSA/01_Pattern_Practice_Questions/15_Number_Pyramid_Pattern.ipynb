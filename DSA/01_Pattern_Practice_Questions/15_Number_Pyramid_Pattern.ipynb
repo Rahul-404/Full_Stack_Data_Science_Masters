{
 "cells": [
  {
   "cell_type": "markdown",
   "metadata": {},
   "source": [
    "## Number Pyramid Pattern\n",
    "\n",
    "**Problem Description:**\n",
    "\n",
    "You are given an integer n. Your task is to return a pyramid pattern of numbers, where each row contains increasing numbers starting from 1 up to the row number, and the pyramid is centered with leading spaces.\n",
    "\n",
    "**Input:**\n",
    "\n",
    "A single integer n, where 1 <= n <= 100.\n",
    "\n",
    "**Output:**\n",
    "\n",
    "A list of strings where each string represents a row in the pyramid pattern.\n",
    "\n",
    "**Example:**\n",
    "```\n",
    "Input: 4\n",
    "Output: ['   1   ', '  1 2  ', ' 1 2 3 ', '1 2 3 4']\n",
    " \n",
    "Input: 3\n",
    "Output: ['  1  ', ' 1 2 ', '1 2 3']\n",
    "```"
   ]
  },
  {
   "cell_type": "code",
   "execution_count": 34,
   "metadata": {},
   "outputs": [],
   "source": [
    "Input = n = 4\n",
    "Output = ['   1   ', '  1 2  ', ' 1 2 3 ', '1 2 3 4']"
   ]
  },
  {
   "cell_type": "code",
   "execution_count": 39,
   "metadata": {},
   "outputs": [
    {
     "name": "stdout",
     "output_type": "stream",
     "text": [
      "Output: ['   1   ', '  1 2  ', ' 1 2 3 ', '1 2 3 4']\n"
     ]
    }
   ],
   "source": [
    "final_list = []\n",
    "for i in range(1, n+1):\n",
    "    num_of_spaces = (n-i) # space from left and right end\n",
    "    inter_Spaces = (n - num_of_spaces - 1) # space between numbers\n",
    "\n",
    "    string = \"\"\n",
    "\n",
    "    for j in range(1, i+1):\n",
    "        \n",
    "        string += str(j)\n",
    "\n",
    "        if inter_Spaces:\n",
    "            string += ' '\n",
    "            inter_Spaces -= 1\n",
    "\n",
    "    final_list.append(' '*num_of_spaces+string+' '*num_of_spaces)\n",
    "\n",
    "print(f\"Output: {final_list}\")"
   ]
  },
  {
   "cell_type": "code",
   "execution_count": 40,
   "metadata": {},
   "outputs": [],
   "source": [
    "def generate_number_pyramid(n):\n",
    "    \"\"\"\n",
    "    Function to return a pyramid pattern of numbers of height n as a list of strings.\n",
    "    \n",
    "    Parameters:\n",
    "    n (int): The height of the pyramid.\n",
    "    \n",
    "    Returns:\n",
    "    list: A list of strings where each string represents a row of the pyramid pattern.\n",
    "    \"\"\"\n",
    "    final_list = []\n",
    "    for i in range(1, n+1):\n",
    "        num_of_spaces = (n-i) # space from left and right end\n",
    "        inter_Spaces = (n - num_of_spaces - 1) # space between numbers\n",
    "\n",
    "        string = \"\"\n",
    "\n",
    "        for j in range(1, i+1):\n",
    "            \n",
    "            string += str(j)\n",
    "\n",
    "            if inter_Spaces:\n",
    "                string += ' '\n",
    "                inter_Spaces -= 1\n",
    "\n",
    "        final_list.append(' '*num_of_spaces+string+' '*num_of_spaces)\n",
    "\n",
    "    print(f\"Output: {final_list}\")\n",
    "\n",
    "    return final_list\n"
   ]
  },
  {
   "cell_type": "code",
   "execution_count": 41,
   "metadata": {},
   "outputs": [
    {
     "name": "stdout",
     "output_type": "stream",
     "text": [
      "Output: ['   1   ', '  1 2  ', ' 1 2 3 ', '1 2 3 4']\n"
     ]
    },
    {
     "data": {
      "text/plain": [
       "True"
      ]
     },
     "execution_count": 41,
     "metadata": {},
     "output_type": "execute_result"
    }
   ],
   "source": [
    "Output == generate_number_pyramid(n)"
   ]
  },
  {
   "cell_type": "code",
   "execution_count": 42,
   "metadata": {},
   "outputs": [],
   "source": [
    "Input = n = 3\n",
    "Output = ['  1  ', ' 1 2 ', '1 2 3']"
   ]
  },
  {
   "cell_type": "code",
   "execution_count": 43,
   "metadata": {},
   "outputs": [
    {
     "name": "stdout",
     "output_type": "stream",
     "text": [
      "Output: ['  1  ', ' 1 2 ', '1 2 3']\n"
     ]
    },
    {
     "data": {
      "text/plain": [
       "True"
      ]
     },
     "execution_count": 43,
     "metadata": {},
     "output_type": "execute_result"
    }
   ],
   "source": [
    "Output == generate_number_pyramid(n)"
   ]
  },
  {
   "cell_type": "code",
   "execution_count": null,
   "metadata": {},
   "outputs": [],
   "source": []
  }
 ],
 "metadata": {
  "kernelspec": {
   "display_name": "base",
   "language": "python",
   "name": "python3"
  },
  "language_info": {
   "codemirror_mode": {
    "name": "ipython",
    "version": 3
   },
   "file_extension": ".py",
   "mimetype": "text/x-python",
   "name": "python",
   "nbconvert_exporter": "python",
   "pygments_lexer": "ipython3",
   "version": "3.11.7"
  }
 },
 "nbformat": 4,
 "nbformat_minor": 2
}
