{
 "cells": [
  {
   "cell_type": "markdown",
   "metadata": {},
   "source": [
    "### 1. What is Visualization ?"
   ]
  },
  {
   "cell_type": "markdown",
   "metadata": {},
   "source": [
    "Data visualization is the representation of data through use of common graphics, such as charts, plots, infographics and even animations. These visual displays of information communicate complex data relationships and data-driven insights in a way that is easy to understand."
   ]
  },
  {
   "cell_type": "markdown",
   "metadata": {},
   "source": [
    "## **Basic Chart's in Power BI Desktop**"
   ]
  },
  {
   "cell_type": "markdown",
   "metadata": {},
   "source": [
    "Here will see how to create basic 6 charts in power BI\n",
    "\n",
    "1. Column Chart\n",
    "2. Stacked Chart\n",
    "3. Pie Chart\n",
    "4. Donut Chart\n",
    "5. Funnel Chart\n",
    "6. Ribbon Chart\n",
    "7. Keep only and Exclude \n",
    "8. View Data and Export"
   ]
  },
  {
   "cell_type": "markdown",
   "metadata": {},
   "source": [
    "**Main Interface:** this is how power bi interface looks like when we open power bi software\n",
    "\n",
    "<p  align=\"center\"><img src=\"assets/01_Loading_Data/main_interface.png\" alt=\"Interface\" width=\"900\"/></p>"
   ]
  },
  {
   "cell_type": "markdown",
   "metadata": {},
   "source": [
    "Before creating any chart we require data, so let's load data in power bi, we can get data by following steps:"
   ]
  },
  {
   "cell_type": "markdown",
   "metadata": {},
   "source": [
    "**<u>Step 1:-</u>** Click on *Get data* icon from `Data` section\n",
    "\n",
    "<!-- ![Click on 'Get  data'](assets\\01_Loading_Data\\get_data_icon.PNG) -->\n",
    "<p align=\"center\"><img src=\"assets/01_Loading_Data/get_data_icon.PNG\" alt=\"Click on 'Get  data'\" width=\"700\" /></p>"
   ]
  },
  {
   "cell_type": "markdown",
   "metadata": {},
   "source": [
    "after click following list will be open *`common data sources`*\n",
    "\n",
    "**<u>Step 2:-</u>** Click on *`Excel workbook`* option from `common data sources` section\n",
    "\n",
    "<!-- ![common data source](assets\\01_Loading_Data\\common_data_sources.PNG) -->\n",
    "<p align=\"center\"><img src=\"assets/01_Loading_Data/common_data_sources.PNG\" alt=\"common data source\" width=\"500\" /></p>"
   ]
  },
  {
   "cell_type": "markdown",
   "metadata": {},
   "source": [
    "power bi provides **99+** data sources from which we can import data into power bi to analysis"
   ]
  },
  {
   "cell_type": "markdown",
   "metadata": {},
   "source": [
    "**<u>Step 3:-</u>** After clicking on *`Excel workbook`* icon from `common data sources` section a new navigation window will open choose appropriate path to select data from and then click on open.\n",
    "\n",
    "<p align=\"center\"><img src=\"assets/01_Loading_Data/navigate_to_data.PNG\" alt=\"Navigate Data\" width=\"700\" /></p>\n",
    "\n",
    "**Note:-** we are using a [Sanple - Superstore.xlsx](https://github.com/Rahul-404/Full_Stack_Data_Science_Masters/blob/master/PowerBI/dataset/Sample%20-%20Superstore.xlsx) from dataset folder for our next plots."
   ]
  },
  {
   "cell_type": "markdown",
   "metadata": {},
   "source": [
    "**<u>Step 4:-</u>** After clicking on `open` button, a `Navigator` window will open, from here we can see all the sub-sheets of choosen data, for now we will chosse `Orders` sheet and click on `Load`\n",
    "\n",
    "<p align=\"center\"><img src=\"assets/01_Loading_Data/choosing_sheet.PNG\" alt=\"Choosing Data\" width=\"600\" /></p>\n",
    "\n",
    "**Note:-** Best practices includs data transformation prior to data loading, button right to `Load` which `Transform Data`, but the data we are using it is already clean, so we don't have to perform data transformation. In near future will perform data transformation."
   ]
  },
  {
   "cell_type": "markdown",
   "metadata": {},
   "source": [
    "By clicking on this icon `Table View` we see the loaded data in tabular format\n",
    "\n",
    "<p align=\"center\"><img src=\"assets/01_Loading_Data/main_interface.png\" alt=\"Interface\" width=\"900\"/></p>\n",
    "\n",
    "Loaded data look's like the following image\n",
    "\n",
    "<p align=\"center\"><img src=\"assets/01_Loading_Data/data_is_loaded.png\" alt=\"Data Loaded\" width=\"900\"/></p>"
   ]
  },
  {
   "cell_type": "code",
   "execution_count": null,
   "metadata": {
    "vscode": {
     "languageId": "plaintext"
    }
   },
   "outputs": [],
   "source": []
  }
 ],
 "metadata": {
  "language_info": {
   "name": "python"
  }
 },
 "nbformat": 4,
 "nbformat_minor": 2
}
