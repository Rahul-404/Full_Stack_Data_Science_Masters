{
 "cells": [
  {
   "cell_type": "markdown",
   "metadata": {},
   "source": [
    "### 1. What is Visualization ? Why it is important ?"
   ]
  },
  {
   "cell_type": "markdown",
   "metadata": {},
   "source": [
    "Data visualization is the representation of data through use of common graphics, such as charts, plots, infographics and even animations. These visual displays of information communicate complex data relationships and data-driven insights in a way that is easy to understand."
   ]
  },
  {
   "cell_type": "markdown",
   "metadata": {},
   "source": [
    "### 2. Types of Data Visualizations"
   ]
  },
  {
   "cell_type": "markdown",
   "metadata": {},
   "source": [
    "- **Tables:** This consists of rows and columns used to compare variables. Tables can show a great deal of information in a structured way, but they can also overwhelm users that are simply looking for high-level trends.\n",
    "\n",
    "- **Pie charts and stacked bar charts:** These graphs are divided into sections that represent parts of a whole. They provide a simple way to organize data and compare the size of each component to one other.\n",
    "\n",
    "- **Line charts and area charts:** These visuals show change in one or more quantities by plotting a series of data points over time and are frequently used within predictive analytics. Line graphs utilize lines to demonstrate these changes while area charts connect data points with line segments, stacking variables on top of one another and using color to distinguish between variables.\n",
    "\n",
    "- **Histograms:** This graph plots a distribution of numbers using a bar chart (with no spaces between the bars), representing the quantity of data that falls within a particular range. This visual makes it easy for an end user to identify outliers within a given dataset.\n",
    "\n",
    "- **Scatter plots:** These visuals are beneficial in reveling the relationship between two variables, and they are commonly used within regression data analysis. However, these can sometimes be confused with bubble charts, which are used to visualize three variables via the x-axis, the y-axis, and the size of the bubble.\n",
    "\n",
    "- **Heat maps:** These graphical representation displays are helpful in visualizing behavioral data by location. This can be a location on a map, or even a webpage.\n",
    "\n",
    "- **Tree maps:** which display hierarchical data as a set of nested shapes, typically rectangles. Treemaps are great for comparing the proportions between categories via their area size."
   ]
  },
  {
   "cell_type": "markdown",
   "metadata": {},
   "source": [
    "### 3. Open source visualization tools"
   ]
  },
  {
   "cell_type": "markdown",
   "metadata": {},
   "source": [
    "Here’s a list of notable open-source Business Intelligence (BI) tools that can help with data analysis, visualization, and reporting:\n",
    "\n",
    "### **1. Apache Superset**\n",
    "- **Description:** A modern, enterprise-ready BI platform that allows for data exploration and visualization. It supports a wide range of data sources and provides a rich set of visualization options.\n",
    "- **Key Features:** Interactive dashboards, SQL-based querying, rich visualizations, and advanced analytics.\n",
    "- **Website:** [Apache Superset](https://superset.apache.org/)\n",
    "\n",
    "### **2. Metabase**\n",
    "- **Description:** A user-friendly BI tool designed to simplify data exploration and visualization. It offers a simple interface for non-technical users and supports SQL querying for more advanced users.\n",
    "- **Key Features:** Easy-to-use interface, dashboard creation, automated email reports, and integration with various data sources.\n",
    "- **Website:** [Metabase](https://www.metabase.com/)\n",
    "\n",
    "### **3. Pentaho Community Edition**\n",
    "- **Description:** Provides a comprehensive suite of BI tools, including data integration (ETL), reporting, dashboards, and data mining.\n",
    "- **Key Features:** Data integration, reporting, interactive dashboards, and support for multiple data sources.\n",
    "- **Website:** [Pentaho Community Edition](https://community.hitachivantara.com/s/article/pentaho-community-edition)\n",
    "\n",
    "### **4. KNIME**\n",
    "- **Description:** A data analytics, reporting, and integration platform that supports visual programming and advanced analytics. KNIME offers a user-friendly interface for building data workflows.\n",
    "- **Key Features:** Visual programming, data mining, integration with various data sources, and support for machine learning.\n",
    "- **Website:** [KNIME](https://www.knime.com/)\n",
    "\n",
    "### **5. Redash**\n",
    "- **Description:** Focuses on data visualization and querying. It connects to various data sources and provides an easy way to create dashboards and share insights.\n",
    "- **Key Features:** Query editor, dashboard creation, alerting, and support for multiple data sources.\n",
    "- **Website:** [Redash](https://redash.io/)\n",
    "\n",
    "### **6. Grafana**\n",
    "- **Description:** Primarily used for monitoring and observability, Grafana also supports data visualization with a focus on time-series data. It integrates well with various data sources and provides real-time analytics.\n",
    "- **Key Features:** Customizable dashboards, time-series data visualization, and support for multiple data sources.\n",
    "- **Website:** [Grafana](https://grafana.com/)\n",
    "\n",
    "### **7. BIRT (Business Intelligence and Reporting Tools)**\n",
    "- **Description:** An open-source BI platform from Eclipse that supports reporting and data visualization. It is often used for creating complex reports and integrating with various data sources.\n",
    "- **Key Features:** Report creation, data visualization, and integration with Java applications.\n",
    "- **Website:** [BIRT](https://www.eclipse.org/birt/)\n",
    "\n",
    "### **8. JasperReports Community Edition**\n",
    "- **Description:** A widely used open-source reporting tool that provides capabilities for generating detailed reports and visualizations.\n",
    "- **Key Features:** Report generation, multi-format output (PDF, HTML, Excel), and integration with Java applications.\n",
    "- **Website:** [JasperReports Community Edition](https://community.jaspersoft.com/project/jasperreports-library)\n",
    "\n",
    "### **9. SpagoBI**\n",
    "- **Description:** A comprehensive open-source BI suite offering tools for reporting, dashboards, data mining, and more.\n",
    "- **Key Features:** Reporting, dashboards, data mining, and ad-hoc analysis.\n",
    "- **Website:** [SpagoBI](https://www.spagobi.org/)\n",
    "\n",
    "### **10. R Shiny**\n",
    "- **Description:** A framework for building interactive web applications directly from R. It’s particularly useful for custom visualizations and data analysis.\n",
    "- **Key Features:** Interactive web apps, custom visualizations, and integration with R.\n",
    "- **Website:** [Shiny](https://shiny.rstudio.com/)"
   ]
  },
  {
   "cell_type": "markdown",
   "metadata": {},
   "source": [
    "## We are going to use.. **Microsoft Power BI**"
   ]
  },
  {
   "cell_type": "markdown",
   "metadata": {},
   "source": [
    "## **Basic Chart's in Power BI Desktop**"
   ]
  },
  {
   "cell_type": "markdown",
   "metadata": {},
   "source": [
    "Here will see how to create basic 6 charts in power BI\n",
    "\n",
    "1. Column Chart\n",
    "2. Stacked Chart\n",
    "3. Pie Chart\n",
    "4. Donut Chart\n",
    "5. Funnel Chart\n",
    "6. Ribbon Chart\n",
    "7. Keep only and Exclude \n",
    "8. View Data and Export"
   ]
  }
 ],
 "metadata": {
  "language_info": {
   "name": "python"
  }
 },
 "nbformat": 4,
 "nbformat_minor": 2
}
