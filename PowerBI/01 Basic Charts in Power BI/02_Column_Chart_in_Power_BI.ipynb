{
 "cells": [
  {
   "cell_type": "markdown",
   "metadata": {},
   "source": [
    "# **Column Chart's in Power BI**"
   ]
  },
  {
   "cell_type": "markdown",
   "metadata": {},
   "source": [
    "If you see right hand side of the `Report View` there are 3 pin's, `Filters`, `Visualizations`, `Data`.\n",
    "\n",
    "<p align=\"center\"><img src=\"assets\\02_Column_Chart\\pins.PNG\" alt=\"Pin's\" width=\"500\" /></p>\n",
    "\n",
    "We can plot more than **30+** plots\n",
    "\n",
    "Now let's create column plot in power bi"
   ]
  },
  {
   "cell_type": "markdown",
   "metadata": {},
   "source": [
    "**<u>Step 1:-</u>** Click on *Stacked column chart* icon from `Visualizations` pin, will get a balnk stacked column chart in report canvas.\n",
    "\n",
    "<p align=\"center\"><img src=\"assets\\02_Column_Chart\\stacked_column_chart.png\" alt=\"Stacked column chart\" width=\"700\" /></p>"
   ]
  },
  {
   "cell_type": "markdown",
   "metadata": {},
   "source": []
  },
  {
   "cell_type": "markdown",
   "metadata": {},
   "source": [
    "after double clicking the `stacked column chart` chart will appear in blank report canvas, just resize it to fit to full report canvas size.\n",
    "\n",
    "it will look like this\n",
    "\n",
    "<p align=\"center\"><img src=\"assets\\02_Column_Chart\\in_report_canvas.png\" alt=\"blank chart\" width=\"700\" /></p>\n",
    "\n",
    "\n",
    "**<u>Step 2:-</u>** Now we just have to drag and drop columns from *`Fields`* and drop them on  *`Axis`*, *`Legend`*, *`Values`*, *`Tolltips`* .,etc according to requirement of chart, from right hand side to left hand side. to drag the fields, will pick `Sub-Catgeory` field from `Fields` to `Axis` and `Sales` into `Values`, after that we can see that we got the plot, by default all categories are sorted in descending order w.r.t sales. that's a simple column chart there. and definitely we require some formating to column chart, like color changes, font size, x-axis, y-axis, different changes might be required, any formating if you need will be visible into this paint brush, once we click on this brush icon will get different options of formatting. right from color change to all cosmatic part everything. \n",
    "\n",
    "<p align=\"center\"><img src=\"assets/01_Loading_Data/common_data_sources.PNG\" alt=\"common data source\" width=\"500\" /></p>"
   ]
  },
  {
   "cell_type": "markdown",
   "metadata": {},
   "source": [
    "power bi provides **99+** data sources from which we can import data into power bi to analysis"
   ]
  },
  {
   "cell_type": "markdown",
   "metadata": {},
   "source": [
    "**<u>Step 3:-</u>** After clicking on *`Excel workbook`* icon from `common data sources` section a new navigation window will open choose appropriate path to select data from and then click on open.\n",
    "\n",
    "<p align=\"center\"><img src=\"assets/01_Loading_Data/navigate_to_data.PNG\" alt=\"Navigate Data\" width=\"700\" /></p>\n",
    "\n",
    "**Note:-** we are using a [Sanple - Superstore.xlsx](https://github.com/Rahul-404/Full_Stack_Data_Science_Masters/blob/master/PowerBI/dataset/Sample%20-%20Superstore.xlsx) from dataset folder for our next plots."
   ]
  },
  {
   "cell_type": "markdown",
   "metadata": {},
   "source": [
    "**<u>Step 4:-</u>** After clicking on `open` button, a `Navigator` window will open, from here we can see all the sub-sheets of choosen data, for now we will chosse `Orders` sheet and click on `Load`\n",
    "\n",
    "<p align=\"center\"><img src=\"assets/01_Loading_Data/choosing_sheet.PNG\" alt=\"Choosing Data\" width=\"600\" /></p>\n",
    "\n",
    "**Note:-** Best practices includs data transformation prior to data loading, button right to `Load` which `Transform Data`, but the data we are using it is already clean, so we don't have to perform data transformation. In near future will perform data transformation."
   ]
  },
  {
   "cell_type": "markdown",
   "metadata": {},
   "source": [
    "By clicking on this icon `Table View` we see the loaded data in tabular format\n",
    "\n",
    "<p align=\"center\"><img src=\"assets/01_Loading_Data/main_interface.png\" alt=\"Interface\" width=\"900\"/></p>\n",
    "\n",
    "Loaded data look's like the following image\n",
    "\n",
    "<p align=\"center\"><img src=\"assets/01_Loading_Data/data_is_loaded.png\" alt=\"Data Loaded\" width=\"900\"/></p>"
   ]
  }
 ],
 "metadata": {
  "language_info": {
   "name": "python"
  }
 },
 "nbformat": 4,
 "nbformat_minor": 2
}
