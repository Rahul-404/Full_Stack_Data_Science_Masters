{
 "cells": [
  {
   "cell_type": "markdown",
   "metadata": {},
   "source": [
    "## **Column Chart's in Power BI**"
   ]
  },
  {
   "cell_type": "markdown",
   "metadata": {},
   "source": [
    "**Main Interface:** this is how power bi interface looks like when we open power bi software\n",
    "\n",
    "<p  align=\"center\"><img src=\"assets/01_Loading_Data/main_interface.png\" alt=\"Interface\" width=\"900\"/></p>"
   ]
  },
  {
   "cell_type": "markdown",
   "metadata": {},
   "source": [
    "Before creating any chart we require data, so let's load data in power bi, we can get data by following steps:"
   ]
  },
  {
   "cell_type": "markdown",
   "metadata": {},
   "source": [
    "**<u>Step 1:</u>** Click on *Get data* icon from `Data` section\n",
    "\n",
    "<!-- ![Click on 'Get  data'](assets\\01_Loading_Data\\get_data_icon.PNG) -->\n",
    "<p align=\"center\"><img src=\"assets/01_Loading_Data/get_data_icon.PNG\" alt=\"Click on 'Get  data'\" width=\"700\" /></p>"
   ]
  },
  {
   "cell_type": "markdown",
   "metadata": {},
   "source": [
    "following list will be open *`common data sources`*\n",
    "\n",
    "<!-- ![common data source](assets\\01_Loading_Data\\common_data_sources.PNG) -->\n",
    "<p align=\"center\"><img src=\"assets/01_Loading_Data/common_data_sources.PNG\" alt=\"common data source\" width=\"500\" /></p>"
   ]
  },
  {
   "cell_type": "code",
   "execution_count": null,
   "metadata": {},
   "outputs": [],
   "source": []
  }
 ],
 "metadata": {
  "language_info": {
   "name": "python"
  }
 },
 "nbformat": 4,
 "nbformat_minor": 2
}
