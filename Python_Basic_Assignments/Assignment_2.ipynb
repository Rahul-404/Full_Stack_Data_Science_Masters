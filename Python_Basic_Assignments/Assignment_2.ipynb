{
 "cells": [
  {
   "cell_type": "markdown",
   "metadata": {},
   "source": [
    "<h1><p align=\"center\"> Assignment : 2 </p></h1>"
   ]
  },
  {
   "cell_type": "markdown",
   "metadata": {},
   "source": [
    "## 1. What are the two values of the Boolean data type? How do you write them?"
   ]
  },
  {
   "cell_type": "markdown",
   "metadata": {},
   "source": [
    "In Python, the Boolean data type has two values:\n",
    "\n",
    "1. **`True`**\n",
    "2. **`False`**\n",
    "\n",
    "These values are case-sensitive and must be written with the first letter capitalized. Here's an example of how you can use them in Python:\n",
    "\n",
    "```python\n",
    "is_sunny = True\n",
    "is_raining = False\n",
    "\n",
    "print(is_sunny)   # Output: True\n",
    "print(is_raining) # Output: False\n",
    "```\n",
    "\n",
    "In Python, Booleans are often used in conditional statements to control the flow of a program."
   ]
  },
  {
   "cell_type": "code",
   "execution_count": null,
   "metadata": {},
   "outputs": [],
   "source": []
  },
  {
   "cell_type": "markdown",
   "metadata": {},
   "source": [
    "## 2. What are the three different types of Boolean operators?"
   ]
  },
  {
   "cell_type": "markdown",
   "metadata": {},
   "source": [
    "In Python, there are three primary Boolean operators that you can use to combine or invert Boolean values:\n",
    "\n",
    "1. **`and`**: This operator returns `True` if both operands are `True`. If either operand is `False`, it returns `False`.\n",
    "   ```python\n",
    "   a = True\n",
    "   b = False\n",
    "   result = a and b  # result will be False\n",
    "   ```\n",
    "\n",
    "2. **`or`**: This operator returns `True` if at least one of the operands is `True`. It only returns `False` if both operands are `False`.\n",
    "   ```python\n",
    "   a = True\n",
    "   b = False\n",
    "   result = a or b  # result will be True\n",
    "   ```\n",
    "\n",
    "3. **`not`**: This operator inverts the Boolean value of the operand. It returns `True` if the operand is `False`, and `False` if the operand is `True`.\n",
    "   ```python\n",
    "   a = True\n",
    "   result = not a  # result will be False\n",
    "   ```\n",
    "\n",
    "These operators are fundamental in constructing logical expressions and controlling the flow of programs using conditional statements."
   ]
  },
  {
   "cell_type": "code",
   "execution_count": null,
   "metadata": {},
   "outputs": [],
   "source": []
  },
  {
   "cell_type": "markdown",
   "metadata": {},
   "source": [
    "## 3. Make a list of each Boolean operator's truth tables (i.e. every possible combination of Boolean values for the operator and what it evaluate )."
   ]
  },
  {
   "cell_type": "markdown",
   "metadata": {},
   "source": [
    "Certainly! Here are the truth tables for each of the Boolean operators (`and`, `or`, `not`):\n",
    "\n",
    "### 1. **`and` Operator**\n",
    "\n",
    "The `and` operator returns `True` only if both operands are `True`. Otherwise, it returns `False`.\n",
    "\n",
    "| Operand 1 | Operand 2 | Operand 1 `and` Operand 2 |\n",
    "|-----------|-----------|---------------------------|\n",
    "| `True`    | `True`    | `True`                    |\n",
    "| `True`    | `False`   | `False`                   |\n",
    "| `False`   | `True`    | `False`                   |\n",
    "| `False`   | `False`   | `False`                   |\n",
    "\n",
    "### 2. **`or` Operator**\n",
    "\n",
    "The `or` operator returns `True` if at least one of the operands is `True`. It only returns `False` if both operands are `False`.\n",
    "\n",
    "| Operand 1 | Operand 2 | Operand 1 `or` Operand 2 |\n",
    "|-----------|-----------|--------------------------|\n",
    "| `True`    | `True`    | `True`                   |\n",
    "| `True`    | `False`   | `True`                   |\n",
    "| `False`   | `True`    | `True`                   |\n",
    "| `False`   | `False`   | `False`                  |\n",
    "\n",
    "### 3. **`not` Operator**\n",
    "\n",
    "The `not` operator inverts the Boolean value of the operand. It returns `True` if the operand is `False`, and `False` if the operand is `True`.\n",
    "\n",
    "| Operand | `not` Operand |\n",
    "|---------|---------------|\n",
    "| `True`  | `False`       |\n",
    "| `False` | `True`        |\n",
    "\n",
    "These tables show how the Boolean operators evaluate different combinations of Boolean values."
   ]
  },
  {
   "cell_type": "code",
   "execution_count": null,
   "metadata": {},
   "outputs": [],
   "source": []
  },
  {
   "cell_type": "markdown",
   "metadata": {},
   "source": [
    "## 4. What are the values of the following expressions?\n",
    "\n",
    "```\n",
    "(5 > 4) and (3 == 5)\n",
    "not (5 > 4)\n",
    "(5 > 4) or (3 == 5)\n",
    "not ((5 > 4) or (3 == 5))\n",
    "(True and True) and (True == False)\n",
    "(not False) or (not True)\n",
    "```"
   ]
  },
  {
   "cell_type": "markdown",
   "metadata": {},
   "source": [
    "\n",
    "1. **`(5 > 4) and (3 == 5)`**\n",
    "   - Result: `False`\n",
    "\n",
    "2. **`not (5 > 4)`**\n",
    "   - Result: `False`\n",
    "\n",
    "3. **`(5 > 4) or (3 == 5)`**\n",
    "   - Result: `True`\n",
    "\n",
    "4. **`not ((5 > 4) or (3 == 5))`**\n",
    "   - Result: `False`\n",
    "\n",
    "5. **`(True and True) and (True == False)`**\n",
    "   - Result: `False`\n",
    "\n",
    "6. **`(not False) or (not True)`**\n",
    "   - Result: `True`"
   ]
  },
  {
   "cell_type": "code",
   "execution_count": null,
   "metadata": {},
   "outputs": [],
   "source": []
  },
  {
   "cell_type": "markdown",
   "metadata": {},
   "source": [
    "## 5. What are the six comparison operators?"
   ]
  },
  {
   "cell_type": "markdown",
   "metadata": {},
   "source": [
    "The six comparison operators in Python are:\n",
    "\n",
    "1. **Equal to (`==`)**\n",
    "   - Checks if two values are equal.\n",
    "   - Example: `5 == 5` evaluates to `True`.\n",
    "\n",
    "2. **Not equal to (`!=`)**\n",
    "   - Checks if two values are not equal.\n",
    "   - Example: `5 != 3` evaluates to `True`.\n",
    "\n",
    "3. **Greater than (`>`)**\n",
    "   - Checks if the left value is greater than the right value.\n",
    "   - Example: `7 > 3` evaluates to `True`.\n",
    "\n",
    "4. **Less than (`<`)**\n",
    "   - Checks if the left value is less than the right value.\n",
    "   - Example: `4 < 6` evaluates to `True`.\n",
    "\n",
    "5. **Greater than or equal to (`>=`)**\n",
    "   - Checks if the left value is greater than or equal to the right value.\n",
    "   - Example: `5 >= 5` evaluates to `True`.\n",
    "\n",
    "6. **Less than or equal to (`<=`)**\n",
    "   - Checks if the left value is less than or equal to the right value.\n",
    "   - Example: `3 <= 4` evaluates to `True`."
   ]
  },
  {
   "cell_type": "code",
   "execution_count": null,
   "metadata": {},
   "outputs": [],
   "source": []
  },
  {
   "cell_type": "markdown",
   "metadata": {},
   "source": [
    "## 6. How do you tell the difference between the equal to and assignment operators?Describe a condition and when you would use one."
   ]
  },
  {
   "cell_type": "markdown",
   "metadata": {},
   "source": [
    "In Python, the equal to (`==`) operator and the assignment (`=`) operator serve different purposes:\n",
    "\n",
    "1. **Equal to (`==`)**:\n",
    "   - **Purpose**: Used for comparison to check if two values are equal.\n",
    "   - **Usage**: It returns a Boolean value (`True` or `False`) based on whether the values being compared are equal.\n",
    "   - **Example**: \n",
    "     ```python\n",
    "     x = 5\n",
    "     y = 5\n",
    "     result = (x == y)  # result will be True because x and y are equal\n",
    "     ```\n",
    "\n",
    "2. **Assignment (`=`)**:\n",
    "   - **Purpose**: Used to assign a value to a variable.\n",
    "   - **Usage**: It sets the variable on the left side to the value on the right side.\n",
    "   - **Example**:\n",
    "     ```python\n",
    "     x = 5  # Assigns the value 5 to the variable x\n",
    "     ```\n",
    "\n",
    "### When to Use Each:\n",
    "\n",
    "- **Equal to (`==`)**: Use this operator when you want to check if two values are the same. This is commonly used in conditional statements to control the flow of a program.\n",
    "  - **Example Condition**: You might use it to check if a user's input matches a required value.\n",
    "    ```python\n",
    "    user_input = \"yes\"\n",
    "    if user_input == \"yes\":\n",
    "        print(\"You chose to proceed.\")\n",
    "    else:\n",
    "        print(\"You chose not to proceed.\")\n",
    "    ```\n",
    "\n",
    "- **Assignment (`=`)**: Use this operator to store a value in a variable. This is fundamental in programming as it allows you to store and manipulate data.\n",
    "  - **Example Condition**: You might use it to initialize a variable or update its value during computations.\n",
    "    ```python\n",
    "    count = 10  # Assigns 10 to the variable count\n",
    "    count = count + 1  # Updates the value of count to 11\n",
    "    ```\n",
    "\n",
    "In summary, `==` is used for comparing values, while `=` is used for assigning values to variables."
   ]
  },
  {
   "cell_type": "code",
   "execution_count": null,
   "metadata": {},
   "outputs": [],
   "source": []
  },
  {
   "cell_type": "markdown",
   "metadata": {},
   "source": [
    "## 7. Identify the three blocks in this code:\n",
    "```python\n",
    "spam = 0\n",
    "if spam == 10:\n",
    "    print('eggs')\n",
    "if spam > 5:\n",
    "    print('bacon')\n",
    "else:\n",
    "    print('ham')\n",
    "print('spam')\n",
    "print('spam')\n",
    "```"
   ]
  },
  {
   "cell_type": "markdown",
   "metadata": {},
   "source": [
    "In Python, the equal to (`==`) operator and the assignment (`=`) operator serve different purposes:\n",
    "\n",
    "1. **Equal to (`==`)**:\n",
    "   - **Purpose**: Used for comparison to check if two values are equal.\n",
    "   - **Usage**: It returns a Boolean value (`True` or `False`) based on whether the values being compared are equal.\n",
    "   - **Example**: \n",
    "     ```python\n",
    "     x = 5\n",
    "     y = 5\n",
    "     result = (x == y)  # result will be True because x and y are equal\n",
    "     ```\n",
    "\n",
    "2. **Assignment (`=`)**:\n",
    "   - **Purpose**: Used to assign a value to a variable.\n",
    "   - **Usage**: It sets the variable on the left side to the value on the right side.\n",
    "   - **Example**:\n",
    "     ```python\n",
    "     x = 5  # Assigns the value 5 to the variable x\n",
    "     ```\n",
    "\n",
    "### When to Use Each:\n",
    "\n",
    "- **Equal to (`==`)**: Use this operator when you want to check if two values are the same. This is commonly used in conditional statements to control the flow of a program.\n",
    "  - **Example Condition**: You might use it to check if a user's input matches a required value.\n",
    "    ```python\n",
    "    user_input = \"yes\"\n",
    "    if user_input == \"yes\":\n",
    "        print(\"You chose to proceed.\")\n",
    "    else:\n",
    "        print(\"You chose not to proceed.\")\n",
    "    ```\n",
    "\n",
    "- **Assignment (`=`)**: Use this operator to store a value in a variable. This is fundamental in programming as it allows you to store and manipulate data.\n",
    "  - **Example Condition**: You might use it to initialize a variable or update its value during computations.\n",
    "    ```python\n",
    "    count = 10  # Assigns 10 to the variable count\n",
    "    count = count + 1  # Updates the value of count to 11\n",
    "    ```\n",
    "\n",
    "In summary, `==` is used for comparing values, while `=` is used for assigning values to variables."
   ]
  },
  {
   "cell_type": "code",
   "execution_count": null,
   "metadata": {},
   "outputs": [],
   "source": []
  },
  {
   "cell_type": "markdown",
   "metadata": {},
   "source": [
    "## 8. Write code that prints Hello if 1 is stored in spam, prints Howdy if 2 is stored in spam, and prints Greetings! if anything else is stored in spam."
   ]
  },
  {
   "cell_type": "markdown",
   "metadata": {},
   "source": [
    "Here's a Python code snippet that accomplishes this task using conditional statements:\n",
    "\n",
    "```python\n",
    "# Example value for spam (you can change this to test different cases)\n",
    "spam = 1\n",
    "\n",
    "# Check the value of spam and print the corresponding message\n",
    "if spam == 1:\n",
    "    print(\"Hello\")\n",
    "elif spam == 2:\n",
    "    print(\"Howdy\")\n",
    "else:\n",
    "    print(\"Greetings!\")\n",
    "```\n",
    "\n",
    "In this code:\n",
    "- If `spam` is equal to `1`, it prints \"Hello\".\n",
    "- If `spam` is equal to `2`, it prints \"Howdy\".\n",
    "- For any other value of `spam`, it prints \"Greetings!\"."
   ]
  },
  {
   "cell_type": "code",
   "execution_count": null,
   "metadata": {},
   "outputs": [],
   "source": []
  },
  {
   "cell_type": "markdown",
   "metadata": {},
   "source": [
    "## 9. If your programme is stuck in an endless loop, what keys you’ll press?"
   ]
  },
  {
   "cell_type": "markdown",
   "metadata": {},
   "source": [
    "If your program is stuck in an endless loop and you need to stop it, you can press the following keys depending on your environment:\n",
    "\n",
    "- **On Windows:** Press `Ctrl + C`. This key combination sends an interrupt signal to terminate the program.\n",
    "- **On macOS or Linux:** Press `Ctrl + C` as well. This sends an interrupt signal to stop the execution of the program.\n",
    "\n",
    "This keyboard shortcut works in most terminal and command-line interfaces to halt a running process."
   ]
  },
  {
   "cell_type": "code",
   "execution_count": null,
   "metadata": {},
   "outputs": [],
   "source": []
  },
  {
   "cell_type": "markdown",
   "metadata": {},
   "source": [
    "## 10. How can you tell the difference between break and continue?"
   ]
  },
  {
   "cell_type": "markdown",
   "metadata": {},
   "source": [
    "The `break` and `continue` statements in Python are used within loops to control the flow of execution, but they serve different purposes:\n",
    "\n",
    "### **`break` Statement**\n",
    "\n",
    "- **Purpose**: Exits the loop entirely, regardless of the loop’s condition.\n",
    "- **Usage**: It is used to terminate the nearest enclosing loop (`for` or `while`) immediately.\n",
    "- **Example**:\n",
    "  ```python\n",
    "  for i in range(5):\n",
    "      if i == 3:\n",
    "          break  # Exit the loop when i is 3\n",
    "      print(i)\n",
    "  # Output: 0, 1, 2\n",
    "  ```\n",
    "\n",
    "### **`continue` Statement**\n",
    "\n",
    "- **Purpose**: Skips the rest of the current loop iteration and proceeds with the next iteration.\n",
    "- **Usage**: It is used to skip over certain parts of the loop body and continue with the next iteration based on the loop’s condition.\n",
    "- **Example**:\n",
    "  ```python\n",
    "  for i in range(5):\n",
    "      if i == 3:\n",
    "          continue  # Skip the rest of the loop body when i is 3\n",
    "      print(i)\n",
    "  # Output: 0, 1, 2, 4\n",
    "  ```\n",
    "\n",
    "### Summary:\n",
    "\n",
    "- **`break`**: Exits the loop completely.\n",
    "- **`continue`**: Skips to the next iteration of the loop without exiting the loop."
   ]
  },
  {
   "cell_type": "code",
   "execution_count": null,
   "metadata": {},
   "outputs": [],
   "source": []
  },
  {
   "cell_type": "markdown",
   "metadata": {},
   "source": [
    "## 11. In a for loop, what is the difference between range(10), range(0, 10), and range(0, 10, 1)?"
   ]
  },
  {
   "cell_type": "markdown",
   "metadata": {},
   "source": [
    "In Python, the `range()` function generates a sequence of numbers and can be used in `for` loops for iteration. The differences between `range(10)`, `range(0, 10)`, and `range(0, 10, 1)` are as follows:\n",
    "\n",
    "### **`range(10)`**\n",
    "\n",
    "- **Description**: Generates numbers from `0` to `9` (default start value is `0` and default step value is `1`).\n",
    "- **Usage**: This is a shorthand for `range(0, 10, 1)`.\n",
    "- **Example**:\n",
    "  ```python\n",
    "  for i in range(10):\n",
    "      print(i)\n",
    "  # Output: 0, 1, 2, 3, 4, 5, 6, 7, 8, 9\n",
    "  ```\n",
    "\n",
    "### **`range(0, 10)`**\n",
    "\n",
    "- **Description**: Generates numbers from `0` to `9` (explicitly specifying the start value as `0` and default step value as `1`).\n",
    "- **Usage**: This is equivalent to `range(10)`.\n",
    "- **Example**:\n",
    "  ```python\n",
    "  for i in range(0, 10):\n",
    "      print(i)\n",
    "  # Output: 0, 1, 2, 3, 4, 5, 6, 7, 8, 9\n",
    "  ```\n",
    "\n",
    "### **`range(0, 10, 1)`**\n",
    "\n",
    "- **Description**: Generates numbers from `0` to `9` with a step of `1` (explicitly specifying the start value as `0`, the end value as `10`, and the step value as `1`).\n",
    "- **Usage**: This is equivalent to both `range(10)` and `range(0, 10)`.\n",
    "- **Example**:\n",
    "  ```python\n",
    "  for i in range(0, 10, 1):\n",
    "      print(i)\n",
    "  # Output: 0, 1, 2, 3, 4, 5, 6, 7, 8, 9\n",
    "  ```\n",
    "\n",
    "### Summary:\n",
    "\n",
    "- **`range(10)`**: Starts at `0`, ends before `10`, steps by `1` (default values).\n",
    "- **`range(0, 10)`**: Starts at `0`, ends before `10`, steps by `1`.\n",
    "- **`range(0, 10, 1)`**: Starts at `0`, ends before `10`, steps by `1` (explicitly specified).\n",
    "\n",
    "All three are equivalent in practice for generating a sequence of numbers from `0` to `9`."
   ]
  },
  {
   "cell_type": "code",
   "execution_count": null,
   "metadata": {},
   "outputs": [],
   "source": []
  },
  {
   "cell_type": "markdown",
   "metadata": {},
   "source": [
    "## 12. Write a short program that prints the numbers 1 to 10 using a for loop. Then write an equivalent program that prints the numbers 1 to 10 using a while loop."
   ]
  },
  {
   "cell_type": "markdown",
   "metadata": {},
   "source": [
    "Certainly! Here are two programs that print the numbers 1 to 10: one using a `for` loop and the other using a `while` loop.\n",
    "\n",
    "### Using a `for` loop:\n",
    "\n",
    "```python\n",
    "# Using a for loop\n",
    "for i in range(1, 11):\n",
    "    print(i)\n",
    "```\n",
    "\n",
    "### Using a `while` loop:\n",
    "\n",
    "```python\n",
    "# Using a while loop\n",
    "i = 1\n",
    "while i <= 10:\n",
    "    print(i)\n",
    "    i += 1\n",
    "```\n",
    "\n",
    "### Explanation:\n",
    "\n",
    "- **`for` loop**: The `range(1, 11)` function generates numbers from 1 to 10 (the end value is exclusive).\n",
    "- **`while` loop**: Starts with `i` initialized to 1 and continues to loop as long as `i` is less than or equal to 10, incrementing `i` by 1 in each iteration."
   ]
  },
  {
   "cell_type": "code",
   "execution_count": null,
   "metadata": {},
   "outputs": [],
   "source": []
  },
  {
   "cell_type": "markdown",
   "metadata": {},
   "source": [
    "## 13. If you had a function named bacon() inside a module named spam, how would you call it after importing spam?"
   ]
  },
  {
   "cell_type": "markdown",
   "metadata": {},
   "source": [
    "To call the function `bacon()` from the module `spam` after importing it, you would use the following syntax:\n",
    "\n",
    "1. **Import the entire module**:\n",
    "\n",
    "   ```python\n",
    "   import spam\n",
    "   spam.bacon()\n",
    "   ```\n",
    "\n",
    "2. **Import the specific function**:\n",
    "\n",
    "   ```python\n",
    "   from spam import bacon\n",
    "   bacon()\n",
    "   ```\n",
    "\n",
    "### Explanation:\n",
    "\n",
    "- **`import spam`**: Imports the entire module named `spam`. You then call the function using the syntax `spam.bacon()`.\n",
    "- **`from spam import bacon`**: Imports only the `bacon()` function from the `spam` module, allowing you to call it directly with `bacon()` without the module prefix."
   ]
  },
  {
   "cell_type": "code",
   "execution_count": null,
   "metadata": {},
   "outputs": [],
   "source": []
  },
  {
   "cell_type": "markdown",
   "metadata": {},
   "source": [
    "<i>\"Thank you for exploring all the way to the end of my page!\"</i>\n",
    "\n",
    "<p>\n",
    "regards, <br>\n",
    "<a href=\"https:www.github.com/Rahul-404/\">Rahul Shelke</a>\n",
    "</p>"
   ]
  },
  {
   "cell_type": "markdown",
   "metadata": {},
   "source": []
  }
 ],
 "metadata": {
  "language_info": {
   "name": "python"
  }
 },
 "nbformat": 4,
 "nbformat_minor": 2
}
