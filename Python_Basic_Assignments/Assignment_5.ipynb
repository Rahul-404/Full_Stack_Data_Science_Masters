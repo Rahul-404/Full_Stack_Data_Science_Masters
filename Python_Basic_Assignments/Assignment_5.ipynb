{
 "cells": [
  {
   "cell_type": "markdown",
   "metadata": {},
   "source": [
    "<h1><p align=\"center\"> Assignment : 5 </p></h1>"
   ]
  },
  {
   "cell_type": "markdown",
   "metadata": {},
   "source": [
    "## 1. What does an empty dictionary's code look like?"
   ]
  },
  {
   "cell_type": "markdown",
   "metadata": {},
   "source": [
    "An empty dictionary in Python is defined using curly braces `{}` with no key-value pairs inside. Here is the code for creating an empty dictionary:\n",
    "\n",
    "```python\n",
    "empty_dict = {}\n",
    "```\n",
    "\n",
    "Alternatively, you can also use the `dict()` constructor to create an empty dictionary:\n",
    "\n",
    "```python\n",
    "empty_dict = dict()\n",
    "```\n",
    "\n",
    "Both methods result in an empty dictionary object."
   ]
  },
  {
   "cell_type": "code",
   "execution_count": null,
   "metadata": {},
   "outputs": [],
   "source": []
  },
  {
   "cell_type": "markdown",
   "metadata": {},
   "source": [
    "## 2. What is the value of a dictionary value with the key 'foo' and the value 42?"
   ]
  },
  {
   "cell_type": "markdown",
   "metadata": {},
   "source": [
    "In Python, a dictionary with the key `'foo'` and the value `42` is defined as:\n",
    "\n",
    "```python\n",
    "my_dict = {'foo': 42}\n",
    "```\n",
    "\n",
    "To get the value associated with the key `'foo'`, you would access it like this:\n",
    "\n",
    "```python\n",
    "value = my_dict['foo']\n",
    "print(value)  # Output: 42\n",
    "```\n",
    "\n",
    "So, the value of the dictionary entry with the key `'foo'` is `42`."
   ]
  },
  {
   "cell_type": "code",
   "execution_count": null,
   "metadata": {},
   "outputs": [],
   "source": []
  },
  {
   "cell_type": "markdown",
   "metadata": {},
   "source": [
    "## 3. What is the most significant distinction between a dictionary and a list?"
   ]
  },
  {
   "cell_type": "markdown",
   "metadata": {},
   "source": [
    "The most significant distinction between a dictionary and a list in Python lies in how they store and access their elements:\n",
    "\n",
    "### **Dictionaries**\n",
    "\n",
    "- **Data Structure**: **Key-Value Pairs**\n",
    "  - Dictionaries store data as pairs of keys and values. Each key is unique and maps to a specific value.\n",
    "  - Access elements using keys.\n",
    "\n",
    "- **Access Method**: \n",
    "  - Fast lookup for values using keys. Keys are used to retrieve associated values in constant time, on average.\n",
    "  \n",
    "- **Syntax**:\n",
    "  ```python\n",
    "  my_dict = {'key1': 'value1', 'key2': 'value2'}\n",
    "  ```\n",
    "  Accessing a value:\n",
    "  ```python\n",
    "  value = my_dict['key1']  # Retrieves 'value1'\n",
    "  ```\n",
    "\n",
    "- **Use Case**:\n",
    "  - Ideal for situations where you need to map unique keys to values, such as in cases where you need to quickly look up data by some identifier.\n",
    "\n",
    "### **Lists**\n",
    "\n",
    "- **Data Structure**: **Ordered Collection of Elements**\n",
    "  - Lists store data in an ordered sequence. Each element in the list is assigned an index, starting from 0.\n",
    "  - Access elements using indices.\n",
    "\n",
    "- **Access Method**: \n",
    "  - Access elements by their position (index) in the list. Indexing is also efficient, but searching for an element requires iterating through the list unless the index is known.\n",
    "  \n",
    "- **Syntax**:\n",
    "  ```python\n",
    "  my_list = [1, 2, 3, 4]\n",
    "  ```\n",
    "  Accessing an element:\n",
    "  ```python\n",
    "  item = my_list[2]  # Retrieves 3\n",
    "  ```\n",
    "\n",
    "- **Use Case**:\n",
    "  - Suitable for ordered collections of items where the position of each item is important or when you need to maintain a sequence of elements.\n",
    "\n",
    "### Summary\n",
    "\n",
    "- **Dictionaries**: Use key-value pairs for data storage and provide fast lookups using keys. They are unordered collections (in Python versions before 3.7) or ordered (in Python 3.7+ maintains insertion order).\n",
    "- **Lists**: Use indices for accessing elements and maintain an ordered sequence of items.\n",
    "\n",
    "Each data structure is optimized for different use cases, so the choice between a dictionary and a list depends on the specific requirements of your application."
   ]
  },
  {
   "cell_type": "code",
   "execution_count": null,
   "metadata": {},
   "outputs": [],
   "source": []
  },
  {
   "cell_type": "markdown",
   "metadata": {},
   "source": [
    "## 4. What happens if you try to access spam['foo'] if spam is {'bar': 100}?"
   ]
  },
  {
   "cell_type": "markdown",
   "metadata": {},
   "source": [
    "If you try to access `spam['foo']` when `spam` is defined as `{'bar': 100}`, you'll encounter a `KeyError`. This is because `'foo'` is not a key in the dictionary `spam`, which only contains the key `'bar'`.\n",
    "\n",
    "Here's an example to illustrate this:\n",
    "\n",
    "```python\n",
    "spam = {'bar': 100}\n",
    "\n",
    "# Attempting to access a non-existent key\n",
    "try:\n",
    "    value = spam['foo']\n",
    "except KeyError as e:\n",
    "    print(f\"KeyError: {e}\")\n",
    "```\n",
    "\n",
    "In this code, `spam['foo']` raises a `KeyError` because `'foo'` does not exist in the dictionary. The `KeyError` exception is caught and printed, showing that `'foo'` is not a valid key in the dictionary."
   ]
  },
  {
   "cell_type": "code",
   "execution_count": null,
   "metadata": {},
   "outputs": [],
   "source": []
  },
  {
   "cell_type": "markdown",
   "metadata": {},
   "source": [
    "## 5. If a dictionary is stored in spam, what is the difference between the expressions 'cat' in spam and 'cat' in spam.keys()?"
   ]
  },
  {
   "cell_type": "markdown",
   "metadata": {},
   "source": [
    "When you have a dictionary stored in `spam`, the expressions `'cat' in spam` and `'cat' in spam.keys()` are used to check if the key `'cat'` is present in the dictionary. While they achieve the same result, there is a subtle difference in their operation and efficiency:\n",
    "\n",
    "### `cat in spam`\n",
    "\n",
    "- **Expression**: `'cat' in spam`\n",
    "- **Description**: This checks if `'cat'` is a key in the dictionary `spam`. It is the most direct and efficient way to check for the presence of a key in a dictionary.\n",
    "- **Efficiency**: This operation is generally faster because it directly checks for the existence of the key in the dictionary's internal data structure, which is optimized for such lookups.\n",
    "\n",
    "### `cat in spam.keys()`\n",
    "\n",
    "- **Expression**: `'cat' in spam.keys()`\n",
    "- **Description**: This checks if `'cat'` is in the sequence of keys returned by `spam.keys()`. The `spam.keys()` method returns a view object of the dictionary's keys, and `'cat' in spam.keys()` checks for the presence of `'cat'` in this view.\n",
    "- **Efficiency**: This operation is less efficient because it involves creating a view object of the dictionary’s keys, which is then searched. While the view object is a lightweight, dynamic view, checking membership in this view is less direct compared to the built-in `in` operator on the dictionary.\n",
    "\n",
    "### Example\n",
    "\n",
    "```python\n",
    "spam = {'cat': 1, 'dog': 2}\n",
    "\n",
    "# Check if 'cat' is a key in spam\n",
    "print('cat' in spam)  # Output: True\n",
    "\n",
    "# Check if 'cat' is in the keys of spam\n",
    "print('cat' in spam.keys())  # Output: True\n",
    "```\n",
    "\n",
    "Both expressions will return `True` if `'cat'` is a key in the dictionary `spam`. However, `'cat' in spam` is the preferred and more efficient way to check for the presence of a key in a dictionary."
   ]
  },
  {
   "cell_type": "code",
   "execution_count": null,
   "metadata": {},
   "outputs": [],
   "source": []
  },
  {
   "cell_type": "markdown",
   "metadata": {},
   "source": [
    "## 6. If a dictionary is stored in spam, what is the difference between the expressions 'cat' in spam and 'cat' in spam.values()?"
   ]
  },
  {
   "cell_type": "markdown",
   "metadata": {},
   "source": [
    "When you have a dictionary stored in `spam`, the expressions `'cat' in spam` and `'cat' in spam.values()` serve different purposes and check for the presence of `'cat'` in different parts of the dictionary:\n",
    "\n",
    "### `cat in spam`\n",
    "\n",
    "- **Expression**: `'cat' in spam`\n",
    "- **Description**: This checks if `'cat'` is a key in the dictionary `spam`. It directly tests whether the dictionary has an entry with `'cat'` as its key.\n",
    "- **Usage**: Use this expression to determine if a specific key exists in the dictionary.\n",
    "\n",
    "### `cat in spam.values()`\n",
    "\n",
    "- **Expression**: `'cat' in spam.values()`\n",
    "- **Description**: This checks if `'cat'` is one of the values in the dictionary `spam`. The `spam.values()` method returns a view object that displays a dynamic view of all values in the dictionary. This expression checks if `'cat'` is present among those values.\n",
    "- **Usage**: Use this expression to determine if a specific value exists in the dictionary, regardless of which key it is associated with.\n",
    "\n",
    "### Example\n",
    "\n",
    "Here’s an example to illustrate the difference:\n",
    "\n",
    "```python\n",
    "spam = {'a': 'cat', 'b': 42}\n",
    "\n",
    "# Check if 'cat' is a key in spam\n",
    "print('cat' in spam)  # Output: False, because 'cat' is not a key\n",
    "\n",
    "# Check if 'cat' is one of the values in spam\n",
    "print('cat' in spam.values())  # Output: True, because 'cat' is a value associated with key 'a'\n",
    "```\n",
    "\n",
    "### Summary\n",
    "\n",
    "- **`'cat' in spam`**: Checks if `'cat'` is a key in the dictionary `spam`.\n",
    "- **`'cat' in spam.values()`**: Checks if `'cat'` is a value among the values of the dictionary `spam`.\n",
    "\n",
    "Each expression is used based on whether you are interested in the presence of a key or a value within the dictionary."
   ]
  },
  {
   "cell_type": "code",
   "execution_count": null,
   "metadata": {},
   "outputs": [],
   "source": []
  },
  {
   "cell_type": "markdown",
   "metadata": {},
   "source": [
    "## 7. What is a shortcut for the following code?\n",
    "```python\n",
    "if 'color' not in spam:\n",
    "    spam['color'] = 'black'\n",
    "```"
   ]
  },
  {
   "cell_type": "markdown",
   "metadata": {},
   "source": [
    "The code you provided checks if the key `'color'` is not present in the dictionary `spam`, and if it's not, it assigns the value `'black'` to this key. A shortcut for this operation is to use the `dict.setdefault()` method.\n",
    "\n",
    "### Original Code\n",
    "\n",
    "```python\n",
    "if 'color' not in spam:\n",
    "    spam['color'] = 'black'\n",
    "```\n",
    "\n",
    "### Shortcut Using `setdefault()`\n",
    "\n",
    "The `setdefault()` method of a dictionary checks if the specified key is present. If the key is not present, it inserts the key with the specified value and returns that value. If the key is present, it returns the value associated with the key and does not modify the dictionary.\n",
    "\n",
    "```python\n",
    "spam.setdefault('color', 'black')\n",
    "```\n",
    "\n",
    "### Explanation\n",
    "\n",
    "- **`spam.setdefault('color', 'black')`**:\n",
    "  - **If `'color'` is not in `spam`**: Adds `'color': 'black'` to the dictionary and returns `'black'`.\n",
    "  - **If `'color'` is already in `spam`**: Does nothing to the dictionary and returns the current value associated with `'color'`.\n",
    "\n",
    "### Example\n",
    "\n",
    "```python\n",
    "spam = {'size': 'large'}\n",
    "\n",
    "# Using setdefault() to ensure 'color' is in the dictionary\n",
    "spam.setdefault('color', 'black')\n",
    "\n",
    "print(spam)  # Output: {'size': 'large', 'color': 'black'}\n",
    "\n",
    "# Using setdefault() again does not change the dictionary\n",
    "spam.setdefault('color', 'blue')\n",
    "\n",
    "print(spam)  # Output: {'size': 'large', 'color': 'black'}\n",
    "```\n",
    "\n",
    "In this example, the value `'black'` is set for the key `'color'` only if it doesn't already exist in the dictionary. Subsequent calls to `setdefault()` for the same key will not change the existing value."
   ]
  },
  {
   "cell_type": "code",
   "execution_count": null,
   "metadata": {},
   "outputs": [],
   "source": []
  },
  {
   "cell_type": "markdown",
   "metadata": {},
   "source": [
    "## 8. How do you \"pretty print\" dictionary values using which module and function?"
   ]
  },
  {
   "cell_type": "markdown",
   "metadata": {},
   "source": [
    "To \"pretty print\" dictionary values in Python, you can use the `pprint` module, which stands for \"pretty print.\" The `pprint` module provides a `pprint()` function that formats dictionary values (and other data structures) in a more readable way.\n",
    "\n",
    "### Using `pprint` Module\n",
    "\n",
    "Here's how to use the `pprint` function:\n",
    "\n",
    "1. **Import the `pprint` module**.\n",
    "2. **Call `pprint.pprint()`** with the dictionary you want to pretty print.\n",
    "\n",
    "### Example\n",
    "\n",
    "```python\n",
    "import pprint\n",
    "\n",
    "# Example dictionary\n",
    "data = {\n",
    "    'name': 'John Doe',\n",
    "    'age': 30,\n",
    "    'address': {\n",
    "        'street': '123 Elm Street',\n",
    "        'city': 'Somewhere',\n",
    "        'state': 'CA',\n",
    "        'zip': '90210'\n",
    "    },\n",
    "    'phone_numbers': ['555-1234', '555-5678']\n",
    "}\n",
    "\n",
    "# Pretty print the dictionary\n",
    "pprint.pprint(data)\n",
    "```\n",
    "\n",
    "### Output\n",
    "\n",
    "The `pprint.pprint()` function will format the dictionary in a more readable manner, often with better indentation and line breaks:\n",
    "\n",
    "```\n",
    "{'address': {'city': 'Somewhere',\n",
    "             'state': 'CA',\n",
    "             'street': '123 Elm Street',\n",
    "             'zip': '90210'},\n",
    " 'age': 30,\n",
    " 'name': 'John Doe',\n",
    " 'phone_numbers': ['555-1234', '555-5678']}\n",
    "```\n",
    "\n",
    "### Key Points\n",
    "\n",
    "- **Module**: `pprint`\n",
    "- **Function**: `pprint.pprint()`\n",
    "\n",
    "Using `pprint` helps in making complex nested data structures easier to read, especially when dealing with large dictionaries or lists."
   ]
  },
  {
   "cell_type": "code",
   "execution_count": null,
   "metadata": {},
   "outputs": [],
   "source": []
  },
  {
   "cell_type": "markdown",
   "metadata": {},
   "source": [
    "<i>\"Thank you for exploring all the way to the end of my page!\"</i>\n",
    "\n",
    "<p>\n",
    "regards, <br>\n",
    "<a href=\"https:www.github.com/Rahul-404/\">Rahul Shelke</a>\n",
    "</p>"
   ]
  },
  {
   "cell_type": "markdown",
   "metadata": {},
   "source": []
  }
 ],
 "metadata": {
  "kernelspec": {
   "display_name": "base",
   "language": "python",
   "name": "python3"
  },
  "language_info": {
   "name": "python",
   "version": "3.11.7"
  }
 },
 "nbformat": 4,
 "nbformat_minor": 2
}
