{
 "cells": [
  {
   "cell_type": "markdown",
   "metadata": {},
   "source": [
    "<h1><p align=\"center\"> Assignment : 10<sup>th</sup> June </p></h1>"
   ]
  },
  {
   "cell_type": "markdown",
   "metadata": {},
   "source": [
    "## 1.  In Python, what is the difference between a built-in function and a user-defined function? Provide an example of each"
   ]
  },
  {
   "cell_type": "markdown",
   "metadata": {},
   "source": [
    "In Python, the main difference between a built-in function and a user-defined function lies in their origin and how they are defined.\n",
    "\n",
    "### Built-in Function:\n",
    "\n",
    "**Definition:** Built-in functions are functions that are already defined within Python itself. They are readily available for use without the need for us to define their functionality.\n",
    "\n",
    "**Example:**"
   ]
  },
  {
   "cell_type": "code",
   "execution_count": 2,
   "metadata": {},
   "outputs": [
    {
     "name": "stdout",
     "output_type": "stream",
     "text": [
      "Length of the list: 5\n"
     ]
    }
   ],
   "source": [
    "# Example of a built-in function: len()\n",
    "my_list = [1, 2, 3, 4, 5]\n",
    "length = len(my_list)\n",
    "print(\"Length of the list:\", length)"
   ]
  },
  {
   "cell_type": "markdown",
   "metadata": {},
   "source": [
    "\n",
    "**My Understanding:**\n",
    "\n",
    "In this example, `len()` is a built-in function that returns the number of items in the list my_list. We did not need to define how len() works; Python already provides its implementation."
   ]
  },
  {
   "cell_type": "markdown",
   "metadata": {},
   "source": [
    "#### User-defined Function:\n",
    "\n",
    "**Definition:** User-defined functions are functions that we define ourselves using the `def` keyword. They allow us to encapsulate a block of code that can be reused by calling the function.\n",
    "\n",
    "**Example:**"
   ]
  },
  {
   "cell_type": "code",
   "execution_count": 3,
   "metadata": {},
   "outputs": [
    {
     "name": "stdout",
     "output_type": "stream",
     "text": [
      "Square of 5: 25\n"
     ]
    }
   ],
   "source": [
    "# Example of a user-defined function: calculate_square()\n",
    "def calculate_square(x):\n",
    "    return x * x\n",
    "\n",
    "# Using the user-defined function\n",
    "result = calculate_square(5)\n",
    "print(\"Square of 5:\", result)"
   ]
  },
  {
   "cell_type": "markdown",
   "metadata": {},
   "source": [
    "**My Understanding:**\n",
    "\n",
    "In this example, `calculate_square()` is a user-defined function that calculates the square of a given number x. We defined this function using `def` and provided the implementation of how squaring should be done."
   ]
  },
  {
   "cell_type": "markdown",
   "metadata": {},
   "source": [
    "| **Aspect**                | **Built-in Function**                                             | **User-defined Function**                                         |\n",
    "|---------------------------|--------------------------------------------------------------------|-------------------------------------------------------------------|\n",
    "| **Definition**            | Functions that are already defined within Python's standard library| Functions defined by the user using `def` keyword                 |\n",
    "| **Example**               | `len()`, `print()`, `max()`, `min()`                                | Custom functions like `calculate_square()`, `greet_person()`      |\n",
    "| **Implementation**        | Pre-defined in Python, readily available for use                    | Defined explicitly by the programmer                              |\n",
    "| **Usage**                 | Directly usable without additional definition                      | Requires explicit definition using `def` keyword                  |\n",
    "| **Flexibility**           | Fixed functionality provided by Python                             | Can be tailored to specific needs and requirements                |\n",
    "| **Performance**           | Optimized and efficient due to native implementation                | Performance can vary based on implementation and complexity       |"
   ]
  },
  {
   "cell_type": "markdown",
   "metadata": {},
   "source": []
  },
  {
   "cell_type": "markdown",
   "metadata": {},
   "source": [
    "## 2. How can you pass arguments to a function in Python? Explain the difference between positional arguments and keyword arguments ?"
   ]
  },
  {
   "cell_type": "markdown",
   "metadata": {},
   "source": [
    "In Python, arguments can be passed to a function in two main ways: positional arguments and keyword arguments. Let's delve into each method and discuss their differences.\n",
    "\n",
    "\n",
    "| **Aspect**                 | **Positional Arguments**                                    | **Keyword Arguments**                                       |\n",
    "|----------------------------|-------------------------------------------------------------|-------------------------------------------------------------|\n",
    "| **Order Dependency**       | Must be passed in specific order as defined in the function | Order does not matter; passed by specifying parameter names |\n",
    "| **Function Definition**    | `def greet(name, greeting):`                                | `def greet(name, greeting):`                                 |\n",
    "| **Function Call**          | `greet(\"Rahul\", \"Hello\")`                                   | `greet(greeting=\"नमस्ते\", name=\"राहुल\")`                    |\n",
    "| **Clarity and Readability**| Relies on position; less explicit                           | Explicit about parameter meanings                           |\n",
    "| **Flexibility**            | Limited flexibility; order-sensitive                        | More flexible; can skip arguments with defaults             |"
   ]
  },
  {
   "cell_type": "markdown",
   "metadata": {},
   "source": [
    "**1. Positional Arguments Example:**"
   ]
  },
  {
   "cell_type": "code",
   "execution_count": 1,
   "metadata": {},
   "outputs": [
    {
     "name": "stdout",
     "output_type": "stream",
     "text": [
      "Hello, Rahul!\n"
     ]
    }
   ],
   "source": [
    "# Function definition with positional arguments\n",
    "def greet(name, greeting):\n",
    "    print(f\"{greeting}, {name}!\")\n",
    "\n",
    "# Calling the function with positional arguments\n",
    "greet(\"Rahul\", \"Hello\")"
   ]
  },
  {
   "cell_type": "markdown",
   "metadata": {},
   "source": [
    "**2. Keyword Arguments Example:**"
   ]
  },
  {
   "cell_type": "code",
   "execution_count": 2,
   "metadata": {},
   "outputs": [
    {
     "name": "stdout",
     "output_type": "stream",
     "text": [
      "नमस्ते, राहुल!\n"
     ]
    }
   ],
   "source": [
    "# Function definition with keyword arguments\n",
    "def greet(name, greeting):\n",
    "    print(f\"{greeting}, {name}!\")\n",
    "\n",
    "# Calling the function with keyword arguments\n",
    "greet(greeting=\"नमस्ते\", name=\"राहुल\")"
   ]
  },
  {
   "cell_type": "markdown",
   "metadata": {},
   "source": []
  },
  {
   "cell_type": "markdown",
   "metadata": {},
   "source": [
    "### 3. What is the purpose of the return statement in a function? Can a function have multiple return statements ? Explain with an example."
   ]
  },
  {
   "cell_type": "markdown",
   "metadata": {},
   "source": [
    "#### Purpose of the `return` Statement in a Function:\n",
    "\n",
    "The `return` statement in Python is used to exit a function and optionally return a value to the caller of the function. It serves several important purposes:\n",
    "\n",
    "1. **Exiting the Function:** When a `return` statement is encountered, the function immediately exits, and control returns to the caller. This means any code after the `return` statement within the function will not be executed.\n",
    "\n",
    "2. **Returning Values:** The `return` statement can optionally return a value back to the caller. This value can be of any data type in Python, including integers, floats, strings, lists, dictionaries, or even `None`.\n",
    "\n",
    "#### Multiple `return` Statements in a Function:\n",
    "\n",
    "Yes, a function can indeed have multiple `return` statements. This allows a function to conditionally return different values based on different conditions. Once a `return` statement is executed, the function exits immediately, so only one `return` statement will ever be executed during a single function call.\n",
    "\n",
    "**Example:**\n",
    "\n",
    "Let's consider a function that determines whether a number is positive, negative, or zero. We can use multiple `return` statements to handle each case:"
   ]
  },
  {
   "cell_type": "code",
   "execution_count": 6,
   "metadata": {},
   "outputs": [
    {
     "name": "stdout",
     "output_type": "stream",
     "text": [
      "Result 1: Positive\n",
      "Result 2: Negative\n",
      "Result 3: Zero\n"
     ]
    }
   ],
   "source": [
    "def check_number(num):\n",
    "    if num > 0:\n",
    "        return \"Positive\"\n",
    "    elif num < 0:\n",
    "        return \"Negative\"\n",
    "    else:\n",
    "        return \"Zero\"\n",
    "\n",
    "# Example usage of the function\n",
    "result1 = check_number(10)\n",
    "print(\"Result 1:\", result1)  # Output: Result 1: Positive\n",
    "\n",
    "result2 = check_number(-5)\n",
    "print(\"Result 2:\", result2)  # Output: Result 2: Negative\n",
    "\n",
    "result3 = check_number(0)\n",
    "print(\"Result 3:\", result3)  # Output: Result 3: Zero"
   ]
  },
  {
   "cell_type": "markdown",
   "metadata": {},
   "source": [
    "#### Key Points:\n",
    "- **Function Exit:** The `return` statement exits the function and returns control to the caller.\n",
    "- **Value Return:** It can optionally return a value to the caller.\n",
    "- **Multiple Returns:** A function can have multiple `return` statements, but only one will execute per function call depending on the condition evaluated at runtime."
   ]
  },
  {
   "cell_type": "markdown",
   "metadata": {},
   "source": []
  },
  {
   "cell_type": "markdown",
   "metadata": {},
   "source": [
    "### 4. What are lambda functions in Python? How are they different from regular functions? Provide an example where a lambda function can be useful."
   ]
  },
  {
   "cell_type": "markdown",
   "metadata": {},
   "source": [
    "Lambda functions in Python are small, anonymous functions defined using the lambda keyword. They are used when a simple, one-line function is needed for a short period of time, typically where a full function definition would be excessive.\n",
    "\n",
    "#### Key Differences from Regular Functions:\n",
    "\n",
    "**Syntax:** Lambda functions are written in a single line using the lambda keyword, whereas regular functions in Python are defined using the def keyword with a function name and block of code.\n",
    "\n",
    "**Anonymous:** Lambda functions are anonymous, meaning they do not have a name. They are primarily used where the function is needed temporarily or where it's more convenient to define the function inline.\n",
    "\n",
    "**Return Statement:** Lambda functions automatically return the value of the expression without needing an explicit return statement.\n",
    "\n",
    "#### Example where a Lambda Function can be Useful:\n",
    "\n",
    "A common use case for lambda functions is when you need to pass a simple function as an argument to another function, such as in functional programming constructs like `map()`, `filter()`, or `sorted()`.\n",
    "\n",
    "**Example:**"
   ]
  },
  {
   "cell_type": "code",
   "execution_count": 10,
   "metadata": {},
   "outputs": [
    {
     "name": "stdout",
     "output_type": "stream",
     "text": [
      "Original list: [4, 1, 3, 2, 5]\n",
      "Sorted list based on squares: [1, 2, 3, 4, 5]\n"
     ]
    }
   ],
   "source": [
    "numbers = [4, 1, 3, 2, 5]\n",
    "\n",
    "# Sorting numbers based on their squares using a lambda function\n",
    "sorted_numbers = sorted(numbers, key=lambda x: x**2)\n",
    "\n",
    "print(\"Original list:\", numbers)\n",
    "print(\"Sorted list based on squares:\", sorted_numbers)"
   ]
  },
  {
   "cell_type": "markdown",
   "metadata": {},
   "source": [
    "#### Benefits of Lambda Functions:\n",
    "\n",
    "- **Conciseness:** Lambda functions allow you to write functions quickly and compactly without the overhead of a full function definition.\n",
    "\n",
    "- **Readability:** They can enhance the readability of code, especially in situations where the function's logic is simple and fits within a single line.\n",
    "\n",
    "- **Functional Programming:** Lambda functions facilitate functional programming paradigms by enabling the use of functions as first-class citizens, where functions can be passed around as arguments or returned from other functions."
   ]
  },
  {
   "cell_type": "markdown",
   "metadata": {},
   "source": []
  },
  {
   "cell_type": "markdown",
   "metadata": {},
   "source": [
    "### 5. How does the concept of \"scope\" apply to functions in Python? Explain the difference between local scope and global scope.\n"
   ]
  },
  {
   "cell_type": "markdown",
   "metadata": {},
   "source": [
    "In Python, \"scope\" refers to the visibility of variables within different parts of your code. Understanding scope is crucial because it determines where you can access a variable and whether changes to that variable will persist.\n",
    "\n",
    "### Differences between Local Scope and Global Scope:\n",
    "\n",
    "| **Aspect**                | **Local Scope**                                    | **Global Scope**                                       |\n",
    "|---------------------------|----------------------------------------------------|--------------------------------------------------------|\n",
    "| **Definition**            | Variables defined inside a function.               | Variables defined outside functions or with `global` keyword. |\n",
    "| **Access Location**       | Limited to the function where they are defined.    | Accessible from anywhere in the program.                |\n",
    "| **Lifetime**              | Created when the function is called, destroyed when the function exits. | Exist throughout the entire program execution.         |\n",
    "| **Visibility**            | Not visible outside the function.                  | Visible and accessible throughout the program.         |\n",
    "| **Impact of Changes**     | Changes made to variables do not affect outside the function. | Changes made to variables affect the entire program.    |"
   ]
  },
  {
   "cell_type": "code",
   "execution_count": 12,
   "metadata": {},
   "outputs": [
    {
     "name": "stdout",
     "output_type": "stream",
     "text": [
      "Inside function - local_var: 10\n",
      "Inside function - global_var: 20\n",
      "Outside function - global_var: 20\n"
     ]
    }
   ],
   "source": [
    "global_var = 20  # global variable\n",
    "\n",
    "def my_function():\n",
    "    local_var = 10  # local variable\n",
    "    print(\"Inside function - local_var:\", local_var)\n",
    "    print(\"Inside function - global_var:\", global_var)\n",
    "\n",
    "my_function()\n",
    "\n",
    "print(\"Outside function - global_var:\", global_var)"
   ]
  },
  {
   "cell_type": "code",
   "execution_count": 13,
   "metadata": {},
   "outputs": [
    {
     "ename": "NameError",
     "evalue": "name 'local_var' is not defined",
     "output_type": "error",
     "traceback": [
      "\u001b[1;31m---------------------------------------------------------------------------\u001b[0m",
      "\u001b[1;31mNameError\u001b[0m                                 Traceback (most recent call last)",
      "Cell \u001b[1;32mIn[13], line 1\u001b[0m\n\u001b[1;32m----> 1\u001b[0m \u001b[38;5;28mprint\u001b[39m(\u001b[38;5;124m\"\u001b[39m\u001b[38;5;124mOutside function - local_var:\u001b[39m\u001b[38;5;124m\"\u001b[39m, local_var)\n",
      "\u001b[1;31mNameError\u001b[0m: name 'local_var' is not defined"
     ]
    }
   ],
   "source": [
    "print(\"Outside function - local_var:\", local_var)  # This would cause an error"
   ]
  },
  {
   "cell_type": "markdown",
   "metadata": {},
   "source": []
  },
  {
   "cell_type": "markdown",
   "metadata": {},
   "source": [
    "### 6. How can you use the \"return\" statement in a Python function to return multiple values?"
   ]
  },
  {
   "cell_type": "markdown",
   "metadata": {},
   "source": [
    "In Python, you can use the return statement to return multiple values from a function by returning a tuple, a list, or multiple values separated by commas. This technique allows you to encapsulate and return multiple pieces of data back to the caller efficiently.\n",
    "\n",
    "#### Returning Multiple Values Using a Tuple:\n",
    "One common approach is to use a tuple to return multiple values from a function. Here's an example:"
   ]
  },
  {
   "cell_type": "code",
   "execution_count": 14,
   "metadata": {},
   "outputs": [
    {
     "name": "stdout",
     "output_type": "stream",
     "text": [
      "Total Sum: 236\n",
      "Average: 47.2\n",
      "Maximum Value: 89\n",
      "Minimum Value: 12\n"
     ]
    }
   ],
   "source": [
    "def calculate_statistics(numbers):\n",
    "    total = sum(numbers)\n",
    "    average = total / len(numbers)\n",
    "    max_value = max(numbers)\n",
    "    min_value = min(numbers)\n",
    "    \n",
    "    return total, average, max_value, min_value\n",
    "\n",
    "# Example usage:\n",
    "numbers = [23, 45, 12, 67, 89]\n",
    "result = calculate_statistics(numbers)\n",
    "\n",
    "total_sum, avg, maximum, minimum = result\n",
    "\n",
    "print(\"Total Sum:\", total_sum)\n",
    "print(\"Average:\", avg)\n",
    "print(\"Maximum Value:\", maximum)\n",
    "print(\"Minimum Value:\", minimum)\n"
   ]
  },
  {
   "cell_type": "markdown",
   "metadata": {},
   "source": []
  },
  {
   "cell_type": "markdown",
   "metadata": {},
   "source": [
    "### 7. What is the difference between the \"pass by value\" and \"pass by reference\" concepts when it comes to function arguments in Python ?"
   ]
  },
  {
   "cell_type": "markdown",
   "metadata": {},
   "source": [
    "In Python, the concepts of \"pass by value\" and \"pass by reference\" can be a bit nuanced because Python handles function arguments differently compared to some other programming languages like C++ or Java. Here's an explanation of how these concepts apply in Python:\n",
    "\n",
    "#### Pass by Value:\n",
    "\n",
    "- **Definition:** Pass by value means that when you pass a variable as an argument to a function, a copy of the variable's value is passed.\n",
    "- **Behavior in Python:**\n",
    "  - Immutable objects (like integers, strings, tuples) are passed by value in Python.\n",
    "  - Changes made to the parameter inside the function do not affect the original variable passed from outside the function.\n",
    "  \n",
    "**Example:**"
   ]
  },
  {
   "cell_type": "code",
   "execution_count": 15,
   "metadata": {},
   "outputs": [
    {
     "name": "stdout",
     "output_type": "stream",
     "text": [
      "Inside function: 10\n",
      "Outside function: 5\n"
     ]
    }
   ],
   "source": [
    "def change_value(x):\n",
    "    x = 10  # Assigning a new value to the parameter x\n",
    "    print(\"Inside function:\", x)\n",
    "\n",
    "value = 5\n",
    "change_value(value)\n",
    "print(\"Outside function:\", value)"
   ]
  },
  {
   "cell_type": "markdown",
   "metadata": {},
   "source": [
    "#### Pass by Reference:\n",
    "\n",
    "- **Definition:** Pass by reference means that when you pass a variable as an argument to a function, you are passing a reference (or memory address) to the variable.\n",
    "- **Behavior in Python:**\n",
    "  - Mutable objects (like lists, dictionaries) are passed by reference in Python.\n",
    "  - Changes made to the parameter inside the function affect the original object passed from outside the function.\n",
    "\n",
    "**Example:**"
   ]
  },
  {
   "cell_type": "code",
   "execution_count": 16,
   "metadata": {},
   "outputs": [
    {
     "name": "stdout",
     "output_type": "stream",
     "text": [
      "Inside function: [1, 2, 3, 4]\n",
      "Outside function: [1, 2, 3, 4]\n"
     ]
    }
   ],
   "source": [
    "def add_element(lst):\n",
    "    lst.append(4)  # Modifying the list passed as parameter\n",
    "    print(\"Inside function:\", lst)\n",
    "\n",
    "my_list = [1, 2, 3]\n",
    "add_element(my_list)\n",
    "print(\"Outside function:\", my_list)"
   ]
  },
  {
   "cell_type": "markdown",
   "metadata": {},
   "source": [
    "### Key Differences in Python:\n",
    "\n",
    "- **Immutable vs Mutable:** Python does not strictly adhere to pass by value or pass by reference because it depends on whether the object being passed is mutable or immutable.\n",
    "- **Immutable Objects:** Changes made to immutable objects inside a function (like reassigning a variable) do not affect the original object outside the function.\n",
    "- **Mutable Objects:** Changes made to mutable objects inside a function (like modifying a list) affect the original object outside the function because they share the same reference."
   ]
  },
  {
   "cell_type": "markdown",
   "metadata": {},
   "source": []
  },
  {
   "cell_type": "markdown",
   "metadata": {},
   "source": [
    "### 8. Create a function that can intake integer or decimal value and do following operations:\n",
    "- a. Logarithmic function (log x)\n",
    "- b. Exponential function (exp(x))\n",
    "- c. Power function with base 2 (2x)\n",
    "- d. Square root"
   ]
  },
  {
   "cell_type": "code",
   "execution_count": 9,
   "metadata": {},
   "outputs": [
    {
     "name": "stdout",
     "output_type": "stream",
     "text": [
      "Logarithm of 7.0: 1.9459101490553132\n",
      "Exponential of 7.0: 1096.6331584284585\n",
      "Power of 2 to the 7.0: 128.0\n",
      "Square root of 7.0: 2.6457513110645907\n"
     ]
    }
   ],
   "source": [
    "import math\n",
    "\n",
    "def math_operation(x):\n",
    "    results = {\n",
    "        'logarithm': math.log(x),\n",
    "        'exponent': math.exp(x),\n",
    "        'power_of_2': math.pow(2, x),\n",
    "        'square_root': math.sqrt(x)\n",
    "    }\n",
    "    return results\n",
    "\n",
    "# Example\n",
    "value = 7.0\n",
    "opration_result = math_operation(value)\n",
    "\n",
    "print(f\"Logarithm of {value}: {opration_result['logarithm']}\")\n",
    "print(f\"Exponential of {value}: {opration_result['exponent']}\")\n",
    "print(f\"Power of 2 to the {value}: {opration_result['power_of_2']}\")\n",
    "print(f\"Square root of {value}: {opration_result['square_root']}\")"
   ]
  },
  {
   "cell_type": "markdown",
   "metadata": {},
   "source": []
  },
  {
   "cell_type": "markdown",
   "metadata": {},
   "source": [
    "### 9. Create a function that takes a full name as an argument and returns first name and last name"
   ]
  },
  {
   "cell_type": "code",
   "execution_count": 8,
   "metadata": {},
   "outputs": [
    {
     "name": "stdout",
     "output_type": "stream",
     "text": [
      "First Name: Rahul\n",
      "Last Name: Shelke\n"
     ]
    }
   ],
   "source": [
    "def extract_names(full_name):\n",
    "    # Split the full name into parts based on spaces\n",
    "    name_parts = full_name.split()\n",
    "\n",
    "    # Extract first name (first part) and last name (last part)\n",
    "    first_name = name_parts[0]\n",
    "    last_name = name_parts[-1]\n",
    "\n",
    "    # Return a tuple containing first name and last name\n",
    "    return (first_name, last_name)\n",
    "\n",
    "# Example usage:\n",
    "full_name = \"Rahul Shelke\"\n",
    "first_name, last_name = extract_names(full_name)\n",
    "print(\"First Name:\", first_name)\n",
    "print(\"Last Name:\", last_name)"
   ]
  },
  {
   "cell_type": "markdown",
   "metadata": {},
   "source": []
  },
  {
   "cell_type": "markdown",
   "metadata": {},
   "source": [
    "<i>\"Thank you for exploring all the way to the end of my page!\"</i>\n",
    "\n",
    "<p>\n",
    "regards, <br>\n",
    "<a href=\"https:www.github.com/Rahul-404/\">Rahul Shelke</a>\n",
    "</p>"
   ]
  },
  {
   "cell_type": "markdown",
   "metadata": {},
   "source": []
  }
 ],
 "metadata": {
  "kernelspec": {
   "display_name": "base",
   "language": "python",
   "name": "python3"
  },
  "language_info": {
   "codemirror_mode": {
    "name": "ipython",
    "version": 3
   },
   "file_extension": ".py",
   "mimetype": "text/x-python",
   "name": "python",
   "nbconvert_exporter": "python",
   "pygments_lexer": "ipython3",
   "version": "3.11.7"
  }
 },
 "nbformat": 4,
 "nbformat_minor": 2
}
