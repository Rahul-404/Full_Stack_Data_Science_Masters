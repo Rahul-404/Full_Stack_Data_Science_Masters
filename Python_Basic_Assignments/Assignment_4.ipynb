{
 "cells": [
  {
   "cell_type": "markdown",
   "metadata": {},
   "source": [
    "<h1><p align=\"center\"> Assignment : 4 </p></h1>"
   ]
  },
  {
   "cell_type": "markdown",
   "metadata": {},
   "source": [
    "## 1. What exactly is [] ?"
   ]
  },
  {
   "cell_type": "markdown",
   "metadata": {},
   "source": [
    "In Python, `[]` represents an **empty list**.\n",
    "\n",
    "### Characteristics of an Empty List `[]`:\n",
    "\n",
    "- **Type**: The type of `[]` is `list`.\n",
    "- **Contents**: It contains no elements. It's essentially an empty collection that can hold multiple items of various types.\n",
    "- **Mutability**: Lists in Python are mutable, meaning that you can modify their contents (add, remove, or change elements) after creation.\n",
    "\n",
    "### Usage:\n",
    "\n",
    "- **Initialization**: You can use `[]` to initialize an empty list, which you can later populate with elements.\n"
   ]
  },
  {
   "cell_type": "code",
   "execution_count": 1,
   "metadata": {},
   "outputs": [],
   "source": [
    "my_list = []  # Initializes an empty list"
   ]
  },
  {
   "cell_type": "markdown",
   "metadata": {},
   "source": [
    "- **Operations**: You can perform operations on an empty list, such as appending elements, iterating over it, and checking its length."
   ]
  },
  {
   "cell_type": "code",
   "execution_count": 2,
   "metadata": {},
   "outputs": [],
   "source": [
    "my_list = []"
   ]
  },
  {
   "cell_type": "code",
   "execution_count": 3,
   "metadata": {},
   "outputs": [],
   "source": [
    "my_list.append(1)  # Adds the element 1 to the list"
   ]
  },
  {
   "cell_type": "code",
   "execution_count": 4,
   "metadata": {},
   "outputs": [
    {
     "name": "stdout",
     "output_type": "stream",
     "text": [
      "[1]\n"
     ]
    }
   ],
   "source": [
    "print(my_list)"
   ]
  },
  {
   "cell_type": "code",
   "execution_count": 5,
   "metadata": {},
   "outputs": [
    {
     "name": "stdout",
     "output_type": "stream",
     "text": [
      "1\n"
     ]
    }
   ],
   "source": [
    "print(len(my_list))"
   ]
  },
  {
   "cell_type": "markdown",
   "metadata": {},
   "source": [
    "- **Default Values**: Empty lists are often used as default values for function arguments, which can be modified during function execution."
   ]
  },
  {
   "cell_type": "code",
   "execution_count": 6,
   "metadata": {},
   "outputs": [],
   "source": [
    "def process_items(items=None):\n",
    "    if items is None:\n",
    "        items = []\n",
    "    items.append('new_item')\n",
    "    return items"
   ]
  },
  {
   "cell_type": "code",
   "execution_count": 7,
   "metadata": {},
   "outputs": [
    {
     "name": "stdout",
     "output_type": "stream",
     "text": [
      "['new_item']\n"
     ]
    }
   ],
   "source": [
    "print(process_items())"
   ]
  },
  {
   "cell_type": "markdown",
   "metadata": {},
   "source": [
    "### Summary\n",
    "\n",
    "- `[]` is an empty list in Python.\n",
    "- It is a mutable sequence type that can be used to store a collection of items. \n",
    "- You can initialize, modify, and interact with lists using various list methods and operations."
   ]
  },
  {
   "cell_type": "code",
   "execution_count": null,
   "metadata": {},
   "outputs": [],
   "source": []
  },
  {
   "cell_type": "markdown",
   "metadata": {},
   "source": [
    "## 2. In a list of values stored in a variable called spam, how would you assign the value 'hello' as the third value? (Assume [2, 4, 6, 8, 10] are in spam.) Let's pretend the spam includes the list ['a', 'b', 'c', 'd'] for the next three queries."
   ]
  },
  {
   "cell_type": "markdown",
   "metadata": {},
   "source": [
    "To assign the value `'hello'` as the third value in a list stored in the variable `spam`, you need to modify the element at index 2 (since Python lists are zero-indexed). Here’s how you would do it:"
   ]
  },
  {
   "cell_type": "code",
   "execution_count": 8,
   "metadata": {},
   "outputs": [],
   "source": [
    "spam = ['a', 'b', 'c', 'd']  # Original list"
   ]
  },
  {
   "cell_type": "code",
   "execution_count": 9,
   "metadata": {},
   "outputs": [],
   "source": [
    "spam[2] = 'hello'            # Assign 'hello' to the third position (index 2)"
   ]
  },
  {
   "cell_type": "code",
   "execution_count": 10,
   "metadata": {},
   "outputs": [
    {
     "name": "stdout",
     "output_type": "stream",
     "text": [
      "['a', 'b', 'hello', 'd']\n"
     ]
    }
   ],
   "source": [
    "print(spam)"
   ]
  },
  {
   "cell_type": "markdown",
   "metadata": {},
   "source": [
    "### Explanation:\n",
    "\n",
    "- **Indexing**: Lists in Python are zero-indexed, meaning the first element is at index `0`, the second at index `1`, and so on.\n",
    "- **Assigning Value**: By setting `spam[2] = 'hello'`, you replace the value at index `2` with `'hello'`.\n",
    "\n",
    "### Result:\n",
    "\n",
    "After executing the assignment, the list `spam` will be updated to `['a', 'b', 'hello', 'd']`."
   ]
  },
  {
   "cell_type": "code",
   "execution_count": null,
   "metadata": {},
   "outputs": [],
   "source": []
  },
  {
   "cell_type": "markdown",
   "metadata": {},
   "source": [
    "## 3. What is the value of spam[int(int('3' * 2) / 11)] ?"
   ]
  },
  {
   "cell_type": "markdown",
   "metadata": {},
   "source": [
    "Let's break down the expression `spam[int(int('3' * 2) / 11)]` step by step:\n",
    "\n",
    "1. **`'3' * 2`**:\n",
    "   - This concatenates the string `'3'` with itself, resulting in `'33'`.\n",
    "\n",
    "2. **`int('33')`**:\n",
    "   - Converts the string `'33'` to the integer `33`.\n",
    "\n",
    "3. **`33 / 11`**:\n",
    "   - Performs integer division, which results in `3.0` (note that this is a floating-point number).\n",
    "\n",
    "4. **`int(3.0)`**:\n",
    "   - Converts the floating-point number `3.0` to the integer `3`.\n",
    "\n",
    "5. **`spam[3]`**:\n",
    "   - Finally, it accesses the element at index `3` of the list `spam`.\n",
    "\n",
    "Assuming `spam = ['a', 'b', 'c', 'd']` from your example, let's evaluate:"
   ]
  },
  {
   "cell_type": "code",
   "execution_count": 11,
   "metadata": {},
   "outputs": [],
   "source": [
    "spam = ['a', 'b', 'c', 'd']"
   ]
  },
  {
   "cell_type": "code",
   "execution_count": 12,
   "metadata": {},
   "outputs": [],
   "source": [
    "index = int(int('3' * 2) / 11)  # Compute the index"
   ]
  },
  {
   "cell_type": "code",
   "execution_count": 13,
   "metadata": {},
   "outputs": [
    {
     "name": "stdout",
     "output_type": "stream",
     "text": [
      "d\n"
     ]
    }
   ],
   "source": [
    "print(spam[index])  # Output the value at the computed index"
   ]
  },
  {
   "cell_type": "markdown",
   "metadata": {},
   "source": [
    "### Calculation:\n",
    "\n",
    "1. `'3' * 2` → `'33'`\n",
    "2. `int('33')` → `33`\n",
    "3. `33 / 11` → `3.0`\n",
    "4. `int(3.0)` → `3`\n",
    "5. `spam[3]` → `'d'`\n",
    "\n",
    "### Value:\n",
    "\n",
    "The value of `spam[int(int('3' * 2) / 11)]` is `'d'`."
   ]
  },
  {
   "cell_type": "code",
   "execution_count": null,
   "metadata": {},
   "outputs": [],
   "source": []
  },
  {
   "cell_type": "markdown",
   "metadata": {},
   "source": [
    "## 4. What is the value of spam[-1] ?"
   ]
  },
  {
   "cell_type": "markdown",
   "metadata": {},
   "source": [
    "In Python, negative indexing allows you to access elements from the end of a list. Specifically, `spam[-1]` refers to the last element of the list `spam`.\n",
    "\n",
    "Given the list `spam = ['a', 'b', 'c', 'd']`:\n",
    "\n",
    "- **`spam[-1]`**: Accesses the last element of the list.\n",
    "\n",
    "### Calculation:\n",
    "\n",
    "1. `spam[-1]` refers to the last element of the list.\n",
    "2. In the list `['a', 'b', 'c', 'd']`, the last element is `'d'`.\n",
    "\n",
    "### Value:\n",
    "\n",
    "The value of `spam[-1]` is `'d'`."
   ]
  },
  {
   "cell_type": "code",
   "execution_count": null,
   "metadata": {},
   "outputs": [],
   "source": []
  },
  {
   "cell_type": "markdown",
   "metadata": {},
   "source": [
    "## 5. What is the value of spam[:2] ? Let's pretend bacon has the list [3.14, 'cat,' 11, 'cat,' True] for the next three questions."
   ]
  },
  {
   "cell_type": "markdown",
   "metadata": {},
   "source": [
    "In Python, list slicing allows you to access a portion of a list. The syntax for slicing is `list[start:end]`, where `start` is the index where the slice begins, and `end` is the index where the slice ends (but does not include the element at the `end` index).\n",
    "\n",
    "For `spam[:2]`, the slice starts from the beginning of the list and includes elements up to, but not including, index `2`.\n",
    "\n",
    "Given the list `spam = ['a', 'b', 'c', 'd']`:\n",
    "\n",
    "### Calculation:\n",
    "\n",
    "- **`spam[:2]`**: Slices the list from the start (index `0`) up to, but not including, index `2`.\n",
    "\n",
    "Thus, `spam[:2]` includes the elements at indices `0` and `1`.\n",
    "\n",
    "### Value:\n",
    "\n",
    "For `spam = ['a', 'b', 'c', 'd']`:\n",
    "\n",
    "- `spam[:2]` results in `['a', 'b']`.\n",
    "\n",
    "### Summary:\n",
    "\n",
    "The value of `spam[:2]` is `['a', 'b']`."
   ]
  },
  {
   "cell_type": "code",
   "execution_count": null,
   "metadata": {},
   "outputs": [],
   "source": []
  },
  {
   "cell_type": "markdown",
   "metadata": {},
   "source": [
    "## 6. What is the value of bacon.index('cat') ?"
   ]
  },
  {
   "cell_type": "markdown",
   "metadata": {},
   "source": [
    "To determine the value of `bacon.index('cat')`, you need to find the index of the first occurrence of the element `'cat'` in the list `bacon`.\n",
    "\n",
    "Given the list `bacon = [3.14, 'cat', 11, 'cat', True]`:\n",
    "\n",
    "- **`bacon.index('cat')`**: This method returns the index of the first occurrence of the value `'cat'`.\n",
    "\n",
    "### Calculation:\n",
    "\n",
    "1. The first occurrence of `'cat'` in the list is at index `1`.\n",
    "2. The `index` method returns this index.\n",
    "\n",
    "### Value:\n",
    "\n",
    "The value of `bacon.index('cat')` is `1`."
   ]
  },
  {
   "cell_type": "code",
   "execution_count": null,
   "metadata": {},
   "outputs": [],
   "source": []
  },
  {
   "cell_type": "markdown",
   "metadata": {},
   "source": [
    "## 7. How does bacon.append(99) change the look of the list value in bacon ?"
   ]
  },
  {
   "cell_type": "markdown",
   "metadata": {},
   "source": [
    "The `bacon.append(99)` method adds the value `99` to the end of the list `bacon`. \n",
    "\n",
    "Given the initial list:"
   ]
  },
  {
   "cell_type": "code",
   "execution_count": 14,
   "metadata": {},
   "outputs": [],
   "source": [
    "bacon = [3.14, 'cat', 11, 'cat', True]"
   ]
  },
  {
   "cell_type": "markdown",
   "metadata": {},
   "source": [
    "### Operation:\n",
    "\n",
    "- **`bacon.append(99)`**: Appends `99` to the end of the list.\n",
    "\n",
    "### Result:\n",
    "\n",
    "After executing `bacon.append(99)`, the list `bacon` will look like this:"
   ]
  },
  {
   "cell_type": "code",
   "execution_count": 15,
   "metadata": {},
   "outputs": [],
   "source": [
    "bacon = [3.14, 'cat', 11, 'cat', True, 99]"
   ]
  },
  {
   "cell_type": "markdown",
   "metadata": {},
   "source": [
    "### Summary:\n",
    "\n",
    "- The `append` method adds the specified element (`99` in this case) to the end of the list, modifying the original list by increasing its length by one and placing `99` at the last position."
   ]
  },
  {
   "cell_type": "code",
   "execution_count": null,
   "metadata": {},
   "outputs": [],
   "source": []
  },
  {
   "cell_type": "markdown",
   "metadata": {},
   "source": [
    "## 8. How does bacon.remove('cat') change the look of the list in bacon ?"
   ]
  },
  {
   "cell_type": "markdown",
   "metadata": {},
   "source": [
    "The `bacon.remove('cat')` method removes the first occurrence of the value `'cat'` from the list `bacon`. \n",
    "\n",
    "Given the initial list:"
   ]
  },
  {
   "cell_type": "code",
   "execution_count": 16,
   "metadata": {},
   "outputs": [],
   "source": [
    "bacon = [3.14, 'cat', 11, 'cat', True, 99]"
   ]
  },
  {
   "cell_type": "markdown",
   "metadata": {},
   "source": [
    "### Operation:\n",
    "\n",
    "- **`bacon.remove('cat')`**: Removes the first occurrence of `'cat'` from the list.\n",
    "\n",
    "### Result:\n",
    "\n",
    "After executing `bacon.remove('cat')`, the list `bacon` will look like this:"
   ]
  },
  {
   "cell_type": "code",
   "execution_count": 17,
   "metadata": {},
   "outputs": [],
   "source": [
    "bacon = [3.14, 11, 'cat', True, 99]"
   ]
  },
  {
   "cell_type": "markdown",
   "metadata": {},
   "source": [
    "### Summary:\n",
    "\n",
    "- The `remove` method deletes the first matching element (`'cat'` in this case) from the list. If there are multiple occurrences of `'cat'`, only the first one is removed, and the list is modified in place."
   ]
  },
  {
   "cell_type": "code",
   "execution_count": null,
   "metadata": {},
   "outputs": [],
   "source": []
  },
  {
   "cell_type": "markdown",
   "metadata": {},
   "source": [
    "## 9. What are the list concatenation and list replication operators ?"
   ]
  },
  {
   "cell_type": "markdown",
   "metadata": {},
   "source": [
    "In Python, list concatenation and list replication are two operations that allow you to combine and repeat lists.\n",
    "\n",
    "### 1. **List Concatenation (`+` Operator)**\n",
    "\n",
    "- **Purpose**: To join two or more lists into a single list.\n",
    "- **Operator**: `+`\n",
    "\n",
    "#### Example:"
   ]
  },
  {
   "cell_type": "code",
   "execution_count": 18,
   "metadata": {},
   "outputs": [
    {
     "name": "stdout",
     "output_type": "stream",
     "text": [
      "[1, 2, 3, 4, 5, 6]\n"
     ]
    }
   ],
   "source": [
    "list1 = [1, 2, 3]\n",
    "list2 = [4, 5, 6]\n",
    "result = list1 + list2\n",
    "\n",
    "print(result)  "
   ]
  },
  {
   "cell_type": "markdown",
   "metadata": {},
   "source": [
    "In this example:\n",
    "- The `+` operator combines `list1` and `list2` into a new list `result`, which contains all elements from both lists.\n",
    "\n",
    "### 2. **List Replication (`*` Operator)**\n",
    "\n",
    "- **Purpose**: To create a new list that contains multiple copies of the original list.\n",
    "- **Operator**: `*`\n",
    "\n",
    "#### Example:"
   ]
  },
  {
   "cell_type": "code",
   "execution_count": 19,
   "metadata": {},
   "outputs": [
    {
     "name": "stdout",
     "output_type": "stream",
     "text": [
      "[1, 2, 3, 1, 2, 3, 1, 2, 3]\n"
     ]
    }
   ],
   "source": [
    "list1 = [1, 2, 3]\n",
    "result = list1 * 3\n",
    "\n",
    "print(result)  "
   ]
  },
  {
   "cell_type": "markdown",
   "metadata": {},
   "source": [
    "In this example:\n",
    "- The `*` operator repeats the elements of `list1` three times to create a new list `result`.\n",
    "\n",
    "### Summary\n",
    "\n",
    "- **List Concatenation (`+`)**: Combines multiple lists into one.\n",
    "- **List Replication (`*`)**: Creates a new list by repeating the elements of the original list a specified number of times."
   ]
  },
  {
   "cell_type": "code",
   "execution_count": null,
   "metadata": {},
   "outputs": [],
   "source": []
  },
  {
   "cell_type": "markdown",
   "metadata": {},
   "source": [
    "## 10. What is difference between the list methods append() and insert() ?"
   ]
  },
  {
   "cell_type": "markdown",
   "metadata": {},
   "source": [
    "The `append()` and `insert()` methods in Python are used to modify lists, but they serve different purposes and have different effects:\n",
    "\n",
    "### `append()`\n",
    "\n",
    "- **Purpose**: Adds an element to the end of the list.\n",
    "- **Syntax**: `list.append(element)`\n",
    "- **Effect**: The element is added as the last item in the list.\n",
    "- **Usage**: Use `append()` when you want to add an item to the end of the list.\n",
    "\n",
    "#### Example:"
   ]
  },
  {
   "cell_type": "code",
   "execution_count": 20,
   "metadata": {},
   "outputs": [
    {
     "name": "stdout",
     "output_type": "stream",
     "text": [
      "[1, 2, 3, 4]\n"
     ]
    }
   ],
   "source": [
    "my_list = [1, 2, 3]\n",
    "my_list.append(4)\n",
    "\n",
    "print(my_list)  "
   ]
  },
  {
   "cell_type": "markdown",
   "metadata": {},
   "source": [
    "### `insert()`\n",
    "\n",
    "- **Purpose**: Adds an element at a specific position in the list.\n",
    "- **Syntax**: `list.insert(index, element)`\n",
    "- **Effect**: The element is added at the position specified by `index`. All elements from that position onward are shifted one position to the right.\n",
    "- **Usage**: Use `insert()` when you need to add an item at a specific index.\n",
    "\n",
    "#### Example:"
   ]
  },
  {
   "cell_type": "code",
   "execution_count": 21,
   "metadata": {},
   "outputs": [
    {
     "name": "stdout",
     "output_type": "stream",
     "text": [
      "[1, 4, 2, 3]\n"
     ]
    }
   ],
   "source": [
    "my_list = [1, 2, 3]\n",
    "my_list.insert(1, 4)  # Inserts 4 at index 1\n",
    "\n",
    "print(my_list)"
   ]
  },
  {
   "cell_type": "markdown",
   "metadata": {},
   "source": [
    "### Summary\n",
    "\n",
    "- **`append()`**: Adds an element to the end of the list. Simple and straightforward for adding elements sequentially.\n",
    "- **`insert()`**: Adds an element at a specified position in the list. Useful for inserting elements at specific indices and shifting other elements if necessary."
   ]
  },
  {
   "cell_type": "code",
   "execution_count": null,
   "metadata": {},
   "outputs": [],
   "source": []
  },
  {
   "cell_type": "markdown",
   "metadata": {},
   "source": [
    "## 11. What are the two methods for removing items from a list ?"
   ]
  },
  {
   "cell_type": "markdown",
   "metadata": {},
   "source": [
    "In Python, there are several methods for removing items from a list, but the two most commonly used methods are `remove()` and `pop()`.\n",
    "\n",
    "### 1. **`remove()` Method**\n",
    "\n",
    "- **Purpose**: Removes the first occurrence of a specified value from the list.\n",
    "- **Syntax**: `list.remove(value)`\n",
    "- **Effect**: The method searches for the first occurrence of `value` and removes it from the list. If the value is not found, it raises a `ValueError`.\n",
    "- **Usage**: Use `remove()` when you want to remove a specific item by value.\n",
    "\n",
    "#### Example:"
   ]
  },
  {
   "cell_type": "code",
   "execution_count": 22,
   "metadata": {},
   "outputs": [
    {
     "name": "stdout",
     "output_type": "stream",
     "text": [
      "[1, 3, 4, 2]\n"
     ]
    }
   ],
   "source": [
    "my_list = [1, 2, 3, 4, 2]\n",
    "my_list.remove(2)  # Removes the first occurrence of 2\n",
    "\n",
    "print(my_list)"
   ]
  },
  {
   "cell_type": "markdown",
   "metadata": {},
   "source": [
    "### 2. **`pop()` Method**\n",
    "\n",
    "- **Purpose**: Removes and returns an item at a specified index. If no index is specified, it removes and returns the last item.\n",
    "- **Syntax**: `list.pop(index)`\n",
    "- **Effect**: The method removes the item at the specified `index` and returns it. If `index` is not provided, it removes and returns the last item in the list. If the index is out of range, it raises an `IndexError`.\n",
    "- **Usage**: Use `pop()` when you need to remove an item by index and optionally use the removed item.\n",
    "\n",
    "#### Example:"
   ]
  },
  {
   "cell_type": "code",
   "execution_count": 23,
   "metadata": {},
   "outputs": [],
   "source": [
    "my_list = [1, 2, 3, 4]\n",
    "removed_item = my_list.pop(2)  # Removes and returns the item at index 2 (which is 3)"
   ]
  },
  {
   "cell_type": "code",
   "execution_count": 24,
   "metadata": {},
   "outputs": [
    {
     "name": "stdout",
     "output_type": "stream",
     "text": [
      "[1, 2, 4]\n"
     ]
    }
   ],
   "source": [
    "print(my_list)"
   ]
  },
  {
   "cell_type": "code",
   "execution_count": 25,
   "metadata": {},
   "outputs": [
    {
     "name": "stdout",
     "output_type": "stream",
     "text": [
      "3\n"
     ]
    }
   ],
   "source": [
    "print(removed_item)"
   ]
  },
  {
   "cell_type": "markdown",
   "metadata": {},
   "source": [
    "### Summary\n",
    "\n",
    "- **`remove(value)`**: Removes the first occurrence of the specified value from the list. Raises a `ValueError` if the value is not present.\n",
    "- **`pop(index)`**: Removes and returns the item at the specified index (or the last item if no index is provided). Raises an `IndexError` if the index is out of range."
   ]
  },
  {
   "cell_type": "code",
   "execution_count": null,
   "metadata": {},
   "outputs": [],
   "source": []
  },
  {
   "cell_type": "markdown",
   "metadata": {},
   "source": [
    "## 12. Describe how list values and string values are identical."
   ]
  },
  {
   "cell_type": "markdown",
   "metadata": {},
   "source": [
    "List values and string values in Python share several similarities, particularly in how they are treated as sequences. Here are the key ways in which they are identical:\n",
    "\n",
    "### 1. **Indexing**\n",
    "\n",
    "Both lists and strings use zero-based indexing to access individual elements:\n",
    "\n",
    "- **Lists**: Access elements using `list[index]`.\n",
    "- **Strings**: Access characters using `string[index]`.\n",
    "\n",
    "#### Example:"
   ]
  },
  {
   "cell_type": "code",
   "execution_count": 26,
   "metadata": {},
   "outputs": [],
   "source": [
    "my_list = [10, 20, 30]\n",
    "my_string = \"hello\""
   ]
  },
  {
   "cell_type": "code",
   "execution_count": 27,
   "metadata": {},
   "outputs": [
    {
     "name": "stdout",
     "output_type": "stream",
     "text": [
      "20\n"
     ]
    }
   ],
   "source": [
    "print(my_list[1])"
   ]
  },
  {
   "cell_type": "code",
   "execution_count": 29,
   "metadata": {},
   "outputs": [
    {
     "name": "stdout",
     "output_type": "stream",
     "text": [
      "e\n"
     ]
    }
   ],
   "source": [
    "print(my_string[1])"
   ]
  },
  {
   "cell_type": "markdown",
   "metadata": {},
   "source": [
    "### 2. **Slicing**\n",
    "\n",
    "Both lists and strings support slicing, allowing you to obtain a subsequence:\n",
    "\n",
    "- **Lists**: Use `list[start:end]` to get a sublist.\n",
    "- **Strings**: Use `string[start:end]` to get a substring.\n",
    "\n",
    "#### Example:"
   ]
  },
  {
   "cell_type": "code",
   "execution_count": 30,
   "metadata": {},
   "outputs": [],
   "source": [
    "my_list = [10, 20, 30, 40]\n",
    "my_string = \"hello\""
   ]
  },
  {
   "cell_type": "code",
   "execution_count": 31,
   "metadata": {},
   "outputs": [
    {
     "name": "stdout",
     "output_type": "stream",
     "text": [
      "[20, 30]\n"
     ]
    }
   ],
   "source": [
    "print(my_list[1:3])"
   ]
  },
  {
   "cell_type": "code",
   "execution_count": 32,
   "metadata": {},
   "outputs": [
    {
     "name": "stdout",
     "output_type": "stream",
     "text": [
      "el\n"
     ]
    }
   ],
   "source": [
    "print(my_string[1:3])"
   ]
  },
  {
   "cell_type": "markdown",
   "metadata": {},
   "source": [
    "### 3. **Iteration**\n",
    "\n",
    "You can iterate over both lists and strings using loops:\n",
    "\n",
    "- **Lists**: Iterate using `for element in list`.\n",
    "- **Strings**: Iterate using `for char in string`.\n",
    "\n",
    "#### Example:"
   ]
  },
  {
   "cell_type": "code",
   "execution_count": 33,
   "metadata": {},
   "outputs": [],
   "source": [
    "my_list = [10, 20, 30]\n",
    "my_string = \"hello\""
   ]
  },
  {
   "cell_type": "code",
   "execution_count": 34,
   "metadata": {},
   "outputs": [
    {
     "name": "stdout",
     "output_type": "stream",
     "text": [
      "10\n",
      "20\n",
      "30\n"
     ]
    }
   ],
   "source": [
    "for item in my_list:\n",
    "    print(item)"
   ]
  },
  {
   "cell_type": "code",
   "execution_count": 35,
   "metadata": {},
   "outputs": [
    {
     "name": "stdout",
     "output_type": "stream",
     "text": [
      "h\n",
      "e\n",
      "l\n",
      "l\n",
      "o\n"
     ]
    }
   ],
   "source": [
    "for char in my_string:\n",
    "    print(char)"
   ]
  },
  {
   "cell_type": "markdown",
   "metadata": {},
   "source": [
    "### 4. **Length**\n",
    "\n",
    "Both lists and strings have a length that can be determined using the `len()` function:\n",
    "\n",
    "- **Lists**: `len(list)` returns the number of elements.\n",
    "- **Strings**: `len(string)` returns the number of characters.\n",
    "\n",
    "#### Example:"
   ]
  },
  {
   "cell_type": "code",
   "execution_count": 36,
   "metadata": {},
   "outputs": [],
   "source": [
    "my_list = [10, 20, 30]\n",
    "my_string = \"hello\""
   ]
  },
  {
   "cell_type": "code",
   "execution_count": 37,
   "metadata": {},
   "outputs": [
    {
     "name": "stdout",
     "output_type": "stream",
     "text": [
      "3\n"
     ]
    }
   ],
   "source": [
    "print(len(my_list))"
   ]
  },
  {
   "cell_type": "code",
   "execution_count": 38,
   "metadata": {},
   "outputs": [
    {
     "name": "stdout",
     "output_type": "stream",
     "text": [
      "5\n"
     ]
    }
   ],
   "source": [
    "print(len(my_string))"
   ]
  },
  {
   "cell_type": "markdown",
   "metadata": {},
   "source": [
    "### 5. **Concatenation**\n",
    "\n",
    "You can concatenate lists and strings using the `+` operator:\n",
    "\n",
    "- **Lists**: Combine lists using `list1 + list2`.\n",
    "- **Strings**: Combine strings using `string1 + string2`.\n",
    "\n",
    "#### Example:"
   ]
  },
  {
   "cell_type": "code",
   "execution_count": 39,
   "metadata": {},
   "outputs": [],
   "source": [
    "my_list1 = [1, 2]\n",
    "my_list2 = [3, 4]\n",
    "my_string1 = \"Hello \"\n",
    "my_string2 = \"World\""
   ]
  },
  {
   "cell_type": "code",
   "execution_count": 40,
   "metadata": {},
   "outputs": [
    {
     "name": "stdout",
     "output_type": "stream",
     "text": [
      "[1, 2, 3, 4]\n"
     ]
    }
   ],
   "source": [
    "print(my_list1 + my_list2)"
   ]
  },
  {
   "cell_type": "code",
   "execution_count": 41,
   "metadata": {},
   "outputs": [
    {
     "name": "stdout",
     "output_type": "stream",
     "text": [
      "Hello World\n"
     ]
    }
   ],
   "source": [
    "print(my_string1 + my_string2)"
   ]
  },
  {
   "cell_type": "markdown",
   "metadata": {},
   "source": [
    "### Summary\n",
    "\n",
    "Lists and strings are both sequence types in Python. They support indexing, slicing, iteration, length determination, and concatenation. However, while they share these similarities, lists are mutable (can be changed) and can contain heterogeneous types of elements, whereas strings are immutable (cannot be changed) and contain only characters."
   ]
  },
  {
   "cell_type": "code",
   "execution_count": null,
   "metadata": {},
   "outputs": [],
   "source": []
  },
  {
   "cell_type": "markdown",
   "metadata": {},
   "source": [
    "## 13. What's the difference between tuples and lists ?"
   ]
  },
  {
   "cell_type": "markdown",
   "metadata": {},
   "source": [
    "Tuples and lists are both sequence types in Python, but they have some important differences:\n",
    "\n",
    "### 1. **Mutability**\n",
    "\n",
    "- **Lists**: Mutable. This means you can change, add, or remove elements after the list has been created.\n",
    "- **Tuples**: Immutable. Once a tuple is created, you cannot modify its contents (i.e., you cannot add, remove, or change elements).\n",
    "\n",
    "#### Example:"
   ]
  },
  {
   "cell_type": "code",
   "execution_count": 42,
   "metadata": {},
   "outputs": [],
   "source": [
    "# List\n",
    "my_list = [1, 2, 3]\n",
    "my_list[1] = 4  # Modification allowed\n",
    "my_list.append(5)  # Element addition allowed"
   ]
  },
  {
   "cell_type": "code",
   "execution_count": 43,
   "metadata": {},
   "outputs": [
    {
     "name": "stdout",
     "output_type": "stream",
     "text": [
      "[1, 4, 3, 5]\n"
     ]
    }
   ],
   "source": [
    "print(my_list) "
   ]
  },
  {
   "cell_type": "code",
   "execution_count": 44,
   "metadata": {},
   "outputs": [],
   "source": [
    "# Tuple\n",
    "my_tuple = (1, 2, 3)"
   ]
  },
  {
   "cell_type": "code",
   "execution_count": 45,
   "metadata": {},
   "outputs": [
    {
     "ename": "TypeError",
     "evalue": "'tuple' object does not support item assignment",
     "output_type": "error",
     "traceback": [
      "\u001b[0;31m---------------------------------------------------------------------------\u001b[0m",
      "\u001b[0;31mTypeError\u001b[0m                                 Traceback (most recent call last)",
      "Cell \u001b[0;32mIn[45], line 1\u001b[0m\n\u001b[0;32m----> 1\u001b[0m my_tuple[\u001b[38;5;241m1\u001b[39m] \u001b[38;5;241m=\u001b[39m \u001b[38;5;241m4\u001b[39m\n",
      "\u001b[0;31mTypeError\u001b[0m: 'tuple' object does not support item assignment"
     ]
    }
   ],
   "source": [
    "my_tuple[1] = 4  # This will raise a TypeError"
   ]
  },
  {
   "cell_type": "code",
   "execution_count": 46,
   "metadata": {},
   "outputs": [
    {
     "ename": "AttributeError",
     "evalue": "'tuple' object has no attribute 'append'",
     "output_type": "error",
     "traceback": [
      "\u001b[0;31m---------------------------------------------------------------------------\u001b[0m",
      "\u001b[0;31mAttributeError\u001b[0m                            Traceback (most recent call last)",
      "Cell \u001b[0;32mIn[46], line 1\u001b[0m\n\u001b[0;32m----> 1\u001b[0m my_tuple\u001b[38;5;241m.\u001b[39mappend(\u001b[38;5;241m5\u001b[39m)\n",
      "\u001b[0;31mAttributeError\u001b[0m: 'tuple' object has no attribute 'append'"
     ]
    }
   ],
   "source": [
    "my_tuple.append(5)  # This will raise an AttributeError"
   ]
  },
  {
   "cell_type": "code",
   "execution_count": 47,
   "metadata": {},
   "outputs": [
    {
     "name": "stdout",
     "output_type": "stream",
     "text": [
      "(1, 2, 3)\n"
     ]
    }
   ],
   "source": [
    "print(my_tuple)"
   ]
  },
  {
   "cell_type": "markdown",
   "metadata": {},
   "source": [
    "### 2. **Syntax**\n",
    "\n",
    "- **Lists**: Defined using square brackets `[]`.\n",
    "- **Tuples**: Defined using parentheses `()`.\n",
    "\n",
    "#### Example:"
   ]
  },
  {
   "cell_type": "code",
   "execution_count": 48,
   "metadata": {},
   "outputs": [],
   "source": [
    "# List\n",
    "my_list = [1, 2, 3]\n",
    "\n",
    "# Tuple\n",
    "my_tuple = (1, 2, 3)"
   ]
  },
  {
   "cell_type": "markdown",
   "metadata": {},
   "source": [
    "### 3. **Performance**\n",
    "\n",
    "- **Lists**: Generally have a higher overhead due to their mutability and additional functionalities. They are slower to access and modify compared to tuples.\n",
    "- **Tuples**: Typically faster than lists due to their immutability. They have a smaller memory footprint and can be used as dictionary keys.\n",
    "\n",
    "#### Example:"
   ]
  },
  {
   "cell_type": "code",
   "execution_count": 49,
   "metadata": {},
   "outputs": [
    {
     "name": "stdout",
     "output_type": "stream",
     "text": [
      "List time: 0.09614441699886811\n",
      "Tuple time: 0.04801312500057975\n"
     ]
    }
   ],
   "source": [
    "import timeit\n",
    "\n",
    "list_time = timeit.timeit(lambda: [1, 2, 3] * 1000, number=10000)\n",
    "tuple_time = timeit.timeit(lambda: (1, 2, 3) * 1000, number=10000)\n",
    "\n",
    "print(f\"List time: {list_time}\")\n",
    "print(f\"Tuple time: {tuple_time}\")"
   ]
  },
  {
   "cell_type": "markdown",
   "metadata": {},
   "source": [
    "### 4. **Use Cases**\n",
    "\n",
    "- **Lists**: Suitable for collections of items that might need to be changed or updated, such as a collection of user inputs or a list of items to process.\n",
    "- **Tuples**: Suitable for fixed collections of items that should not be changed, such as a coordinate pair (x, y) or a record that should remain constant.\n",
    "\n",
    "#### Example:"
   ]
  },
  {
   "cell_type": "code",
   "execution_count": 50,
   "metadata": {},
   "outputs": [],
   "source": [
    "# List example\n",
    "shopping_list = ['milk', 'eggs', 'bread']"
   ]
  },
  {
   "cell_type": "code",
   "execution_count": 51,
   "metadata": {},
   "outputs": [],
   "source": [
    "shopping_list.append('butter')  # Update allowed"
   ]
  },
  {
   "cell_type": "code",
   "execution_count": 52,
   "metadata": {},
   "outputs": [],
   "source": [
    "# Tuple example\n",
    "coordinates = (40.7128, -74.0060)  # Location of New York City"
   ]
  },
  {
   "cell_type": "code",
   "execution_count": 53,
   "metadata": {},
   "outputs": [
    {
     "ename": "TypeError",
     "evalue": "'tuple' object does not support item assignment",
     "output_type": "error",
     "traceback": [
      "\u001b[0;31m---------------------------------------------------------------------------\u001b[0m",
      "\u001b[0;31mTypeError\u001b[0m                                 Traceback (most recent call last)",
      "Cell \u001b[0;32mIn[53], line 1\u001b[0m\n\u001b[0;32m----> 1\u001b[0m coordinates[\u001b[38;5;241m0\u001b[39m] \u001b[38;5;241m=\u001b[39m \u001b[38;5;241m41.0000\u001b[39m\n",
      "\u001b[0;31mTypeError\u001b[0m: 'tuple' object does not support item assignment"
     ]
    }
   ],
   "source": [
    "coordinates[0] = 41.0000  # Modification not allowed"
   ]
  },
  {
   "cell_type": "markdown",
   "metadata": {},
   "source": [
    "### 5. **Methods**\n",
    "\n",
    "- **Lists**: Have various methods such as `append()`, `remove()`, `extend()`, and `pop()` that allow for manipulation of the list's contents.\n",
    "- **Tuples**: Have fewer methods due to their immutability, mainly `count()` and `index()`.\n",
    "\n",
    "#### Example:"
   ]
  },
  {
   "cell_type": "code",
   "execution_count": 54,
   "metadata": {},
   "outputs": [],
   "source": [
    "# List methods\n",
    "my_list = [1, 2, 3]\n",
    "my_list.append(4)\n",
    "my_list.remove(2)"
   ]
  },
  {
   "cell_type": "code",
   "execution_count": 55,
   "metadata": {},
   "outputs": [
    {
     "name": "stdout",
     "output_type": "stream",
     "text": [
      "1\n"
     ]
    }
   ],
   "source": [
    "# Tuple methods\n",
    "my_tuple = (1, 2, 3)\n",
    "print(my_tuple.count(2))"
   ]
  },
  {
   "cell_type": "code",
   "execution_count": 56,
   "metadata": {},
   "outputs": [
    {
     "name": "stdout",
     "output_type": "stream",
     "text": [
      "2\n"
     ]
    }
   ],
   "source": [
    "print(my_tuple.index(3))"
   ]
  },
  {
   "cell_type": "markdown",
   "metadata": {},
   "source": [
    "### Summary\n",
    "\n",
    "- **Lists** are mutable, defined with square brackets `[]`, and support various methods for modification.\n",
    "- **Tuples** are immutable, defined with parentheses `()`, and generally offer better performance for fixed collections of items."
   ]
  },
  {
   "cell_type": "code",
   "execution_count": null,
   "metadata": {},
   "outputs": [],
   "source": []
  },
  {
   "cell_type": "markdown",
   "metadata": {},
   "source": [
    "## 14. How do you type a tuple value that only contains the integer 42 ?"
   ]
  },
  {
   "cell_type": "markdown",
   "metadata": {},
   "source": [
    "To create a tuple in Python that contains only the integer `42`, you need to include a comma after the integer to differentiate it from a plain integer enclosed in parentheses. This is necessary because parentheses alone are not sufficient to create a tuple if there is only one element.\n",
    "\n",
    "### Creating a Single-Element Tuple\n",
    "\n",
    "The correct way to type a tuple with only one element is:"
   ]
  },
  {
   "cell_type": "code",
   "execution_count": 57,
   "metadata": {},
   "outputs": [],
   "source": [
    "single_element_tuple = (42,)"
   ]
  },
  {
   "cell_type": "markdown",
   "metadata": {},
   "source": [
    "### Explanation:\n",
    "\n",
    "- **Parentheses `( )`**: Used to define a tuple.\n",
    "- **Comma `,`**: The comma is essential when creating a tuple with a single element. Without the comma, Python would interpret `(42)` as just an integer in parentheses, not a tuple.\n",
    "\n",
    "### Example:"
   ]
  },
  {
   "cell_type": "code",
   "execution_count": 58,
   "metadata": {},
   "outputs": [],
   "source": [
    "# Creating a tuple with a single integer element\n",
    "single_element_tuple = (42,)"
   ]
  },
  {
   "cell_type": "code",
   "execution_count": 59,
   "metadata": {},
   "outputs": [
    {
     "name": "stdout",
     "output_type": "stream",
     "text": [
      "(42,)\n"
     ]
    }
   ],
   "source": [
    "print(single_element_tuple)"
   ]
  },
  {
   "cell_type": "code",
   "execution_count": 60,
   "metadata": {},
   "outputs": [
    {
     "name": "stdout",
     "output_type": "stream",
     "text": [
      "<class 'tuple'>\n"
     ]
    }
   ],
   "source": [
    "print(type(single_element_tuple))"
   ]
  },
  {
   "cell_type": "markdown",
   "metadata": {},
   "source": [
    "If you omit the comma:"
   ]
  },
  {
   "cell_type": "code",
   "execution_count": 61,
   "metadata": {},
   "outputs": [
    {
     "name": "stdout",
     "output_type": "stream",
     "text": [
      "<class 'int'>\n"
     ]
    }
   ],
   "source": [
    "not_a_tuple = (42)\n",
    "print(type(not_a_tuple))"
   ]
  },
  {
   "cell_type": "markdown",
   "metadata": {},
   "source": [
    "In this case, `not_a_tuple` is just an integer, not a tuple."
   ]
  },
  {
   "cell_type": "code",
   "execution_count": null,
   "metadata": {},
   "outputs": [],
   "source": []
  },
  {
   "cell_type": "markdown",
   "metadata": {},
   "source": [
    "## 15. How do you get a list value's tuple form? How do you get a tuple value's list form ?"
   ]
  },
  {
   "cell_type": "markdown",
   "metadata": {},
   "source": [
    "To convert between lists and tuples in Python, you can use the `tuple()` and `list()` functions.\n",
    "\n",
    "### Converting a List to a Tuple\n",
    "\n",
    "To convert a list to a tuple, you use the `tuple()` function:"
   ]
  },
  {
   "cell_type": "code",
   "execution_count": 62,
   "metadata": {},
   "outputs": [],
   "source": [
    "# Given list\n",
    "my_list = [1, 2, 3, 4]"
   ]
  },
  {
   "cell_type": "code",
   "execution_count": 63,
   "metadata": {},
   "outputs": [],
   "source": [
    "# Convert list to tuple\n",
    "my_tuple = tuple(my_list)"
   ]
  },
  {
   "cell_type": "code",
   "execution_count": 64,
   "metadata": {},
   "outputs": [
    {
     "name": "stdout",
     "output_type": "stream",
     "text": [
      "(1, 2, 3, 4)\n"
     ]
    }
   ],
   "source": [
    "print(my_tuple)"
   ]
  },
  {
   "cell_type": "code",
   "execution_count": 65,
   "metadata": {},
   "outputs": [
    {
     "name": "stdout",
     "output_type": "stream",
     "text": [
      "<class 'tuple'>\n"
     ]
    }
   ],
   "source": [
    "print(type(my_tuple))"
   ]
  },
  {
   "cell_type": "markdown",
   "metadata": {},
   "source": [
    "### Converting a Tuple to a List\n",
    "\n",
    "To convert a tuple to a list, you use the `list()` function:"
   ]
  },
  {
   "cell_type": "code",
   "execution_count": 66,
   "metadata": {},
   "outputs": [],
   "source": [
    "# Given tuple\n",
    "my_tuple = (1, 2, 3, 4)"
   ]
  },
  {
   "cell_type": "code",
   "execution_count": 67,
   "metadata": {},
   "outputs": [],
   "source": [
    "# Convert tuple to list\n",
    "my_list = list(my_tuple)"
   ]
  },
  {
   "cell_type": "code",
   "execution_count": 68,
   "metadata": {},
   "outputs": [
    {
     "name": "stdout",
     "output_type": "stream",
     "text": [
      "[1, 2, 3, 4]\n"
     ]
    }
   ],
   "source": [
    "print(my_list)"
   ]
  },
  {
   "cell_type": "code",
   "execution_count": 69,
   "metadata": {},
   "outputs": [
    {
     "name": "stdout",
     "output_type": "stream",
     "text": [
      "<class 'list'>\n"
     ]
    }
   ],
   "source": [
    "print(type(my_list))"
   ]
  },
  {
   "cell_type": "markdown",
   "metadata": {},
   "source": [
    "### Summary\n",
    "\n",
    "- **Convert a list to a tuple**: Use `tuple(my_list)`.\n",
    "- **Convert a tuple to a list**: Use `list(my_tuple)`.\n",
    "\n",
    "These functions allow you to change the type of sequence as needed for different use cases, leveraging the properties and functionalities of lists and tuples in Python."
   ]
  },
  {
   "cell_type": "code",
   "execution_count": null,
   "metadata": {},
   "outputs": [],
   "source": []
  },
  {
   "cell_type": "markdown",
   "metadata": {},
   "source": [
    "## 16. Variables that \"contain\" list values are not necessarily lists themselves. Instead, what do they contain ?"
   ]
  },
  {
   "cell_type": "markdown",
   "metadata": {},
   "source": [
    "Variables that \"contain\" list values actually hold references to lists rather than the list values themselves. Here’s a more detailed explanation:\n",
    "\n",
    "### Concept of References\n",
    "\n",
    "- **References**: In Python, variables do not directly store data like lists or integers; instead, they store references (or pointers) to the data. This means that when you assign a list to a variable, the variable holds a reference to the list object in memory, not the list itself.\n",
    "\n",
    "### How It Works\n",
    "\n",
    "1. **Variable Assignment**: When you assign a list to a variable, you are creating a reference to the list object."
   ]
  },
  {
   "cell_type": "code",
   "execution_count": 70,
   "metadata": {},
   "outputs": [],
   "source": [
    "my_list = [1, 2, 3]"
   ]
  },
  {
   "cell_type": "markdown",
   "metadata": {},
   "source": [
    "Here, `my_list` holds a reference to the list `[1, 2, 3]` in memory.\n",
    "\n",
    "2. **Reassigning Variables**: If you assign the variable to another variable, both variables will reference the same list."
   ]
  },
  {
   "cell_type": "code",
   "execution_count": 71,
   "metadata": {},
   "outputs": [],
   "source": [
    "another_list = my_list"
   ]
  },
  {
   "cell_type": "markdown",
   "metadata": {},
   "source": [
    "Now, `another_list` also references the same list as `my_list`.\n",
    "\n",
    "3. **Modifying Lists**: Changes made through one variable will be reflected in all variables referencing that list, since they all point to the same list object."
   ]
  },
  {
   "cell_type": "code",
   "execution_count": 72,
   "metadata": {},
   "outputs": [
    {
     "name": "stdout",
     "output_type": "stream",
     "text": [
      "[1, 2, 3, 4]\n"
     ]
    }
   ],
   "source": [
    "my_list.append(4)\n",
    "print(another_list)"
   ]
  },
  {
   "cell_type": "markdown",
   "metadata": {},
   "source": [
    "The list referenced by both `my_list` and `another_list` has been modified.\n",
    "\n",
    "### Summary\n",
    "\n",
    "Variables that seem to \"contain\" list values actually contain references to the list objects. This reference-based system allows multiple variables to point to the same list, and any modifications through one reference will affect all variables referencing that list."
   ]
  },
  {
   "cell_type": "code",
   "execution_count": null,
   "metadata": {},
   "outputs": [],
   "source": []
  },
  {
   "cell_type": "markdown",
   "metadata": {},
   "source": [
    "## 17. How do you distinguish between copy.copy() and copy.deepcopy() ?"
   ]
  },
  {
   "cell_type": "markdown",
   "metadata": {},
   "source": [
    "In Python, the `copy` module provides functions for creating shallow and deep copies of objects. The `copy.copy()` function creates a shallow copy, while `copy.deepcopy()` creates a deep copy. Here’s how you can distinguish between them:\n",
    "\n",
    "### `copy.copy()`\n",
    "\n",
    "- **Function**: `copy.copy(obj)`\n",
    "- **Type of Copy**: Shallow copy\n",
    "- **Description**: Creates a new object of the same type as `obj` but with a copy of the original object's references. This means that if the original object contains references to other objects (like lists within lists), the references are copied, but the inner objects themselves are not. Thus, changes to the inner objects affect both the original and the copy.\n",
    "- **Usage**: Use `copy.copy()` when you need a new object that is a copy of the original, but you don’t need to duplicate nested objects.\n",
    "\n",
    "#### Example:"
   ]
  },
  {
   "cell_type": "code",
   "execution_count": 76,
   "metadata": {},
   "outputs": [],
   "source": [
    "import copy\n",
    "\n",
    "original_list = [1, [2, 3], 4]\n",
    "shallow_copied_list = copy.copy(original_list)\n",
    "\n",
    "shallow_copied_list[1][0] = 'changed'"
   ]
  },
  {
   "cell_type": "code",
   "execution_count": 77,
   "metadata": {},
   "outputs": [
    {
     "name": "stdout",
     "output_type": "stream",
     "text": [
      "[1, ['changed', 3], 4]\n"
     ]
    }
   ],
   "source": [
    "print(original_list)  # Output: [1, ['changed', 3], 4]"
   ]
  },
  {
   "cell_type": "code",
   "execution_count": 78,
   "metadata": {},
   "outputs": [
    {
     "name": "stdout",
     "output_type": "stream",
     "text": [
      "[1, ['changed', 3], 4]\n"
     ]
    }
   ],
   "source": [
    "print(shallow_copied_list)  # Output: [1, ['changed', 3], 4]"
   ]
  },
  {
   "cell_type": "markdown",
   "metadata": {},
   "source": [
    "In this example, modifying the inner list in the shallow copy affects the original list because both lists share the same inner list object.\n",
    "\n",
    "### `copy.deepcopy()`\n",
    "\n",
    "- **Function**: `copy.deepcopy(obj)`\n",
    "- **Type of Copy**: Deep copy\n",
    "- **Description**: Creates a new object and recursively copies all objects found within the original object. This means that not only is the top-level object copied, but all nested objects are also duplicated. Changes to any part of the deep copy do not affect the original object and vice versa.\n",
    "- **Usage**: Use `copy.deepcopy()` when you need to create a completely independent copy of an object, including all nested objects.\n",
    "\n",
    "#### Example:"
   ]
  },
  {
   "cell_type": "code",
   "execution_count": 79,
   "metadata": {},
   "outputs": [],
   "source": [
    "import copy\n",
    "\n",
    "original_list = [1, [2, 3], 4]\n",
    "deep_copied_list = copy.deepcopy(original_list)\n",
    "\n",
    "deep_copied_list[1][0] = 'changed'"
   ]
  },
  {
   "cell_type": "code",
   "execution_count": 80,
   "metadata": {},
   "outputs": [
    {
     "name": "stdout",
     "output_type": "stream",
     "text": [
      "[1, [2, 3], 4]\n"
     ]
    }
   ],
   "source": [
    "print(original_list)  # Output: [1, [2, 3], 4]"
   ]
  },
  {
   "cell_type": "code",
   "execution_count": 81,
   "metadata": {},
   "outputs": [
    {
     "name": "stdout",
     "output_type": "stream",
     "text": [
      "[1, ['changed', 3], 4]\n"
     ]
    }
   ],
   "source": [
    "print(deep_copied_list)  # Output: [1, ['changed', 3], 4]"
   ]
  },
  {
   "cell_type": "markdown",
   "metadata": {},
   "source": [
    "\n",
    "In this example, modifying the inner list in the deep copy does not affect the original list because the deep copy creates a completely new, independent copy of all nested objects.\n",
    "\n",
    "### Summary\n",
    "\n",
    "- **`copy.copy()`**: Creates a shallow copy where only the top-level object is copied. Nested objects are not deeply copied and are shared between the original and the copy.\n",
    "- **`copy.deepcopy()`**: Creates a deep copy where all objects are recursively copied. This ensures that the original and the copy are completely independent, with no shared nested objects."
   ]
  },
  {
   "cell_type": "code",
   "execution_count": null,
   "metadata": {},
   "outputs": [],
   "source": []
  },
  {
   "cell_type": "markdown",
   "metadata": {},
   "source": [
    "<i>\"Thank you for exploring all the way to the end of my page!\"</i>\n",
    "\n",
    "<p>\n",
    "regards, <br>\n",
    "<a href=\"https:www.github.com/Rahul-404/\">Rahul Shelke</a>\n",
    "</p>"
   ]
  },
  {
   "cell_type": "markdown",
   "metadata": {},
   "source": []
  }
 ],
 "metadata": {
  "kernelspec": {
   "display_name": "base",
   "language": "python",
   "name": "python3"
  },
  "language_info": {
   "codemirror_mode": {
    "name": "ipython",
    "version": 3
   },
   "file_extension": ".py",
   "mimetype": "text/x-python",
   "name": "python",
   "nbconvert_exporter": "python",
   "pygments_lexer": "ipython3",
   "version": "3.11.7"
  }
 },
 "nbformat": 4,
 "nbformat_minor": 2
}
