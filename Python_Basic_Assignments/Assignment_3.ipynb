{
 "cells": [
  {
   "cell_type": "markdown",
   "metadata": {},
   "source": [
    "<h1><p align=\"center\"> Assignment : 3 </p></h1>"
   ]
  },
  {
   "cell_type": "markdown",
   "metadata": {},
   "source": [
    "## 1. Why are functions advantageous to have in your programs ?"
   ]
  },
  {
   "cell_type": "markdown",
   "metadata": {},
   "source": [
    "Functions offer several advantages in programming:\n",
    "\n",
    "1. **Modularity**: Functions help break down complex problems into smaller, manageable pieces. Each function can handle a specific task or part of the problem, making the code more organized and easier to understand.\n",
    "\n",
    "2. **Reusability**: Once a function is defined, it can be used multiple times throughout the program. This reduces redundancy and the need to write the same code again, leading to more maintainable and efficient code.\n",
    "\n",
    "3. **Improved Readability**: Functions can make code more readable by giving meaningful names to blocks of code. This helps others (and yourself) understand the purpose of the code without needing to read through all the details.\n",
    "\n",
    "4. **Easier Debugging and Testing**: Functions allow you to isolate and test specific parts of the code independently. If a function has issues, you can debug it in isolation, making it easier to identify and fix problems.\n",
    "\n",
    "5. **Abstraction**: Functions enable you to hide complex implementation details and provide a simple interface. This abstraction allows you to use the function without needing to understand its internal workings.\n",
    "\n",
    "6. **Maintainability**: Functions make code easier to maintain and update. Changes can be made to a function in one place, and those changes will be reflected wherever the function is used.\n",
    "\n",
    "7. **Encapsulation**: Functions help encapsulate functionality, meaning that related code is grouped together. This reduces the risk of unintended interactions between different parts of the code and can improve code safety and integrity.\n",
    "\n",
    "By leveraging functions, you can write cleaner, more modular, and more efficient code, leading to better software development practices."
   ]
  },
  {
   "cell_type": "code",
   "execution_count": null,
   "metadata": {},
   "outputs": [],
   "source": []
  },
  {
   "cell_type": "markdown",
   "metadata": {},
   "source": [
    "## 2. When does the code in a function run: when it's specified or when it's called ?"
   ]
  },
  {
   "cell_type": "markdown",
   "metadata": {},
   "source": [
    "The code inside a function runs **when the function is called**.\n",
    "\n",
    "Here’s a brief explanation:\n",
    "\n",
    "- **Function Definition**: When you define a function, you are essentially telling the program what the function will do, but the code inside the function does not execute at this point. You are just creating a reusable block of code.\n",
    "\n",
    "  ```python\n",
    "  def greet():\n",
    "      print(\"Hello, world!\")\n",
    "  ```\n",
    "\n",
    "  In this example, the code `print(\"Hello, world!\")` inside the `greet` function is not executed when the function is defined. \n",
    "\n",
    "- **Function Call**: The code inside the function executes when you **call** the function.\n",
    "\n",
    "  ```python\n",
    "  greet()  # This line calls the function, causing the code inside it to run\n",
    "  ```\n",
    "\n",
    "  Here, `greet()` is the function call, and it triggers the execution of the `print(\"Hello, world!\")` statement inside the function.\n",
    "\n",
    "In summary, defining a function only sets up the code to be executed later; the actual execution occurs when the function is called."
   ]
  },
  {
   "cell_type": "code",
   "execution_count": null,
   "metadata": {},
   "outputs": [],
   "source": []
  },
  {
   "cell_type": "markdown",
   "metadata": {},
   "source": [
    "## 3. What statement creates a function ?"
   ]
  },
  {
   "cell_type": "markdown",
   "metadata": {},
   "source": [
    "In Python, you create a function using the `def` statement. The general syntax is:\n",
    "\n",
    "```python\n",
    "def function_name(parameters):\n",
    "    # Code block\n",
    "    # Function body\n",
    "```\n",
    "\n",
    "### Example:\n",
    "\n",
    "```python\n",
    "def greet(name):\n",
    "    print(f\"Hello, {name}!\")\n",
    "```\n",
    "\n",
    "### Explanation:\n",
    "\n",
    "- **`def`**: Keyword used to define a function.\n",
    "- **`function_name`**: The name of the function you are creating.\n",
    "- **`parameters`**: Optional. Variables that the function can accept as input.\n",
    "- **`:`**: Indicates the start of the function body.\n",
    "- **Function body**: The indented block of code that defines what the function does.\n",
    "\n",
    "In this example, `greet` is the function name, and `name` is a parameter. When `greet(\"Alice\")` is called, it prints \"Hello, Alice!\"."
   ]
  },
  {
   "cell_type": "code",
   "execution_count": null,
   "metadata": {},
   "outputs": [],
   "source": []
  },
  {
   "cell_type": "markdown",
   "metadata": {},
   "source": [
    "## 4. What is the difference between a function and a function call ?"
   ]
  },
  {
   "cell_type": "markdown",
   "metadata": {},
   "source": [
    "Here's a concise explanation of the difference between a function and a function call:\n",
    "\n",
    "### **Function**\n",
    "\n",
    "- **Definition**: A function is a block of reusable code that performs a specific task. It is defined once and can be executed whenever needed.\n",
    "- **Creation**: You define a function using the `def` keyword, followed by a name, optional parameters, and a block of code.\n",
    "- **Purpose**: Functions help organize code, promote reusability, and simplify complex programs by breaking them into smaller, manageable pieces.\n",
    "\n",
    "  **Example**:\n",
    "  ```python\n",
    "  def add(a, b):\n",
    "      return a + b\n",
    "  ```\n",
    "\n",
    "  In this example, `add` is a function that takes two parameters (`a` and `b`) and returns their sum.\n",
    "\n",
    "### **Function Call**\n",
    "\n",
    "- **Definition**: A function call is an instruction that executes the code within a function. It invokes or \"calls\" the function to perform its task.\n",
    "- **Usage**: When you call a function, you provide the necessary arguments (if any) and execute the code defined within the function.\n",
    "- **Purpose**: Function calls are used to execute the functionality defined in the function, pass data to the function, and retrieve results.\n",
    "\n",
    "  **Example**:\n",
    "  ```python\n",
    "  result = add(5, 3)  # Function call\n",
    "  print(result)       # Output: 8\n",
    "  ```\n",
    "\n",
    "  Here, `add(5, 3)` is a function call that executes the `add` function with arguments `5` and `3`, returning the result, which is `8`.\n",
    "\n",
    "### Summary\n",
    "\n",
    "- **Function**: The definition and implementation of a reusable block of code.\n",
    "- **Function Call**: The action of invoking the function to execute its code and potentially return a result."
   ]
  },
  {
   "cell_type": "code",
   "execution_count": null,
   "metadata": {},
   "outputs": [],
   "source": []
  },
  {
   "cell_type": "markdown",
   "metadata": {},
   "source": [
    "## 5. How many global scopes are there in a Python program? How many local scopes ?"
   ]
  },
  {
   "cell_type": "markdown",
   "metadata": {},
   "source": [
    "In Python, there are two types of scopes that are relevant to variables and functions: **global** and **local** scopes.\n",
    "\n",
    "### Global Scopes\n",
    "\n",
    "- **Number**: There is typically **one global scope** per Python program or module.\n",
    "- **Description**: The global scope is created when the program starts and lasts until the program terminates. Variables declared at the top level of a module or script, outside of any functions or classes, are in the global scope. These variables can be accessed from any function or block within the same module or script.\n",
    "\n",
    "  **Example**:\n",
    "  ```python\n",
    "  global_var = 10  # Global variable\n",
    "\n",
    "  def my_function():\n",
    "      print(global_var)  # Accesses the global variable\n",
    "\n",
    "  my_function()  # Output: 10\n",
    "  ```\n",
    "\n",
    "### Local Scopes\n",
    "\n",
    "- **Number**: There can be **multiple local scopes** within a Python program.\n",
    "- **Description**: A local scope is created within a function or a block of code. Variables declared inside a function or a block of code (such as within a `for` loop or `if` statement) are local to that function or block. Each function call creates a new local scope, so different function calls will have their own separate local scopes.\n",
    "\n",
    "  **Example**:\n",
    "  ```python\n",
    "  def my_function():\n",
    "      local_var = 5  # Local variable\n",
    "      print(local_var)  # Accesses the local variable\n",
    "\n",
    "  my_function()  # Output: 5\n",
    "  # print(local_var)  # This would raise an error because local_var is not defined outside the function\n",
    "  ```\n",
    "\n",
    "### Summary\n",
    "\n",
    "- **Global Scope**: One per program or module, lasts for the lifetime of the program.\n",
    "- **Local Scopes**: Multiple, created within functions or blocks, and exist only for the duration of the function or block execution. Each function call creates a new local scope."
   ]
  },
  {
   "cell_type": "code",
   "execution_count": null,
   "metadata": {},
   "outputs": [],
   "source": []
  },
  {
   "cell_type": "markdown",
   "metadata": {},
   "source": [
    "## 6. What happens to variables in a local scope when the function call returns ?"
   ]
  },
  {
   "cell_type": "markdown",
   "metadata": {},
   "source": [
    "When a function call returns, the local variables defined within that function's scope are typically **destroyed** or **garbage collected**. Here’s a more detailed explanation:\n",
    "\n",
    "### Behavior of Local Variables:\n",
    "\n",
    "1. **Destruction**: Local variables are created when the function is called and are only accessible within that function. Once the function execution completes and the function returns, its local scope is destroyed, which means:\n",
    "   - The local variables are no longer accessible.\n",
    "   - Their memory is released, making it available for other parts of the program.\n",
    "\n",
    "2. **Garbage Collection**: Python uses garbage collection to manage memory. When a function returns and the local scope is no longer needed, the local variables are no longer referenced, and Python's garbage collector can reclaim that memory.\n",
    "\n",
    "### Example:\n",
    "\n",
    "```python\n",
    "def my_function():\n",
    "    local_var = 10  # Local variable\n",
    "    print(local_var)\n",
    "\n",
    "my_function()  # Output: 10\n",
    "# print(local_var)  # This would raise a NameError because local_var is not accessible outside the function\n",
    "```\n",
    "\n",
    "In this example:\n",
    "- `local_var` is created when `my_function` is called.\n",
    "- Once `my_function` returns, `local_var` is no longer accessible, and its memory can be reclaimed.\n",
    "\n",
    "### Summary:\n",
    "\n",
    "When a function call returns, local variables are destroyed, their scope ends, and their memory is reclaimed by the system. This ensures that local variables do not persist beyond the execution of their respective function calls."
   ]
  },
  {
   "cell_type": "code",
   "execution_count": null,
   "metadata": {},
   "outputs": [],
   "source": []
  },
  {
   "cell_type": "markdown",
   "metadata": {},
   "source": [
    "## 7. What is the concept of a return value? Is it possible to have a return value in an expression ?"
   ]
  },
  {
   "cell_type": "markdown",
   "metadata": {},
   "source": [
    "### Concept of a Return Value\n",
    "\n",
    "A **return value** is the result that a function produces and sends back to the caller when it finishes executing. The return value allows functions to pass data back to the part of the program that invoked them. It is specified using the `return` statement within the function.\n",
    "\n",
    "### How It Works:\n",
    "\n",
    "- **Function Definition**: When defining a function, you can specify a return value by using the `return` statement followed by an expression.\n",
    "- **Function Call**: When the function is called, the expression after `return` is evaluated, and its result is sent back to the caller.\n",
    "- **Returning Data**: The caller can then use this returned data in further calculations or operations.\n",
    "\n",
    "### Example:\n",
    "\n",
    "```python\n",
    "def add(a, b):\n",
    "    return a + b  # Returns the sum of a and b\n",
    "\n",
    "result = add(3, 4)  # result now holds the value 7\n",
    "print(result)       # Output: 7\n",
    "```\n",
    "\n",
    "In this example, the function `add` returns the sum of `a` and `b`. The caller captures this return value in the variable `result` and prints it.\n",
    "\n",
    "### Return Value in an Expression\n",
    "\n",
    "Yes, it is possible to use the return value of a function within an expression. The returned value can be part of more complex expressions or operations.\n",
    "\n",
    "### Example:\n",
    "\n",
    "```python\n",
    "def multiply(x, y):\n",
    "    return x * y\n",
    "\n",
    "result = multiply(3, 4) + 2  # The return value of multiply(3, 4) is 12, so result is 12 + 2\n",
    "print(result)  # Output: 14\n",
    "```\n",
    "\n",
    "In this example, the `multiply` function returns `12`, which is then used in an expression (`12 + 2`). The final result of the expression is `14`.\n",
    "\n",
    "### Summary\n",
    "\n",
    "- **Return Value**: The data that a function returns to the caller using the `return` statement.\n",
    "- **Expression**: You can include the return value of a function as part of larger expressions, allowing you to perform additional operations with the returned data."
   ]
  },
  {
   "cell_type": "code",
   "execution_count": null,
   "metadata": {},
   "outputs": [],
   "source": []
  },
  {
   "cell_type": "markdown",
   "metadata": {},
   "source": [
    "## 8. If a function does not have a return statement, what is the return value of a call to that function ?"
   ]
  },
  {
   "cell_type": "markdown",
   "metadata": {},
   "source": [
    "If a function does not have a `return` statement, or if it explicitly reaches the end of the function without executing a `return` statement, the return value of a call to that function is **`None`**.\n",
    "\n",
    "### Explanation:\n",
    "\n",
    "- **Default Return Value**: When a function completes execution without encountering a `return` statement, Python implicitly returns `None`. This signifies that no specific value was returned.\n",
    "\n",
    "### Example:\n",
    "\n",
    "```python\n",
    "def no_return():\n",
    "    print(\"This function has no return statement.\")\n",
    "\n",
    "result = no_return()  # Calls the function\n",
    "print(result)         # Output: None\n",
    "```\n",
    "\n",
    "In this example:\n",
    "- The function `no_return` prints a message but does not have a `return` statement.\n",
    "- When `no_return()` is called, it prints the message and the return value, captured in `result`, is `None`.\n",
    "- The `print(result)` statement outputs `None`, indicating the absence of a return value.\n",
    "\n",
    "### Summary\n",
    "\n",
    "- If a function lacks a `return` statement, or if execution reaches the end of the function without encountering a `return` statement, the function returns `None` by default."
   ]
  },
  {
   "cell_type": "code",
   "execution_count": null,
   "metadata": {},
   "outputs": [],
   "source": []
  },
  {
   "cell_type": "markdown",
   "metadata": {},
   "source": [
    "## 9. How do you make a function variable refer to the global variable ?"
   ]
  },
  {
   "cell_type": "markdown",
   "metadata": {},
   "source": [
    "To make a function variable refer to a global variable in Python, you need to explicitly tell the function that it should use the global variable rather than creating a new local variable. This is done using the `global` keyword.\n",
    "\n",
    "### Using the `global` Keyword\n",
    "\n",
    "1. **Declare the Global Variable**: Define the global variable outside any function or class, typically at the top of your script.\n",
    "\n",
    "2. **Use the `global` Keyword in the Function**: Inside the function, use the `global` keyword to indicate that you want to refer to the global variable rather than creating a new local variable.\n",
    "\n",
    "### Example:\n",
    "\n",
    "```python\n",
    "# Define a global variable\n",
    "global_var = 10\n",
    "\n",
    "def update_global():\n",
    "    global global_var  # Declare that we are using the global variable\n",
    "    global_var = 20    # Modify the global variable\n",
    "\n",
    "print(\"Before function call:\", global_var)  # Output: 10\n",
    "update_global()\n",
    "print(\"After function call:\", global_var)   # Output: 20\n",
    "```\n",
    "\n",
    "### Explanation:\n",
    "\n",
    "- **Global Variable Definition**: `global_var` is defined outside of any function, so it is in the global scope.\n",
    "- **Using the `global` Keyword**: Inside `update_global()`, `global global_var` tells Python that `global_var` refers to the global variable, not a new local one.\n",
    "- **Modifying the Global Variable**: The statement `global_var = 20` changes the value of the global variable `global_var`.\n",
    "\n",
    "### Summary\n",
    "\n",
    "To make a function variable refer to a global variable:\n",
    "- Define the global variable outside of any function.\n",
    "- Inside the function, use the `global` keyword followed by the variable name to indicate that you want to refer to the global variable, allowing you to read from and modify it."
   ]
  },
  {
   "cell_type": "code",
   "execution_count": null,
   "metadata": {},
   "outputs": [],
   "source": []
  },
  {
   "cell_type": "markdown",
   "metadata": {},
   "source": [
    "## 10. What is the data type of None ?"
   ]
  },
  {
   "cell_type": "markdown",
   "metadata": {},
   "source": [
    "In Python, `None` is a special constant and has its own unique data type.\n",
    "\n",
    "### Data Type of `None`\n",
    "\n",
    "- **Data Type**: The data type of `None` is `NoneType`.\n",
    "\n",
    "### Example:\n",
    "\n",
    "```python\n",
    "print(type(None))  # Output: <class 'NoneType'>\n",
    "```\n",
    "\n",
    "### Explanation:\n",
    "\n",
    "- **`None`**: Represents the absence of a value or a null value. It is often used to signify that a variable has no value or that a function does not return anything.\n",
    "- **`NoneType`**: The type of the `None` object. It is a singleton, meaning there is only one instance of `None` in a Python program.\n",
    "\n",
    "### Summary\n",
    "\n",
    "- `None` is of type `NoneType`, which is a special type used to represent the absence of a value or a null value in Python."
   ]
  },
  {
   "cell_type": "code",
   "execution_count": null,
   "metadata": {},
   "outputs": [],
   "source": []
  },
  {
   "cell_type": "markdown",
   "metadata": {},
   "source": [
    "## 11. What does the sentence import areallyourpetsnamederic do ?"
   ]
  },
  {
   "cell_type": "markdown",
   "metadata": {},
   "source": [
    "The statement `import areallyourpetsnamederic` attempts to import a module named `areallyourpetsnamederic`. Here’s what happens with this statement:\n",
    "\n",
    "### Outcomes:\n",
    "\n",
    "1. **Module Import**: Python will search for a module named `areallyourpetsnamederic` in the directories listed in `sys.path`. This includes the standard library, installed packages, and the current working directory.\n",
    "\n",
    "2. **Module Availability**: If a module with that name exists and is available in the Python environment, Python will import it and make its functions, classes, and variables accessible for use.\n",
    "\n",
    "3. **Module Not Found**: If there is no module named `areallyourpetsnamederic` available in the search paths, Python will raise an `ImportError` (or `ModuleNotFoundError` in newer versions of Python).\n",
    "\n",
    "### Example:\n",
    "\n",
    "```python\n",
    "import areallyourpetsnamederic  # This will work if the module exists\n",
    "\n",
    "# If the module does not exist, you will get an ImportError\n",
    "```\n",
    "\n",
    "### Summary:\n",
    "\n",
    "- The `import` statement is used to include and use a module in your program.\n",
    "- If `areallyourpetsnamederic` does not exist, an error will occur. If it does exist, you can use its functionality in your code."
   ]
  },
  {
   "cell_type": "code",
   "execution_count": null,
   "metadata": {},
   "outputs": [],
   "source": []
  },
  {
   "cell_type": "markdown",
   "metadata": {},
   "source": [
    "## 12. If you had a bacon() feature in a spam module, what would you call it after importing spam ?"
   ]
  },
  {
   "cell_type": "markdown",
   "metadata": {},
   "source": [
    "After importing the `spam` module, you would call the `bacon()` function (or feature) using the following syntax:\n",
    "\n",
    "### 1. **Import the Entire Module**\n",
    "\n",
    "If you import the entire module, you use the module name to call the function:\n",
    "\n",
    "```python\n",
    "import spam\n",
    "\n",
    "spam.bacon()  # Calls the bacon() function from the spam module\n",
    "```\n",
    "\n",
    "### 2. **Import the Specific Function**\n",
    "\n",
    "Alternatively, you can import just the `bacon()` function from the module:\n",
    "\n",
    "```python\n",
    "from spam import bacon\n",
    "\n",
    "bacon()  # Directly calls the bacon() function without the module prefix\n",
    "```\n",
    "\n",
    "### Summary:\n",
    "\n",
    "- **Importing the entire module**: Use `spam.bacon()`.\n",
    "- **Importing the specific function**: Use `bacon()` directly."
   ]
  },
  {
   "cell_type": "code",
   "execution_count": null,
   "metadata": {},
   "outputs": [],
   "source": []
  },
  {
   "cell_type": "markdown",
   "metadata": {},
   "source": [
    "## 13. What can you do to save a programme from crashing if it encounters an error ?"
   ]
  },
  {
   "cell_type": "markdown",
   "metadata": {},
   "source": [
    "To save a program from crashing when it encounters an error, you can use **exception handling**. In Python, this is typically done using `try`, `except`, `else`, and `finally` blocks. Here’s how you can handle errors gracefully:\n",
    "\n",
    "### Basic Structure of Exception Handling:\n",
    "\n",
    "```python\n",
    "try:\n",
    "    # Code that might raise an exception\n",
    "    risky_operation()\n",
    "except SpecificException as e:\n",
    "    # Code to handle the exception\n",
    "    print(f\"An error occurred: {e}\")\n",
    "else:\n",
    "    # Code that runs if no exception occurs\n",
    "    print(\"Operation successful!\")\n",
    "finally:\n",
    "    # Code that always runs, regardless of whether an exception occurred\n",
    "    print(\"Cleanup actions, if any.\")\n",
    "```\n",
    "\n",
    "### Components:\n",
    "\n",
    "1. **`try` Block**: Contains the code that might cause an exception. This is where you place the code that you want to monitor for errors.\n",
    "\n",
    "2. **`except` Block**: Contains code that handles the exception if it occurs. You can specify the type of exception to catch, or use a generic exception if you're not sure what might be raised. \n",
    "\n",
    "   ```python\n",
    "   except ValueError as e:\n",
    "       print(f\"ValueError occurred: {e}\")\n",
    "   except (TypeError, KeyError) as e:\n",
    "       print(f\"TypeError or KeyError occurred: {e}\")\n",
    "   except Exception as e:\n",
    "       print(f\"An unexpected error occurred: {e}\")\n",
    "   ```\n",
    "\n",
    "3. **`else` Block**: Optional. Contains code that runs if no exceptions were raised in the `try` block. This block is executed only if the `try` block succeeds without any errors.\n",
    "\n",
    "4. **`finally` Block**: Optional. Contains code that always runs, regardless of whether an exception was raised or not. It’s often used for cleanup actions, such as closing files or releasing resources.\n",
    "\n",
    "### Example:\n",
    "\n",
    "```python\n",
    "def divide_numbers(a, b):\n",
    "    try:\n",
    "        result = a / b\n",
    "    except ZeroDivisionError:\n",
    "        print(\"Error: Cannot divide by zero.\")\n",
    "    except TypeError:\n",
    "        print(\"Error: Invalid input type.\")\n",
    "    else:\n",
    "        print(f\"Result is: {result}\")\n",
    "    finally:\n",
    "        print(\"Execution complete.\")\n",
    "\n",
    "divide_numbers(10, 2)  # Output: Result is: 5.0 \\n Execution complete.\n",
    "divide_numbers(10, 0)  # Output: Error: Cannot divide by zero. \\n Execution complete.\n",
    "divide_numbers(10, 'a')  # Output: Error: Invalid input type. \\n Execution complete.\n",
    "```\n",
    "\n",
    "### Summary:\n",
    "\n",
    "- Use `try` to write code that might fail.\n",
    "- Use `except` to catch and handle exceptions.\n",
    "- Use `else` to execute code if no exceptions occur.\n",
    "- Use `finally` to perform cleanup actions that should happen regardless of whether an exception occurred."
   ]
  },
  {
   "cell_type": "code",
   "execution_count": null,
   "metadata": {},
   "outputs": [],
   "source": []
  },
  {
   "cell_type": "markdown",
   "metadata": {},
   "source": [
    "## 14. What is the purpose of the try clause? What is the purpose of the except clause ?"
   ]
  },
  {
   "cell_type": "markdown",
   "metadata": {},
   "source": [
    "In Python, the `try` and `except` clauses are used for exception handling. They help manage errors and prevent a program from crashing when an unexpected issue occurs. Here’s a detailed explanation of each:\n",
    "\n",
    "### Purpose of the `try` Clause\n",
    "\n",
    "- **Purpose**: The `try` clause is used to wrap code that might raise an exception. It allows you to test a block of code for errors.\n",
    "- **Function**: If the code within the `try` block runs without issues, the `except` clause(s) are skipped. If an exception is raised during the execution of the `try` block, the flow of control is transferred to the `except` block(s) to handle the error.\n",
    "\n",
    "### Example:\n",
    "\n",
    "```python\n",
    "try:\n",
    "    result = 10 / 2\n",
    "    print(result)  # This will execute successfully\n",
    "```\n",
    "\n",
    "In this example, the `try` block contains code that performs a division. Since no exception occurs, the code runs without issue.\n",
    "\n",
    "### Purpose of the `except` Clause\n",
    "\n",
    "- **Purpose**: The `except` clause is used to catch and handle exceptions that are raised in the `try` block.\n",
    "- **Function**: When an exception is raised in the `try` block, Python searches for an appropriate `except` block to handle that exception. You can specify different types of exceptions to handle different error conditions. If no matching `except` block is found, the exception propagates up the call stack.\n",
    "\n",
    "### Example:\n",
    "\n",
    "```python\n",
    "try:\n",
    "    result = 10 / 0  # This will raise a ZeroDivisionError\n",
    "except ZeroDivisionError:\n",
    "    print(\"Error: Cannot divide by zero.\")\n",
    "```\n",
    "\n",
    "In this example:\n",
    "- The `try` block attempts to perform division by zero, which raises a `ZeroDivisionError`.\n",
    "- The `except` block catches the `ZeroDivisionError` and prints an error message, handling the exception gracefully.\n",
    "\n",
    "### Summary\n",
    "\n",
    "- **`try` Clause**: Used to enclose code that might cause an exception. It allows you to test code for potential errors.\n",
    "- **`except` Clause**: Used to handle exceptions raised in the `try` block. It provides a way to respond to and manage errors, preventing the program from crashing."
   ]
  },
  {
   "cell_type": "code",
   "execution_count": null,
   "metadata": {},
   "outputs": [],
   "source": []
  },
  {
   "cell_type": "markdown",
   "metadata": {},
   "source": [
    "<i>\"Thank you for exploring all the way to the end of my page!\"</i>\n",
    "\n",
    "<p>\n",
    "regards, <br>\n",
    "<a href=\"https:www.github.com/Rahul-404/\">Rahul Shelke</a>\n",
    "</p>"
   ]
  },
  {
   "cell_type": "markdown",
   "metadata": {},
   "source": []
  }
 ],
 "metadata": {
  "language_info": {
   "name": "python"
  }
 },
 "nbformat": 4,
 "nbformat_minor": 2
}
