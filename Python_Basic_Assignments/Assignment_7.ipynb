{
 "cells": [
  {
   "cell_type": "markdown",
   "metadata": {},
   "source": [
    "<h1><p align=\"center\"> Assignment : 21<sup>th</sup> May </p></h1>\n",
    "<h2><p align=\"center\"><u> Python Basic - 2 </u></p></h2>"
   ]
  },
  {
   "cell_type": "markdown",
   "metadata": {},
   "source": [
    "Q.1. Create two int type variables, apply addition, subtraction, division and multiplications\n",
    "and store the results in variables. Then print the data in the following format by calling the\n",
    "variables:\n",
    "- First variable is __ & second variable is __.\n",
    "- Addition: __ + __ = __\n",
    "- Subtraction: __ - __ = __\n",
    "- Multiplication: __ * __ = __\n",
    "- Division: __ / __ = __"
   ]
  },
  {
   "cell_type": "code",
   "execution_count": null,
   "metadata": {},
   "outputs": [],
   "source": []
  },
  {
   "cell_type": "markdown",
   "metadata": {},
   "source": [
    "Q.2. What is the difference between the following operators:\n",
    "\n",
    "- (i) ‘/’ & ‘//’\n",
    "- (ii) ‘**’ & ‘^’\n"
   ]
  },
  {
   "cell_type": "code",
   "execution_count": null,
   "metadata": {},
   "outputs": [],
   "source": []
  },
  {
   "cell_type": "markdown",
   "metadata": {},
   "source": [
    "Q.3. List the logical operators."
   ]
  },
  {
   "cell_type": "code",
   "execution_count": null,
   "metadata": {},
   "outputs": [],
   "source": []
  },
  {
   "cell_type": "markdown",
   "metadata": {},
   "source": [
    "Q.4. Explain right shift operator and left shift operator with examples."
   ]
  },
  {
   "cell_type": "code",
   "execution_count": null,
   "metadata": {},
   "outputs": [],
   "source": []
  },
  {
   "cell_type": "markdown",
   "metadata": {},
   "source": [
    "Q.5. Create a list containing int type data of length 15. Then write a code to check if 10 is present in the list or not."
   ]
  },
  {
   "cell_type": "code",
   "execution_count": null,
   "metadata": {},
   "outputs": [],
   "source": []
  },
  {
   "cell_type": "markdown",
   "metadata": {},
   "source": [
    "<i>\"Thank you for exploring all the way to the end of my page!\"</i>\n",
    "\n",
    "<p>\n",
    "regards, <br>\n",
    "<a href=\"https:www.github.com/Rahul-404/\">Rahul Shelke</a>\n",
    "</p>"
   ]
  }
 ],
 "metadata": {
  "language_info": {
   "name": "python"
  }
 },
 "nbformat": 4,
 "nbformat_minor": 2
}
