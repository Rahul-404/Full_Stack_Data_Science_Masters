{
 "cells": [
  {
   "cell_type": "markdown",
   "metadata": {},
   "source": [
    "<h1><p align=\"center\"> Assignment : 11<sup>th</sup> June </p></h1>"
   ]
  },
  {
   "cell_type": "markdown",
   "metadata": {},
   "source": [
    "## 1. What is a lambda function in Python, and how does it differ from a regular function?"
   ]
  },
  {
   "cell_type": "markdown",
   "metadata": {},
   "source": [
    "A lambda function in python is a samll, anaonymous function defined using the `lambda`keyword. it is used fro creating simple functions on the fly without needing to define them with a `def` statement. Here's quick rundown on lambda functions and how they differ from regular functions:\n",
    "\n",
    "\n",
    "### **Lambda Function**\n",
    "\n",
    "- **Syntax:** `lambda arguments: expression`\n",
    "\n",
    "- **Anonymous:** Lambda functions are usually not named (hence \"anonymous\")\n",
    "\n",
    "- **Single Expression:** They can only contain a single expression. This expression is evaluated and returned.\n",
    "\n",
    "- **Usage:** They are often used for short throwaway functions that are oassed as arguments to higher-order functions like `map()`, `filter()`, and `sorted()`.\n",
    "\n",
    "**Example:**"
   ]
  },
  {
   "cell_type": "code",
   "execution_count": 2,
   "metadata": {},
   "outputs": [
    {
     "name": "stdout",
     "output_type": "stream",
     "text": [
      "9\n"
     ]
    }
   ],
   "source": [
    "# lambda function to add two numbers\n",
    "add = lambda x, y : x + y\n",
    "\n",
    "print(add(3, 6)) "
   ]
  },
  {
   "cell_type": "markdown",
   "metadata": {},
   "source": [
    "### Regular Function\n",
    "\n",
    "- **Syntax:** `def function_name(arguments):`\n",
    "\n",
    "- **Named:** Regualr functions are defiened with a name and can be called by that name.\n",
    "\n",
    "- **Multiple Statements:** They can include multiple statements and can be more complex.\n",
    "\n",
    "- **Usage:** They are generally used for functions that have more complex logic or are reused in different parts of the code.\n",
    "\n",
    "**Example:**"
   ]
  },
  {
   "cell_type": "code",
   "execution_count": 3,
   "metadata": {},
   "outputs": [
    {
     "name": "stdout",
     "output_type": "stream",
     "text": [
      "8\n"
     ]
    }
   ],
   "source": [
    "# Regualr function to add two numbers\n",
    "def add(x, y):\n",
    "    return x + y\n",
    "\n",
    "print(add(3, 5))"
   ]
  },
  {
   "cell_type": "markdown",
   "metadata": {},
   "source": [
    "Summarizing the key differences between lambda functions and regular functions in Python:\n",
    "\n",
    "|**Aspect**|**Lambda Function**|**Regular Function**|\n",
    "|---|---|---|\n",
    "|**Definition**| `lambda arguments : expression`| `def function_name(arguments)`|\n",
    "|**Naming**| Typically anonymous (not named) | Named function |\n",
    "| **Expression Limit** | Single expression | Can have multiple statements |\n",
    "| **Complexity** | Best for simple, one-liner functions | Suitable | Suitable for complex logic and multiple operations |\n",
    "| **Usage Context** | Often used as arguments to functions like `map()`, `filter()`, `sorted()` | Used for defining reusable and more complex functions |\n",
    "| **Readability** | Can be less readable if overused | Generally more readable and maintainable |"
   ]
  },
  {
   "cell_type": "markdown",
   "metadata": {},
   "source": [
    "# 2. Can a lambda function in Python have multiple arguments? If yes, how can you define and use them?"
   ]
  },
  {
   "cell_type": "markdown",
   "metadata": {},
   "source": [
    "Yes, a lambda function in python can have multiple arguments Lambda functions, also know as anonymous functions, are used to create small, unnamed functions in a concise way. They can take any number of arguments, though they are typically used for simple operations.\n",
    "\n",
    "Here's how you can define and use a lambda function with multiple arguments:\n",
    "\n",
    "## Defining a Lambda Function with Multiple Arguments\n",
    "\n",
    "Thre general syntax for a lambda function is :\n",
    "\n",
    "```Python\n",
    "\n",
    "lambda argument1, argument2, .... argumentN: expression\n",
    "\n",
    "```"
   ]
  },
  {
   "cell_type": "markdown",
   "metadata": {},
   "source": [
    "## Example 1 : Basic Usage \n",
    "\n",
    "Suppose you want to create a lambda function that taked two argument, 'x'and 'y', and returns their sum. You can define and it as follows:"
   ]
  },
  {
   "cell_type": "code",
   "execution_count": 1,
   "metadata": {},
   "outputs": [
    {
     "name": "stdout",
     "output_type": "stream",
     "text": [
      "8\n"
     ]
    }
   ],
   "source": [
    "add = lambda x, y : x + y\n",
    "\n",
    "result = add(5, 3)\n",
    "print(result)"
   ]
  },
  {
   "cell_type": "markdown",
   "metadata": {},
   "source": [
    "In this example, `lambda x, y: x + y` creates a lambda function that adds its two arguments. The function is assigned to the variable `add`, which is then called with the arguments `5` and `3`."
   ]
  },
  {
   "cell_type": "markdown",
   "metadata": {},
   "source": [
    "## Example 2: Using Lmabda in Higher-Order Functions\n",
    "\n",
    "Lambda functions are often used with functions like `map()`, `filter()` and `sorted()`, Here's an example using `map()`:"
   ]
  },
  {
   "cell_type": "code",
   "execution_count": 2,
   "metadata": {},
   "outputs": [
    {
     "name": "stdout",
     "output_type": "stream",
     "text": [
      "[3, 7, 11]\n"
     ]
    }
   ],
   "source": [
    "numbers = [(1, 2), (3, 4), (5, 6)]\n",
    "sum_pairs = list(map(lambda x: x[0] + x[1], numbers))\n",
    "\n",
    "print(sum_pairs)"
   ]
  },
  {
   "cell_type": "markdown",
   "metadata": {},
   "source": [
    "in this case, `lambda x: x[0] + x[1]` is a lambda function that sums the elements of each tuple in the `numbers` list."
   ]
  },
  {
   "cell_type": "markdown",
   "metadata": {},
   "source": [
    "## Example 3: COnditional Logic\n",
    "\n",
    "Lmabda functions cane also include conditional logic:"
   ]
  },
  {
   "cell_type": "code",
   "execution_count": 3,
   "metadata": {},
   "outputs": [
    {
     "name": "stdout",
     "output_type": "stream",
     "text": [
      "20\n"
     ]
    }
   ],
   "source": [
    "max_value = lambda x, y: x if x > y else y\n",
    "\n",
    "print(max_value(10, 20))"
   ]
  },
  {
   "cell_type": "markdown",
   "metadata": {},
   "source": [
    "Here's the lambda function returns the maximum of `x` and `y` using a conditional expression.\n",
    "\n",
    "\n",
    "### Summary;\n",
    "\n",
    "- Lambda functions can have multiple arguments.\n",
    "- They are defined with the `lambda` keyword followed by arguments, a colon , and an expression.\n",
    "- They can be used whatever function objects are required, including higher-order functions and simple operations, where defining a regular function using `def` might be preferable."
   ]
  },
  {
   "cell_type": "markdown",
   "metadata": {},
   "source": [
    "## 3. How are lambda functions typically used in Python? Provide an example use case."
   ]
  },
  {
   "cell_type": "markdown",
   "metadata": {},
   "source": [
    "Lambda functions in python are often used for short, throwaway functions that are used temporarily in places where a full function definition might be overkill. they are especiallu useful in functional programming paradigms and can be used with functions like `map()`, `filter()`, and `sorted()`. Here are some common use cases for lambda functions:"
   ]
  },
  {
   "cell_type": "markdown",
   "metadata": {},
   "source": [
    "### 1. With `map()`\n",
    "\n",
    "`map()` applies a given function to all items in an iterable (like a list) and returns a map object (which can be converted to a list). Lambda functions are often used here to avoid the need to define a separate function.\n",
    "\n",
    "**Example:**\n",
    "\n",
    "Suppose you have a list of numbers and you want to square each number. YOu can use `map()` with a lambda function."
   ]
  },
  {
   "cell_type": "code",
   "execution_count": 4,
   "metadata": {},
   "outputs": [
    {
     "name": "stdout",
     "output_type": "stream",
     "text": [
      "[1, 4, 9, 16, 25]\n"
     ]
    }
   ],
   "source": [
    "numbers = [1, 2, 3, 4, 5]\n",
    "squared_number = list(map(lambda x: x**2, numbers))\n",
    "print(squared_number)"
   ]
  },
  {
   "cell_type": "markdown",
   "metadata": {},
   "source": [
    "### 2. With `filter()`\n",
    "\n",
    "`filter()` fiilters alements from an iterable based on a function that returns `True` or `False`. lambda functions are useful here to define the filtering condition inline.\n",
    "\n",
    "**Example:**\n",
    "Suppose you want to filter out even numbers from a list:"
   ]
  },
  {
   "cell_type": "code",
   "execution_count": 10,
   "metadata": {},
   "outputs": [
    {
     "name": "stdout",
     "output_type": "stream",
     "text": [
      "[2, 4, 6]\n"
     ]
    }
   ],
   "source": [
    "numbers = [1,2,3,4,5,6]\n",
    "even_numbers = list(filter(lambda x: x % 2 == 0, numbers))\n",
    "\n",
    "print(even_numbers)"
   ]
  },
  {
   "cell_type": "markdown",
   "metadata": {},
   "source": [
    "### 3. With `sorted()`\n",
    "\n",
    "You can use a lambda function as key argument in `sorted()` to specify a custom sorting order.\n",
    "\n",
    "**Example:**\n",
    "\n",
    "If you have alist of tuples and want to sort them based on the second item in each tuple:"
   ]
  },
  {
   "cell_type": "code",
   "execution_count": 16,
   "metadata": {},
   "outputs": [
    {
     "name": "stdout",
     "output_type": "stream",
     "text": [
      "Before:  [(3, 'cherry'), (2, 'banana'), (1, 'apple')]\n",
      "After:  [(1, 'apple'), (2, 'banana'), (3, 'cherry')]\n"
     ]
    }
   ],
   "source": [
    "data = [(3, 'cherry'), (2, 'banana'), (1, 'apple')]\n",
    "print(\"Before: \", data)\n",
    "soretd_data = sorted(data, key=lambda x: x[1])\n",
    "print(\"After: \",soretd_data)"
   ]
  },
  {
   "cell_type": "markdown",
   "metadata": {},
   "source": [
    "### 4. In Functional Programming\n",
    "\n",
    "Lambda functions are are a netural fit for functional prgramming techniques where functions are treared as first-class citizens.\n",
    "\n",
    "**Example:**\n",
    "Using lambda functions for composing functions:"
   ]
  },
  {
   "cell_type": "code",
   "execution_count": 17,
   "metadata": {},
   "outputs": [
    {
     "name": "stdout",
     "output_type": "stream",
     "text": [
      "64\n"
     ]
    }
   ],
   "source": [
    "add_5 = lambda x : x + 5\n",
    "square = lambda x: x**2\n",
    "add_and_square = lambda x: square(add_5(x))\n",
    "\n",
    "result = add_and_square(3)\n",
    "print(result)"
   ]
  },
  {
   "cell_type": "markdown",
   "metadata": {},
   "source": [
    "**Summary:**\n",
    "\n",
    "- **Short-lived functions:** Useful for simple operation that are only nedded in one place.\n",
    "\n",
    "- **Functional programming:** Often used with `map()`, `filter()` and `sorted()`.\n",
    "\n",
    "- **Custom key functions:** Providing inline custom sorting or filtering criteria.\n"
   ]
  },
  {
   "cell_type": "markdown",
   "metadata": {},
   "source": [
    "## 4. What are the advantages and limitations of lambda functions compared to regular functions in Python?"
   ]
  },
  {
   "cell_type": "markdown",
   "metadata": {},
   "source": [
    "Lambda functions in python have their own set of advatages and limitations copared to regular functions defined using `def`. Here's detailed comparision:\n",
    "\n",
    "### Advantages of Lambda Functions:\n",
    "\n",
    "**1. Conciseness:**\n",
    "\n",
    "- **Advantage:** Lambda functions are more concise then regualar functions. they allow yout to define simple functions in a single line of code, making them ideal for short, straightforward operations.\n",
    "\n",
    "- **Example:**"
   ]
  },
  {
   "cell_type": "code",
   "execution_count": 18,
   "metadata": {},
   "outputs": [],
   "source": [
    "# lambda function \n",
    "add = lambda x, y: x+y\n",
    "\n",
    "# equivalent regualr function\n",
    "def add(x, y):\n",
    "    return x + y"
   ]
  },
  {
   "cell_type": "markdown",
   "metadata": {},
   "source": [
    "**2. Inline Usage:**\n",
    "\n",
    "- **Advantage:** They are useful for passing small functions as arguments to higher-order functions alike `map()`, `filter()`, `sorted()`, making the code more readable and avoiding the need to define a separate function.\n",
    "\n",
    "- **Example:**\n",
    "\n"
   ]
  },
  {
   "cell_type": "code",
   "execution_count": 19,
   "metadata": {},
   "outputs": [
    {
     "name": "stdout",
     "output_type": "stream",
     "text": [
      "[2, 4, 6, 8]\n"
     ]
    }
   ],
   "source": [
    "numbers = [1, 2, 3, 4]\n",
    "doubled = list(map(lambda x: x * 2, numbers))\n",
    "print(doubled)"
   ]
  },
  {
   "cell_type": "markdown",
   "metadata": {},
   "source": [
    "**3. Anonymous Functions:**\n",
    "\n",
    "- **Advantage:** Lambda functions don't require a name, which is useful when you need a simple function for a short-term purpose and don't want to clutter the namespace with extra function name.\n",
    "\n",
    "**4. Finctional Programming:**\n",
    "\n",
    "- **Advantage:** They fit well with functional programming techniques and can be used for creating functional pipeline or operations where functions are treated as first-class citizens."
   ]
  },
  {
   "cell_type": "markdown",
   "metadata": {},
   "source": [
    "### Limitations of Lambda Functions\n",
    "\n",
    "**1. Limited Funcationality:**\n",
    "\n",
    "- **Limitation:** Lambda functions are restricted to a single expression and cannot contain statements or multiple expressions. This limits their functionality compared to regular functions.\n",
    "\n",
    "- **Example:**"
   ]
  },
  {
   "cell_type": "code",
   "execution_count": 21,
   "metadata": {},
   "outputs": [],
   "source": [
    "# valid lambda function\n",
    "add = lambda x, y : x + y \n",
    "\n",
    "# Invalid lambda function (syntax error)\n",
    "# add = lambda x, y : x + y; print(x, y)"
   ]
  },
  {
   "cell_type": "markdown",
   "metadata": {},
   "source": [
    "**2. Readability:**\n",
    "\n",
    "- **Limitaion:** Lambda functions can be less readable when the logic is complex. For more complec operations, using a regular function with a descriptive name is usually more readable and maintainable.\n",
    "\n",
    "- **Example:**"
   ]
  },
  {
   "cell_type": "code",
   "execution_count": 22,
   "metadata": {},
   "outputs": [],
   "source": [
    "## Complex lambda function\n",
    "complex_func = lambda x: (x ** 2 + 2 * x + 1) / (x + 1)\n",
    "\n",
    "# More readable regular function\n",
    "def complex_func(x):\n",
    "    return (x ** 2 + 2 * x + 1)/ (x + 1)"
   ]
  },
  {
   "cell_type": "markdown",
   "metadata": {},
   "source": [
    "**3. Debugging:**\n",
    "\n",
    "- **Limitation:** Lambda functions can be harder to debug compared to ragular functions because they lack names and documentation, making it more challenging to trace issues.\n",
    "\n",
    "**4. No Annotations or Documentation:**\n",
    "\n",
    "- **Limitation:** Lambda functio do not support function annotations or docstrings, which are useful for documentation and type hinting in regular functions.\n",
    "\n",
    "- **Example:**"
   ]
  },
  {
   "cell_type": "code",
   "execution_count": 23,
   "metadata": {},
   "outputs": [],
   "source": [
    "# Refular function with annotation and docstring\n",
    "def add(x: int, y: int) -> int:\n",
    "    \"\"\"Add two integers.\"\"\"\n",
    "    return x + y"
   ]
  },
  {
   "cell_type": "markdown",
   "metadata": {},
   "source": []
  },
  {
   "cell_type": "markdown",
   "metadata": {},
   "source": [
    "## 5. Are lambda functions in Python able to access variables defined outside of their own scope? Explain with an example."
   ]
  },
  {
   "cell_type": "markdown",
   "metadata": {},
   "source": [
    "Yes, lambda functions in Python can access variables defined outside their own scope. This is due to Python's lexical scoping rules, which allow functions (including lambda functions) to capture and remember the values of variables from their surrounding context, even after that context has ended.\n",
    "\n",
    "### **How It Works**\n",
    "\n",
    "Lambda functions, like regular functions, have access to variables in their enclosing scope due to closures. When a lambda function is defined, it captures the variables from its surrounding environment. This means that if a lambda function is created inside another function, it can still access variables defined in the outer function.\n",
    "\n",
    "### **Example**\n",
    "\n",
    "Here's a simple example to illustrate how a lambda function can access and use variables from an outer scope:\n",
    "\n",
    "```python\n",
    "def make_multiplier(factor):\n",
    "    return lambda x: x * factor\n",
    "\n",
    "# Create a lambda function that multiplies by 3\n",
    "multiplier_by_3 = make_multiplier(3)\n",
    "\n",
    "# Use the lambda function\n",
    "result = multiplier_by_3(10)\n",
    "print(result)  # Output: 30\n",
    "```\n",
    "\n",
    "### **Explanation**\n",
    "\n",
    "1. **Function Definition**:\n",
    "   - The function `make_multiplier` takes a single argument `factor` and returns a lambda function.\n",
    "   - The lambda function `lambda x: x * factor` uses the `factor` variable from the `make_multiplier` function's scope.\n",
    "\n",
    "2. **Closure**:\n",
    "   - When `make_multiplier(3)` is called, it returns a lambda function where `factor` is set to `3`.\n",
    "   - The returned lambda function is assigned to `multiplier_by_3`. This lambda function will remember that `factor` is `3`, even though the `make_multiplier` function has already finished executing.\n",
    "\n",
    "3. **Usage**:\n",
    "   - Calling `multiplier_by_3(10)` invokes the lambda function with `x = 10` and uses the captured `factor` value (`3`), resulting in `10 * 3`, which is `30`.\n",
    "\n",
    "### **Another Example**\n",
    "\n",
    "Here's another example demonstrating how lambda functions can access variables from an outer scope in a more complex scenario:\n",
    "\n",
    "```python\n",
    "def outer_function(a):\n",
    "    b = 10\n",
    "    return lambda x: x + a + b\n",
    "\n",
    "# Create a lambda function with outer variables\n",
    "func = outer_function(5)\n",
    "\n",
    "# Use the lambda function\n",
    "result = func(7)\n",
    "print(result)  # Output: 22\n",
    "```\n",
    "\n",
    "### **Explanation**\n",
    "\n",
    "1. **Function Definition**:\n",
    "   - The `outer_function` defines two variables: `a` and `b`.\n",
    "   - It returns a lambda function `lambda x: x + a + b` that uses both `a` and `b`.\n",
    "\n",
    "2. **Closure**:\n",
    "   - When `outer_function(5)` is called, it returns a lambda function where `a` is `5` and `b` is `10`.\n",
    "   - The lambda function is assigned to `func` and retains access to `a` and `b`.\n",
    "\n",
    "3. **Usage**:\n",
    "   - Calling `func(7)` uses the lambda function with `x = 7` and the captured values `a = 5` and `b = 10`, resulting in `7 + 5 + 10`, which is `22`.\n",
    "\n",
    "### **Summary**\n",
    "\n",
    "Lambda functions in Python can indeed access and utilize variables from their enclosing scope due to the concept of closures. This allows lambda functions to remember and use variables from their creation context, making them flexible and powerful for various programming scenarios."
   ]
  },
  {
   "cell_type": "code",
   "execution_count": null,
   "metadata": {},
   "outputs": [],
   "source": []
  },
  {
   "cell_type": "markdown",
   "metadata": {},
   "source": [
    "## 6. Write a lambda function to calculate the square of a given number"
   ]
  },
  {
   "cell_type": "markdown",
   "metadata": {},
   "source": [
    "To create a lambda function that calculates the square of a given number, you can use the following syntax:\n",
    "\n",
    "```python\n",
    "square = lambda x: x ** 2\n",
    "```\n",
    "\n",
    "Here’s a breakdown of the lambda function:\n",
    "\n",
    "- **`lambda x:`**: Defines an anonymous function with one argument, `x`.\n",
    "- **`x ** 2`**: The expression that calculates the square of `x`.\n",
    "\n",
    "### **Example Usage**\n",
    "\n",
    "```python\n",
    "# Define the lambda function\n",
    "square = lambda x: x ** 2\n",
    "\n",
    "# Use the lambda function\n",
    "result = square(5)\n",
    "print(result)  # Output: 25\n",
    "```\n",
    "\n",
    "In this example:\n",
    "- The lambda function `square` is defined to compute the square of its input.\n",
    "- When `square(5)` is called, it returns `25`, which is `5` squared."
   ]
  },
  {
   "cell_type": "code",
   "execution_count": null,
   "metadata": {},
   "outputs": [],
   "source": []
  },
  {
   "cell_type": "markdown",
   "metadata": {},
   "source": [
    "## 7. Create a lambda function to find the maximum value in a list of integers."
   ]
  },
  {
   "cell_type": "markdown",
   "metadata": {},
   "source": [
    "To create a lambda function that finds the maximum value in a list of integers, you can use Python's built-in `max()` function in combination with a lambda function. However, it's worth noting that for simply finding the maximum value, using `max()` directly is usually more straightforward. Nevertheless, you can still use a lambda function to demonstrate how it might be done.\n",
    "\n",
    "Here's how you can create a lambda function to find the maximum value in a list of integers:\n",
    "\n",
    "### **Using `max()` with Lambda Function**\n",
    "\n",
    "```python\n",
    "# Define a lambda function that finds the maximum value in a list\n",
    "find_max = lambda lst: max(lst)\n",
    "\n",
    "# Example list of integers\n",
    "numbers = [4, 1, 7, 3, 9, 2]\n",
    "\n",
    "# Use the lambda function\n",
    "max_value = find_max(numbers)\n",
    "print(max_value)  # Output: 9\n",
    "```\n",
    "\n",
    "### **Explanation**\n",
    "\n",
    "- **Lambda Function**: `lambda lst: max(lst)`\n",
    "  - **`lst`**: The input to the lambda function, which is expected to be a list of integers.\n",
    "  - **`max(lst)`**: Uses the built-in `max()` function to find and return the maximum value in the list `lst`.\n",
    "\n",
    "### **Alternative Approach**\n",
    "\n",
    "If you wanted to define a lambda function that operates on pairs of values and finds the maximum in a more complex scenario, you might use it with `reduce` from the `functools` module. But for a simple list of integers, the above method is more direct and efficient.\n",
    "\n",
    "### **Complete Example**\n",
    "\n",
    "```python\n",
    "from functools import reduce\n",
    "\n",
    "# Define a lambda function to find the maximum value\n",
    "find_max = lambda lst: max(lst)\n",
    "\n",
    "# Define a list of integers\n",
    "numbers = [4, 1, 7, 3, 9, 2]\n",
    "\n",
    "# Find the maximum value using the lambda function\n",
    "max_value = find_max(numbers)\n",
    "print(max_value)  # Output: 9\n",
    "```\n",
    "\n",
    "This lambda function effectively uses the built-in `max()` function to find the largest number in the list."
   ]
  },
  {
   "cell_type": "code",
   "execution_count": null,
   "metadata": {},
   "outputs": [],
   "source": []
  },
  {
   "cell_type": "markdown",
   "metadata": {},
   "source": [
    "## 8. Implement a lambda function to filter out all the even numbers from a list of integers."
   ]
  },
  {
   "cell_type": "markdown",
   "metadata": {},
   "source": [
    "To filter out all the even numbers from a list of integers using a lambda function, you can use the `filter()` function in combination with a lambda function. The `filter()` function applies a given function to each item in an iterable and returns an iterator with only the items for which the function returns `True`.\n",
    "\n",
    "Here's how you can implement it:\n",
    "\n",
    "### **Lambda Function with `filter()`**\n",
    "\n",
    "```python\n",
    "# Define the lambda function to check for even numbers\n",
    "is_even = lambda x: x % 2 == 0\n",
    "\n",
    "# Define a list of integers\n",
    "numbers = [1, 2, 3, 4, 5, 6, 7, 8, 9, 10]\n",
    "\n",
    "# Use the filter function with the lambda function to get even numbers\n",
    "even_numbers = list(filter(is_even, numbers))\n",
    "\n",
    "print(even_numbers)  # Output: [2, 4, 6, 8, 10]\n",
    "```\n",
    "\n",
    "### **Explanation**\n",
    "\n",
    "1. **Lambda Function**:\n",
    "   - **`is_even = lambda x: x % 2 == 0`**: This lambda function takes an integer `x` and returns `True` if `x` is even (i.e., `x % 2 == 0`).\n",
    "\n",
    "2. **Filtering with `filter()`**:\n",
    "   - **`filter(is_even, numbers)`**: Applies the `is_even` lambda function to each item in the `numbers` list and filters out only the items where `is_even` returns `True`.\n",
    "\n",
    "3. **Conversion to List**:\n",
    "   - **`list(filter(...))`**: Converts the resulting filter object to a list for easier readability and use.\n",
    "\n",
    "### **Complete Example**\n",
    "\n",
    "```python\n",
    "# Define the lambda function to check for even numbers\n",
    "is_even = lambda x: x % 2 == 0\n",
    "\n",
    "# Define a list of integers\n",
    "numbers = [1, 2, 3, 4, 5, 6, 7, 8, 9, 10]\n",
    "\n",
    "# Use filter to get even numbers\n",
    "even_numbers = list(filter(is_even, numbers))\n",
    "\n",
    "print(even_numbers)  # Output: [2, 4, 6, 8, 10]\n",
    "```\n",
    "\n",
    "This example shows how to use a lambda function to filter out even numbers from a list of integers efficiently."
   ]
  },
  {
   "cell_type": "code",
   "execution_count": null,
   "metadata": {},
   "outputs": [],
   "source": []
  },
  {
   "cell_type": "markdown",
   "metadata": {},
   "source": [
    "## 9. Write a lambda function to sort a list of strings in ascending order based on the length of each string."
   ]
  },
  {
   "cell_type": "markdown",
   "metadata": {},
   "source": [
    "To sort a list of strings in ascending order based on the length of each string using a lambda function, you can use the `sorted()` function with a lambda function as the key. The `sorted()` function allows you to specify a key function that determines the sorting order.\n",
    "\n",
    "Here’s how you can do it:\n",
    "\n",
    "### **Lambda Function with `sorted()`**\n",
    "\n",
    "```python\n",
    "# Define a list of strings\n",
    "strings = [\"apple\", \"banana\", \"kiwi\", \"cherry\", \"date\"]\n",
    "\n",
    "# Use sorted with a lambda function to sort by string length\n",
    "sorted_strings = sorted(strings, key=lambda s: len(s))\n",
    "\n",
    "print(sorted_strings)  # Output: ['kiwi', 'date', 'apple', 'banana', 'cherry']\n",
    "```\n",
    "\n",
    "### **Explanation**\n",
    "\n",
    "1. **Lambda Function**:\n",
    "   - **`lambda s: len(s)`**: This lambda function takes a string `s` and returns its length using `len(s)`. This value is used as the key for sorting.\n",
    "\n",
    "2. **Sorting with `sorted()`**:\n",
    "   - **`sorted(strings, key=lambda s: len(s))`**: Sorts the `strings` list based on the lengths of the strings. The `key` argument specifies that the sorting should be done according to the length of each string.\n",
    "\n",
    "### **Complete Example**\n",
    "\n",
    "Here’s the complete code snippet:\n",
    "\n",
    "```python\n",
    "# Define a list of strings\n",
    "strings = [\"apple\", \"banana\", \"kiwi\", \"cherry\", \"date\"]\n",
    "\n",
    "# Sort the list based on the length of each string\n",
    "sorted_strings = sorted(strings, key=lambda s: len(s))\n",
    "\n",
    "print(sorted_strings)  # Output: ['kiwi', 'date', 'apple', 'banana', 'cherry']\n",
    "```\n",
    "\n",
    "In this example:\n",
    "- The `lambda s: len(s)` function extracts the length of each string.\n",
    "- The `sorted()` function uses these lengths to sort the strings in ascending order, resulting in a list where strings are ordered from shortest to longest."
   ]
  },
  {
   "cell_type": "code",
   "execution_count": null,
   "metadata": {},
   "outputs": [],
   "source": []
  },
  {
   "cell_type": "markdown",
   "metadata": {},
   "source": [
    "## 10. Create a lambda function that takes two lists as input and returns a new list containing the common elements between the two lists."
   ]
  },
  {
   "cell_type": "markdown",
   "metadata": {},
   "source": [
    "To create a lambda function that takes two lists as input and returns a new list containing the common elements between the two lists, you can use the `filter()` function combined with a lambda function. The `filter()` function can be used to filter elements based on a condition, and you can use a lambda function to check if each element of one list is present in the other list.\n",
    "\n",
    "Here’s how you can implement this:\n",
    "\n",
    "### **Lambda Function with `filter()`**\n",
    "\n",
    "```python\n",
    "# Define the lambda function to find common elements\n",
    "common_elements = lambda list1, list2: list(filter(lambda x: x in list2, list1))\n",
    "\n",
    "# Example lists\n",
    "list1 = [1, 2, 3, 4, 5]\n",
    "list2 = [4, 5, 6, 7, 8]\n",
    "\n",
    "# Use the lambda function to find common elements\n",
    "result = common_elements(list1, list2)\n",
    "\n",
    "print(result)  # Output: [4, 5]\n",
    "```\n",
    "\n",
    "### **Explanation**\n",
    "\n",
    "1. **Lambda Function**:\n",
    "   - **`lambda list1, list2: list(filter(lambda x: x in list2, list1))`**:\n",
    "     - This lambda function takes two lists as inputs: `list1` and `list2`.\n",
    "     - Inside it, `filter(lambda x: x in list2, list1)` filters elements of `list1`, returning only those elements that are also present in `list2`.\n",
    "     - `list()` converts the filter object to a list.\n",
    "\n",
    "2. **Filtering with `filter()`**:\n",
    "   - **`lambda x: x in list2`**: The inner lambda function checks if an element `x` from `list1` is present in `list2`.\n",
    "\n",
    "### **Complete Example**\n",
    "\n",
    "Here’s a complete example of the code:\n",
    "\n",
    "```python\n",
    "# Define the lambda function to find common elements\n",
    "common_elements = lambda list1, list2: list(filter(lambda x: x in list2, list1))\n",
    "\n",
    "# Example lists\n",
    "list1 = [1, 2, 3, 4, 5]\n",
    "list2 = [4, 5, 6, 7, 8]\n",
    "\n",
    "# Use the lambda function to find common elements\n",
    "result = common_elements(list1, list2)\n",
    "\n",
    "print(result)  # Output: [4, 5]\n",
    "```\n",
    "\n",
    "### **Alternative Using List Comprehension**\n",
    "\n",
    "For better readability, you might use a list comprehension instead of `filter()`:\n",
    "\n",
    "```python\n",
    "# Define the lambda function to find common elements using list comprehension\n",
    "common_elements = lambda list1, list2: [x for x in list1 if x in list2]\n",
    "\n",
    "# Example lists\n",
    "list1 = [1, 2, 3, 4, 5]\n",
    "list2 = [4, 5, 6, 7, 8]\n",
    "\n",
    "# Use the lambda function to find common elements\n",
    "result = common_elements(list1, list2)\n",
    "\n",
    "print(result)  # Output: [4, 5]\n",
    "```\n",
    "\n",
    "Both methods achieve the same result, but the list comprehension might be more straightforward and easier to understand for some people."
   ]
  },
  {
   "cell_type": "code",
   "execution_count": null,
   "metadata": {},
   "outputs": [],
   "source": []
  },
  {
   "cell_type": "markdown",
   "metadata": {},
   "source": [
    "## 11. Write a recursive function to calculate the factorial of a given positive integer."
   ]
  },
  {
   "cell_type": "markdown",
   "metadata": {},
   "source": [
    "To calculate the factorial of a given positive integer using a recursive function, you need to implement a function that calls itself with a reduced value until it reaches the base case. The factorial of a number \\( n \\) (denoted as \\( n! \\)) is defined as:\n",
    "\n",
    "- \\( n! = n \\times (n - 1) \\times (n - 2) \\times \\ldots \\times 1 \\)\n",
    "- The base case is \\( 1! = 1 \\) and \\( 0! = 1 \\).\n",
    "\n",
    "Here’s a recursive function to compute the factorial of a positive integer:\n",
    "\n",
    "### **Recursive Function for Factorial**\n",
    "\n",
    "```python\n",
    "def factorial(n):\n",
    "    # Base case: factorial of 0 or 1 is 1\n",
    "    if n == 0 or n == 1:\n",
    "        return 1\n",
    "    # Recursive case: n! = n * (n-1)!\n",
    "    else:\n",
    "        return n * factorial(n - 1)\n",
    "```\n",
    "\n",
    "### **Explanation**\n",
    "\n",
    "1. **Base Case**:\n",
    "   - **`if n == 0 or n == 1:`**: The factorial of 0 or 1 is defined as 1. This is the stopping condition for the recursion.\n",
    "\n",
    "2. **Recursive Case**:\n",
    "   - **`return n * factorial(n - 1)`**: The function calls itself with the argument \\( n - 1 \\), multiplying the result by \\( n \\). This continues until the base case is reached.\n",
    "\n",
    "### **Complete Example**\n",
    "\n",
    "Here’s a complete example of how to use the recursive `factorial` function:\n",
    "\n",
    "```python\n",
    "def factorial(n):\n",
    "    # Base case\n",
    "    if n == 0 or n == 1:\n",
    "        return 1\n",
    "    # Recursive case\n",
    "    else:\n",
    "        return n * factorial(n - 1)\n",
    "\n",
    "# Example usage\n",
    "number = 5\n",
    "result = factorial(number)\n",
    "print(f\"The factorial of {number} is {result}\")  # Output: The factorial of 5 is 120\n",
    "```\n",
    "\n",
    "### **Explanation of the Example**\n",
    "\n",
    "- **`factorial(5)`**:\n",
    "  - Calls `factorial(4)`, which calls `factorial(3)`, and so on, until it reaches `factorial(1)`.\n",
    "  - Each call multiplies the current number by the result of the factorial of the previous number.\n",
    "  - Finally, `factorial(1)` returns 1, and the results are multiplied together as the recursive calls return.\n",
    "\n",
    "This function will correctly calculate the factorial for any non-negative integer input."
   ]
  },
  {
   "cell_type": "code",
   "execution_count": null,
   "metadata": {},
   "outputs": [],
   "source": []
  },
  {
   "cell_type": "markdown",
   "metadata": {},
   "source": [
    "## 12. Implement a recursive function to compute the nth Fibonacci number."
   ]
  },
  {
   "cell_type": "markdown",
   "metadata": {},
   "source": [
    "To compute the \\( n \\)-th Fibonacci number using a recursive function, you need to define a function that follows the Fibonacci sequence:\n",
    "\n",
    "- The Fibonacci sequence is defined as:\n",
    "  - \\( F(0) = 0 \\)\n",
    "  - \\( F(1) = 1 \\)\n",
    "  - For \\( n \\geq 2 \\), \\( F(n) = F(n-1) + F(n-2) \\)\n",
    "\n",
    "Here’s how you can implement this in Python:\n",
    "\n",
    "### **Recursive Function for Fibonacci**\n",
    "\n",
    "```python\n",
    "def fibonacci(n):\n",
    "    # Base cases\n",
    "    if n == 0:\n",
    "        return 0\n",
    "    elif n == 1:\n",
    "        return 1\n",
    "    # Recursive case\n",
    "    else:\n",
    "        return fibonacci(n - 1) + fibonacci(n - 2)\n",
    "```\n",
    "\n",
    "### **Explanation**\n",
    "\n",
    "1. **Base Cases**:\n",
    "   - **`if n == 0:`**: If \\( n \\) is 0, return 0.\n",
    "   - **`elif n == 1:`**: If \\( n \\) is 1, return 1.\n",
    "\n",
    "2. **Recursive Case**:\n",
    "   - **`return fibonacci(n - 1) + fibonacci(n - 2)`**: Calls the function recursively to get the \\((n-1)\\)-th and \\((n-2)\\)-th Fibonacci numbers and adds them together.\n",
    "\n",
    "### **Complete Example**\n",
    "\n",
    "Here’s how you might use the `fibonacci` function:\n",
    "\n",
    "```python\n",
    "def fibonacci(n):\n",
    "    # Base cases\n",
    "    if n == 0:\n",
    "        return 0\n",
    "    elif n == 1:\n",
    "        return 1\n",
    "    # Recursive case\n",
    "    else:\n",
    "        return fibonacci(n - 1) + fibonacci(n - 2)\n",
    "\n",
    "# Example usage\n",
    "number = 7\n",
    "result = fibonacci(number)\n",
    "print(f\"The {number}-th Fibonacci number is {result}\")  # Output: The 7-th Fibonacci number is 13\n",
    "```\n",
    "\n",
    "### **Explanation of the Example**\n",
    "\n",
    "- **`fibonacci(7)`**:\n",
    "  - Computes the Fibonacci numbers recursively:\n",
    "    - `fibonacci(6) + fibonacci(5)`\n",
    "      - `fibonacci(5) = fibonacci(4) + fibonacci(3)`\n",
    "        - `fibonacci(4) = fibonacci(3) + fibonacci(2)`\n",
    "          - And so on until reaching the base cases.\n",
    "  - Finally, the results are summed to get the Fibonacci number for \\( n = 7 \\), which is 13.\n",
    "\n",
    "### **Performance Considerations**\n",
    "\n",
    "This recursive approach has exponential time complexity \\( O(2^n) \\) due to the repeated calculations of the same values. For large \\( n \\), this method becomes inefficient.\n",
    "\n",
    "### **Optimized Approach**\n",
    "\n",
    "For a more efficient approach, consider using memoization or an iterative solution:\n",
    "\n",
    "#### **Memoized Recursive Function**\n",
    "\n",
    "```python\n",
    "def fibonacci(n, memo={}):\n",
    "    # Base cases\n",
    "    if n in memo:\n",
    "        return memo[n]\n",
    "    if n == 0:\n",
    "        return 0\n",
    "    elif n == 1:\n",
    "        return 1\n",
    "    # Recursive case with memoization\n",
    "    memo[n] = fibonacci(n - 1, memo) + fibonacci(n - 2, memo)\n",
    "    return memo[n]\n",
    "```\n",
    "\n",
    "#### **Iterative Function**\n",
    "\n",
    "```python\n",
    "def fibonacci(n):\n",
    "    if n == 0:\n",
    "        return 0\n",
    "    elif n == 1:\n",
    "        return 1\n",
    "\n",
    "    a, b = 0, 1\n",
    "    for _ in range(2, n + 1):\n",
    "        a, b = b, a + b\n",
    "    return b\n",
    "```\n",
    "\n",
    "Both of these approaches are more efficient than the basic recursive method and are suitable for computing larger Fibonacci numbers."
   ]
  },
  {
   "cell_type": "code",
   "execution_count": null,
   "metadata": {},
   "outputs": [],
   "source": []
  },
  {
   "cell_type": "markdown",
   "metadata": {},
   "source": [
    "## 13. Create a recursive function to find the sum of all the elements in a given list"
   ]
  },
  {
   "cell_type": "markdown",
   "metadata": {},
   "source": [
    "To create a recursive function to find the sum of all elements in a given list, you'll want to follow a strategy similar to the one used in recursive functions for other problems: break the problem into smaller parts, and combine the results of those smaller parts.\n",
    "\n",
    "Here’s a step-by-step approach to implementing such a function:\n",
    "\n",
    "### **Recursive Function for Sum of List Elements**\n",
    "\n",
    "1. **Base Case**: If the list is empty, the sum is 0.\n",
    "2. **Recursive Case**: Sum the first element of the list with the sum of the rest of the list.\n",
    "\n",
    "### **Implementation**\n",
    "\n",
    "```python\n",
    "def sum_list(lst):\n",
    "    # Base case: if the list is empty\n",
    "    if not lst:\n",
    "        return 0\n",
    "    # Recursive case: sum of the first element and the sum of the rest of the list\n",
    "    else:\n",
    "        return lst[0] + sum_list(lst[1:])\n",
    "```\n",
    "\n",
    "### **Explanation**\n",
    "\n",
    "1. **Base Case**:\n",
    "   - **`if not lst:`**: Checks if the list is empty. If it is, the sum is 0.\n",
    "\n",
    "2. **Recursive Case**:\n",
    "   - **`return lst[0] + sum_list(lst[1:])`**: Adds the first element of the list (`lst[0]`) to the sum of the rest of the list (`lst[1:]`). The function calls itself with the rest of the list.\n",
    "\n",
    "### **Complete Example**\n",
    "\n",
    "Here’s a complete example of how to use the `sum_list` function:\n",
    "\n",
    "```python\n",
    "def sum_list(lst):\n",
    "    # Base case: if the list is empty\n",
    "    if not lst:\n",
    "        return 0\n",
    "    # Recursive case: sum of the first element and the sum of the rest of the list\n",
    "    else:\n",
    "        return lst[0] + sum_list(lst[1:])\n",
    "\n",
    "# Example usage\n",
    "numbers = [1, 2, 3, 4, 5]\n",
    "result = sum_list(numbers)\n",
    "print(f\"The sum of the list elements is {result}\")  # Output: The sum of the list elements is 15\n",
    "```\n",
    "\n",
    "### **Explanation of the Example**\n",
    "\n",
    "- **`sum_list([1, 2, 3, 4, 5])`**:\n",
    "  - Computes as follows:\n",
    "    - `1 + sum_list([2, 3, 4, 5])`\n",
    "    - `1 + (2 + sum_list([3, 4, 5]))`\n",
    "    - `1 + (2 + (3 + sum_list([4, 5])))`\n",
    "    - `1 + (2 + (3 + (4 + sum_list([5]))))`\n",
    "    - `1 + (2 + (3 + (4 + (5 + sum_list([]))))))`\n",
    "    - `1 + (2 + (3 + (4 + (5 + 0))))`\n",
    "    - `15`\n",
    "\n",
    "This function will correctly calculate the sum of all elements in the list."
   ]
  },
  {
   "cell_type": "code",
   "execution_count": null,
   "metadata": {},
   "outputs": [],
   "source": []
  },
  {
   "cell_type": "markdown",
   "metadata": {},
   "source": [
    "## 14. Write a recursive function to determine whether a given string is a palindrome.\n"
   ]
  },
  {
   "cell_type": "markdown",
   "metadata": {},
   "source": [
    "To determine whether a given string is a palindrome using a recursive function, you need to compare characters from the beginning and the end of the string and progressively check the remaining substring. A palindrome is a string that reads the same forwards and backwards.\n",
    "\n",
    "Here’s how you can implement this:\n",
    "\n",
    "### **Recursive Function to Check Palindrome**\n",
    "\n",
    "1. **Base Cases**:\n",
    "   - If the string is empty or has only one character, it's a palindrome.\n",
    "   - If the first and last characters of the string are different, it's not a palindrome.\n",
    "\n",
    "2. **Recursive Case**:\n",
    "   - If the first and last characters are the same, recursively check the substring that excludes these characters.\n",
    "\n",
    "### **Implementation**\n",
    "\n",
    "```python\n",
    "def is_palindrome(s):\n",
    "    # Base case: if the string is empty or has one character\n",
    "    if len(s) <= 1:\n",
    "        return True\n",
    "    # Base case: if the first and last characters are different\n",
    "    elif s[0] != s[-1]:\n",
    "        return False\n",
    "    # Recursive case: check the substring excluding the first and last characters\n",
    "    else:\n",
    "        return is_palindrome(s[1:-1])\n",
    "```\n",
    "\n",
    "### **Explanation**\n",
    "\n",
    "1. **Base Cases**:\n",
    "   - **`if len(s) <= 1:`**: If the string is empty or has a single character, it is a palindrome.\n",
    "   - **`elif s[0] != s[-1]:`**: If the first and last characters are different, the string is not a palindrome.\n",
    "\n",
    "2. **Recursive Case**:\n",
    "   - **`return is_palindrome(s[1:-1])`**: Recursively check the substring that excludes the first and last characters.\n",
    "\n",
    "### **Complete Example**\n",
    "\n",
    "Here’s a complete example of how to use the `is_palindrome` function:\n",
    "\n",
    "```python\n",
    "def is_palindrome(s):\n",
    "    # Base case: if the string is empty or has one character\n",
    "    if len(s) <= 1:\n",
    "        return True\n",
    "    # Base case: if the first and last characters are different\n",
    "    elif s[0] != s[-1]:\n",
    "        return False\n",
    "    # Recursive case: check the substring excluding the first and last characters\n",
    "    else:\n",
    "        return is_palindrome(s[1:-1])\n",
    "\n",
    "# Example usage\n",
    "string1 = \"racecar\"\n",
    "string2 = \"hello\"\n",
    "print(f\"'{string1}' is a palindrome: {is_palindrome(string1)}\")  # Output: 'racecar' is a palindrome: True\n",
    "print(f\"'{string2}' is a palindrome: {is_palindrome(string2)}\")  # Output: 'hello' is a palindrome: False\n",
    "```\n",
    "\n",
    "### **Explanation of the Example**\n",
    "\n",
    "- **`is_palindrome(\"racecar\")`**:\n",
    "  - Compares `'r'` and `'r'`, then recursively checks `'aceca'`.\n",
    "  - Compares `'a'` and `'a'`, then recursively checks `'cec'`.\n",
    "  - Compares `'c'` and `'c'`, then recursively checks `'e'`.\n",
    "  - `'e'` is a single character, so it returns `True`.\n",
    "  - All checks are `True`, so the function returns `True`.\n",
    "\n",
    "- **`is_palindrome(\"hello\")`**:\n",
    "  - Compares `'h'` and `'o'`, which are different, so it returns `False`.\n",
    "\n",
    "This recursive function effectively determines if a string is a palindrome by breaking down the problem into smaller substrings."
   ]
  },
  {
   "cell_type": "code",
   "execution_count": null,
   "metadata": {},
   "outputs": [],
   "source": []
  },
  {
   "cell_type": "markdown",
   "metadata": {},
   "source": [
    "## 15. Implement a recursive function to find the greatest common divisor (GCD) of two positive integers"
   ]
  },
  {
   "cell_type": "markdown",
   "metadata": {},
   "source": [
    "To find the greatest common divisor (GCD) of two positive integers using a recursive function, you can use the Euclidean algorithm. The Euclidean algorithm is an efficient method for computing the GCD and is based on the principle that:\n",
    "\n",
    "\\[ \\text{GCD}(a, b) = \\text{GCD}(b, a \\% b) \\]\n",
    "\n",
    "where \\( a \\% b \\) is the remainder when \\( a \\) is divided by \\( b \\). The algorithm continues until the remainder is 0, at which point the GCD is the non-zero divisor.\n",
    "\n",
    "### **Recursive Function for GCD**\n",
    "\n",
    "Here’s how you can implement this in Python:\n",
    "\n",
    "```python\n",
    "def gcd(a, b):\n",
    "    # Base case: if b is 0, GCD is a\n",
    "    if b == 0:\n",
    "        return a\n",
    "    # Recursive case: GCD of b and the remainder of a divided by b\n",
    "    else:\n",
    "        return gcd(b, a % b)\n",
    "```\n",
    "\n",
    "### **Explanation**\n",
    "\n",
    "1. **Base Case**:\n",
    "   - **`if b == 0:`**: If the second number \\( b \\) is 0, the GCD is \\( a \\). This is because the GCD of any number and 0 is the number itself.\n",
    "\n",
    "2. **Recursive Case**:\n",
    "   - **`return gcd(b, a % b)`**: Recursively call the function with \\( b \\) and the remainder of \\( a \\) divided by \\( b \\) (i.e., \\( a \\% b \\)).\n",
    "\n",
    "### **Complete Example**\n",
    "\n",
    "Here’s a complete example of how to use the `gcd` function:\n",
    "\n",
    "```python\n",
    "def gcd(a, b):\n",
    "    # Base case\n",
    "    if b == 0:\n",
    "        return a\n",
    "    # Recursive case\n",
    "    else:\n",
    "        return gcd(b, a % b)\n",
    "\n",
    "# Example usage\n",
    "num1 = 48\n",
    "num2 = 18\n",
    "result = gcd(num1, num2)\n",
    "print(f\"The GCD of {num1} and {num2} is {result}\")  # Output: The GCD of 48 and 18 is 6\n",
    "```\n",
    "\n",
    "### **Explanation of the Example**\n",
    "\n",
    "- **`gcd(48, 18)`**:\n",
    "  - **`gcd(18, 48 % 18)`**: The remainder of 48 divided by 18 is 12, so it calls `gcd(18, 12)`.\n",
    "  - **`gcd(12, 18 % 12)`**: The remainder of 18 divided by 12 is 6, so it calls `gcd(12, 6)`.\n",
    "  - **`gcd(6, 12 % 6)`**: The remainder of 12 divided by 6 is 0, so it calls `gcd(6, 0)`.\n",
    "  - **`gcd(6, 0)`**: Since \\( b \\) is 0, it returns \\( a \\), which is 6.\n",
    "\n",
    "The function effectively reduces the problem size at each step and computes the GCD efficiently."
   ]
  },
  {
   "cell_type": "code",
   "execution_count": null,
   "metadata": {},
   "outputs": [],
   "source": []
  },
  {
   "cell_type": "markdown",
   "metadata": {},
   "source": [
    "<i>\"Thank you for exploring all the way to the end of my page!\"</i>\n",
    "\n",
    "<p>\n",
    "regards, <br>\n",
    "<a href=\"https:www.github.com/Rahul-404/\">Rahul Shelke</a>\n",
    "</p>"
   ]
  }
 ],
 "metadata": {
  "kernelspec": {
   "display_name": "base",
   "language": "python",
   "name": "python3"
  },
  "language_info": {
   "codemirror_mode": {
    "name": "ipython",
    "version": 3
   },
   "file_extension": ".py",
   "mimetype": "text/x-python",
   "name": "python",
   "nbconvert_exporter": "python",
   "pygments_lexer": "ipython3",
   "version": "3.11.7"
  }
 },
 "nbformat": 4,
 "nbformat_minor": 2
}
