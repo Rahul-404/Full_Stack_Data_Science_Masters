{
 "cells": [
  {
   "cell_type": "markdown",
   "metadata": {},
   "source": [
    "<h1><p align=\"center\"> Assignment : 1 </p></h1>"
   ]
  },
  {
   "cell_type": "markdown",
   "metadata": {},
   "source": [
    "### 1. In the below elements which of them are values or an expression? eg:- values can be integer or string and expressions will be mathematical operators.\n",
    "- `*` \n",
    "- `'hello'`\n",
    "- `-87.8`\n",
    "- `-` \n",
    "- `/` \n",
    "- `+`\t\n",
    "- `6` \n"
   ]
  },
  {
   "cell_type": "markdown",
   "metadata": {},
   "source": [
    "1. `*` - Expression (Multiplication operator)\n",
    "2. `'hello'` - Value (String)\n",
    "3. `-87.8` - Value (Floating point number)\n",
    "4. `-` - Expression (Subtraction operator or unary negation)\n",
    "5. `/` - Expression (Division operator)\n",
    "6. `+` - Expression (Addition operator)\n",
    "7. `6` - Value (Integer)"
   ]
  },
  {
   "cell_type": "markdown",
   "metadata": {},
   "source": [
    "### 2. What is the difference between string and variable?"
   ]
  },
  {
   "cell_type": "markdown",
   "metadata": {},
   "source": [
    "| Aspect         | String                                   | Variable                                 |\n",
    "|----------------|------------------------------------------|------------------------------------------|\n",
    "| **Definition** | A sequence of characters enclosed in quotes (single or double). | A named storage location in memory that holds a value. |\n",
    "| **Example**    | `\"Hello, World!\"`                        | `name = \"Rahul\"`                         |\n",
    "| **Usage**      | Represents textual data.                 | Stores and manipulates data values.      |\n",
    "| **Value Type** | Specific data type (text).               | Can hold various data types, including strings. |\n",
    "| **Mutability** | Immutable (cannot be changed once defined). | Can change value during program execution. |\n",
    "| **Assignment** | Directly assigns text or characters within quotes. | Assigns values (including strings) to named identifiers. |\n",
    "\n"
   ]
  },
  {
   "cell_type": "code",
   "execution_count": 1,
   "metadata": {},
   "outputs": [],
   "source": [
    "# String example\n",
    "message = \"Hello, World!\" \n",
    "\n",
    "# Variable example\n",
    "x = 42 "
   ]
  },
  {
   "cell_type": "markdown",
   "metadata": {},
   "source": [
    "### 3. Describe three different data types."
   ]
  },
  {
   "cell_type": "markdown",
   "metadata": {},
   "source": [
    "Three different data types commonly used in Python:\n",
    "\n",
    "**1. Integer (int):**\n",
    "\n",
    "- Integeres are whole numbers without any decimal point.\n",
    "- Examples: `-3, 0, 42, 100`\n",
    "- In python, inetegres can be of arbitrary precision, meaning they can be as large as your computer's memory allows.\n",
    "\n",
    "**2. Floating-point (float):**\n",
    "\n",
    "- Floating-point numbers represent real numbers and are written with a decinal point dividing the integer and fractional parts.\n",
    "- Examples: `3.14, -0.0001, 2.0`\n",
    "- floating-point numbers are approximations of real numbers and may have precision limitations due to how computers store them.\n",
    "\n",
    "**3. String (str):**\n",
    "\n",
    "- Strings represent sequence of caharacters enclodes within single quotes (`'`) or double quotes (`\"`).\n",
    "- Examples: `'helo', \"rahul\", '1345'`\n",
    "- String s are used to store text data and can include letters, numbers, symbols, and spaces.\n",
    "- In python string are immutable, meaning once defined , their contents cannot be changes."
   ]
  },
  {
   "cell_type": "code",
   "execution_count": null,
   "metadata": {},
   "outputs": [],
   "source": []
  },
  {
   "cell_type": "markdown",
   "metadata": {},
   "source": [
    "### 4. What is an expression made up of? What do all expressions do?"
   ]
  },
  {
   "cell_type": "markdown",
   "metadata": {},
   "source": [
    "An expression in python is made up of combinations of values and operators that can be evaluated to produce a value. Essentially, It's a construct that represents a computation. Here's what makes up an expression:\n",
    "\n",
    "**1. Operands:** There are the values or variables that the operators act upon, For example in the expression `2 + 3`, `2` and `3` are operands.\n",
    "\n",
    "**2. Operator:** There are symbols that represent compuattions like addition, subtraction, multiplication, division, etc. Examples include `+`, `-`, `*`, `/`, `//`, `%`, `**`, etc.\n",
    "\n",
    "**3. Parentheses:** These are used to group sub-expressions and to override operator precedence. for example, `(2 + 3) * 4` ensures that addition is performed before multiplication.\n",
    "\n",
    "Now lets understand what all expressions do?\n",
    "\n",
    "Expressions, when evaluated, produce a value. This value can be of any data types in python (integer, float, string, etc) depending on the operands and operators used in the expression. evaluating anexpression means performing the operations specified and rturing a single value as the result.\n",
    "\n",
    "exmaple:\n",
    "- the expression `3 + 2` evaluates to `5`.\n",
    "- the expression `3 * (4 - 2)` evaluates to `6`\n",
    "- the expression `'Hello ' + 'World'` evaluetd to `'Hello World'`."
   ]
  },
  {
   "cell_type": "code",
   "execution_count": null,
   "metadata": {},
   "outputs": [],
   "source": []
  },
  {
   "cell_type": "markdown",
   "metadata": {},
   "source": [
    "### 5. This assignment statements, like spam = 10. What is the difference between an expression and a statement?"
   ]
  },
  {
   "cell_type": "markdown",
   "metadata": {},
   "source": [
    "The difference between an expression and a statemenet in python lies in their fundamental roles and what they do:\n",
    "\n",
    "| Aspect                 | Expression                              | Statement                                   |\n",
    "|------------------------|-----------------------------------------|---------------------------------------------|\n",
    "| **Purpose**            | Computes a value                        | Performs an action or controls execution    |\n",
    "| **Example**            | `2 + 3`                                 | `spam = 10`                                 |\n",
    "| **Evaluation**         | Produces a value                         | Executes an instruction                      |\n",
    "| **Components**         | Operands and operators                  | Keywords, expressions, and other statements |\n",
    "| **Result**             | Single value                             | Action or change in program state           |\n",
    "| **Usage**              | Used within statements                  | Forms the structure and logic of the program|\n",
    "| **Examples**           | `3 * (4 - 2)`                            | `if x > 0:`                                 |\n",
    "| **Termination**        | Can be part of a statement or stand alone| Forms a complete line of executable code    |\n",
    "\n"
   ]
  },
  {
   "cell_type": "code",
   "execution_count": null,
   "metadata": {},
   "outputs": [],
   "source": []
  },
  {
   "cell_type": "markdown",
   "metadata": {},
   "source": [
    "### 6. After running the following code, what does the variable bacon contain?\n",
    "```python\n",
    "bacon = 22\n",
    "bacon + 1\n",
    "```"
   ]
  },
  {
   "cell_type": "code",
   "execution_count": 1,
   "metadata": {},
   "outputs": [
    {
     "data": {
      "text/plain": [
       "23"
      ]
     },
     "execution_count": 1,
     "metadata": {},
     "output_type": "execute_result"
    }
   ],
   "source": [
    "# here is why\n",
    "bacon = 22\n",
    "bacon + 1"
   ]
  },
  {
   "cell_type": "code",
   "execution_count": 2,
   "metadata": {},
   "outputs": [
    {
     "name": "stdout",
     "output_type": "stream",
     "text": [
      "22\n"
     ]
    }
   ],
   "source": [
    "print(bacon)"
   ]
  },
  {
   "cell_type": "markdown",
   "metadata": {},
   "source": [
    "The variable bacon still contains the value 22."
   ]
  },
  {
   "cell_type": "markdown",
   "metadata": {},
   "source": [
    "### 7. What should the values of the following two terms be?\n",
    "```python\n",
    "'spam' + 'spamspam'\n",
    "'spam' * 3\n",
    "```"
   ]
  },
  {
   "cell_type": "code",
   "execution_count": 3,
   "metadata": {},
   "outputs": [
    {
     "data": {
      "text/plain": [
       "'spamspamspam'"
      ]
     },
     "execution_count": 3,
     "metadata": {},
     "output_type": "execute_result"
    }
   ],
   "source": [
    "'spam' + 'spamspam'"
   ]
  },
  {
   "cell_type": "code",
   "execution_count": 4,
   "metadata": {},
   "outputs": [
    {
     "data": {
      "text/plain": [
       "'spamspamspam'"
      ]
     },
     "execution_count": 4,
     "metadata": {},
     "output_type": "execute_result"
    }
   ],
   "source": [
    "'spam' * 3"
   ]
  },
  {
   "cell_type": "markdown",
   "metadata": {},
   "source": [
    "Both expressions produce the same result of `'spamspamspam'`"
   ]
  },
  {
   "cell_type": "markdown",
   "metadata": {},
   "source": [
    "### 8. Why is eggs a valid variable name while 100 is invalid?"
   ]
  },
  {
   "cell_type": "markdown",
   "metadata": {},
   "source": [
    "Variable names must dhere to certain rules and conventions:\n",
    "\n",
    "**1. Valid Variable Names:**\n",
    "\n",
    "- Must start eith a letter (a-z, A-Z) or an underscore(`-`).\n",
    "- can be followed by letters, digits (0-9), or underscore(`-`)\n",
    "- variable names are case-senesitive (`egg` and is different from `Egg`)\n",
    "\n",
    "**2. Invalid Variable Names:**\n",
    "\n",
    "- Cannot start with a digit (`0-9`). for example, `100` cannot be a variable name because it starts with a digit.\n",
    "- cannot contain special charactes (such as `!`, `@`, `$`, `%`, ext), except for underscore(`-`)\n",
    "\n",
    "Now why `egg`, because `egg` followes valid variables name rules,\n",
    "and `100` don't follow the rules, variables cannot start with digit"
   ]
  },
  {
   "cell_type": "code",
   "execution_count": null,
   "metadata": {},
   "outputs": [],
   "source": []
  },
  {
   "cell_type": "markdown",
   "metadata": {},
   "source": [
    "### 9. What three functions can be used to get the integer, floating-point number, or string version of a value?"
   ]
  },
  {
   "cell_type": "markdown",
   "metadata": {},
   "source": [
    "in python we can convert values betwee different data types using built-in functions, here are three function commonly used for type conversion:\n",
    "\n",
    "**1. Interger COnversion:**\n",
    "\n",
    "- To convert a value to an integer, use the `int()` function."
   ]
  },
  {
   "cell_type": "code",
   "execution_count": 6,
   "metadata": {},
   "outputs": [
    {
     "name": "stdout",
     "output_type": "stream",
     "text": [
      "3\n"
     ]
    }
   ],
   "source": [
    "# Example\n",
    "value = 3.14\n",
    "integer_value = int(value)\n",
    "print(integer_value)"
   ]
  },
  {
   "cell_type": "markdown",
   "metadata": {},
   "source": [
    "**2. Floating-point Conversion:**\n",
    "\n",
    "- To convert a value to an floating-point, use the `float()` function."
   ]
  },
  {
   "cell_type": "code",
   "execution_count": 7,
   "metadata": {},
   "outputs": [
    {
     "name": "stdout",
     "output_type": "stream",
     "text": [
      "42.0\n"
     ]
    }
   ],
   "source": [
    "value = '42'\n",
    "float_value = float(value)\n",
    "print(float_value)"
   ]
  },
  {
   "cell_type": "markdown",
   "metadata": {},
   "source": [
    "**3. String Conversion:**\n",
    "\n",
    "- To convert a value to an string, use the `str()` function."
   ]
  },
  {
   "cell_type": "code",
   "execution_count": 9,
   "metadata": {},
   "outputs": [
    {
     "name": "stdout",
     "output_type": "stream",
     "text": [
      "123\n"
     ]
    }
   ],
   "source": [
    "value = 123\n",
    "string_value = str(value)\n",
    "print(string_value)"
   ]
  },
  {
   "cell_type": "markdown",
   "metadata": {},
   "source": [
    "### 10. Why does this expression cause an error? How can you fix it?\n",
    "```python\n",
    "'I have eaten ' + 99 + ' burritos.'\n",
    "```"
   ]
  },
  {
   "cell_type": "code",
   "execution_count": 10,
   "metadata": {},
   "outputs": [
    {
     "ename": "TypeError",
     "evalue": "can only concatenate str (not \"int\") to str",
     "output_type": "error",
     "traceback": [
      "\u001b[1;31m---------------------------------------------------------------------------\u001b[0m",
      "\u001b[1;31mTypeError\u001b[0m                                 Traceback (most recent call last)",
      "Cell \u001b[1;32mIn[10], line 1\u001b[0m\n\u001b[1;32m----> 1\u001b[0m \u001b[38;5;124m'\u001b[39m\u001b[38;5;124mI have eaten\u001b[39m\u001b[38;5;124m'\u001b[39m \u001b[38;5;241m+\u001b[39m \u001b[38;5;241m99\u001b[39m \u001b[38;5;241m+\u001b[39m \u001b[38;5;124m'\u001b[39m\u001b[38;5;124m burritos.\u001b[39m\u001b[38;5;124m'\u001b[39m\n",
      "\u001b[1;31mTypeError\u001b[0m: can only concatenate str (not \"int\") to str"
     ]
    }
   ],
   "source": [
    "'I have eaten' + 99 + ' burritos.'"
   ]
  },
  {
   "cell_type": "markdown",
   "metadata": {},
   "source": [
    "the expression `'I have eaten' + 99 + ' burritos.'` causes an error because python does not allow concatinating a tring with an ineteger directly using `+` opeartor without explicitly converting the inetegr to a string.\n",
    "\n",
    "**Solution:**\n",
    "\n",
    "To fix this error, we need to explicitly convert the inetegr `99` into a string using the `str()` function before concatenating it with the other string."
   ]
  },
  {
   "cell_type": "code",
   "execution_count": 11,
   "metadata": {},
   "outputs": [
    {
     "data": {
      "text/plain": [
       "'I have exten 99 burritos.'"
      ]
     },
     "execution_count": 11,
     "metadata": {},
     "output_type": "execute_result"
    }
   ],
   "source": [
    "# here is how to fix\n",
    "'I have exten '+ str(99) + ' burritos.'"
   ]
  },
  {
   "cell_type": "markdown",
   "metadata": {},
   "source": [
    "<i>\"Thank you for exploring all the way to the end of my page!\"</i>\n",
    "\n",
    "<p>\n",
    "regards, <br>\n",
    "<a href=\"https:www.github.com/Rahul-404/\">Rahul Shelke</a>\n",
    "</p>"
   ]
  },
  {
   "cell_type": "markdown",
   "metadata": {},
   "source": []
  }
 ],
 "metadata": {
  "kernelspec": {
   "display_name": "base",
   "language": "python",
   "name": "python3"
  },
  "language_info": {
   "codemirror_mode": {
    "name": "ipython",
    "version": 3
   },
   "file_extension": ".py",
   "mimetype": "text/x-python",
   "name": "python",
   "nbconvert_exporter": "python",
   "pygments_lexer": "ipython3",
   "version": "3.11.7"
  }
 },
 "nbformat": 4,
 "nbformat_minor": 2
}
