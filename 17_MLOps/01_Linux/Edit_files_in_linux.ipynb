{
 "cells": [
  {
   "cell_type": "markdown",
   "id": "6ff23b09",
   "metadata": {},
   "source": [
    "To edit a file like `.bash_profile` or `.zshrc` (depending on whether you're using **Bash** or **Zsh**) on macOS, you can use a terminal-based text editor like `nano`, `vim`, or a graphical editor like `code` (VS Code). Here's how:\n"
   ]
  },
  {
   "cell_type": "markdown",
   "id": "63339382",
   "metadata": {},
   "source": [
    "\n",
    "\n",
    "### 1. **Determine your current shell**\n",
    "\n",
    "Run:\n",
    "\n",
    "```bash\n",
    "echo $SHELL\n",
    "```\n",
    "\n",
    "* If it says `/bin/bash` → you're using **Bash** → edit `~/.bash_profile` or `~/.bashrc`\n",
    "* If it says `/bin/zsh` → you're using **Zsh** → edit `~/.zshrc`\n",
    "\n"
   ]
  },
  {
   "cell_type": "markdown",
   "id": "6cbc8506",
   "metadata": {},
   "source": [
    "### ✏️ 2. **Edit the file**\n",
    "\n",
    "#### 🔹 With `nano` (easiest):\n",
    "\n",
    "```bash\n",
    "nano ~/.bash_profile     # for Bash\n",
    "nano ~/.zshrc            # for Zsh\n",
    "```\n",
    "\n",
    "* Make your changes\n",
    "* Press `Ctrl + O` → then `Enter` to save\n",
    "* Press `Ctrl + X` to exit\n",
    "\n",
    "#### 🔹 With `vim` (if you're familiar):\n",
    "\n",
    "```bash\n",
    "vim ~/.bash_profile\n",
    "# or\n",
    "vim ~/.zshrc\n",
    "```\n",
    "\n",
    "#### 🔹 With VS Code (GUI):\n",
    "\n",
    "If you have VS Code installed:\n",
    "\n",
    "```bash\n",
    "code ~/.bash_profile\n",
    "# or\n",
    "code ~/.zshrc\n",
    "```"
   ]
  },
  {
   "cell_type": "markdown",
   "id": "6356d7a7",
   "metadata": {},
   "source": [
    "\n",
    "### 3. **Apply changes immediately**\n",
    "\n",
    "After editing, **source** the file to apply the changes without restarting the terminal:\n",
    "\n",
    "```bash\n",
    "source ~/.bash_profile   # for Bash\n",
    "source ~/.zshrc          # for Zsh\n",
    "```"
   ]
  },
  {
   "cell_type": "markdown",
   "id": "ff176199",
   "metadata": {},
   "source": []
  }
 ],
 "metadata": {
  "language_info": {
   "name": "python"
  }
 },
 "nbformat": 4,
 "nbformat_minor": 5
}
