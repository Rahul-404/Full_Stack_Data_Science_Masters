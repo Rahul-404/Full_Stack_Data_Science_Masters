{
 "cells": [
  {
   "cell_type": "markdown",
   "id": "8d69c43e",
   "metadata": {},
   "source": [
    "# Docker Tutorial\n",
    "\n",
    "- Following: https://www.youtube.com/watch?v=ETBj0oxe81o&list=PL6XT0grm_Tfje2ySztzdhp0HmCjVj5P4z"
   ]
  },
  {
   "cell_type": "markdown",
   "id": "e1bcd38c",
   "metadata": {},
   "source": []
  },
  {
   "cell_type": "markdown",
   "id": "d6d043ca",
   "metadata": {},
   "source": [
    "### 16. Docekr Layered Architecture"
   ]
  },
  {
   "cell_type": "markdown",
   "id": "b5004c48",
   "metadata": {},
   "source": [
    "```Dockerfile\n",
    "FROM ubantu:16.04\n",
    "```"
   ]
  },
  {
   "cell_type": "markdown",
   "id": "2ae23f48",
   "metadata": {},
   "source": [
    "this will pull docker images from docker hub"
   ]
  },
  {
   "cell_type": "markdown",
   "id": "67513dc2",
   "metadata": {},
   "source": [
    "command : `docker build -t <image-name>:<tag> .`"
   ]
  },
  {
   "cell_type": "markdown",
   "id": "66e49571",
   "metadata": {},
   "source": [
    "once docker images is pulled, run as container, in interatctive mode for terminal\n",
    "\n",
    "command: `docker container run -it <repository-name>:<tag>`\n",
    "\n",
    "now check for `tree` command\n",
    "\n",
    "exit command from terminal : `exit`"
   ]
  },
  {
   "cell_type": "markdown",
   "id": "f4502dc6",
   "metadata": {},
   "source": [
    "### 17. Docker: Dockerfile (Label, Run, Env, Workdir)"
   ]
  },
  {
   "cell_type": "markdown",
   "id": "6f515a61",
   "metadata": {},
   "source": [
    "**Labels**"
   ]
  },
  {
   "cell_type": "markdown",
   "id": "7a1d1e65",
   "metadata": {},
   "source": [
    "```Dockerfile\n",
    "FROM ubuntu:14.04\n",
    "LABEL name=\"Rahul Shelke\"\n",
    "LABEL email=\"rahulshelke981@gmail.com\"\n",
    "```"
   ]
  },
  {
   "cell_type": "markdown",
   "id": "2f868b99",
   "metadata": {},
   "source": [
    "we are creating labels in docker , by initiating in `Dockerfile` and assigning by creating and running the container on inspection\n",
    "\n",
    "command: `docker image inspect <registy-name>:<tag> | less`"
   ]
  },
  {
   "cell_type": "markdown",
   "id": "f0e72bd5",
   "metadata": {},
   "source": [
    "Why labels ?\n",
    "\n",
    "- add information about maintainers, like their name and emailid"
   ]
  },
  {
   "cell_type": "markdown",
   "id": "7deb6793",
   "metadata": {},
   "source": [
    "**Environment Variables**"
   ]
  },
  {
   "cell_type": "markdown",
   "id": "8657d7fd",
   "metadata": {},
   "source": [
    "```Dockerfile\n",
    "FROM ubuntu:14.04\n",
    "LABEL name=\"Rahul Shelke\"\n",
    "LABEL email=\"rahulshelke981@gmail.com\"\n",
    "ENV NAME Rahul\n",
    "ENV PASS password\n",
    "```"
   ]
  },
  {
   "cell_type": "markdown",
   "id": "5d09585e",
   "metadata": {},
   "source": [
    "we can also add environment variables to docker image , we can inspect those\n",
    "\n",
    "- command: `docker image inspect <registry-name>:<tag> | less`"
   ]
  },
  {
   "cell_type": "markdown",
   "id": "306ff954",
   "metadata": {},
   "source": [
    "Why ENVs?\n",
    "\n",
    "- to have environment variables set to our application, like setting python path, JAVA_HOME ,or for Airflow"
   ]
  },
  {
   "cell_type": "markdown",
   "id": "9bcac97d",
   "metadata": {},
   "source": [
    "check in container\n",
    "\n",
    "- command: `docker container run -it <registry-name>:<tag>`\n",
    "\n",
    "in containers terminal check env\n",
    "\n",
    "- command: `env`"
   ]
  },
  {
   "cell_type": "markdown",
   "id": "e65e9dcc",
   "metadata": {},
   "source": [
    "**Thinkg to Note:**\n",
    "\n",
    "```Dockerfile\n",
    "FROM ubuntu:14.04\n",
    "LABEL name=\"Rahul Shelke\"\n",
    "LABEL email=\"rahulshelke981@gmail.com\"\n",
    "ENV NAME Rahul\n",
    "ENV PASS password\n",
    "RUN pwd>/tmp/1stpwd.txt\n",
    "RUN cd /tmp/\n",
    "RUN pwd>/tmp/2ndpwd.txt\n",
    "```\n",
    "\n",
    "when we are building docker image and running commands like\n",
    "\n",
    "1. go to present working directory  `pwd` and write its path to this file `1stpwd.txt`\n",
    "2. then come out to parent directory by `cd /tmp/`\n",
    "3. not again, go to present working directory  `pwd` and write its path to this file `2stpwd.txt`\n",
    "\n",
    "according to our logic,\n",
    "- 1stpwd.txt\n",
    "```\n",
    "/\n",
    "```\n",
    "\n",
    "- 2ndpwd.txt\n",
    "```\n",
    "/temp/\n",
    "```\n",
    "\n",
    "Alert!!!! -> In docker we have seen layered architecture we won't find this output all output will be :\n",
    "\n",
    "```\n",
    "/\n",
    "```\n",
    "\n",
    "why ?\n",
    "\n",
    "- because each layer has same working directory, if we want behaviour to change then we need to set working directory by `WORKDIR`\n",
    "\n",
    "then will see expected output"
   ]
  },
  {
   "cell_type": "markdown",
   "id": "52b87185",
   "metadata": {},
   "source": [
    "**Workdir**"
   ]
  },
  {
   "cell_type": "markdown",
   "id": "990f6adc",
   "metadata": {},
   "source": [
    "```Dockerfile\n",
    "FROM ubuntu:14.04\n",
    "LABEL name=\"Rahul Shelke\"\n",
    "LABEL email=\"rahulshelke981@gmail.com\"\n",
    "ENV NAME Rahul\n",
    "RUN pwd>/tmp/1stpwd.txt\n",
    "RUN cd /tmp/\n",
    "RUN pwd>/tmp/2ndpwd.txt\n",
    "WORKDIR /tmp\n",
    "RUN pwd>/tmp/3rdpwd.txt\n",
    "```"
   ]
  },
  {
   "cell_type": "markdown",
   "id": "9abd438c",
   "metadata": {},
   "source": [
    "now we will see changes in `3rdpwd.txt`\n",
    "\n",
    "as `/tmp`"
   ]
  },
  {
   "cell_type": "markdown",
   "id": "0178139e",
   "metadata": {},
   "source": [
    "so when ever doing anything related to anything we need to setup a working directory for Dockerfile with `WORKDIR`"
   ]
  },
  {
   "cell_type": "markdown",
   "id": "46d1b5f9",
   "metadata": {},
   "source": [
    "### 18. Docker : Dockerfile (add, copy, user) difference between copy and add in docker file"
   ]
  },
  {
   "cell_type": "markdown",
   "id": "754974b5",
   "metadata": {},
   "source": [
    "**User**"
   ]
  },
  {
   "cell_type": "markdown",
   "id": "cc04a034",
   "metadata": {},
   "source": [
    "How to change user in image ?\n",
    "\n",
    "- use below file to change user in ubuntu\n",
    "\n",
    "```Dockerfile\n",
    "FROM ubuntu:14.04\n",
    "LABEL name=\"Rahul Shelke\"\n",
    "LABEL email=\"rahulshelke981@gmail.com\"\n",
    "ENV NAME Rahul\n",
    "ENV PASS password123\n",
    "RUN apt-get update && apt-get install -y openssh-server && apt-get install -y python\n",
    "RUN useradd -d /home/rahul -g root -G sudo -m -p &(echo \"$PASS\" | openssl passwd -l -stdin) $NAME\n",
    "RUN whoami > /tmp/1stwoami.txt\n",
    "USER $NAME\n",
    "RUN whoami > /tmp/2ndwoami.txt\n",
    "```\n"
   ]
  },
  {
   "cell_type": "markdown",
   "id": "8fa43fae",
   "metadata": {},
   "source": [
    "**COPY**"
   ]
  },
  {
   "cell_type": "markdown",
   "id": "8700d493",
   "metadata": {},
   "source": [
    "lets say i want **add** directory under `tmp` folder and add all file present in that folder should be inside it"
   ]
  },
  {
   "cell_type": "markdown",
   "id": "03ead7fd",
   "metadata": {},
   "source": [
    "```Dockerfile\n",
    "COPY <path-from-local-system> <path-inside-container>\n",
    "```"
   ]
  },
  {
   "cell_type": "markdown",
   "id": "a6278179",
   "metadata": {},
   "source": [
    "```Dockerfile\n",
    "FROM ubuntu:14.04\n",
    "\n",
    "LABEL name=\"Rahul Shelke\"\n",
    "LABEL email=\"rahulshelke981@gmail.com\"\n",
    "\n",
    "ENV NAME Rahul\n",
    "ENV PASS password123\n",
    "\n",
    "WORKDIR /tmp\n",
    "\n",
    "RUN apt-get update && apt-get install -y openssh-server && apt-get install -y python\n",
    "RUN useradd -d /home/rahul -g root -G sudo -m -p &(echo \"$PASS\" | openssl passwd -l -stdin) $NAME\n",
    "RUN whoami > /tmp/1stwoami.txt\n",
    "USER $NAME\n",
    "RUN whoami > /tmp/2ndwoami.txt\n",
    "\n",
    "RUN mkdir -p /tmp/project\n",
    "COPY testproject /tmp/project\n",
    "```"
   ]
  },
  {
   "cell_type": "markdown",
   "id": "6eca9341",
   "metadata": {},
   "source": [
    "once you build the conatiner, go to `tmp` folder will filnd folder `project` adn all files copies insdie it"
   ]
  },
  {
   "cell_type": "markdown",
   "id": "b5cc9848",
   "metadata": {},
   "source": [
    "**ADD**"
   ]
  },
  {
   "cell_type": "markdown",
   "id": "5292c40c",
   "metadata": {},
   "source": [
    "lets say i want **move** directory under `tmp` folder and add all file present in that folder should be inside it"
   ]
  },
  {
   "cell_type": "markdown",
   "id": "47a6c846",
   "metadata": {},
   "source": [
    "```Dockerfile\n",
    "ADD <path-from-local-system> <path-inside-container>\n",
    "```"
   ]
  },
  {
   "cell_type": "markdown",
   "id": "103050b7",
   "metadata": {},
   "source": [
    "```Dockerfile\n",
    "FROM ubuntu:14.04\n",
    "\n",
    "LABEL name=\"Rahul Shelke\"\n",
    "LABEL email=\"rahulshelke981@gmail.com\"\n",
    "\n",
    "ENV NAME Rahul\n",
    "ENV PASS password123\n",
    "\n",
    "WORKDIR /tmp\n",
    "\n",
    "RUN apt-get update && apt-get install -y openssh-server && apt-get install -y python\n",
    "RUN useradd -d /home/rahul -g root -G sudo -m -p &(echo \"$PASS\" | openssl passwd -l -stdin) $NAME\n",
    "RUN whoami > /tmp/1stwoami.txt\n",
    "USER $NAME\n",
    "RUN whoami > /tmp/2ndwoami.txt\n",
    "\n",
    "RUN mkdir -p /tmp/project\n",
    "ADD testproject /tmp/project\n",
    "```"
   ]
  },
  {
   "cell_type": "markdown",
   "id": "e5d879e3",
   "metadata": {},
   "source": [
    "once you build the conatiner, go to `tmp` folder will filnd folder `project` adn all files copies insdie it"
   ]
  },
  {
   "cell_type": "markdown",
   "id": "94bfe559",
   "metadata": {},
   "source": [
    "**Advantage of ADD:**\n",
    "\n",
    "```Dockerfile\n",
    "ADD <link> <path-inside-container>\n",
    "# or\n",
    "ADD <file-name>.tar <path-inside-container>\n",
    "```\n",
    "\n",
    "docker will download content from given `<link>` or extract all content of `<file-name>.tar` to provided directory"
   ]
  },
  {
   "cell_type": "markdown",
   "id": "a1911e34",
   "metadata": {},
   "source": [
    "### 19. Docker: Dockerfile (CMD)"
   ]
  },
  {
   "cell_type": "markdown",
   "id": "d45a66bd",
   "metadata": {},
   "source": [
    "**CMD**"
   ]
  },
  {
   "cell_type": "markdown",
   "id": "0b7bb48c",
   "metadata": {},
   "source": [
    "in every `Dockerfile` we have to write only one `CMD` command, cause which ever written last only that runs in last"
   ]
  },
  {
   "cell_type": "markdown",
   "id": "41b89b43",
   "metadata": {},
   "source": [
    "```Dockerfile\n",
    "FROM ubuntu:14.04\n",
    "\n",
    "LABEL name=\"Rahul Shelke\"\n",
    "LABEL email=\"rahulshelke981@gmail.com\"\n",
    "\n",
    "ENV NAME Rahul\n",
    "ENV PASS password123\n",
    "\n",
    "WORKDIR /tmp\n",
    "\n",
    "RUN apt-get update && apt-get install -y openssh-server && apt-get install -y python\n",
    "RUN useradd -d /home/rahul -g root -G sudo -m -p &(echo \"$PASS\" | openssl passwd -l -stdin) $NAME\n",
    "RUN whoami > /tmp/1stwoami.txt\n",
    "USER $NAME\n",
    "RUN whoami > /tmp/2ndwoami.txt\n",
    "\n",
    "RUN mkdir -p /tmp/project\n",
    "ADD testproject /tmp/project\n",
    "\n",
    "CMD [\"python\"]\n",
    "\n",
    "CMD [\"sh\"]\n",
    "```"
   ]
  },
  {
   "cell_type": "markdown",
   "id": "dae4dad9",
   "metadata": {},
   "source": [
    "after building and running container will won't get python will get shell"
   ]
  },
  {
   "cell_type": "markdown",
   "id": "f099cba3",
   "metadata": {},
   "source": [
    "### 20. Docker: Dockerfile (Expose and create)"
   ]
  },
  {
   "cell_type": "markdown",
   "id": "21ba6c6d",
   "metadata": {},
   "source": [
    "1. start ssh service\n",
    "2. expose its port"
   ]
  },
  {
   "cell_type": "markdown",
   "id": "80061a18",
   "metadata": {},
   "source": [
    "```Dockerfile\n",
    "FROM ubuntu:14.04\n",
    "\n",
    "LABEL name=\"Rahul Shelke\"\n",
    "LABEL email=\"rahulshelke981@gmail.com\"\n",
    "\n",
    "ENV NAME Rahul\n",
    "ENV PASS password123\n",
    "\n",
    "WORKDIR /tmp\n",
    "\n",
    "RUN apt-get update && apt-get install -y openssh-server && apt-get install -y python\n",
    "RUN useradd -d /home/rahul -g root -G sudo -m -p &(echo \"$PASS\" | openssl passwd -l -stdin) $NAME\n",
    "\n",
    "# expose port\n",
    "EXPOSE 22\n",
    "\n",
    "CMD [\"/usr/sbin/sshd\", \"-D\"]\n",
    "```"
   ]
  },
  {
   "cell_type": "markdown",
   "id": "adacd200",
   "metadata": {},
   "source": [
    "once container build, inspect the container for it `IPAddress`\n",
    "\n",
    "- command: `docker build -t <docker-image-name>:<tag> .`\n",
    "\n",
    "- command: `docker container run -P -itd <docker-image-name>:<tag>`\n",
    "\n",
    "- command: `docker ps` \n",
    "\n",
    "- copy docker container id\n",
    "\n",
    "- command: `docker container inspect <docker-container-id>`\n",
    "\n",
    "- copy `IPAddress`\n",
    "\n",
    "- ssh the open port `ssh <name>@<IPAddress> -p <port>`"
   ]
  },
  {
   "cell_type": "markdown",
   "id": "a636046a",
   "metadata": {},
   "source": [
    "### 21. Docker: Dockerfile (Entrypoint)"
   ]
  },
  {
   "cell_type": "markdown",
   "id": "8515f546",
   "metadata": {},
   "source": [
    "docker `Entrypoint` are entry point from which we want to enter into the container, means lets say we keep entrypoint as \n",
    "```Dockerfile\n",
    "# assuming python is already installed\n",
    "ENTRYPOINT [\"python\"]\n",
    "```\n",
    "\n",
    "will get the python interpretes screen\n",
    "\n",
    "Main use of this is to run shell scripts like\n",
    "\n",
    "- before using our DB or container we want a repo copied or some databases already added to data bases which we have exported then `ENTRYPOINT` are very usefull\n",
    "```Dockerfile\n",
    "ENTRYPOINT [\"myshellfile.sh\"]\n",
    "```\n",
    "\n"
   ]
  },
  {
   "cell_type": "markdown",
   "id": "da721a39",
   "metadata": {},
   "source": [
    "### 22. Docker: Docker Volume (Docker Storage), mysql data persist in docker container"
   ]
  },
  {
   "cell_type": "markdown",
   "id": "d459a296",
   "metadata": {},
   "source": [
    "lets say we have generated some data in `temp` folder in container, and we stoped container, then whole data will be deleted, uase it was inside the container, now to get that back or save it to our local system we use:\n",
    "1. `volums`\n",
    "    - managed by dockers\n",
    "    - stores in host's file system\n",
    "    - best way persist data in Docker.\n",
    "\n",
    "2. `bind mount`\n",
    "    - using it, access docker host's location in container\n",
    "    - store data anywhare in host's system\n",
    "    - docker can modify them at any time.\n",
    "\n",
    "3. `tmpfs mount`\n",
    "    - mounts are stored in the host's system memory\n",
    "    - but never writting to host's systm's filesystem"
   ]
  },
  {
   "cell_type": "markdown",
   "id": "ef3eb2cd",
   "metadata": {},
   "source": [
    "now we well mout with `mysql:latest`\n",
    "\n",
    "```\n",
    "\"Volumes\":{\n",
    "    \"var/lib/mysql\": {}\n",
    "}\n",
    "```\n",
    "this where we have to mount\n"
   ]
  },
  {
   "cell_type": "markdown",
   "id": "1027331f",
   "metadata": {},
   "source": [
    "Now will run mysql in docker without password\n",
    "\n",
    "- command:- `docker container run -d --name mysql -e MYSQL_ALLOW_EMPTY_PASSWORD=true mysql`\n",
    "\n",
    "    - `-d` using this it will run in background"
   ]
  },
  {
   "cell_type": "markdown",
   "id": "df5ea9fc",
   "metadata": {},
   "source": [
    "then check all volumes : `docker volume ls`"
   ]
  },
  {
   "cell_type": "markdown",
   "id": "562e8919",
   "metadata": {},
   "source": [
    "then inspect latest volume: `docker volume inspect <whole-volume-name>`"
   ]
  },
  {
   "cell_type": "markdown",
   "id": "546cdfde",
   "metadata": {},
   "source": [
    "then run mysql : `docker container run -d --name mysql -e MYSQL_ALLOW_EMPTY_PASSWORD=true mysql`"
   ]
  },
  {
   "cell_type": "markdown",
   "id": "8329a3d6",
   "metadata": {},
   "source": [
    "check volume : `docker volume ls`"
   ]
  },
  {
   "cell_type": "markdown",
   "id": "07f4304b",
   "metadata": {},
   "source": []
  }
 ],
 "metadata": {
  "language_info": {
   "name": "python"
  }
 },
 "nbformat": 4,
 "nbformat_minor": 5
}
