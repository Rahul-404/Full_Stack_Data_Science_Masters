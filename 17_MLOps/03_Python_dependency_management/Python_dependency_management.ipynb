{
 "cells": [
  {
   "cell_type": "markdown",
   "id": "f622c544",
   "metadata": {},
   "source": [
    "# Python Package Management Tools"
   ]
  },
  {
   "cell_type": "markdown",
   "id": "f2632ac6",
   "metadata": {},
   "source": [
    "it's necessary to manage python packages , here are few package management tools that i have personally used:\n",
    "\n",
    "- pip\n",
    "- conda\n",
    "- poetry\n",
    "- uv"
   ]
  },
  {
   "cell_type": "markdown",
   "id": "0afd17a9",
   "metadata": {},
   "source": []
  }
 ],
 "metadata": {
  "language_info": {
   "name": "python"
  }
 },
 "nbformat": 4,
 "nbformat_minor": 5
}
