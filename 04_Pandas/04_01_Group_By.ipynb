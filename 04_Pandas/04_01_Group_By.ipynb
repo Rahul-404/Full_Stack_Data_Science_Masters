{
 "cells": [
  {
   "cell_type": "code",
   "execution_count": 1,
   "metadata": {},
   "outputs": [],
   "source": [
    "import pandas as pd"
   ]
  },
  {
   "cell_type": "markdown",
   "metadata": {},
   "source": [
    "In Pandas, the groupby() method is used to group data by one or more columns and then perform aggregate operations (like sum, count, mean, etc.) on the grouped data. This is similar to SQL’s `GROUP BY` clause."
   ]
  },
  {
   "cell_type": "markdown",
   "metadata": {},
   "source": [
    "**Basic Syntax in Pandas**\n",
    "\n",
    "```\n",
    "df.groupby('column_name').agg(aggregate_function)\n",
    "\n",
    "```"
   ]
  },
  {
   "cell_type": "markdown",
   "metadata": {},
   "source": [
    "Where:\n",
    "\n",
    "- `df` is the DataFrame.\n",
    "- `column_name` is the column(s) you want to group by.\n",
    "- `aggregate_function` is a function like . `.sum()`, `.mean()`, `.count()`, etc., applied on the grouped data."
   ]
  },
  {
   "cell_type": "markdown",
   "metadata": {},
   "source": [
    "**Example 1: Grouping by a single column and applying aggregation**\n",
    "\n",
    "Let's say we have a DataFrame with sales data:"
   ]
  },
  {
   "cell_type": "code",
   "execution_count": 6,
   "metadata": {},
   "outputs": [
    {
     "name": "stdout",
     "output_type": "stream",
     "text": [
      "   product_id  amount   sale_date\n",
      "0           1     100  2024-01-01\n",
      "1           2     200  2024-01-02\n",
      "2           1     150  2024-01-02\n",
      "3           3     300  2024-01-03\n",
      "4           2     250  2024-01-03\n",
      "5           1     200  2024-01-04\n"
     ]
    }
   ],
   "source": [
    "# Sample Dataframe\n",
    "data = {\n",
    "    'product_id': [1, 2, 1, 3, 2, 1],\n",
    "    'amount': [100, 200, 150, 300, 250, 200],\n",
    "    'sale_date': ['2024-01-01', '2024-01-02', '2024-01-02', '2024-01-03', '2024-01-03', '2024-01-04']\n",
    "}\n",
    "\n",
    "df = pd.DataFrame(data)\n",
    "\n",
    "print(df)"
   ]
  },
  {
   "cell_type": "markdown",
   "metadata": {},
   "source": [
    "Now, if we want to calculate the total sales (`sum`) for each `product_id`, we can use:"
   ]
  },
  {
   "cell_type": "code",
   "execution_count": 9,
   "metadata": {},
   "outputs": [
    {
     "name": "stdout",
     "output_type": "stream",
     "text": [
      "            amount\n",
      "product_id        \n",
      "1              450\n",
      "2              450\n",
      "3              300\n"
     ]
    }
   ],
   "source": [
    "group = df.groupby('product_id').agg({'amount': 'sum'})\n",
    "print(group)"
   ]
  },
  {
   "cell_type": "markdown",
   "metadata": {},
   "source": [
    "**Explanation:**\n",
    "- `df.groupby('product_id')`: This groups the data by the product_id column.\n",
    "- `.agg({'amount': 'sum'})`: This calculates the sum of the amount column for each product_id."
   ]
  },
  {
   "cell_type": "markdown",
   "metadata": {},
   "source": [
    "**Example 2: Grouping by multiple columns**\n",
    "\n",
    "You can group by multiple columns to get more detailed aggregations. For example, to calculate the total sales per `product_id` per `sale_date`:"
   ]
  },
  {
   "cell_type": "code",
   "execution_count": 11,
   "metadata": {},
   "outputs": [
    {
     "name": "stdout",
     "output_type": "stream",
     "text": [
      "                       amount\n",
      "product_id sale_date         \n",
      "1          2024-01-01     100\n",
      "           2024-01-02     150\n",
      "           2024-01-04     200\n",
      "2          2024-01-02     200\n",
      "           2024-01-03     250\n",
      "3          2024-01-03     300\n"
     ]
    }
   ],
   "source": [
    "group = df.groupby(['product_id', 'sale_date']).agg({'amount': 'sum'})\n",
    "print(group)"
   ]
  },
  {
   "cell_type": "code",
   "execution_count": null,
   "metadata": {},
   "outputs": [],
   "source": []
  }
 ],
 "metadata": {
  "kernelspec": {
   "display_name": "base",
   "language": "python",
   "name": "python3"
  },
  "language_info": {
   "codemirror_mode": {
    "name": "ipython",
    "version": 3
   },
   "file_extension": ".py",
   "mimetype": "text/x-python",
   "name": "python",
   "nbconvert_exporter": "python",
   "pygments_lexer": "ipython3",
   "version": "3.11.7"
  }
 },
 "nbformat": 4,
 "nbformat_minor": 2
}
