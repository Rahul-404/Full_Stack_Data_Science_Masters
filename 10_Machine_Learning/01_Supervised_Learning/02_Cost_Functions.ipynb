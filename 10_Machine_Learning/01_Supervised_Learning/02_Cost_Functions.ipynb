{
 "cells": [
  {
   "cell_type": "markdown",
   "metadata": {},
   "source": [
    "## **Cost Functions**\n",
    "\n",
    "There are different types of cost functions are there,\n",
    "\n",
    "### **1. Mean Squared Error**\n",
    "\n",
    "$MSE = \\frac{1}{n} \\sum_{i=1}^{n} (y_i - h_\\theta (x_i))^2$ $\\longrightarrow$ this is called as **Quadratic Equation**\n",
    "\n",
    "- When ever we have quadratic equation it creates convex function, which helps us find global minima.\n",
    "- Global minima is important because it can calculate slope or derivative, convex function has only one global minima.\n",
    "\n",
    "If in case i have non-convex function\n",
    "\n",
    "<p align=\"center\">\n",
    "  <img src=\"assets/convex_vs_non_convex.png\" alt=\"cost function\" width=\"600\" height=\"300\">\n",
    "</p>\n",
    "\n",
    "- we have too many **local minima** and one **global minima**.\n",
    "- if we stuck at one local minima then it will never go to global minuma, it will be permanant.\n",
    "\n",
    "So, it is very much important that which cost function you take. if we take wrong cost function then will get stuck at local minima parmenantly,\n",
    "\n",
    "if we consider the equation $MSE = \\frac{1}{n} \\sum_{i=1}^{n} (y_i - h_\\theta (x_i))^2$, \n",
    "\n",
    "we are squaring the results, don't you think we are increasing the error or can say when we square it up we are penalizing the error means we are making the error more .\n",
    "\n",
    "let's see what will happen w.r.t it,\n",
    "\n",
    "1. At 1st we have some data points like this \n",
    "\n",
    "<p align=\"center\">\n",
    "  <img src=\"assets/data_points.png\" alt=\"data points\" width=\"400\" height=\"300\">\n",
    "</p>\n",
    "\n",
    "2. so initially i have created best fit like like this \n",
    "\n",
    "<p align=\"center\">\n",
    "  <img src=\"assets/best_fit_line_[cost_function].png\" alt=\"best fit line\" width=\"400\" height=\"300\">\n",
    "</p>\n",
    "\n",
    "\n",
    "3. Now convergence will happen, in case of convergence, when i get error squaring it up.\n",
    "\n",
    "4. Can i say this data here is just like an outliers data points, so outlier are there. \n",
    "\n",
    "<p align=\"center\">\n",
    "  <img src=\"assets/outliers[cost_function].png\" alt=\"best fit line\" width=\"400\" height=\"300\">\n",
    "</p>\n",
    "\n",
    "\n",
    "5. Because of this MSE there is imapct of outlier (why? because we are squaring the error), when we square the error and minimize the error. what will happen ? my best fit line will move alot because error is getting squared up. when again error is squared up then again will apply optimizer and again we have to reduce the error.\n",
    "\n",
    "\n",
    "<p align=\"center\">\n",
    "  <img src=\"assets/mse_not_robust_to_outlier.png\" alt=\"mse not robust to outliers\" width=\"400\" height=\"300\">\n",
    "</p>\n",
    "\n",
    "- When ever we use MSE it is not robust to outliers, because when ever there is an outlier there will be huge moment in best fit line w.r.t it's previous position.\n",
    " \n",
    "\n",
    "|Advantages|Disadvantages|\n",
    "|---|---|\n",
    "|1. Quadratic Equation is differentiatble| 1. Not robust to outliers |\n",
    "|2. It has only one local or global minima.|2. Error is not in the same unit.|"
   ]
  },
  {
   "cell_type": "markdown",
   "metadata": {},
   "source": [
    "### **2. Mean Absolute Error**"
   ]
  },
  {
   "cell_type": "code",
   "execution_count": null,
   "metadata": {},
   "outputs": [],
   "source": []
  },
  {
   "cell_type": "markdown",
   "metadata": {},
   "source": [
    "### **3. Root Mean Squared Error**"
   ]
  },
  {
   "cell_type": "markdown",
   "metadata": {},
   "source": []
  }
 ],
 "metadata": {
  "language_info": {
   "name": "python"
  }
 },
 "nbformat": 4,
 "nbformat_minor": 2
}
