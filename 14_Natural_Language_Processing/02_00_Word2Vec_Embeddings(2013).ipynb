{
 "cells": [
  {
   "cell_type": "markdown",
   "metadata": {},
   "source": [
    "# **Word2Vec Embeddings**"
   ]
  },
  {
   "cell_type": "markdown",
   "metadata": {},
   "source": [
    "Developed by a team led by **Tomas Mikolov** at Google, Word2Vec was a significant milestone. It introduced two architectures:\n",
    "\n",
    "- **Continuous Bag of Words (CBOW)**: Predicts a word based on its context.\n",
    "- **Skip-gram**: Predicts the context given a word.\n",
    "\n",
    "Both models learn word representations by training on large corpora, resulting in dense vectors where words with similar meanings are located close to each other in the vector space."
   ]
  },
  {
   "cell_type": "markdown",
   "metadata": {},
   "source": [
    "## **CBOW [Continuous Bag of Words]**"
   ]
  },
  {
   "cell_type": "markdown",
   "metadata": {},
   "source": []
  },
  {
   "cell_type": "markdown",
   "metadata": {},
   "source": [
    "## **Skip-gram**"
   ]
  },
  {
   "cell_type": "markdown",
   "metadata": {},
   "source": []
  },
  {
   "cell_type": "markdown",
   "metadata": {},
   "source": [
    "## **Pros**"
   ]
  },
  {
   "cell_type": "markdown",
   "metadata": {},
   "source": [
    "1] Overcomes curse of dimenssionality with simplicity\n",
    "\n",
    "2] Closer meaning == Closer Physical Vectors\n",
    "\n",
    "3] Pretrained embeddings usded in ahost of applications\n",
    "\n",
    "4] Self Supervised. so easy to get data"
   ]
  },
  {
   "cell_type": "markdown",
   "metadata": {},
   "source": [
    "## **Cons**"
   ]
  },
  {
   "cell_type": "markdown",
   "metadata": {},
   "source": [
    "1] Global information not preserved\n",
    "\n",
    "$\\longrightarrow$ Solved by **GloVe**\n",
    "\n",
    "2] Don't work well for morphologically rich languages\n",
    "\n",
    "$\\longrightarrow$ Solved by **FastText**\n",
    "\n",
    "3] Lacks broad context awareness\n",
    "\n",
    "$\\longrightarrow$ Solved by **LSTM, BERT, GPT**\n"
   ]
  }
 ],
 "metadata": {
  "kernelspec": {
   "display_name": "base",
   "language": "python",
   "name": "python3"
  },
  "language_info": {
   "name": "python",
   "version": "3.11.7"
  }
 },
 "nbformat": 4,
 "nbformat_minor": 2
}
