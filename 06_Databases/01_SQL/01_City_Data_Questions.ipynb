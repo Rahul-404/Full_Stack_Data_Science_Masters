{
 "cells": [
  {
   "cell_type": "markdown",
   "metadata": {},
   "source": [
    "**Q1.** \n",
    "\n",
    "Query all columns for all American cities in the CITY table with populations larger than 100000.\n",
    "The CountryCode for America is USA.\n",
    "The CITY table is described as follows:\n",
    "\n",
    "**CITY**\n",
    "\n",
    "| **Field** | **Type** |\n",
    "---|---\n",
    "ID | NUMBER\n",
    "NAME | VARCHAR2(17)\n",
    "COUNTRYCODE | VARCHAR2(3)\n",
    "DISTRICT | VARCHAR2(20)\n",
    "POPULATION | NUMBER"
   ]
  },
  {
   "cell_type": "code",
   "execution_count": null,
   "metadata": {},
   "outputs": [],
   "source": []
  },
  {
   "cell_type": "markdown",
   "metadata": {},
   "source": [
    "**Q2.** \n",
    "\n",
    "Query the NAME field for all American cities in the CITY table with populations larger than 120000.\n",
    "The CountryCode for America is USA.\n",
    "The CITY table is described as follows:\n",
    "\n",
    "**CITY**\n",
    "\n",
    "| **Field** | **Type** |\n",
    "---|---\n",
    "ID | NUMBER\n",
    "NAME | VARCHAR2(17)\n",
    "COUNTRYCODE | VARCHAR2(3)\n",
    "DISTRICT | VARCHAR2(20)\n",
    "POPULATION | NUMBER"
   ]
  },
  {
   "cell_type": "code",
   "execution_count": null,
   "metadata": {},
   "outputs": [],
   "source": []
  },
  {
   "cell_type": "markdown",
   "metadata": {},
   "source": [
    "**Q3.**  \n",
    "Query all columns (attributes) for every row in the CITY table.  \n",
    "The CITY table is described as follows:\n",
    "\n",
    "**CITY**\n",
    "\n",
    "| **Field** | **Type** |\n",
    "---|---\n",
    "ID | NUMBER\n",
    "NAME | VARCHAR2(17)\n",
    "COUNTRYCODE | VARCHAR2(3)\n",
    "DISTRICT | VARCHAR2(20)\n",
    "POPULATION | NUMBER"
   ]
  },
  {
   "cell_type": "code",
   "execution_count": null,
   "metadata": {},
   "outputs": [],
   "source": []
  },
  {
   "cell_type": "markdown",
   "metadata": {},
   "source": [
    "**Q4.**  \n",
    "Query all columns for a city in CITY with the ID 1661.  \n",
    "The CITY table is described as follows:\n",
    "\n",
    "**CITY**\n",
    "\n",
    "| **Field** | **Type** |\n",
    "---|---\n",
    "ID | NUMBER\n",
    "NAME | VARCHAR2(17)\n",
    "COUNTRYCODE | VARCHAR2(3)\n",
    "DISTRICT | VARCHAR2(20)\n",
    "POPULATION | NUMBER"
   ]
  },
  {
   "cell_type": "code",
   "execution_count": null,
   "metadata": {},
   "outputs": [],
   "source": []
  },
  {
   "cell_type": "markdown",
   "metadata": {},
   "source": [
    "**Q5.**  \n",
    "Query all attributes of every Japanese city in the CITY table. The COUNTRYCODE for Japan is JPN.  \n",
    "The CITY table is described as follows:\n",
    "\n",
    "**CITY**\n",
    "\n",
    "| **Field** | **Type** |\n",
    "---|---\n",
    "ID | NUMBER\n",
    "NAME | VARCHAR2(17)\n",
    "COUNTRYCODE | VARCHAR2(3)\n",
    "DISTRICT | VARCHAR2(20)\n",
    "POPULATION | NUMBER"
   ]
  },
  {
   "cell_type": "code",
   "execution_count": null,
   "metadata": {},
   "outputs": [],
   "source": []
  },
  {
   "cell_type": "markdown",
   "metadata": {},
   "source": [
    "**Q6.**  \n",
    "Query the names of all the Japanese cities in the CITY table. The COUNTRYCODE for Japan is JPN.  \n",
    "The CITY table is described as follows:\n",
    "\n",
    "**CITY**\n",
    "\n",
    "| **Field** | **Type** |\n",
    "---|---\n",
    "ID | NUMBER\n",
    "NAME | VARCHAR2(17)\n",
    "COUNTRYCODE | VARCHAR2(3)\n",
    "DISTRICT | VARCHAR2(20)\n",
    "POPULATION | NUMBER"
   ]
  },
  {
   "cell_type": "code",
   "execution_count": null,
   "metadata": {},
   "outputs": [],
   "source": []
  },
  {
   "cell_type": "markdown",
   "metadata": {},
   "source": [
    "**Q7.**  \n",
    "Query a list of CITY and STATE from the STATION table.  \n",
    "The STATION table is described as follows:  \n",
    "where LAT_N is the northern latitude and LONG_W is the western longitude.\n",
    "\n",
    "**STATION**\n",
    "\n",
    "| **Field** | **Type** |\n",
    "---|---\n",
    "ID | NUMBER\n",
    "CITY | VARCHAR2(21)\n",
    "STATE | VARCHAR2(2)\n",
    "LAT_N | NUMBER\n",
    "LONG_W | NUMBER"
   ]
  },
  {
   "cell_type": "code",
   "execution_count": null,
   "metadata": {},
   "outputs": [],
   "source": []
  },
  {
   "cell_type": "markdown",
   "metadata": {},
   "source": [
    "**Q8.**  \n",
    "Query a list of CITY names from STATION for cities that have an even ID number. Print the results in any order, but exclude duplicates from the answer.  \n",
    "The STATION table is described as follows:  \n",
    "where LAT_N is the northern latitude and LONG_W is the western longitude.\n",
    "\n",
    "**STATION**\n",
    "\n",
    "| **Field** | **Type** |\n",
    "---|---\n",
    "ID | NUMBER\n",
    "CITY | VARCHAR2(21)\n",
    "STATE | VARCHAR2(2)\n",
    "LAT_N | NUMBER\n",
    "LONG_W | NUMBER"
   ]
  },
  {
   "cell_type": "code",
   "execution_count": null,
   "metadata": {},
   "outputs": [],
   "source": []
  },
  {
   "cell_type": "markdown",
   "metadata": {},
   "source": [
    "**Q9.**  \n",
    "Find the difference between the total number of CITY entries in the table and the number of distinct CITY entries in the table.  \n",
    "The STATION table is described as follows:  \n",
    "\n",
    "**STATION**\n",
    "\n",
    "| **Field** | **Type** |\n",
    "---|---\n",
    "ID | NUMBER\n",
    "CITY | VARCHAR2(21)\n",
    "STATE | VARCHAR2(2)\n",
    "LAT_N | NUMBER\n",
    "LONG_W | NUMBER\n",
    "\n",
    "\n",
    "where LAT_N is the northern latitude and LONG_W is the western longitude.  \n",
    "*For example, if there are three records in the table with CITY values 'New York', 'New York', 'Bengalaru', there are 2 different city names: 'New York' and 'Bengalaru'. The query returns 1, because total number of records - number of unique city names = 3 - 2 = 1.*\n"
   ]
  },
  {
   "cell_type": "code",
   "execution_count": null,
   "metadata": {},
   "outputs": [],
   "source": []
  },
  {
   "cell_type": "markdown",
   "metadata": {},
   "source": [
    "**Q10.**  \n",
    "Query the two cities in STATION with the shortest and longest CITY names, as well as their respective lengths (i.e., number of characters in the name). If there is more than one smallest or largest city, choose the one that comes first when ordered alphabetically.  \n",
    "The STATION table is described as follows: \n",
    "\n",
    "**STATION**\n",
    "\n",
    "| **Field** | **Type** |\n",
    "---|---\n",
    "ID | NUMBER\n",
    "CITY | VARCHAR2(21)\n",
    "STATE | VARCHAR2(2)\n",
    "LAT_N | NUMBER\n",
    "LONG_W | NUMBER\n",
    "\n",
    "where LAT_N is the northern latitude and LONG_W is the western longitude.  \n",
    "*Sample Input:*  \n",
    "*For example, CITY has four entries: DEF, ABC, PQRS, and WXY.*  \n",
    "\n",
    "*Sample Output:*  \n",
    "\n",
    "| CITY | Length |\n",
    "|------|--------|\n",
    "| ABC  | 3      |\n",
    "| PQRS | 4      |\n",
    "\n",
    "**Hint:**  \n",
    "*When ordered alphabetically, the CITY names are listed as ABC, DEF, PQRS, and WXY, with lengths and. The longest name is PQRS, but there are options for the shortest named city. Choose ABC, because it comes first alphabetically.*  \n",
    "\n",
    "**Note:**  \n",
    "*You can write two separate queries to get the desired output. It need not be a single query.*\n"
   ]
  },
  {
   "cell_type": "code",
   "execution_count": null,
   "metadata": {},
   "outputs": [],
   "source": []
  },
  {
   "cell_type": "markdown",
   "metadata": {},
   "source": [
    "**Q11.**  \n",
    "Query the list of CITY names starting with vowels (i.e., a, e, i, o, or u) from STATION. Your result cannot contain duplicates.  \n",
    "*Input Format:*  \n",
    "The STATION table is described as follows:  \n",
    "\n",
    "**STATION**\n",
    "\n",
    "| **Field** | **Type** |\n",
    "---|---\n",
    "ID | NUMBER\n",
    "CITY | VARCHAR2(21)\n",
    "STATE | VARCHAR2(2)\n",
    "LAT_N | NUMBER\n",
    "LONG_W | NUMBER\n",
    "\n",
    "where LAT_N is the northern latitude and LONG_W is the western longitude."
   ]
  },
  {
   "cell_type": "code",
   "execution_count": null,
   "metadata": {},
   "outputs": [],
   "source": []
  },
  {
   "cell_type": "markdown",
   "metadata": {},
   "source": [
    "**Q12.**  \n",
    "Query the list of CITY names ending with vowels (a, e, i, o, u) from STATION. Your result cannot contain duplicates.  \n",
    "*Input Format:*  \n",
    "The STATION table is described as follows:  \n",
    "\n",
    "**STATION**\n",
    "\n",
    "| **Field** | **Type** |\n",
    "---|---\n",
    "ID | NUMBER\n",
    "CITY | VARCHAR2(21)\n",
    "STATE | VARCHAR2(2)\n",
    "LAT_N | NUMBER\n",
    "LONG_W | NUMBER\n",
    "\n",
    "where LAT_N is the northern latitude and LONG_W is the western longitude."
   ]
  },
  {
   "cell_type": "code",
   "execution_count": null,
   "metadata": {},
   "outputs": [],
   "source": []
  },
  {
   "cell_type": "markdown",
   "metadata": {},
   "source": [
    "**Q13.**  \n",
    "Query the list of CITY names from STATION that do not start with vowels. Your result cannot contain duplicates.  \n",
    "*Input Format:*  \n",
    "The STATION table is described as follows:  \n",
    "\n",
    "**STATION**\n",
    "\n",
    "| **Field** | **Type** |\n",
    "---|---\n",
    "ID | NUMBER\n",
    "CITY | VARCHAR2(21)\n",
    "STATE | VARCHAR2(2)\n",
    "LAT_N | NUMBER\n",
    "LONG_W | NUMBER\n",
    "\n",
    "where LAT_N is the northern latitude and LONG_W is the western longitude."
   ]
  },
  {
   "cell_type": "code",
   "execution_count": null,
   "metadata": {},
   "outputs": [],
   "source": []
  },
  {
   "cell_type": "markdown",
   "metadata": {},
   "source": [
    "**Q14.**  \n",
    "Query the list of CITY names from STATION that do not end with vowels. Your result cannot contain duplicates.  \n",
    "*Input Format:*  \n",
    "The STATION table is described as follows:  \n",
    "\n",
    "**STATION**\n",
    "\n",
    "| **Field** | **Type** |\n",
    "---|---\n",
    "ID | NUMBER\n",
    "CITY | VARCHAR2(21)\n",
    "STATE | VARCHAR2(2)\n",
    "LAT_N | NUMBER\n",
    "LONG_W | NUMBER\n",
    "\n",
    "where LAT_N is the northern latitude and LONG_W is the western longitude."
   ]
  },
  {
   "cell_type": "code",
   "execution_count": null,
   "metadata": {},
   "outputs": [],
   "source": []
  },
  {
   "cell_type": "markdown",
   "metadata": {},
   "source": [
    "**Q15.**  \n",
    "Query the list of CITY names from STATION that either do not start with vowels or do not end with vowels. Your result cannot contain duplicates.  \n",
    "*Input Format:*  \n",
    "The STATION table is described as follows:  \n",
    "\n",
    "**STATION**\n",
    "\n",
    "| **Field** | **Type** |\n",
    "---|---\n",
    "ID | NUMBER\n",
    "CITY | VARCHAR2(21)\n",
    "STATE | VARCHAR2(2)\n",
    "LAT_N | NUMBER\n",
    "LONG_W | NUMBER\n",
    "\n",
    "where LAT_N is the northern latitude and LONG_W is the western longitude."
   ]
  },
  {
   "cell_type": "code",
   "execution_count": null,
   "metadata": {},
   "outputs": [],
   "source": []
  },
  {
   "cell_type": "markdown",
   "metadata": {},
   "source": [
    "\n",
    "**Q16.**  \n",
    "Query the list of CITY names from STATION that do not start with vowels and do not end with vowels. Your result cannot contain duplicates.  \n",
    "*Input Format:*  \n",
    "The STATION table is described as follows:  \n",
    "\n",
    "**STATION**\n",
    "\n",
    "| **Field** | **Type** |\n",
    "---|---\n",
    "ID | NUMBER\n",
    "CITY | VARCHAR2(21)\n",
    "STATE | VARCHAR2(2)\n",
    "LAT_N | NUMBER\n",
    "LONG_W | NUMBER\n",
    "\n",
    "where LAT_N is the northern latitude and LONG_W is the western longitude.\n"
   ]
  },
  {
   "cell_type": "code",
   "execution_count": null,
   "metadata": {},
   "outputs": [],
   "source": []
  }
 ],
 "metadata": {
  "kernelspec": {
   "display_name": "base",
   "language": "python",
   "name": "python3"
  },
  "language_info": {
   "name": "python",
   "version": "3.11.7"
  }
 },
 "nbformat": 4,
 "nbformat_minor": 2
}
