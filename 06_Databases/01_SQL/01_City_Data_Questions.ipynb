{
 "cells": [
  {
   "cell_type": "markdown",
   "metadata": {},
   "source": [
    "## Read Data"
   ]
  },
  {
   "cell_type": "code",
   "execution_count": 52,
   "metadata": {},
   "outputs": [],
   "source": [
    "import pandas as pd\n",
    "import sqlite3\n",
    "from tqdm import tqdm"
   ]
  },
  {
   "cell_type": "code",
   "execution_count": 58,
   "metadata": {},
   "outputs": [],
   "source": [
    "df = pd.read_csv('database/worldcities.csv', \n",
    "                 usecols=[\"id\", \"country\", \"iso3\", \"city_ascii\", \"population\", \"iso2\", \"admin_name\", \"lat\", \"lng\"],\n",
    "                #  nrows=100, \n",
    "                 encoding='utf-8')"
   ]
  },
  {
   "cell_type": "code",
   "execution_count": 59,
   "metadata": {},
   "outputs": [
    {
     "data": {
      "text/html": [
       "<div>\n",
       "<style scoped>\n",
       "    .dataframe tbody tr th:only-of-type {\n",
       "        vertical-align: middle;\n",
       "    }\n",
       "\n",
       "    .dataframe tbody tr th {\n",
       "        vertical-align: top;\n",
       "    }\n",
       "\n",
       "    .dataframe thead th {\n",
       "        text-align: right;\n",
       "    }\n",
       "</style>\n",
       "<table border=\"1\" class=\"dataframe\">\n",
       "  <thead>\n",
       "    <tr style=\"text-align: right;\">\n",
       "      <th></th>\n",
       "      <th>city_ascii</th>\n",
       "      <th>lat</th>\n",
       "      <th>lng</th>\n",
       "      <th>country</th>\n",
       "      <th>iso2</th>\n",
       "      <th>iso3</th>\n",
       "      <th>admin_name</th>\n",
       "      <th>population</th>\n",
       "      <th>id</th>\n",
       "    </tr>\n",
       "  </thead>\n",
       "  <tbody>\n",
       "    <tr>\n",
       "      <th>0</th>\n",
       "      <td>Tokyo</td>\n",
       "      <td>35.6897</td>\n",
       "      <td>139.6922</td>\n",
       "      <td>Japan</td>\n",
       "      <td>JP</td>\n",
       "      <td>JPN</td>\n",
       "      <td>Tōkyō</td>\n",
       "      <td>37732000.0</td>\n",
       "      <td>1392685764</td>\n",
       "    </tr>\n",
       "    <tr>\n",
       "      <th>1</th>\n",
       "      <td>Jakarta</td>\n",
       "      <td>-6.1750</td>\n",
       "      <td>106.8275</td>\n",
       "      <td>Indonesia</td>\n",
       "      <td>ID</td>\n",
       "      <td>IDN</td>\n",
       "      <td>Jakarta</td>\n",
       "      <td>33756000.0</td>\n",
       "      <td>1360771077</td>\n",
       "    </tr>\n",
       "    <tr>\n",
       "      <th>2</th>\n",
       "      <td>Delhi</td>\n",
       "      <td>28.6100</td>\n",
       "      <td>77.2300</td>\n",
       "      <td>India</td>\n",
       "      <td>IN</td>\n",
       "      <td>IND</td>\n",
       "      <td>Delhi</td>\n",
       "      <td>32226000.0</td>\n",
       "      <td>1356872604</td>\n",
       "    </tr>\n",
       "    <tr>\n",
       "      <th>3</th>\n",
       "      <td>Guangzhou</td>\n",
       "      <td>23.1300</td>\n",
       "      <td>113.2600</td>\n",
       "      <td>China</td>\n",
       "      <td>CN</td>\n",
       "      <td>CHN</td>\n",
       "      <td>Guangdong</td>\n",
       "      <td>26940000.0</td>\n",
       "      <td>1156237133</td>\n",
       "    </tr>\n",
       "    <tr>\n",
       "      <th>4</th>\n",
       "      <td>Mumbai</td>\n",
       "      <td>19.0761</td>\n",
       "      <td>72.8775</td>\n",
       "      <td>India</td>\n",
       "      <td>IN</td>\n",
       "      <td>IND</td>\n",
       "      <td>Mahārāshtra</td>\n",
       "      <td>24973000.0</td>\n",
       "      <td>1356226629</td>\n",
       "    </tr>\n",
       "  </tbody>\n",
       "</table>\n",
       "</div>"
      ],
      "text/plain": [
       "  city_ascii      lat       lng    country iso2 iso3   admin_name  population  \\\n",
       "0      Tokyo  35.6897  139.6922      Japan   JP  JPN        Tōkyō  37732000.0   \n",
       "1    Jakarta  -6.1750  106.8275  Indonesia   ID  IDN      Jakarta  33756000.0   \n",
       "2      Delhi  28.6100   77.2300      India   IN  IND        Delhi  32226000.0   \n",
       "3  Guangzhou  23.1300  113.2600      China   CN  CHN    Guangdong  26940000.0   \n",
       "4     Mumbai  19.0761   72.8775      India   IN  IND  Mahārāshtra  24973000.0   \n",
       "\n",
       "           id  \n",
       "0  1392685764  \n",
       "1  1360771077  \n",
       "2  1356872604  \n",
       "3  1156237133  \n",
       "4  1356226629  "
      ]
     },
     "execution_count": 59,
     "metadata": {},
     "output_type": "execute_result"
    }
   ],
   "source": [
    "df.head()"
   ]
  },
  {
   "cell_type": "code",
   "execution_count": 60,
   "metadata": {},
   "outputs": [
    {
     "data": {
      "text/plain": [
       "(47868, 9)"
      ]
     },
     "execution_count": 60,
     "metadata": {},
     "output_type": "execute_result"
    }
   ],
   "source": [
    "df.shape"
   ]
  },
  {
   "cell_type": "markdown",
   "metadata": {},
   "source": [
    "columns in database = [\"ID\", \"NAME\", \"COUNTRYCODE\", \"DISTRICT\", \"POPULATION\", \"CITY\", \"STATE\", \"LAT_N\", \"LONG_W\"]\n",
    "\n",
    "columns in csv = [\"id\", \"country\", \"iso3\", \"city_ascii\", \"population\", \"iso2\", \"admin_name\", \"lat\", \"lng\"]"
   ]
  },
  {
   "cell_type": "code",
   "execution_count": 61,
   "metadata": {},
   "outputs": [],
   "source": [
    "df.rename(columns={\"id\":\"ID\", \"country\":\"NAME\", \"iso3\":\"COUNTRYCODE\", \"city_ascii\":\"DISTRICT\", \"population\":\"POPULATION\", \"admin_name\":\"CITY\", \"iso2\":\"STATE\", \"lat\":\"LAT_N\", \"lng\":\"LONG_W\"}, inplace=True)"
   ]
  },
  {
   "cell_type": "code",
   "execution_count": 62,
   "metadata": {},
   "outputs": [
    {
     "data": {
      "text/html": [
       "<div>\n",
       "<style scoped>\n",
       "    .dataframe tbody tr th:only-of-type {\n",
       "        vertical-align: middle;\n",
       "    }\n",
       "\n",
       "    .dataframe tbody tr th {\n",
       "        vertical-align: top;\n",
       "    }\n",
       "\n",
       "    .dataframe thead th {\n",
       "        text-align: right;\n",
       "    }\n",
       "</style>\n",
       "<table border=\"1\" class=\"dataframe\">\n",
       "  <thead>\n",
       "    <tr style=\"text-align: right;\">\n",
       "      <th></th>\n",
       "      <th>DISTRICT</th>\n",
       "      <th>LAT_N</th>\n",
       "      <th>LONG_W</th>\n",
       "      <th>NAME</th>\n",
       "      <th>STATE</th>\n",
       "      <th>COUNTRYCODE</th>\n",
       "      <th>CITY</th>\n",
       "      <th>POPULATION</th>\n",
       "      <th>ID</th>\n",
       "    </tr>\n",
       "  </thead>\n",
       "  <tbody>\n",
       "    <tr>\n",
       "      <th>0</th>\n",
       "      <td>Tokyo</td>\n",
       "      <td>35.6897</td>\n",
       "      <td>139.6922</td>\n",
       "      <td>Japan</td>\n",
       "      <td>JP</td>\n",
       "      <td>JPN</td>\n",
       "      <td>Tōkyō</td>\n",
       "      <td>37732000.0</td>\n",
       "      <td>1392685764</td>\n",
       "    </tr>\n",
       "    <tr>\n",
       "      <th>1</th>\n",
       "      <td>Jakarta</td>\n",
       "      <td>-6.1750</td>\n",
       "      <td>106.8275</td>\n",
       "      <td>Indonesia</td>\n",
       "      <td>ID</td>\n",
       "      <td>IDN</td>\n",
       "      <td>Jakarta</td>\n",
       "      <td>33756000.0</td>\n",
       "      <td>1360771077</td>\n",
       "    </tr>\n",
       "    <tr>\n",
       "      <th>2</th>\n",
       "      <td>Delhi</td>\n",
       "      <td>28.6100</td>\n",
       "      <td>77.2300</td>\n",
       "      <td>India</td>\n",
       "      <td>IN</td>\n",
       "      <td>IND</td>\n",
       "      <td>Delhi</td>\n",
       "      <td>32226000.0</td>\n",
       "      <td>1356872604</td>\n",
       "    </tr>\n",
       "    <tr>\n",
       "      <th>3</th>\n",
       "      <td>Guangzhou</td>\n",
       "      <td>23.1300</td>\n",
       "      <td>113.2600</td>\n",
       "      <td>China</td>\n",
       "      <td>CN</td>\n",
       "      <td>CHN</td>\n",
       "      <td>Guangdong</td>\n",
       "      <td>26940000.0</td>\n",
       "      <td>1156237133</td>\n",
       "    </tr>\n",
       "    <tr>\n",
       "      <th>4</th>\n",
       "      <td>Mumbai</td>\n",
       "      <td>19.0761</td>\n",
       "      <td>72.8775</td>\n",
       "      <td>India</td>\n",
       "      <td>IN</td>\n",
       "      <td>IND</td>\n",
       "      <td>Mahārāshtra</td>\n",
       "      <td>24973000.0</td>\n",
       "      <td>1356226629</td>\n",
       "    </tr>\n",
       "  </tbody>\n",
       "</table>\n",
       "</div>"
      ],
      "text/plain": [
       "    DISTRICT    LAT_N    LONG_W       NAME STATE COUNTRYCODE         CITY  \\\n",
       "0      Tokyo  35.6897  139.6922      Japan    JP         JPN        Tōkyō   \n",
       "1    Jakarta  -6.1750  106.8275  Indonesia    ID         IDN      Jakarta   \n",
       "2      Delhi  28.6100   77.2300      India    IN         IND        Delhi   \n",
       "3  Guangzhou  23.1300  113.2600      China    CN         CHN    Guangdong   \n",
       "4     Mumbai  19.0761   72.8775      India    IN         IND  Mahārāshtra   \n",
       "\n",
       "   POPULATION          ID  \n",
       "0  37732000.0  1392685764  \n",
       "1  33756000.0  1360771077  \n",
       "2  32226000.0  1356872604  \n",
       "3  26940000.0  1156237133  \n",
       "4  24973000.0  1356226629  "
      ]
     },
     "execution_count": 62,
     "metadata": {},
     "output_type": "execute_result"
    }
   ],
   "source": [
    "df.head()"
   ]
  },
  {
   "cell_type": "code",
   "execution_count": 63,
   "metadata": {},
   "outputs": [
    {
     "data": {
      "text/plain": [
       "DISTRICT         1\n",
       "LAT_N            0\n",
       "LONG_W           0\n",
       "NAME             0\n",
       "STATE           33\n",
       "COUNTRYCODE      0\n",
       "CITY           197\n",
       "POPULATION     212\n",
       "ID               0\n",
       "dtype: int64"
      ]
     },
     "execution_count": 63,
     "metadata": {},
     "output_type": "execute_result"
    }
   ],
   "source": [
    "df.isna().sum()"
   ]
  },
  {
   "cell_type": "markdown",
   "metadata": {},
   "source": [
    "### Create Database and Create table then Fetach data"
   ]
  },
  {
   "cell_type": "code",
   "execution_count": 64,
   "metadata": {},
   "outputs": [],
   "source": [
    "# Connect to the database (replace 'your_database.db' with your file)\n",
    "connection = sqlite3.connect('CITY_DATABASE.db')\n",
    "\n",
    "# Create a cursor object\n",
    "cursor = connection.cursor()\n",
    "\n",
    "table_name = 'city'  # Replace with your table name\n",
    "cursor.execute(f'DROP TABLE IF EXISTS {table_name};')\n",
    "\n",
    "# Execute a query to get all table names\n",
    "cursor.execute(\"\"\"\n",
    "                CREATE TABLE IF NOT EXISTS CITY (\n",
    "                    ID INT PRINERY KEY NOT NULL,\n",
    "                    NAME VARCHAR2(17), \n",
    "                    COUNTRYCODE VARCHAR2(2), \n",
    "                    DISTRICT VARCHAR2(20), \n",
    "                    POPULATION NUMBER,\n",
    "                    CITY VARCHAR2(21), \n",
    "                    STATE VARCHAR2(2), \n",
    "                    LAT_N NUMBER, \n",
    "                    LONG_W NUMBER\n",
    "               );\n",
    "               \"\"\")\n",
    "\n",
    "# Commit the changes\n",
    "connection.commit()\n",
    "\n",
    "# Close the connection\n",
    "connection.close()\n"
   ]
  },
  {
   "cell_type": "markdown",
   "metadata": {},
   "source": [
    "### Insert data"
   ]
  },
  {
   "cell_type": "code",
   "execution_count": 65,
   "metadata": {},
   "outputs": [
    {
     "name": "stderr",
     "output_type": "stream",
     "text": [
      "Inserting Rows: 100%|██████████| 47868/47868 [00:00<00:00, 53433.23it/s]\n"
     ]
    }
   ],
   "source": [
    "connection = sqlite3.connect(\"CITY_DATABASE.db\")\n",
    "\n",
    "cursor = connection.cursor()\n",
    "\n",
    "# Step 4: Insert data into the table with a progress bar\n",
    "for index, row in tqdm(df.iterrows(), total=df.shape[0], desc=\"Inserting Rows\"):\n",
    "    cursor.execute('''\n",
    "        INSERT INTO city (ID, NAME, COUNTRYCODE, DISTRICT, POPULATION, CITY, STATE, LAT_N, LONG_W) \n",
    "                   VALUES (?, ?, ?, ?, ?, ?, ?, ?, ?);\n",
    "    ''', (row['ID'], row['NAME'], row['COUNTRYCODE'], row['DISTRICT'], row['POPULATION'], row['CITY'], row['STATE'], row['LAT_N'], row['LONG_W']))  # Adjust column names based on your CSV\n",
    "\n",
    "\n",
    "# Commit the changes and close the connection\n",
    "connection.commit()\n",
    "connection.close()"
   ]
  },
  {
   "cell_type": "markdown",
   "metadata": {},
   "source": [
    "### Featch data from table"
   ]
  },
  {
   "cell_type": "code",
   "execution_count": 66,
   "metadata": {},
   "outputs": [
    {
     "name": "stdout",
     "output_type": "stream",
     "text": [
      "               ID                 NAME COUNTRYCODE          DISTRICT  \\\n",
      "0      1392685764                Japan         JPN             Tokyo   \n",
      "1      1360771077            Indonesia         IDN           Jakarta   \n",
      "2      1356872604                India         IND             Delhi   \n",
      "3      1156237133                China         CHN         Guangzhou   \n",
      "4      1356226629                India         IND            Mumbai   \n",
      "...           ...                  ...         ...               ...   \n",
      "47863  1408979215         Korea, North         PRK        Munha-dong   \n",
      "47864  1408767958         Korea, North         PRK            Sil-li   \n",
      "47865  1410001061         Korea, South         KOR              Muan   \n",
      "47866  1410822139         Korea, South         KOR         Hongseong   \n",
      "47867  1850037473  U.S. Virgin Islands         VIR  Charlotte Amalie   \n",
      "\n",
      "       POPULATION            CITY STATE    LAT_N    LONG_W  \n",
      "0      37732000.0           Tōkyō    JP  35.6897  139.6922  \n",
      "1      33756000.0         Jakarta    ID  -6.1750  106.8275  \n",
      "2      32226000.0           Delhi    IN  28.6100   77.2300  \n",
      "3      26940000.0       Guangdong    CN  23.1300  113.2600  \n",
      "4      24973000.0     Mahārāshtra    IN  19.0761   72.8775  \n",
      "...           ...             ...   ...      ...       ...  \n",
      "47863         NaN         Kangwŏn    KP  39.3813  127.2517  \n",
      "47864         NaN       P’yŏngnam    KP  39.4880  125.4640  \n",
      "47865         NaN         Jeonnam    KR  34.9897  126.4714  \n",
      "47866         NaN        Chungnam    KR  36.6009  126.6650  \n",
      "47867         NaN  Virgin Islands    VI  18.3420  -64.9331  \n",
      "\n",
      "[47868 rows x 9 columns]\n"
     ]
    }
   ],
   "source": [
    "# Connect to SQLite database\n",
    "conn = sqlite3.connect('CITY_DATABASE.db')\n",
    "\n",
    "# Create a cursor object\n",
    "cursor = conn.cursor()\n",
    "\n",
    "# SQL command to select all records from the users table\n",
    "select_query = 'SELECT * FROM city;'\n",
    "\n",
    "# Execute the SQL command\n",
    "cursor.execute(select_query)\n",
    "\n",
    "# Fetch all results\n",
    "results = cursor.fetchall()\n",
    "\n",
    "# Print the results\n",
    "# for row in results:\n",
    "#     print(row)\n",
    "\n",
    "# Optionally convert the results to a pandas DataFrame\n",
    "df = pd.DataFrame(results, columns=[column[0] for column in cursor.description])\n",
    "print(df)\n",
    "\n",
    "# Close the connection\n",
    "conn.close()\n"
   ]
  },
  {
   "cell_type": "markdown",
   "metadata": {},
   "source": [
    "## Function execute queries"
   ]
  },
  {
   "cell_type": "code",
   "execution_count": 67,
   "metadata": {},
   "outputs": [],
   "source": [
    "def execute_query(\n",
    "        use_databes: str = \"CITY_DATABASE.db\",\n",
    "        my_query: str = \"SELECT * FROM city;\"\n",
    ") -> pd.DataFrame:\n",
    "    try:\n",
    "        # Connect to SQLite database\n",
    "        conn = sqlite3.connect(use_databes)\n",
    "\n",
    "        # Create a cursor object\n",
    "        cursor = conn.cursor()\n",
    "\n",
    "        # SQL command to select all records from the users table\n",
    "        select_query = my_query\n",
    "\n",
    "        # Execute the SQL command\n",
    "        cursor.execute(select_query)\n",
    "\n",
    "        # Fetch all results\n",
    "        results = cursor.fetchall()\n",
    "\n",
    "        # Print the results\n",
    "        # for row in results:\n",
    "        #     print(row)\n",
    "\n",
    "        # Optionally convert the results to a pandas DataFrame\n",
    "        df = pd.DataFrame(results, columns=[column[0] for column in cursor.description])\n",
    "        print(df)\n",
    "\n",
    "        # Close the connection\n",
    "        conn.close()\n",
    "\n",
    "    except Exception as e:\n",
    "        print(f\"Error: {e}\")"
   ]
  },
  {
   "cell_type": "code",
   "execution_count": 69,
   "metadata": {},
   "outputs": [],
   "source": [
    "# execute_query()"
   ]
  },
  {
   "cell_type": "markdown",
   "metadata": {},
   "source": [
    "# Questions on SQL"
   ]
  },
  {
   "cell_type": "markdown",
   "metadata": {},
   "source": [
    "**Q1.** \n",
    "\n",
    "Query all columns for all American cities in the CITY table with populations larger than 100000.\n",
    "The CountryCode for America is USA.\n",
    "The CITY table is described as follows:\n",
    "\n",
    "**CITY**\n",
    "\n",
    "| **Field** | **Type** |\n",
    "---|---\n",
    "ID | NUMBER\n",
    "NAME | VARCHAR2(17)\n",
    "COUNTRYCODE | VARCHAR2(3)\n",
    "DISTRICT | VARCHAR2(20)\n",
    "POPULATION | NUMBER"
   ]
  },
  {
   "cell_type": "code",
   "execution_count": 70,
   "metadata": {},
   "outputs": [
    {
     "name": "stdout",
     "output_type": "stream",
     "text": [
      "Error: no such table: city\n"
     ]
    }
   ],
   "source": [
    "execute_query(\"\"\"\n",
    "    \n",
    "\"\"\")"
   ]
  },
  {
   "cell_type": "markdown",
   "metadata": {},
   "source": [
    "**Q2.** \n",
    "\n",
    "Query the NAME field for all American cities in the CITY table with populations larger than 120000.\n",
    "The CountryCode for America is USA.\n",
    "The CITY table is described as follows:\n",
    "\n",
    "**CITY**\n",
    "\n",
    "| **Field** | **Type** |\n",
    "---|---\n",
    "ID | NUMBER\n",
    "NAME | VARCHAR2(17)\n",
    "COUNTRYCODE | VARCHAR2(3)\n",
    "DISTRICT | VARCHAR2(20)\n",
    "POPULATION | NUMBER"
   ]
  },
  {
   "cell_type": "code",
   "execution_count": null,
   "metadata": {},
   "outputs": [],
   "source": []
  },
  {
   "cell_type": "markdown",
   "metadata": {},
   "source": [
    "**Q3.**  \n",
    "Query all columns (attributes) for every row in the CITY table.  \n",
    "The CITY table is described as follows:\n",
    "\n",
    "**CITY**\n",
    "\n",
    "| **Field** | **Type** |\n",
    "---|---\n",
    "ID | NUMBER\n",
    "NAME | VARCHAR2(17)\n",
    "COUNTRYCODE | VARCHAR2(3)\n",
    "DISTRICT | VARCHAR2(20)\n",
    "POPULATION | NUMBER"
   ]
  },
  {
   "cell_type": "code",
   "execution_count": null,
   "metadata": {},
   "outputs": [],
   "source": []
  },
  {
   "cell_type": "markdown",
   "metadata": {},
   "source": [
    "**Q4.**  \n",
    "Query all columns for a city in CITY with the ID 1661.  \n",
    "The CITY table is described as follows:\n",
    "\n",
    "**CITY**\n",
    "\n",
    "| **Field** | **Type** |\n",
    "---|---\n",
    "ID | NUMBER\n",
    "NAME | VARCHAR2(17)\n",
    "COUNTRYCODE | VARCHAR2(3)\n",
    "DISTRICT | VARCHAR2(20)\n",
    "POPULATION | NUMBER"
   ]
  },
  {
   "cell_type": "code",
   "execution_count": null,
   "metadata": {},
   "outputs": [],
   "source": []
  },
  {
   "cell_type": "markdown",
   "metadata": {},
   "source": [
    "**Q5.**  \n",
    "Query all attributes of every Japanese city in the CITY table. The COUNTRYCODE for Japan is JPN.  \n",
    "The CITY table is described as follows:\n",
    "\n",
    "**CITY**\n",
    "\n",
    "| **Field** | **Type** |\n",
    "---|---\n",
    "ID | NUMBER\n",
    "NAME | VARCHAR2(17)\n",
    "COUNTRYCODE | VARCHAR2(3)\n",
    "DISTRICT | VARCHAR2(20)\n",
    "POPULATION | NUMBER"
   ]
  },
  {
   "cell_type": "code",
   "execution_count": null,
   "metadata": {},
   "outputs": [],
   "source": []
  },
  {
   "cell_type": "markdown",
   "metadata": {},
   "source": [
    "**Q6.**  \n",
    "Query the names of all the Japanese cities in the CITY table. The COUNTRYCODE for Japan is JPN.  \n",
    "The CITY table is described as follows:\n",
    "\n",
    "**CITY**\n",
    "\n",
    "| **Field** | **Type** |\n",
    "---|---\n",
    "ID | NUMBER\n",
    "NAME | VARCHAR2(17)\n",
    "COUNTRYCODE | VARCHAR2(3)\n",
    "DISTRICT | VARCHAR2(20)\n",
    "POPULATION | NUMBER"
   ]
  },
  {
   "cell_type": "code",
   "execution_count": null,
   "metadata": {},
   "outputs": [],
   "source": []
  },
  {
   "cell_type": "markdown",
   "metadata": {},
   "source": [
    "**Q7.**  \n",
    "Query a list of CITY and STATE from the STATION table.  \n",
    "The STATION table is described as follows:  \n",
    "where LAT_N is the northern latitude and LONG_W is the western longitude.\n",
    "\n",
    "**STATION**\n",
    "\n",
    "| **Field** | **Type** |\n",
    "---|---\n",
    "ID | NUMBER\n",
    "CITY | VARCHAR2(21)\n",
    "STATE | VARCHAR2(2)\n",
    "LAT_N | NUMBER\n",
    "LONG_W | NUMBER"
   ]
  },
  {
   "cell_type": "code",
   "execution_count": null,
   "metadata": {},
   "outputs": [],
   "source": []
  },
  {
   "cell_type": "markdown",
   "metadata": {},
   "source": [
    "**Q8.**  \n",
    "Query a list of CITY names from STATION for cities that have an even ID number. Print the results in any order, but exclude duplicates from the answer.  \n",
    "The STATION table is described as follows:  \n",
    "where LAT_N is the northern latitude and LONG_W is the western longitude.\n",
    "\n",
    "**STATION**\n",
    "\n",
    "| **Field** | **Type** |\n",
    "---|---\n",
    "ID | NUMBER\n",
    "CITY | VARCHAR2(21)\n",
    "STATE | VARCHAR2(2)\n",
    "LAT_N | NUMBER\n",
    "LONG_W | NUMBER"
   ]
  },
  {
   "cell_type": "code",
   "execution_count": null,
   "metadata": {},
   "outputs": [],
   "source": []
  },
  {
   "cell_type": "markdown",
   "metadata": {},
   "source": [
    "**Q9.**  \n",
    "Find the difference between the total number of CITY entries in the table and the number of distinct CITY entries in the table.  \n",
    "The STATION table is described as follows:  \n",
    "\n",
    "**STATION**\n",
    "\n",
    "| **Field** | **Type** |\n",
    "---|---\n",
    "ID | NUMBER\n",
    "CITY | VARCHAR2(21)\n",
    "STATE | VARCHAR2(2)\n",
    "LAT_N | NUMBER\n",
    "LONG_W | NUMBER\n",
    "\n",
    "\n",
    "where LAT_N is the northern latitude and LONG_W is the western longitude.  \n",
    "*For example, if there are three records in the table with CITY values 'New York', 'New York', 'Bengalaru', there are 2 different city names: 'New York' and 'Bengalaru'. The query returns 1, because total number of records - number of unique city names = 3 - 2 = 1.*\n"
   ]
  },
  {
   "cell_type": "code",
   "execution_count": null,
   "metadata": {},
   "outputs": [],
   "source": []
  },
  {
   "cell_type": "markdown",
   "metadata": {},
   "source": [
    "**Q10.**  \n",
    "Query the two cities in STATION with the shortest and longest CITY names, as well as their respective lengths (i.e., number of characters in the name). If there is more than one smallest or largest city, choose the one that comes first when ordered alphabetically.  \n",
    "The STATION table is described as follows: \n",
    "\n",
    "**STATION**\n",
    "\n",
    "| **Field** | **Type** |\n",
    "---|---\n",
    "ID | NUMBER\n",
    "CITY | VARCHAR2(21)\n",
    "STATE | VARCHAR2(2)\n",
    "LAT_N | NUMBER\n",
    "LONG_W | NUMBER\n",
    "\n",
    "where LAT_N is the northern latitude and LONG_W is the western longitude.  \n",
    "*Sample Input:*  \n",
    "*For example, CITY has four entries: DEF, ABC, PQRS, and WXY.*  \n",
    "\n",
    "*Sample Output:*  \n",
    "\n",
    "| CITY | Length |\n",
    "|------|--------|\n",
    "| ABC  | 3      |\n",
    "| PQRS | 4      |\n",
    "\n",
    "**Hint:**  \n",
    "*When ordered alphabetically, the CITY names are listed as ABC, DEF, PQRS, and WXY, with lengths and. The longest name is PQRS, but there are options for the shortest named city. Choose ABC, because it comes first alphabetically.*  \n",
    "\n",
    "**Note:**  \n",
    "*You can write two separate queries to get the desired output. It need not be a single query.*\n"
   ]
  },
  {
   "cell_type": "code",
   "execution_count": null,
   "metadata": {},
   "outputs": [],
   "source": []
  },
  {
   "cell_type": "markdown",
   "metadata": {},
   "source": [
    "**Q11.**  \n",
    "Query the list of CITY names starting with vowels (i.e., a, e, i, o, or u) from STATION. Your result cannot contain duplicates.  \n",
    "*Input Format:*  \n",
    "The STATION table is described as follows:  \n",
    "\n",
    "**STATION**\n",
    "\n",
    "| **Field** | **Type** |\n",
    "---|---\n",
    "ID | NUMBER\n",
    "CITY | VARCHAR2(21)\n",
    "STATE | VARCHAR2(2)\n",
    "LAT_N | NUMBER\n",
    "LONG_W | NUMBER\n",
    "\n",
    "where LAT_N is the northern latitude and LONG_W is the western longitude."
   ]
  },
  {
   "cell_type": "code",
   "execution_count": null,
   "metadata": {},
   "outputs": [],
   "source": []
  },
  {
   "cell_type": "markdown",
   "metadata": {},
   "source": [
    "**Q12.**  \n",
    "Query the list of CITY names ending with vowels (a, e, i, o, u) from STATION. Your result cannot contain duplicates.  \n",
    "*Input Format:*  \n",
    "The STATION table is described as follows:  \n",
    "\n",
    "**STATION**\n",
    "\n",
    "| **Field** | **Type** |\n",
    "---|---\n",
    "ID | NUMBER\n",
    "CITY | VARCHAR2(21)\n",
    "STATE | VARCHAR2(2)\n",
    "LAT_N | NUMBER\n",
    "LONG_W | NUMBER\n",
    "\n",
    "where LAT_N is the northern latitude and LONG_W is the western longitude."
   ]
  },
  {
   "cell_type": "code",
   "execution_count": null,
   "metadata": {},
   "outputs": [],
   "source": []
  },
  {
   "cell_type": "markdown",
   "metadata": {},
   "source": [
    "**Q13.**  \n",
    "Query the list of CITY names from STATION that do not start with vowels. Your result cannot contain duplicates.  \n",
    "*Input Format:*  \n",
    "The STATION table is described as follows:  \n",
    "\n",
    "**STATION**\n",
    "\n",
    "| **Field** | **Type** |\n",
    "---|---\n",
    "ID | NUMBER\n",
    "CITY | VARCHAR2(21)\n",
    "STATE | VARCHAR2(2)\n",
    "LAT_N | NUMBER\n",
    "LONG_W | NUMBER\n",
    "\n",
    "where LAT_N is the northern latitude and LONG_W is the western longitude."
   ]
  },
  {
   "cell_type": "code",
   "execution_count": null,
   "metadata": {},
   "outputs": [],
   "source": []
  },
  {
   "cell_type": "markdown",
   "metadata": {},
   "source": [
    "**Q14.**  \n",
    "Query the list of CITY names from STATION that do not end with vowels. Your result cannot contain duplicates.  \n",
    "*Input Format:*  \n",
    "The STATION table is described as follows:  \n",
    "\n",
    "**STATION**\n",
    "\n",
    "| **Field** | **Type** |\n",
    "---|---\n",
    "ID | NUMBER\n",
    "CITY | VARCHAR2(21)\n",
    "STATE | VARCHAR2(2)\n",
    "LAT_N | NUMBER\n",
    "LONG_W | NUMBER\n",
    "\n",
    "where LAT_N is the northern latitude and LONG_W is the western longitude."
   ]
  },
  {
   "cell_type": "code",
   "execution_count": null,
   "metadata": {},
   "outputs": [],
   "source": []
  },
  {
   "cell_type": "markdown",
   "metadata": {},
   "source": [
    "**Q15.**  \n",
    "Query the list of CITY names from STATION that either do not start with vowels or do not end with vowels. Your result cannot contain duplicates.  \n",
    "*Input Format:*  \n",
    "The STATION table is described as follows:  \n",
    "\n",
    "**STATION**\n",
    "\n",
    "| **Field** | **Type** |\n",
    "---|---\n",
    "ID | NUMBER\n",
    "CITY | VARCHAR2(21)\n",
    "STATE | VARCHAR2(2)\n",
    "LAT_N | NUMBER\n",
    "LONG_W | NUMBER\n",
    "\n",
    "where LAT_N is the northern latitude and LONG_W is the western longitude."
   ]
  },
  {
   "cell_type": "code",
   "execution_count": null,
   "metadata": {},
   "outputs": [],
   "source": []
  },
  {
   "cell_type": "markdown",
   "metadata": {},
   "source": [
    "\n",
    "**Q16.**  \n",
    "Query the list of CITY names from STATION that do not start with vowels and do not end with vowels. Your result cannot contain duplicates.  \n",
    "*Input Format:*  \n",
    "The STATION table is described as follows:  \n",
    "\n",
    "**STATION**\n",
    "\n",
    "| **Field** | **Type** |\n",
    "---|---\n",
    "ID | NUMBER\n",
    "CITY | VARCHAR2(21)\n",
    "STATE | VARCHAR2(2)\n",
    "LAT_N | NUMBER\n",
    "LONG_W | NUMBER\n",
    "\n",
    "where LAT_N is the northern latitude and LONG_W is the western longitude.\n"
   ]
  },
  {
   "cell_type": "code",
   "execution_count": null,
   "metadata": {},
   "outputs": [],
   "source": []
  }
 ],
 "metadata": {
  "kernelspec": {
   "display_name": "base",
   "language": "python",
   "name": "python3"
  },
  "language_info": {
   "codemirror_mode": {
    "name": "ipython",
    "version": 3
   },
   "file_extension": ".py",
   "mimetype": "text/x-python",
   "name": "python",
   "nbconvert_exporter": "python",
   "pygments_lexer": "ipython3",
   "version": "3.11.7"
  }
 },
 "nbformat": 4,
 "nbformat_minor": 2
}
