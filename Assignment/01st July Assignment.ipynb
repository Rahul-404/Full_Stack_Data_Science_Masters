{
 "cells": [
  {
   "cell_type": "markdown",
   "metadata": {},
   "source": [
    "<h1><p align=\"center\"> 1<sup>st</sup> July Assignment </p></h1>"
   ]
  },
  {
   "cell_type": "markdown",
   "metadata": {},
   "source": [
    "## **1]** What is the primary goal of Object-Oriented Programming (OOP)?"
   ]
  },
  {
   "cell_type": "code",
   "execution_count": null,
   "metadata": {},
   "outputs": [],
   "source": []
  },
  {
   "cell_type": "markdown",
   "metadata": {},
   "source": [
    "## **2]** What is an object in Python ?"
   ]
  },
  {
   "cell_type": "code",
   "execution_count": null,
   "metadata": {},
   "outputs": [],
   "source": []
  },
  {
   "cell_type": "markdown",
   "metadata": {},
   "source": [
    "## **3]** What is a class in Python ?"
   ]
  },
  {
   "cell_type": "code",
   "execution_count": null,
   "metadata": {},
   "outputs": [],
   "source": []
  },
  {
   "cell_type": "markdown",
   "metadata": {},
   "source": [
    "## **4]** What are attributes and methods in a class ?"
   ]
  },
  {
   "cell_type": "code",
   "execution_count": null,
   "metadata": {},
   "outputs": [],
   "source": []
  },
  {
   "cell_type": "markdown",
   "metadata": {},
   "source": [
    "## **5]** What is the difference between class variables and instance variables in Python ?"
   ]
  },
  {
   "cell_type": "code",
   "execution_count": null,
   "metadata": {},
   "outputs": [],
   "source": []
  },
  {
   "cell_type": "markdown",
   "metadata": {},
   "source": [
    "## **6]** What is the purpose of the self parameter in Python class methods ?"
   ]
  },
  {
   "cell_type": "code",
   "execution_count": null,
   "metadata": {},
   "outputs": [],
   "source": []
  },
  {
   "cell_type": "markdown",
   "metadata": {},
   "source": [
    "## **7]** For a library management system, you have to design the \"Book\" class with OOP principles in mind. The \"Book\" class will have following attributes:\n",
    "\n",
    "- a. title: Represents the title of the book.\n",
    "- b. author: Represents the author(s) of the book.\n",
    "- c. Isbn: represents the ISBN (International Standard Book Number) of the book.\n",
    "- d. publication_year: Represents the year of publication of the book.\n",
    "- e. available_copies: represnets the number of copies available for checkout.\n",
    "\n",
    "The class will also include the following methods:\n",
    "\n",
    "- a. check_out(self): Decrements the available copies by one if there are coples available for checkout.\n",
    "- b. ruturn_book(self): Increments the available copies by one when a book is returned.\n",
    "- c. display_book_info(self): Displays the information about the book, including its attributes and the number of available copies."
   ]
  },
  {
   "cell_type": "code",
   "execution_count": null,
   "metadata": {},
   "outputs": [],
   "source": []
  },
  {
   "cell_type": "markdown",
   "metadata": {},
   "source": [
    "## **8]** For a ticket booking system, you have to design the \"Ticket\" class with OOP principle in mind. The \"Ticket\" class should have the following attributes:\n",
    "\n",
    "- a. ticket_id: Represents the unique identifier for the ticket.\n",
    "- b. event_name: Represents the same name of the event.\n",
    "- c. event_date: Represents the data of the event.\n",
    "- d. venue: Represents the venue of the event.\n",
    "- e. seat_number: Represents the seat number associated with tickets.\n",
    "- f. price: Represents the price of the ticket.\n",
    "- g. is_reserved: Represnts the price of the ticket.\n",
    "\n",
    "The class also includes the following methods:\n",
    "\n",
    "- a. reverse_ticket(self): Marks the ticket as reversed if it is not already reserved.\n",
    "- b. cancel_reservation(self): Cancels the reservation of the ticket if it is already reserved.\n",
    "- c. display_ticket_info(self): Displays the information about the ticket, including its attributes and reservation status."
   ]
  },
  {
   "cell_type": "code",
   "execution_count": null,
   "metadata": {},
   "outputs": [],
   "source": []
  },
  {
   "cell_type": "markdown",
   "metadata": {},
   "source": [
    "## **9]** you are creating a shopping cart for an e-commerce website. Using OOP to model the \"ShoppingCart\" functionality the class should contain following attributes and methods:\n",
    "\n",
    "- a. items: Represnets the list of items in the shopping cart.\n",
    "\n",
    "The class also includes the following methods:\n",
    "\n",
    "- a. add_item(self, item): adds an item to the shopping cart by appending it to be the list of items.\n",
    "\n",
    "- b. remove_items(self, item): Remove an item from the shopping cart if it exists in the list.\n",
    "\n",
    "- c. view_cart(self): Display the items currenlty present in the shopping cart.\n",
    "\n",
    "- d. clear_cart(self): Clears all items from the shopping cart by reassigning an empty list to the items attribute.\n"
   ]
  },
  {
   "cell_type": "code",
   "execution_count": null,
   "metadata": {},
   "outputs": [],
   "source": []
  },
  {
   "cell_type": "markdown",
   "metadata": {},
   "source": [
    "## **10]** Imagine a school management system. You have to design the \"Student\" class using OOP concepts. The \"Student\" class has the following attributes:\n",
    "\n",
    "- a. name: Represents the name of the student.\n",
    "- b. age: Represents the age of the student.\n",
    "- c. grade: Represents the grade or class of the student.\n",
    "- d. student_id: Represents the unique identifier for the student.\n",
    "- e. attendence: Represents the attendence record of the student.\n",
    "\n",
    "The class should also include the following methods:\n",
    "\n",
    "- a. upadte_attendence(self, date, status): Updates the attendence record of the student for a given date with provided status (e.g., preseny or absent).\n",
    "\n",
    "- b. get_average_attendence(self): Calculates and return the average atetndence percentage of the student based on their attendance record."
   ]
  },
  {
   "cell_type": "code",
   "execution_count": null,
   "metadata": {},
   "outputs": [],
   "source": []
  },
  {
   "cell_type": "markdown",
   "metadata": {},
   "source": [
    "<i>\"Thank you for exploring all the way to the end of my page!\"</i>\n",
    "\n",
    "<p>\n",
    "regards, <br>\n",
    "<a href=\"https:www.github.com/Rahul-404/\">Rahul Shelke</a>\n",
    "</p>"
   ]
  },
  {
   "cell_type": "code",
   "execution_count": null,
   "metadata": {},
   "outputs": [],
   "source": []
  }
 ],
 "metadata": {
  "language_info": {
   "name": "python"
  }
 },
 "nbformat": 4,
 "nbformat_minor": 2
}
