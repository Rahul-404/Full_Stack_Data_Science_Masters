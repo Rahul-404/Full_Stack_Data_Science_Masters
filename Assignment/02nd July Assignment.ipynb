{
 "cells": [
  {
   "cell_type": "markdown",
   "metadata": {},
   "source": [
    "<h1><p align=\"center\"> 2<sup>nd</sup> July Assignment </p></h1>"
   ]
  },
  {
   "cell_type": "markdown",
   "metadata": {},
   "source": [
    "## 1. Explain what inheritance is in object-oriented programming and why it is used."
   ]
  },
  {
   "cell_type": "markdown",
   "metadata": {},
   "source": [
    "Let's delve into inheritance in object-oriented programming (OOP) and its importance.\n",
    "\n",
    "### What is Inheritance?\n",
    "\n",
    "Inheritance is a core concept in object-oriented programming that allows one class (known as the subclass or derived class) to inherit attributes and methods from another class (known as the superclass or base class). This relationship enables a new class to build upon or extend the functionality of an existing class.\n",
    "\n",
    "**Key Components:**\n",
    "\n",
    "1. **Base Class (Superclass):** The class that provides common attributes and methods. It serves as the foundation that other classes can inherit from.\n",
    "\n",
    "2. **Derived Class (Subclass):** The class that inherits from the base class. It can use the attributes and methods of the base class and can also have additional features or override existing methods.\n",
    "\n",
    "### Why is Inheritance Used?\n",
    "\n",
    "1. **Code Reusability:**\n",
    "   - Inheritance allows you to define common functionality in a base class and reuse it in multiple derived classes. This reduces code duplication and makes it easier to manage and update code.\n",
    "\n",
    "2. **Extensibility:**\n",
    "   - It facilitates extending the functionality of an existing class without modifying it. You can add new features or change behaviors by creating new derived classes, thus adhering to the Open/Closed Principle (open for extension, closed for modification).\n",
    "\n",
    "3. **Hierarchical Classification:**\n",
    "   - Inheritance helps organize and model relationships between classes in a hierarchical structure. For instance, you can have a base class `Animal` with subclasses like `Dog` and `Cat`, each of which inherits characteristics from `Animal` but also has specific attributes and methods.\n",
    "\n",
    "4. **Polymorphism:**\n",
    "   - Inheritance supports polymorphism, where a base class reference can point to objects of derived classes. This allows methods to be called on base class references, which can exhibit different behaviors depending on the actual subclass type.\n",
    "\n",
    "### Example in Python\n",
    "\n",
    "Consider a basic example with a base class `Person` and a derived class `Student`:"
   ]
  },
  {
   "cell_type": "code",
   "execution_count": 1,
   "metadata": {},
   "outputs": [],
   "source": [
    "# Base class\n",
    "class Person:\n",
    "    def __init__(self, name, age):\n",
    "        self.name = name\n",
    "        self.age = age\n",
    "\n",
    "    def introduce(self):\n",
    "        print(f\"Hi, I'm {self.name} and I'm {self.age} years old.\")\n",
    "\n",
    "# Derived class\n",
    "class Student(Person):\n",
    "    def __init__(self, name, age, student_id):\n",
    "        super().__init__(name, age)  # Call the constructor of the base class\n",
    "        self.student_id = student_id\n",
    "\n",
    "    def introduce(self):\n",
    "        super().introduce()  # Call the introduce method of the base class\n",
    "        print(f\"My student ID is {self.student_id}.\")"
   ]
  },
  {
   "cell_type": "markdown",
   "metadata": {},
   "source": [
    "In this example:\n",
    "- `Person` is the base class with a constructor and an `introduce` method.\n",
    "- `Student` is the derived class that inherits from `Person`. It extends the functionality by adding a `student_id` attribute and overrides the `introduce` method to include additional information.\n",
    "\n",
    "### Summary\n",
    "\n",
    "Inheritance is a powerful feature in OOP that promotes code reuse, makes it easier to extend functionality, and helps organize code in a hierarchical manner. It enables you to create more modular and maintainable code by allowing new classes to build upon existing ones."
   ]
  },
  {
   "cell_type": "code",
   "execution_count": null,
   "metadata": {},
   "outputs": [],
   "source": []
  },
  {
   "cell_type": "markdown",
   "metadata": {},
   "source": [
    "## 2. Discuss the concept of single inheritance and multiple inheritance, highlighting their differences and advantages"
   ]
  },
  {
   "cell_type": "markdown",
   "metadata": {},
   "source": [
    "In object-oriented programming (OOP), inheritance allows a class to inherit attributes and methods from another class. There are different types of inheritance, two of which are **single inheritance** and **multiple inheritance**. Here's a detailed look at both concepts, their differences, and their advantages:\n",
    "\n",
    "### Single Inheritance\n",
    "\n",
    "<div style=\"text-align: center;\">\n",
    "  <img src=\"assets/single_inheritance.png\" alt=\"Single Inheritance\" width=\"170\" height=\"300\">\n",
    "</div>\n",
    "\n",
    "\n",
    "\n",
    "\n",
    "**Definition:**\n",
    "Single inheritance occurs when a class (the subclass or derived class) inherits from only one base class (the superclass or parent class). This is the simplest form of inheritance.\n",
    "\n",
    "**Example:**"
   ]
  },
  {
   "cell_type": "code",
   "execution_count": 2,
   "metadata": {},
   "outputs": [
    {
     "name": "stdout",
     "output_type": "stream",
     "text": [
      "Animal speaks\n",
      "Dog barks\n"
     ]
    }
   ],
   "source": [
    "# Base class\n",
    "class Animal:\n",
    "    def speak(self):\n",
    "        print(\"Animal speaks\")\n",
    "\n",
    "# Derived class\n",
    "class Dog(Animal):\n",
    "    def bark(self):\n",
    "        print(\"Dog barks\")\n",
    "\n",
    "# Usage\n",
    "my_dog = Dog()\n",
    "my_dog.speak()  # Inherited from Animal\n",
    "my_dog.bark()   # Defined in Dog"
   ]
  },
  {
   "cell_type": "markdown",
   "metadata": {},
   "source": [
    "**Advantages:**\n",
    "\n",
    "1. **Simplicity:**\n",
    "   - Single inheritance is straightforward and easier to understand. It creates a clear, linear hierarchy where the derived class inherits directly from a single base class.\n",
    "\n",
    "2. **Clarity:**\n",
    "   - With a single base class, the source of inherited attributes and methods is unambiguous. This clarity reduces the likelihood of naming conflicts or ambiguities.\n",
    "\n",
    "3. **Maintenance:**\n",
    "   - Easier to maintain and refactor, as changes in the base class directly propagate to the derived class.\n",
    "\n",
    "### Multiple Inheritance\n",
    "\n",
    "<div style=\"text-align: center;\">\n",
    "  <img src=\"assets/multiple_inheritance.png\" alt=\"Single Inheritance\" width=\"250\" height=\"300\">\n",
    "</div>\n",
    "\n",
    "**Definition:**\n",
    "Multiple inheritance allows a class (the derived class) to inherit from more than one base class. This means the derived class can gain attributes and methods from multiple sources.\n",
    "\n",
    "**Example:**"
   ]
  },
  {
   "cell_type": "code",
   "execution_count": 3,
   "metadata": {},
   "outputs": [
    {
     "name": "stdout",
     "output_type": "stream",
     "text": [
      "Method from Parent1\n",
      "Method from Parent2\n",
      "Method from Child\n"
     ]
    }
   ],
   "source": [
    "# Base classes\n",
    "class Parent1:\n",
    "    def method1(self):\n",
    "        print(\"Method from Parent1\")\n",
    "\n",
    "class Parent2:\n",
    "    def method2(self):\n",
    "        print(\"Method from Parent2\")\n",
    "\n",
    "# Derived class\n",
    "class Child(Parent1, Parent2):\n",
    "    def method3(self):\n",
    "        print(\"Method from Child\")\n",
    "\n",
    "# Usage\n",
    "child = Child()\n",
    "child.method1()  # Inherited from Parent1\n",
    "child.method2()  # Inherited from Parent2\n",
    "child.method3()  # Defined in Child"
   ]
  },
  {
   "cell_type": "markdown",
   "metadata": {},
   "source": [
    "**Advantages:**\n",
    "\n",
    "1. **Flexibility:**\n",
    "   - Allows a class to combine functionality from multiple base classes, providing more flexible designs. This can be particularly useful when different base classes represent different aspects of the desired functionality.\n",
    "\n",
    "2. **Code Reusability:**\n",
    "   - Promotes greater code reuse by allowing a derived class to leverage features from multiple base classes without having to duplicate code.\n",
    "\n",
    "3. **Enhanced Functionality:**\n",
    "   - Enables the creation of more complex and feature-rich classes by incorporating methods and attributes from several sources.\n",
    "\n",
    "### Differences Between Single and Multiple Inheritance\n",
    "\n",
    "1. **Hierarchy:**\n",
    "   - **Single Inheritance:** Linear hierarchy with one direct superclass.\n",
    "   - **Multiple Inheritance:** Complex hierarchy where a class inherits from multiple superclasses, potentially creating a more intricate class structure.\n",
    "\n",
    "2. **Ambiguity:**\n",
    "   - **Single Inheritance:** Generally avoids ambiguity, as there is only one base class to consider.\n",
    "   - **Multiple Inheritance:** Can introduce ambiguity, particularly if multiple base classes have methods or attributes with the same names. This can lead to the \"Diamond Problem,\" where it's unclear which method or attribute should be used if they are defined in more than one base class.\n",
    "\n",
    "3. **Implementation Complexity:**\n",
    "   - **Single Inheritance:** Easier to implement and understand, with a straightforward relationship between classes.\n",
    "   - **Multiple Inheritance:** More complex to implement, as it requires handling the potential conflicts and ambiguities arising from multiple base classes.\n",
    "\n",
    "### Summary\n",
    "\n",
    "- **Single Inheritance** is simple, easy to understand, and suitable for most straightforward class hierarchies. It provides clarity and is less prone to conflicts.\n",
    "  \n",
    "- **Multiple Inheritance** offers flexibility and the ability to combine features from multiple classes, but it can lead to complexity and potential issues like ambiguity and the Diamond Problem.\n",
    "\n",
    "Each type of inheritance has its use cases and benefits, and the choice between them depends on the specific requirements of the design and the problem being solved."
   ]
  },
  {
   "cell_type": "code",
   "execution_count": null,
   "metadata": {},
   "outputs": [],
   "source": []
  },
  {
   "cell_type": "markdown",
   "metadata": {},
   "source": [
    "## 3. Explain the terms \"base class\" and \"derived class\" in the context of inheritance"
   ]
  },
  {
   "cell_type": "markdown",
   "metadata": {},
   "source": [
    "In the context of inheritance in object-oriented programming (OOP), the terms **base class** and **derived class** refer to the classes involved in the inheritance relationship. Here's a detailed explanation of each term:\n",
    "\n",
    "### Base Class\n",
    "\n",
    "**Definition:**\n",
    "A **base class** (also known as a **superclass** or **parent class**) is the class from which attributes and methods are inherited. It provides a foundation of common functionality that can be shared by other classes.\n",
    "\n",
    "**Characteristics:**\n",
    "\n",
    "1. **Common Functionality:**\n",
    "   - The base class typically defines common attributes and methods that are intended to be used by derived classes. This can include general behavior that is applicable to all derived classes.\n",
    "\n",
    "2. **Encapsulation:**\n",
    "   - The base class encapsulates the shared logic and data, promoting code reuse and reducing redundancy.\n",
    "\n",
    "3. **Inheritance Source:**\n",
    "   - It serves as the source from which other classes inherit. The base class itself may or may not use inheritance.\n",
    "\n",
    "**Example:**"
   ]
  },
  {
   "cell_type": "code",
   "execution_count": 4,
   "metadata": {},
   "outputs": [],
   "source": [
    "class Animal:\n",
    "    def __init__(self, name):\n",
    "        self.name = name\n",
    "    \n",
    "    def speak(self):\n",
    "        print(\"Animal sound\")"
   ]
  },
  {
   "cell_type": "markdown",
   "metadata": {},
   "source": [
    "In this example, `Animal` is the base class. It defines common functionality that can be inherited by other classes.\n",
    "\n",
    "### Derived Class\n",
    "\n",
    "**Definition:**\n",
    "A **derived class** (also known as a **subclass** or **child class**) is the class that inherits from the base class. It extends or specializes the functionality provided by the base class.\n",
    "\n",
    "**Characteristics:**\n",
    "\n",
    "1. **Inherited Functionality:**\n",
    "   - The derived class inherits attributes and methods from the base class, making them available for use. It can also override or extend these methods to provide more specific behavior.\n",
    "\n",
    "2. **Additional Features:**\n",
    "   - In addition to inherited functionality, the derived class can introduce new attributes and methods that are specific to its own purpose.\n",
    "\n",
    "3. **Method Overriding:**\n",
    "   - The derived class can override methods from the base class to modify or extend their behavior.\n",
    "\n",
    "**Example:**"
   ]
  },
  {
   "cell_type": "code",
   "execution_count": 5,
   "metadata": {},
   "outputs": [],
   "source": [
    "class Dog(Animal):\n",
    "    def __init__(self, name, breed):\n",
    "        super().__init__(name)  # Call the constructor of the base class\n",
    "        self.breed = breed\n",
    "    \n",
    "    def speak(self):\n",
    "        print(\"Woof!\")"
   ]
  },
  {
   "cell_type": "markdown",
   "metadata": {},
   "source": [
    "In this example, `Dog` is a derived class that inherits from `Animal`. It extends the base class functionality by adding a `breed` attribute and overriding the `speak` method to provide specific behavior for dogs.\n",
    "\n",
    "### Summary\n",
    "\n",
    "- **Base Class:** The class that provides common attributes and methods to other classes. It serves as a foundation for inheritance.\n",
    "  \n",
    "- **Derived Class:** The class that inherits from the base class. It can use, modify, and extend the functionality of the base class and add its own features.\n",
    "\n",
    "The relationship between base and derived classes allows for hierarchical class structures, promotes code reuse, and facilitates the creation of more specific and specialized classes based on a general blueprint provided by the base class."
   ]
  },
  {
   "cell_type": "code",
   "execution_count": null,
   "metadata": {},
   "outputs": [],
   "source": []
  },
  {
   "cell_type": "markdown",
   "metadata": {},
   "source": [
    "## 4. What is the significance of the \"protected\" access modifier in inheritance? How does it differ from \"private\" and \"public\" modifiers?"
   ]
  },
  {
   "cell_type": "markdown",
   "metadata": {},
   "source": [
    "In object-oriented programming, access modifiers (also known as access specifiers) control the visibility and accessibility of class members (attributes and methods). Understanding the \"protected\" access modifier and how it differs from \"private\" and \"public\" modifiers is crucial for designing robust and maintainable class hierarchies.\n",
    "\n",
    "### Access Modifiers Overview\n",
    "\n",
    "1. **Public:**\n",
    "   - **Definition:** Members marked as `public` are accessible from anywhere in the program. There are no restrictions on their access.\n",
    "   - **Usage:** Used for methods and attributes that need to be accessed by any part of the program, including outside the class.\n",
    "\n",
    "2. **Protected:**\n",
    "   - **Definition:** Members marked as `protected` are accessible within the class itself and by derived (subclass) classes. They are not accessible from outside the class hierarchy.\n",
    "   - **Usage:** Used for attributes and methods that should be accessible to subclasses but not to the general public. This allows subclasses to use and extend base class functionality while keeping it hidden from outside code.\n",
    "\n",
    "3. **Private:**\n",
    "   - **Definition:** Members marked as `private` are only accessible within the class that defines them. They are not accessible from outside the class or by derived classes.\n",
    "   - **Usage:** Used for internal details of a class that should not be exposed to or modified by outside classes or subclasses. This ensures encapsulation and protects the integrity of the class's internal state.\n",
    "\n",
    "### Significance of the \"Protected\" Access Modifier\n",
    "\n",
    "1. **Encapsulation and Data Hiding:**\n",
    "   - The `protected` modifier strikes a balance between encapsulation and flexibility. It allows a derived class to access and modify certain attributes or methods of its base class, while still hiding these details from code outside the class hierarchy. This helps maintain a clean and controlled interface.\n",
    "\n",
    "2. **Extensibility:**\n",
    "   - By using `protected`, you allow derived classes to build on or modify the behavior defined in the base class. This is useful when you want to provide a default implementation in the base class but allow subclasses to customize or extend it.\n",
    "\n",
    "3. **Inheritance-Based Design:**\n",
    "   - `Protected` members are essential in inheritance-based design patterns, where derived classes need to work with certain functionalities of the base class. It ensures that subclasses can inherit and override behaviors without exposing base class internals to all clients of the class.\n",
    "\n",
    "### Differences from \"Private\" and \"Public\" Modifiers\n",
    "\n",
    "1. **Visibility:**\n",
    "   - **Public:** Accessible from any part of the program, including outside the class and its subclasses.\n",
    "   - **Protected:** Accessible only within the class and its subclasses, but not from outside the class hierarchy.\n",
    "   - **Private:** Accessible only within the defining class; not visible to subclasses or external code.\n",
    "\n",
    "2. **Inheritance:**\n",
    "   - **Public:** Methods and attributes marked as `public` can be accessed by any derived class and can be overridden if the access level allows it.\n",
    "   - **Protected:** Methods and attributes marked as `protected` can be accessed and overridden by derived classes, but are hidden from non-derived code.\n",
    "   - **Private:** Methods and attributes marked as `private` are completely hidden from derived classes and outside code; they cannot be accessed or overridden.\n",
    "\n",
    "### Example in Python\n",
    "\n",
    "Python doesn’t enforce access control strictly like some other languages (e.g., Java or C++). Instead, it uses a naming convention:\n",
    "\n",
    "- **Public:** No special naming.\n",
    "- **Protected:** Single underscore (`_`).\n",
    "- **Private:** Double underscore (`__`).\n",
    "\n",
    "Here’s how these conventions work:"
   ]
  },
  {
   "cell_type": "code",
   "execution_count": 6,
   "metadata": {},
   "outputs": [
    {
     "name": "stdout",
     "output_type": "stream",
     "text": [
      "I'm public\n",
      "I'm protected\n",
      "Public method\n",
      "Protected method\n"
     ]
    }
   ],
   "source": [
    "class Base:\n",
    "    def __init__(self):\n",
    "        self.public_attr = \"I'm public\"\n",
    "        self._protected_attr = \"I'm protected\"\n",
    "        self.__private_attr = \"I'm private\"\n",
    "    \n",
    "    def public_method(self):\n",
    "        print(\"Public method\")\n",
    "    \n",
    "    def _protected_method(self):\n",
    "        print(\"Protected method\")\n",
    "    \n",
    "    def __private_method(self):\n",
    "        print(\"Private method\")\n",
    "\n",
    "class Derived(Base):\n",
    "    def access_base_attributes(self):\n",
    "        print(self.public_attr)          # Accessible\n",
    "        print(self._protected_attr)      # Accessible, but should be used with caution\n",
    "        # print(self.__private_attr)    # Raises AttributeError\n",
    "        self.public_method()             # Accessible\n",
    "        self._protected_method()         # Accessible, but should be used with caution\n",
    "        # self.__private_method()       # Raises AttributeError\n",
    "\n",
    "# Usage\n",
    "obj = Derived()\n",
    "print(obj.public_attr)               # Accessible\n",
    "print(obj._protected_attr)           # Accessible, but should be avoided\n",
    "# print(obj.__private_attr)          # Raises AttributeError\n",
    "obj.public_method()                  # Accessible\n",
    "obj._protected_method()              # Accessible, but should be avoided\n",
    "# obj.__private_method()            # Raises AttributeError"
   ]
  },
  {
   "cell_type": "markdown",
   "metadata": {},
   "source": [
    "### Summary\n",
    "\n",
    "<div style=\"text-align: center;\">\n",
    "  <img src=\"assets/public_protected_private.png\" alt=\"Single Inheritance\" width=\"550\" height=\"350\">\n",
    "</div>\n",
    "\n",
    "\n",
    "- **Public:** Fully accessible everywhere.\n",
    "- **Protected:** Accessible within the class and by derived classes, but not outside.\n",
    "- **Private:** Accessible only within the defining class, not visible to subclasses or external code.\n",
    "\n",
    "The `protected` modifier provides a middle ground, allowing controlled access within a class hierarchy while keeping internal details hidden from external code, thus promoting better encapsulation and design flexibility."
   ]
  },
  {
   "cell_type": "code",
   "execution_count": null,
   "metadata": {},
   "outputs": [],
   "source": []
  },
  {
   "cell_type": "markdown",
   "metadata": {},
   "source": [
    "## 5. What is the purpose of the \"super\" keyword in inheritance? Provide an example"
   ]
  },
  {
   "cell_type": "markdown",
   "metadata": {},
   "source": [
    "The `super` keyword in object-oriented programming is used to refer to the parent class (superclass) in the context of inheritance. Its primary purpose is to provide a way to call methods and access attributes from a parent class from within a derived class. This is especially useful for accessing or extending functionality defined in the parent class, and for initializing the base class part of a derived class.\n",
    "\n",
    "### Purpose of the `super` Keyword\n",
    "\n",
    "1. **Calling Parent Class Methods:**\n",
    "   - `super` allows you to call methods from the parent class within a method of the derived class. This is useful for extending or modifying the behavior of inherited methods.\n",
    "\n",
    "2. **Accessing Parent Class Constructors:**\n",
    "   - When you have a derived class that needs to initialize its base class, you can use `super()` to call the constructor of the parent class. This ensures that the parent class is properly initialized.\n",
    "\n",
    "3. **Avoiding Explicit Class References:**\n",
    "   - By using `super()`, you avoid explicitly naming the parent class, which can make your code more maintainable and adaptable to changes in the class hierarchy.\n",
    "\n",
    "### Example\n",
    "\n",
    "Here’s a simple example in Python to illustrate the use of `super` in both calling parent class methods and constructors:"
   ]
  },
  {
   "cell_type": "code",
   "execution_count": 7,
   "metadata": {},
   "outputs": [
    {
     "name": "stdout",
     "output_type": "stream",
     "text": [
      "Buddy makes a sound\n",
      "Buddy barks\n"
     ]
    }
   ],
   "source": [
    "# Base class (superclass)\n",
    "class Animal:\n",
    "    def __init__(self, name):\n",
    "        self.name = name\n",
    "    \n",
    "    def speak(self):\n",
    "        print(f\"{self.name} makes a sound\")\n",
    "\n",
    "# Derived class (subclass)\n",
    "class Dog(Animal):\n",
    "    def __init__(self, name, breed):\n",
    "        super().__init__(name)  # Call the constructor of the base class\n",
    "        self.breed = breed\n",
    "    \n",
    "    def speak(self):\n",
    "        super().speak()  # Call the speak method of the base class\n",
    "        print(f\"{self.name} barks\")\n",
    "\n",
    "# Usage\n",
    "my_dog = Dog(name=\"Buddy\", breed=\"Golden Retriever\")\n",
    "my_dog.speak()"
   ]
  },
  {
   "cell_type": "markdown",
   "metadata": {},
   "source": [
    "**Explanation:**\n",
    "\n",
    "1. **Calling the Base Class Constructor:**\n",
    "   - In the `Dog` class constructor (`__init__` method), `super().__init__(name)` is used to call the constructor of the `Animal` class. This initializes the `name` attribute in the `Animal` class.\n",
    "\n",
    "2. **Extending Base Class Methods:**\n",
    "   - The `speak` method in the `Dog` class uses `super().speak()` to call the `speak` method of the `Animal` class. After calling the base class method, it adds additional behavior specific to the `Dog` class.\n",
    "\n",
    "### Benefits of Using `super`\n",
    "\n",
    "1. **Code Reusability:**\n",
    "   - By calling methods and constructors from the base class, you can reuse existing functionality and avoid redundant code.\n",
    "\n",
    "2. **Maintainability:**\n",
    "   - Using `super()` makes it easier to maintain and modify code, as it abstracts away direct references to the parent class. If you later change the base class or its name, the code in derived classes remains correct.\n",
    "\n",
    "3. **Support for Multiple Inheritance:**\n",
    "   - In languages that support multiple inheritance (like Python), `super()` helps ensure that the correct methods are called in the correct order, thanks to the method resolution order (MRO).\n",
    "\n",
    "### Summary\n",
    "\n",
    "The `super` keyword is a powerful tool in inheritance, enabling derived classes to call and extend methods and constructors of their parent classes. It promotes code reuse, improves maintainability, and supports complex class hierarchies in an organized manner."
   ]
  },
  {
   "cell_type": "code",
   "execution_count": null,
   "metadata": {},
   "outputs": [],
   "source": []
  },
  {
   "cell_type": "markdown",
   "metadata": {},
   "source": [
    "## 6. Create a base class called \"Vehicle\" with attributes like \"make\", \"model\", and \"year\". Then, create a derived class called \"Car\" that inherits from \"Vehicle\" and adds an attribute called \"fuel_type\". Implement appropriate methods in both classes.\n"
   ]
  },
  {
   "cell_type": "markdown",
   "metadata": {},
   "source": [
    "Let’s create a base class called `Vehicle` with attributes `make`, `model`, and `year`. We will then create a derived class `Car` that inherits from `Vehicle` and adds an additional attribute called `fuel_type`. We will also implement appropriate methods in both classes.\n",
    "\n",
    "Here’s how you can define these classes in Python:"
   ]
  },
  {
   "cell_type": "code",
   "execution_count": 14,
   "metadata": {},
   "outputs": [
    {
     "name": "stdout",
     "output_type": "stream",
     "text": [
      "2024 Toyota Camry, Fuel Type: Gasoline\n",
      "The Gasoline engine of the 2024 Toyota Camry, Fuel Type: Gasoline is starting.\n"
     ]
    }
   ],
   "source": [
    "# Base class\n",
    "class Vehicle:\n",
    "    def __init__(self, make, model, year):\n",
    "        self.make = make\n",
    "        self.model = model\n",
    "        self.year = year\n",
    "\n",
    "    def display_info(self):\n",
    "        return f\"{self.year} {self.make} {self.model}\"\n",
    "\n",
    "    def start_engine(self):\n",
    "        return f\"The engine of the {self.display_info()} is starting.\"\n",
    "\n",
    "# Derived class\n",
    "class Car(Vehicle):\n",
    "    def __init__(self, make, model, year, fuel_type):\n",
    "        super().__init__(make, model, year)  # Call the constructor of the base class\n",
    "        self.fuel_type = fuel_type\n",
    "\n",
    "    def display_info(self):\n",
    "        # Override the base class method to include fuel type\n",
    "        base_info = super().display_info()\n",
    "        return f\"{base_info}, Fuel Type: {self.fuel_type}\"\n",
    "\n",
    "    def start_engine(self):\n",
    "        # Optionally, override the base class method if needed\n",
    "        return f\"The {self.fuel_type} engine of the {self.display_info()} is starting.\"\n",
    "\n",
    "# Example usage\n",
    "my_car = Car(make=\"Toyota\", model=\"Camry\", year=2024, fuel_type=\"Gasoline\")\n",
    "\n",
    "print(my_car.display_info()) \n",
    "print(my_car.start_engine()) "
   ]
  },
  {
   "cell_type": "markdown",
   "metadata": {},
   "source": [
    "### Explanation\n",
    "\n",
    "1. **Base Class `Vehicle`:**\n",
    "   - **`__init__` Method:** Initializes the `make`, `model`, and `year` attributes.\n",
    "   - **`display_info` Method:** Returns a string that combines the `year`, `make`, and `model` of the vehicle.\n",
    "   - **`start_engine` Method:** Returns a string indicating that the engine of the vehicle is starting.\n",
    "\n",
    "2. **Derived Class `Car`:**\n",
    "   - **`__init__` Method:** Calls the `__init__` method of the base class using `super()` to initialize the `make`, `model`, and `year`. It also initializes the `fuel_type` attribute.\n",
    "   - **`display_info` Method:** Overrides the `display_info` method of the base class to include the `fuel_type` in the returned string.\n",
    "   - **`start_engine` Method:** Optionally overrides the `start_engine` method to include the `fuel_type` in the returned string.\n",
    "\n",
    "### Usage\n",
    "\n",
    "When you create an instance of `Car`, you can use the methods from both `Vehicle` and `Car`. The `display_info` method in `Car` extends the functionality of the base class by including additional information about the fuel type. Similarly, the `start_engine` method in `Car` can provide more specific information about the type of engine starting."
   ]
  },
  {
   "cell_type": "code",
   "execution_count": null,
   "metadata": {},
   "outputs": [],
   "source": []
  },
  {
   "cell_type": "markdown",
   "metadata": {},
   "source": [
    "## 7. Create a base class called \"Employee\" with attributes like \"name\" and \"salary.\" Derive two classes, \"Manager\" and \"Developer,\" from \"Employee.\" Add an additional attribute called \"department\" for the \"Manager\" class and \"programming_language\" for the \"Developer\" class."
   ]
  },
  {
   "cell_type": "markdown",
   "metadata": {},
   "source": [
    "Below is the implementation of the `Employee` base class and the derived classes `Manager` and `Developer`, with the specified attributes and methods.\n",
    "\n",
    "### Base Class: `Employee`\n",
    "\n",
    "The `Employee` class will have attributes for `name` and `salary`, and a method to display basic information about the employee.\n",
    "\n",
    "### Derived Classes: `Manager` and `Developer`\n",
    "\n",
    "- **`Manager`** will inherit from `Employee` and add an additional attribute for `department`.\n",
    "- **`Developer`** will inherit from `Employee` and add an additional attribute for `programming_language`.\n",
    "\n",
    "Here’s the Python code that implements these classes:"
   ]
  },
  {
   "cell_type": "code",
   "execution_count": 9,
   "metadata": {},
   "outputs": [
    {
     "name": "stdout",
     "output_type": "stream",
     "text": [
      "Name: Alice Smith, Salary: $90000.00, Department: Sales\n",
      "Name: Bob Johnson, Salary: $85000.00, Programming Language: Python\n"
     ]
    }
   ],
   "source": [
    "# Base class\n",
    "class Employee:\n",
    "    def __init__(self, name, salary):\n",
    "        self.name = name\n",
    "        self.salary = salary\n",
    "\n",
    "    def display_info(self):\n",
    "        return f\"Name: {self.name}, Salary: {self.salary:.2f}\"\n",
    "\n",
    "# Derived class Manager\n",
    "class Manager(Employee):\n",
    "    def __init__(self, name, salary, department):\n",
    "        super().__init__(name, salary)  # Initialize base class attributes\n",
    "        self.department = department\n",
    "\n",
    "    def display_info(self):\n",
    "        base_info = super().display_info()  # Get base class info\n",
    "        return f\"{base_info}, Department: {self.department}\"\n",
    "\n",
    "# Derived class Developer\n",
    "class Developer(Employee):\n",
    "    def __init__(self, name, salary, programming_language):\n",
    "        super().__init__(name, salary)  # Initialize base class attributes\n",
    "        self.programming_language = programming_language\n",
    "\n",
    "    def display_info(self):\n",
    "        base_info = super().display_info()  # Get base class info\n",
    "        return f\"{base_info}, Programming Language: {self.programming_language}\"\n",
    "\n",
    "# Example usage\n",
    "manager = Manager(name=\"Alice Smith\", salary=90000, department=\"Sales\")\n",
    "developer = Developer(name=\"Bob Johnson\", salary=85000, programming_language=\"Python\")\n",
    "\n",
    "print(manager.display_info())  \n",
    "print(developer.display_info())\n"
   ]
  },
  {
   "cell_type": "markdown",
   "metadata": {},
   "source": [
    "### Explanation\n",
    "\n",
    "1. **Base Class `Employee`:**\n",
    "   - **`__init__` Method:** Initializes `name` and `salary` attributes.\n",
    "   - **`display_info` Method:** Returns a string with the employee's name and salary.\n",
    "\n",
    "2. **Derived Class `Manager`:**\n",
    "   - **`__init__` Method:** Calls the base class constructor using `super()` to initialize `name` and `salary`. It also initializes the `department` attribute.\n",
    "   - **`display_info` Method:** Overrides the base class `display_info` method to include the department information.\n",
    "\n",
    "3. **Derived Class `Developer`:**\n",
    "   - **`__init__` Method:** Calls the base class constructor using `super()` to initialize `name` and `salary`. It also initializes the `programming_language` attribute.\n",
    "   - **`display_info` Method:** Overrides the base class `display_info` method to include the programming language information.\n",
    "\n",
    "### Usage\n",
    "\n",
    "The example usage creates instances of `Manager` and `Developer` and displays their information using the `display_info` method, which provides details about the employee including any additional attributes specific to the derived class.\n",
    "\n",
    "This design effectively demonstrates how inheritance allows you to extend functionality from a base class while adding specialized attributes and methods in derived classes."
   ]
  },
  {
   "cell_type": "code",
   "execution_count": null,
   "metadata": {},
   "outputs": [],
   "source": []
  },
  {
   "cell_type": "markdown",
   "metadata": {},
   "source": [
    "## 8. Design a base class called \"Shape\" with attributes like \"colour\" and \"border_width.\" Create derived classes, \"Rectangle\" and \"Circle,\" that inherit from \"Shape\" and add specific attributes like \"length\" and \"width\" for the \"Rectangle\" class and \"radius\" for the \"Circle\" class.\n"
   ]
  },
  {
   "cell_type": "markdown",
   "metadata": {},
   "source": [
    "Let’s design a base class `Shape` with attributes `colour` and `border_width`. We’ll then create two derived classes, `Rectangle` and `Circle`, that inherit from `Shape` and add their specific attributes:\n",
    "\n",
    "- **`Rectangle`** will have `length` and `width` attributes.\n",
    "- **`Circle`** will have a `radius` attribute.\n",
    "\n",
    "We will also implement methods to display the information about each shape, and methods to calculate the area of each shape for added functionality.\n",
    "\n",
    "Here’s how you can implement these classes in Python:"
   ]
  },
  {
   "cell_type": "code",
   "execution_count": 10,
   "metadata": {},
   "outputs": [
    {
     "name": "stdout",
     "output_type": "stream",
     "text": [
      "Colour: Blue, Border Width: 2, Length: 10, Width: 5\n",
      "Area of rectangle: 50\n",
      "Colour: Red, Border Width: 1, Radius: 7\n",
      "Area of circle: 153.93804002589985\n"
     ]
    }
   ],
   "source": [
    "import math\n",
    "\n",
    "# Base class\n",
    "class Shape:\n",
    "    def __init__(self, colour, border_width):\n",
    "        self.colour = colour\n",
    "        self.border_width = border_width\n",
    "\n",
    "    def display_info(self):\n",
    "        return f\"Colour: {self.colour}, Border Width: {self.border_width}\"\n",
    "\n",
    "# Derived class Rectangle\n",
    "class Rectangle(Shape):\n",
    "    def __init__(self, colour, border_width, length, width):\n",
    "        super().__init__(colour, border_width)  # Initialize base class attributes\n",
    "        self.length = length\n",
    "        self.width = width\n",
    "\n",
    "    def display_info(self):\n",
    "        base_info = super().display_info()  # Get base class info\n",
    "        return f\"{base_info}, Length: {self.length}, Width: {self.width}\"\n",
    "\n",
    "    def area(self):\n",
    "        return self.length * self.width\n",
    "\n",
    "# Derived class Circle\n",
    "class Circle(Shape):\n",
    "    def __init__(self, colour, border_width, radius):\n",
    "        super().__init__(colour, border_width)  # Initialize base class attributes\n",
    "        self.radius = radius\n",
    "\n",
    "    def display_info(self):\n",
    "        base_info = super().display_info()  # Get base class info\n",
    "        return f\"{base_info}, Radius: {self.radius}\"\n",
    "\n",
    "    def area(self):\n",
    "        return math.pi * (self.radius ** 2)\n",
    "\n",
    "# Example usage\n",
    "rectangle = Rectangle(colour=\"Blue\", border_width=2, length=10, width=5)\n",
    "circle = Circle(colour=\"Red\", border_width=1, radius=7)\n",
    "\n",
    "print(rectangle.display_info()) \n",
    "print(f\"Area of rectangle: {rectangle.area()}\")\n",
    "\n",
    "print(circle.display_info())    \n",
    "print(f\"Area of circle: {circle.area()}\")  "
   ]
  },
  {
   "cell_type": "markdown",
   "metadata": {},
   "source": [
    "### Explanation\n",
    "\n",
    "1. **Base Class `Shape`:**\n",
    "   - **`__init__` Method:** Initializes the `colour` and `border_width` attributes.\n",
    "   - **`display_info` Method:** Returns a string with the shape’s colour and border width.\n",
    "\n",
    "2. **Derived Class `Rectangle`:**\n",
    "   - **`__init__` Method:** Initializes `colour` and `border_width` using `super()`, and adds `length` and `width` attributes.\n",
    "   - **`display_info` Method:** Extends the base class `display_info` to include the rectangle’s length and width.\n",
    "   - **`area` Method:** Calculates the area of the rectangle as `length * width`.\n",
    "\n",
    "3. **Derived Class `Circle`:**\n",
    "   - **`__init__` Method:** Initializes `colour` and `border_width` using `super()`, and adds a `radius` attribute.\n",
    "   - **`display_info` Method:** Extends the base class `display_info` to include the circle’s radius.\n",
    "   - **`area` Method:** Calculates the area of the circle using the formula `π * radius^2`.\n",
    "\n",
    "### Usage\n",
    "\n",
    "- **`Rectangle`** and **`Circle`** classes inherit common attributes and methods from the `Shape` class.\n",
    "- Each derived class adds its specific attributes and methods, such as calculating the area of the shape.\n",
    "- The `display_info` method in each derived class builds upon the base class method to include shape-specific information.\n",
    "\n",
    "This approach demonstrates how inheritance allows for extending and specializing functionality in derived classes while sharing common features defined in the base class."
   ]
  },
  {
   "cell_type": "code",
   "execution_count": null,
   "metadata": {},
   "outputs": [],
   "source": []
  },
  {
   "cell_type": "markdown",
   "metadata": {},
   "source": [
    "## 9. Create a base class called \"Device\" with attributes like \"brand\" and \"model.\" Derive two classes, \"Phone\" and \"Tablet,\" from \"Device.\" Add specific attributes like \"screen_size\" for the \"Phone\" class and \"battery_capacity\" for the \"Tablet\" class."
   ]
  },
  {
   "cell_type": "markdown",
   "metadata": {},
   "source": [
    "Let's design a base class called `Device` with the attributes `brand` and `model`. We'll then create two derived classes, `Phone` and `Tablet`, that inherit from `Device` and add their specific attributes:\n",
    "\n",
    "- **`Phone`** will have an additional attribute called `screen_size`.\n",
    "- **`Tablet`** will have an additional attribute called `battery_capacity`.\n",
    "\n",
    "We'll also include methods to display information about each device.\n",
    "\n",
    "Here’s the Python code to implement these classes:"
   ]
  },
  {
   "cell_type": "code",
   "execution_count": 11,
   "metadata": {},
   "outputs": [
    {
     "name": "stdout",
     "output_type": "stream",
     "text": [
      "Brand: Samsung, Model: Galaxy S23, Screen Size: 6.4 inches\n",
      "Brand: Apple, Model: iPad Pro, Battery Capacity: 8600 mAh\n"
     ]
    }
   ],
   "source": [
    "# Base class\n",
    "class Device:\n",
    "    def __init__(self, brand, model):\n",
    "        self.brand = brand\n",
    "        self.model = model\n",
    "\n",
    "    def display_info(self):\n",
    "        return f\"Brand: {self.brand}, Model: {self.model}\"\n",
    "\n",
    "# Derived class Phone\n",
    "class Phone(Device):\n",
    "    def __init__(self, brand, model, screen_size):\n",
    "        super().__init__(brand, model)  # Initialize base class attributes\n",
    "        self.screen_size = screen_size\n",
    "\n",
    "    def display_info(self):\n",
    "        base_info = super().display_info()  # Get base class info\n",
    "        return f\"{base_info}, Screen Size: {self.screen_size} inches\"\n",
    "\n",
    "# Derived class Tablet\n",
    "class Tablet(Device):\n",
    "    def __init__(self, brand, model, battery_capacity):\n",
    "        super().__init__(brand, model)  # Initialize base class attributes\n",
    "        self.battery_capacity = battery_capacity\n",
    "\n",
    "    def display_info(self):\n",
    "        base_info = super().display_info()  # Get base class info\n",
    "        return f\"{base_info}, Battery Capacity: {self.battery_capacity} mAh\"\n",
    "\n",
    "# Example usage\n",
    "phone = Phone(brand=\"Samsung\", model=\"Galaxy S23\", screen_size=6.4)\n",
    "tablet = Tablet(brand=\"Apple\", model=\"iPad Pro\", battery_capacity=8600)\n",
    "\n",
    "print(phone.display_info()) \n",
    "print(tablet.display_info())   "
   ]
  },
  {
   "cell_type": "markdown",
   "metadata": {},
   "source": [
    "### Explanation\n",
    "\n",
    "1. **Base Class `Device`:**\n",
    "   - **`__init__` Method:** Initializes `brand` and `model` attributes.\n",
    "   - **`display_info` Method:** Returns a string with the brand and model of the device.\n",
    "\n",
    "2. **Derived Class `Phone`:**\n",
    "   - **`__init__` Method:** Calls the base class constructor using `super()` to initialize `brand` and `model`. It also initializes the `screen_size` attribute.\n",
    "   - **`display_info` Method:** Overrides the base class `display_info` method to include the phone’s screen size.\n",
    "\n",
    "3. **Derived Class `Tablet`:**\n",
    "   - **`__init__` Method:** Calls the base class constructor using `super()` to initialize `brand` and `model`. It also initializes the `battery_capacity` attribute.\n",
    "   - **`display_info` Method:** Overrides the base class `display_info` method to include the tablet’s battery capacity.\n",
    "\n",
    "### Usage\n",
    "\n",
    "- **`Phone`** and **`Tablet`** inherit common attributes from the `Device` class and add their specific attributes.\n",
    "- The `display_info` method in each derived class extends the base class method to include device-specific information, such as `screen_size` for phones and `battery_capacity` for tablets.\n",
    "\n",
    "This structure demonstrates how inheritance allows you to build upon common functionality while adding specific features relevant to derived classes."
   ]
  },
  {
   "cell_type": "code",
   "execution_count": null,
   "metadata": {},
   "outputs": [],
   "source": []
  },
  {
   "cell_type": "markdown",
   "metadata": {},
   "source": [
    "## 10. Create a base class called \"BankAccount\" with attributes like \"account_number\" and \"balance.\" Derive two classes, \"SavingsAccount\" and \"CheckingAccount,\" from \"BankAccount.\" Add specific methods like \"calculate_interest\" for the \"SavingsAccount\" class and \"deduct_fees\" for the \"CheckingAccount\" class."
   ]
  },
  {
   "cell_type": "markdown",
   "metadata": {},
   "source": [
    "Let’s create a base class called `BankAccount` with attributes `account_number` and `balance`. We will then derive two classes, `SavingsAccount` and `CheckingAccount`, from `BankAccount` and add specific methods for each derived class:\n",
    "\n",
    "- **`SavingsAccount`** will have a method to calculate interest.\n",
    "- **`CheckingAccount`** will have a method to deduct fees.\n",
    "\n",
    "Here’s the Python code that implements these classes:"
   ]
  },
  {
   "cell_type": "code",
   "execution_count": 13,
   "metadata": {},
   "outputs": [
    {
     "name": "stdout",
     "output_type": "stream",
     "text": [
      "Account Number: 123456789, Balance: $1000.00, Interest Rate: 2.5%\n",
      "Interest earned: $25.00\n",
      "Account Number: 987654321, Balance: $500.00, Monthly Fee: $10.00\n",
      "Monthly fee of $10.00 deducted. New balance: $490.00\n"
     ]
    }
   ],
   "source": [
    "# Base class\n",
    "class BankAccount:\n",
    "    def __init__(self, account_number, balance):\n",
    "        self.account_number = account_number\n",
    "        self.balance = balance\n",
    "\n",
    "    def deposit(self, amount):\n",
    "        if amount > 0:\n",
    "            self.balance += amount\n",
    "            return f\"Deposited ${amount:.2f}. New balance: ${self.balance:.2f}\"\n",
    "        return \"Deposit amount must be positive.\"\n",
    "\n",
    "    def withdraw(self, amount):\n",
    "        if amount > 0 and amount <= self.balance:\n",
    "            self.balance -= amount\n",
    "            return f\"Withdrew ${amount:.2f}. New balance: ${self.balance:.2f}\"\n",
    "        elif amount > self.balance:\n",
    "            return \"Insufficient funds.\"\n",
    "        return \"Withdrawal amount must be positive.\"\n",
    "\n",
    "    def display_info(self):\n",
    "        return f\"Account Number: {self.account_number}, Balance: ${self.balance:.2f}\"\n",
    "\n",
    "# Derived class SavingsAccount\n",
    "class SavingsAccount(BankAccount):\n",
    "    def __init__(self, account_number, balance, interest_rate):\n",
    "        super().__init__(account_number, balance)  # Initialize base class attributes\n",
    "        self.interest_rate = interest_rate\n",
    "\n",
    "    def calculate_interest(self):\n",
    "        interest = self.balance * (self.interest_rate / 100)\n",
    "        return f\"Interest earned: ${interest:.2f}\"\n",
    "\n",
    "    def display_info(self):\n",
    "        base_info = super().display_info()  # Get base class info\n",
    "        return f\"{base_info}, Interest Rate: {self.interest_rate}%\"\n",
    "\n",
    "# Derived class CheckingAccount\n",
    "class CheckingAccount(BankAccount):\n",
    "    def __init__(self, account_number, balance, monthly_fee):\n",
    "        super().__init__(account_number, balance)  # Initialize base class attributes\n",
    "        self.monthly_fee = monthly_fee\n",
    "\n",
    "    def deduct_fees(self):\n",
    "        if self.balance >= self.monthly_fee:\n",
    "            self.balance -= self.monthly_fee\n",
    "            return f\"Monthly fee of ${self.monthly_fee:.2f} deducted. New balance: ${self.balance:.2f}\"\n",
    "        return \"Insufficient funds to deduct the monthly fee.\"\n",
    "\n",
    "    def display_info(self):\n",
    "        base_info = super().display_info()  # Get base class info\n",
    "        return f\"{base_info}, Monthly Fee: ${self.monthly_fee:.2f}\"\n",
    "\n",
    "# Example usage\n",
    "savings_account = SavingsAccount(account_number=\"123456789\", balance=1000, interest_rate=2.5)\n",
    "checking_account = CheckingAccount(account_number=\"987654321\", balance=500, monthly_fee=10)\n",
    "\n",
    "print(savings_account.display_info()) \n",
    "print(savings_account.calculate_interest())  \n",
    "\n",
    "print(checking_account.display_info())   \n",
    "print(checking_account.deduct_fees())    "
   ]
  },
  {
   "cell_type": "markdown",
   "metadata": {},
   "source": [
    "### Explanation\n",
    "\n",
    "1. **Base Class `BankAccount`:**\n",
    "   - **`__init__` Method:** Initializes `account_number` and `balance` attributes.\n",
    "   - **`deposit` Method:** Adds funds to the account balance.\n",
    "   - **`withdraw` Method:** Withdraws funds from the account balance.\n",
    "   - **`display_info` Method:** Returns a string with the account number and balance.\n",
    "\n",
    "2. **Derived Class `SavingsAccount`:**\n",
    "   - **`__init__` Method:** Initializes `account_number`, `balance`, and `interest_rate` using `super()` to call the base class constructor.\n",
    "   - **`calculate_interest` Method:** Calculates the interest based on the balance and interest rate.\n",
    "   - **`display_info` Method:** Extends the base class `display_info` method to include the interest rate.\n",
    "\n",
    "3. **Derived Class `CheckingAccount`:**\n",
    "   - **`__init__` Method:** Initializes `account_number`, `balance`, and `monthly_fee` using `super()` to call the base class constructor.\n",
    "   - **`deduct_fees` Method:** Deducts a monthly fee from the account balance if sufficient funds are available.\n",
    "   - **`display_info` Method:** Extends the base class `display_info` method to include the monthly fee.\n",
    "\n",
    "### Usage\n",
    "\n",
    "- **`SavingsAccount`** and **`CheckingAccount`** classes inherit from `BankAccount` and add their specific features.\n",
    "- Methods such as `calculate_interest` and `deduct_fees` provide additional functionality specific to each account type.\n",
    "- The `display_info` method in each derived class includes relevant additional information beyond the basic account details.\n",
    "\n",
    "This approach effectively demonstrates how inheritance allows for extending and customizing functionality in derived classes while leveraging shared functionality from the base class."
   ]
  },
  {
   "cell_type": "code",
   "execution_count": null,
   "metadata": {},
   "outputs": [],
   "source": []
  },
  {
   "cell_type": "markdown",
   "metadata": {},
   "source": [
    "<i>\"Thank you for exploring all the way to the end of my page!\"</i>\n",
    "\n",
    "<p>\n",
    "regards, <br>\n",
    "<a href=\"https:www.github.com/Rahul-404/\">Rahul Shelke</a>\n",
    "</p>"
   ]
  }
 ],
 "metadata": {
  "kernelspec": {
   "display_name": "base",
   "language": "python",
   "name": "python3"
  },
  "language_info": {
   "codemirror_mode": {
    "name": "ipython",
    "version": 3
   },
   "file_extension": ".py",
   "mimetype": "text/x-python",
   "name": "python",
   "nbconvert_exporter": "python",
   "pygments_lexer": "ipython3",
   "version": "3.11.7"
  }
 },
 "nbformat": 4,
 "nbformat_minor": 2
}
