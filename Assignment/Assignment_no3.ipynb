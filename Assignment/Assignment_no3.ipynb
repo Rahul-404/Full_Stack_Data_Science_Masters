{
 "cells": [
  {
   "cell_type": "markdown",
   "id": "bada3f7b-8d6d-4f77-8f08-1a777c25742d",
   "metadata": {},
   "source": [
    "**1]** What is the purpose of the map function in Python?"
   ]
  },
  {
   "cell_type": "code",
   "execution_count": null,
   "id": "8612d5cc-2078-4538-aa5e-b1402862a8a9",
   "metadata": {},
   "outputs": [],
   "source": []
  },
  {
   "cell_type": "markdown",
   "id": "eeb10153-4d30-4ea1-b5e8-7d3d2bd1287a",
   "metadata": {},
   "source": [
    "**2]** How can you use the filter function in Python to extract even numbers from a list ?"
   ]
  },
  {
   "cell_type": "code",
   "execution_count": null,
   "id": "bc3a66e3-e02c-4a9e-b2cd-26c0124fb61e",
   "metadata": {},
   "outputs": [],
   "source": []
  },
  {
   "cell_type": "markdown",
   "id": "ff4e5ddb-e51e-405a-959c-4b1ea1bdbcb3",
   "metadata": {},
   "source": [
    "**3]** In MongoDB. how does the 'find' method work when querying documents from a collection ?"
   ]
  },
  {
   "cell_type": "code",
   "execution_count": null,
   "id": "9d4ede2d-3bb4-4011-abb7-4793a57ebc45",
   "metadata": {},
   "outputs": [],
   "source": []
  },
  {
   "cell_type": "markdown",
   "id": "53277bcf-49a6-409d-90bc-43ac65f7ca2d",
   "metadata": {},
   "source": [
    "**4]** Explain the concept of reduce function in Python with an example."
   ]
  },
  {
   "cell_type": "code",
   "execution_count": null,
   "id": "8e583efb-36e5-40c0-9173-3f4abc1f1388",
   "metadata": {},
   "outputs": [],
   "source": []
  },
  {
   "cell_type": "markdown",
   "id": "2b2da248-4b01-45e9-8505-232b9823c63a",
   "metadata": {},
   "source": [
    "**5]** What are the advantages of using map, filte and reduce functions in Python over tarditional for loops?"
   ]
  },
  {
   "cell_type": "code",
   "execution_count": null,
   "id": "72a107d2-9ac1-49cf-8e01-1fdf98aae0f3",
   "metadata": {},
   "outputs": [],
   "source": []
  },
  {
   "cell_type": "markdown",
   "id": "078e399d-54ac-49cf-9018-68122e5109c0",
   "metadata": {},
   "source": [
    "**6]** How can you use the map function to apply a transformation to each element of a list in Python?"
   ]
  },
  {
   "cell_type": "code",
   "execution_count": null,
   "id": "7b0cad3a-4bf5-4973-b12f-a065c679745d",
   "metadata": {},
   "outputs": [],
   "source": []
  },
  {
   "cell_type": "markdown",
   "id": "233f1aa8-e929-47b5-8852-81edd1e63bfc",
   "metadata": {},
   "source": [
    "**7]** Explain the syntax for inserting a document into a MongoDB collection using PyMongo in Python. "
   ]
  },
  {
   "cell_type": "code",
   "execution_count": null,
   "id": "b52aac6a-f44f-402e-90ed-437835f9ed6e",
   "metadata": {},
   "outputs": [],
   "source": []
  },
  {
   "cell_type": "markdown",
   "id": "d52a8987-9392-4bb1-80f0-8b8c3521ef46",
   "metadata": {},
   "source": [
    "**8]** What is the role of the aggregation framework in MongoDB, and how is it useful in data analysis?"
   ]
  },
  {
   "cell_type": "code",
   "execution_count": null,
   "id": "9081e635-b1cc-4b78-b225-7c78278d7ac5",
   "metadata": {},
   "outputs": [],
   "source": []
  },
  {
   "cell_type": "markdown",
   "id": "285fafca-fe16-479c-a25a-e193d280d31c",
   "metadata": {},
   "source": [
    "**9]** Write a Python code snippet to filet out all the strings containing the letter 'a' from a list of strings using the filetr function."
   ]
  },
  {
   "cell_type": "code",
   "execution_count": null,
   "id": "09f180d8-1f3f-4a83-92d7-60c303fc3def",
   "metadata": {},
   "outputs": [],
   "source": []
  },
  {
   "cell_type": "markdown",
   "id": "df6acb7b-3cca-4627-b4fa-a58d0f4e85ba",
   "metadata": {},
   "source": [
    "**10]** Discuss the concept of sharing in MongoDB and its significance in managing large datasets."
   ]
  },
  {
   "cell_type": "code",
   "execution_count": null,
   "id": "f111fdfb-2144-401e-b94c-b9f676650357",
   "metadata": {},
   "outputs": [],
   "source": []
  },
  {
   "cell_type": "markdown",
   "id": "f83761a6-27b2-4e17-bd5e-ddd138ba8d20",
   "metadata": {},
   "source": [
    "**11]** Explain the difference between the map and filter functions in Python with examples."
   ]
  },
  {
   "cell_type": "code",
   "execution_count": null,
   "id": "b75421af-5328-46b1-ba5b-0b54e8e5520b",
   "metadata": {},
   "outputs": [],
   "source": []
  },
  {
   "cell_type": "markdown",
   "id": "03866896-809e-4aa8-a0ec-886a177f208b",
   "metadata": {},
   "source": [
    "**12]** Whta are the common use cases for the reduce function in Python?"
   ]
  },
  {
   "cell_type": "code",
   "execution_count": null,
   "id": "582882e7-28f1-497b-bd26-7f02e4827bbc",
   "metadata": {},
   "outputs": [],
   "source": []
  },
  {
   "cell_type": "markdown",
   "id": "5088f9fd-f2c4-4817-b75c-5efa1a49292c",
   "metadata": {},
   "source": [
    "**13]** How can you use the map function to create a new list of squares from a given list of numbers in Python ?"
   ]
  },
  {
   "cell_type": "code",
   "execution_count": null,
   "id": "d3431fe0-dac6-4c5a-a764-2d002ec6baa4",
   "metadata": {},
   "outputs": [],
   "source": []
  },
  {
   "cell_type": "markdown",
   "id": "6dc4884c-463b-469d-a531-481bf27a239a",
   "metadata": {},
   "source": [
    "**14]** Discuss the role of the 'upsert' option in the update_many method in PyMongo for MongoDB."
   ]
  },
  {
   "cell_type": "code",
   "execution_count": null,
   "id": "555587e9-0e5d-43db-8011-295b45332ec2",
   "metadata": {},
   "outputs": [],
   "source": []
  }
 ],
 "metadata": {
  "kernelspec": {
   "display_name": "Python 3 (ipykernel)",
   "language": "python",
   "name": "python3"
  },
  "language_info": {
   "codemirror_mode": {
    "name": "ipython",
    "version": 3
   },
   "file_extension": ".py",
   "mimetype": "text/x-python",
   "name": "python",
   "nbconvert_exporter": "python",
   "pygments_lexer": "ipython3",
   "version": "3.11.7"
  }
 },
 "nbformat": 4,
 "nbformat_minor": 5
}
