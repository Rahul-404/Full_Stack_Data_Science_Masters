{
 "cells": [
  {
   "cell_type": "markdown",
   "id": "7e94a565",
   "metadata": {},
   "source": [
    "<h1 align=\"center\">Assignment no: 1</h1>"
   ]
  },
  {
   "cell_type": "markdown",
   "id": "2f04de67-e222-4bb8-b72e-f8c4b9ab0163",
   "metadata": {},
   "source": [
    "## **1]** what is the output of the following code ?\n",
    "\n",
    "```python\n",
    "my_string = 'hello'\n",
    "print(my_string[1:3])\n",
    "```"
   ]
  },
  {
   "cell_type": "code",
   "execution_count": 1,
   "id": "c38c2806-1090-4391-81e7-e78eaaf74b13",
   "metadata": {},
   "outputs": [],
   "source": [
    "my_string = 'hello'"
   ]
  },
  {
   "cell_type": "code",
   "execution_count": 2,
   "id": "23706706-2cad-4f62-b60d-ce16053183fe",
   "metadata": {},
   "outputs": [
    {
     "name": "stdout",
     "output_type": "stream",
     "text": [
      "el\n"
     ]
    }
   ],
   "source": [
    "print(my_string[1:3])"
   ]
  },
  {
   "cell_type": "markdown",
   "id": "d65b95e1-fcdc-4f23-9bef-625efa497288",
   "metadata": {},
   "source": [
    "The code snippet `my_string = 'hello'` initializes a string variable `my_string` with the value `'hello'`. \n",
    "\n",
    "Next, `print(my_string[1:3])` is used to slice the string `my_string` from index 1 up to (but not including) index 3.\n",
    "\n",
    "Let's break down the slicing:\n",
    "- Index 1 in the string `'hello'` corresponds to the character `'e'`.\n",
    "- Index 3 corresponds to the character `'l'`.\n",
    "\n",
    "Therefore, `my_string[1:3]` extracts characters from index 1 to index 2 (up to, but not including index 3).\n",
    "\n",
    "So, the output of `print(my_string[1:3])` will be `'el'`. \n",
    "\n",
    "Thus, the output of the code is:\n",
    "```\n",
    "el\n",
    "```"
   ]
  },
  {
   "cell_type": "markdown",
   "id": "f0539e47-98b5-4aa2-a143-536237a4a453",
   "metadata": {},
   "source": [
    "## **2]** How can you check if a particular element exists in a list in Python?\n",
    "provide an example."
   ]
  },
  {
   "cell_type": "markdown",
   "id": "f1acd56c-aa39-4dc0-bd62-3c30cc86224b",
   "metadata": {},
   "source": [
    "```python\n",
    "# Example list\n",
    "my_list = [1, 2, 3, 4, 5]\n",
    "\n",
    "# Check if element exists in the list\n",
    "element_to_find = 3\n",
    "if element_to_find in my_list:\n",
    "    print(f\"{element_to_find} exists in the list.\")\n",
    "else:\n",
    "    print(f\"{element_to_find} does not exist in the list.\")\n",
    "```\n",
    "\n",
    "In this example:\n",
    "- `my_list` is a list containing integers `[1, 2, 3, 4, 5]`.\n",
    "- We want to check if the element `3` exists in the list.\n",
    "- The condition `element_to_find in my_list` checks if `3` is present in `my_list`.\n",
    "- If `3` is found in `my_list`, it prints \"`3 exists in the list.`\".\n",
    "- Otherwise, it prints \"`3 does not exist in the list.`\".\n",
    "\n",
    "You can replace `element_to_find` with any value you want to check for existence in the list. The `in` keyword is efficient and straightforward for checking membership in Python lists."
   ]
  },
  {
   "cell_type": "code",
   "execution_count": null,
   "id": "08fcb4cb-b0e8-4e3e-bbec-f0b3a71079ff",
   "metadata": {},
   "outputs": [],
   "source": []
  },
  {
   "cell_type": "markdown",
   "id": "9a7b8544-0a06-4159-8e81-d82807f08fa4",
   "metadata": {},
   "source": [
    "## **3]** Explain the difference between append() and extend() methods in python lists with examples."
   ]
  },
  {
   "cell_type": "markdown",
   "id": "2c4f7d44-5176-4b20-af51-0de58d01016a",
   "metadata": {},
   "source": [
    "In Python, both `append()` and `extend()` are methods used to add elements to a list, but they differ in how they add those elements and the types of arguments they accept.\n",
    "\n",
    "### append() Method\n",
    "\n",
    "The `append()` method is used to add a single element to the end of a list. It takes exactly one argument, which can be any data type, including another list (which would be added as a single element at the end of the list).\n",
    "\n",
    "**Syntax:**\n",
    "```python\n",
    "list.append(element)\n",
    "```\n",
    "\n",
    "- `element`: The element to be added to the list.\n",
    "\n",
    "**Example:**\n",
    "\n",
    "```python\n",
    "my_list = [1, 2, 3]\n",
    "my_list.append(4)\n",
    "print(my_list)  # Output: [1, 2, 3, 4]\n",
    "\n",
    "# Append another list as a single element\n",
    "another_list = [5, 6]\n",
    "my_list.append(another_list)\n",
    "print(my_list)  # Output: [1, 2, 3, 4, [5, 6]]\n",
    "```\n",
    "\n",
    "In the first `append()` example, `4` is added to the end of `my_list`. In the second example, `another_list` (which is `[5, 6]`) is added as a single element to `my_list`.\n",
    "\n",
    "### extend() Method\n",
    "\n",
    "The `extend()` method is used to add elements from an iterable (such as a list, tuple, set, string etc.) to the end of the list. It takes exactly one argument, which must be an iterable.\n",
    "\n",
    "**Syntax:**\n",
    "```python\n",
    "list.extend(iterable)\n",
    "```\n",
    "\n",
    "- `iterable`: An iterable (like a list, tuple, set, string) whose elements will be added to the list.\n",
    "\n",
    "**Example:**\n",
    "\n",
    "```python\n",
    "my_list = [1, 2, 3]\n",
    "another_list = [4, 5]\n",
    "my_list.extend(another_list)\n",
    "print(my_list)  # Output: [1, 2, 3, 4, 5]\n",
    "\n",
    "# Extend with a string (which is an iterable of characters)\n",
    "my_list.extend(\"hello\")\n",
    "print(my_list)  # Output: [1, 2, 3, 4, 5, 'h', 'e', 'l', 'l', 'o']\n",
    "```\n",
    "\n",
    "In the first `extend()` example, `[4, 5]` (elements of `another_list`) are added individually to the end of `my_list`. In the second example, the string `\"hello\"` is an iterable of characters, so each character is added to `my_list` individually.\n",
    "\n",
    "### Key Differences\n",
    "\n",
    "1. **Type of Argument**:\n",
    "   - `append()` accepts a single element of any data type, including another list.\n",
    "   - `extend()` accepts an iterable (like a list, tuple, set, string) whose elements are added individually to the list.\n",
    "\n",
    "2. **Effect on the List**:\n",
    "   - `append()` adds its argument as a single element to the end of the list.\n",
    "   - `extend()` adds elements from the iterable argument to the end of the list, individually.\n",
    "\n",
    "3. **In-Place Operation**:\n",
    "   - Both methods modify the original list in-place and do not return a new list.\n",
    "\n",
    "In summary, `append()` is used to add a single element to the end of a list, while `extend()` is used to add elements from an iterable to the end of a list, effectively increasing the length of the list by the number of elements in the iterable."
   ]
  },
  {
   "cell_type": "code",
   "execution_count": null,
   "id": "a9e69e6d-517c-4106-b95d-4d701ba2de23",
   "metadata": {},
   "outputs": [],
   "source": []
  },
  {
   "cell_type": "markdown",
   "id": "cf11a8ec-0c19-48a0-9fda-5f0568b1c6a1",
   "metadata": {},
   "source": [
    "## **4]** Write a Python code to reverse a given string using slicing."
   ]
  },
  {
   "cell_type": "markdown",
   "id": "ba1dbeef-0614-4f6c-b40e-054783a4ce23",
   "metadata": {},
   "source": [
    "To reverse a given string using slicing in Python, you can use the following approach:\n",
    "\n",
    "```python\n",
    "def reverse_string(input_str):\n",
    "    return input_str[::-1]\n",
    "\n",
    "# Example usage:\n",
    "original_str = \"hello\"\n",
    "reversed_str = reverse_string(original_str)\n",
    "print(\"Original string:\", original_str)\n",
    "print(\"Reversed string:\", reversed_str)\n",
    "```\n",
    "\n",
    "In this code:\n",
    "- `input_str[::-1]` utilizes Python's slicing feature. The `[::-1]` slice notation means it starts from the end of the string and moves backwards with a step of -1, effectively reversing the string.\n",
    "- The function `reverse_string` takes `input_str` as an argument and returns its reversed version.\n",
    "- In the example usage, the string `\"hello\"` is reversed and stored in `reversed_str`, which is then printed along with the original string for comparison.\n",
    "\n",
    "When you run this code, the output will be:\n",
    "```\n",
    "Original string: hello\n",
    "Reversed string: olleh\n",
    "```\n",
    "\n",
    "This demonstrates how slicing can be efficiently used to reverse a string in Python."
   ]
  },
  {
   "cell_type": "code",
   "execution_count": null,
   "id": "1ef5d3e8-e481-46fe-8ec8-894e26138773",
   "metadata": {},
   "outputs": [],
   "source": []
  },
  {
   "cell_type": "markdown",
   "id": "d478a809-69f7-49f9-8577-db9398878b1b",
   "metadata": {},
   "source": [
    "## **5]** Consider a list: my_list = [3, 7, 2, 8, 4]. What would be the output of my_list[-2] ?"
   ]
  },
  {
   "cell_type": "markdown",
   "id": "4b4277c1-40de-4321-acb0-62e7ddc9b573",
   "metadata": {},
   "source": [
    "In Python, when you use negative indexing with lists, it refers to indexing from the end of the list. \n",
    "\n",
    "Given the list:\n",
    "```python\n",
    "my_list = [3, 7, 2, 8, 4]\n",
    "```\n",
    "\n",
    "- `my_list[-1]` refers to the last element of the list, which is `4`.\n",
    "- `my_list[-2]` refers to the second-to-last element of the list.\n",
    "\n",
    "So, in the list `my_list = [3, 7, 2, 8, 4]`:\n",
    "- `my_list[-1]` is `4`.\n",
    "- `my_list[-2]` is `8`.\n",
    "\n",
    "Therefore, the output of `my_list[-2]` would be `8`."
   ]
  },
  {
   "cell_type": "code",
   "execution_count": null,
   "id": "fa7abafb-71d2-4ace-baed-da0a46095057",
   "metadata": {},
   "outputs": [],
   "source": []
  },
  {
   "cell_type": "markdown",
   "id": "24be66ff-2cf0-4c9c-990f-0f1dcdf483a7",
   "metadata": {},
   "source": [
    "## **6]** How would you extract every third element from a list in Python? Provide an example."
   ]
  },
  {
   "cell_type": "markdown",
   "id": "cf8e0e58-9193-416f-b482-62ef800e13d3",
   "metadata": {},
   "source": [
    "To extract every third element from a list in Python, you can use list slicing with a step size of 3. Here’s how you can do it:\n",
    "\n",
    "```python\n",
    "# Example list\n",
    "my_list = [1, 2, 3, 4, 5, 6, 7, 8, 9, 10]\n",
    "\n",
    "# Extract every third element\n",
    "every_third_element = my_list[2::3]\n",
    "\n",
    "print(\"Original list:\", my_list)\n",
    "print(\"Every third element:\", every_third_element)\n",
    "```\n",
    "\n",
    "In this example:\n",
    "- `my_list` is the original list `[1, 2, 3, 4, 5, 6, 7, 8, 9, 10]`.\n",
    "- `my_list[2::3]` slices the list starting from index 2 (the third element) and selects every third element thereafter.\n",
    "\n",
    "Let's break down `my_list[2::3]`:\n",
    "- `2` is the starting index, which is the third element (`3`) in the list.\n",
    "- `::3` specifies a step of 3, meaning every third element starting from index 2.\n",
    "\n",
    "Therefore, `every_third_element` will contain `[3, 6, 9]`, which are every third element from the original list `[1, 2, 3, 4, 5, 6, 7, 8, 9, 10]`.\n",
    "\n",
    "So, the output of the code will be:\n",
    "```\n",
    "Original list: [1, 2, 3, 4, 5, 6, 7, 8, 9, 10]\n",
    "Every third element: [3, 6, 9]\n",
    "```\n",
    "\n",
    "This approach efficiently extracts every third element from a list using Python's list slicing feature."
   ]
  },
  {
   "cell_type": "code",
   "execution_count": 4,
   "id": "1d44a91b-22c7-48d0-afb8-239c830240c8",
   "metadata": {},
   "outputs": [
    {
     "name": "stdout",
     "output_type": "stream",
     "text": [
      "Original list: [1, 2, 3, 4, 5, 6, 7, 8, 9, 10]\n",
      "Every third element: [3, 6, 9]\n"
     ]
    }
   ],
   "source": [
    "my_list = [1,2,3,4,5,6,7,8,9,10]\n",
    "\n",
    "every_third_element = []\n",
    "for i in range(2,len(my_list),3):\n",
    "    every_third_element.append(my_list[i])\n",
    "print(\"Original list:\", my_list)\n",
    "print(\"Every third element:\", every_third_element)"
   ]
  },
  {
   "cell_type": "markdown",
   "id": "e6fcb885-c4b3-4e29-9269-6f967b6b1ea6",
   "metadata": {},
   "source": [
    "## **7]** Explain the concept of negative indexing in Python lists with an example."
   ]
  },
  {
   "cell_type": "markdown",
   "id": "d9f207d9-2101-445c-b590-73aa259b0448",
   "metadata": {},
   "source": [
    "In Python lists, negative indexing allows you to access elements from the end of the list rather than the beginning. This is particularly useful when you want to access elements relative to the end of the list without needing to know the exact length of the list.\n",
    "\n",
    "Here’s how negative indexing works:\n",
    "- Index `-1` refers to the last element of the list.\n",
    "- Index `-2` refers to the second-to-last element, and so on.\n",
    "- The index `-n` refers to the nth element from the end of the list.\n",
    "\n",
    "### Example of Negative Indexing:\n",
    "\n",
    "Consider the following list:\n",
    "```python\n",
    "my_list = ['a', 'b', 'c', 'd', 'e']\n",
    "```\n",
    "\n",
    "Using negative indexing:\n",
    "\n",
    "- `my_list[-1]` refers to the last element of the list, which is `'e'`.\n",
    "- `my_list[-2]` refers to the second-to-last element, which is `'d'`.\n",
    "- `my_list[-3]` refers to the third-to-last element, which is `'c'`.\n",
    "\n",
    "Let's demonstrate this with code:\n",
    "\n",
    "```python\n",
    "my_list = ['a', 'b', 'c', 'd', 'e']\n",
    "\n",
    "print(\"Last element:\", my_list[-1])\n",
    "print(\"Second-to-last element:\", my_list[-2])\n",
    "print(\"Third-to-last element:\", my_list[-3])\n",
    "```\n",
    "\n",
    "When you run this code, the output will be:\n",
    "```\n",
    "Last element: e\n",
    "Second-to-last element: d\n",
    "Third-to-last element: c\n",
    "```\n",
    "\n",
    "### Benefits of Negative Indexing:\n",
    "- **Simplicity**: Negative indexing provides a convenient way to access elements from the end of the list without needing to calculate the exact length of the list.\n",
    "- **Ease of Use**: It aligns with the intuitive notion of counting backward from the end of a sequence.\n",
    "\n",
    "Negative indexing is not limited to accessing elements; it can also be used with slicing. For example, `my_list[-3:]` would slice the list starting from the third-to-last element to the end.\n",
    "\n",
    "In summary, negative indexing in Python lists is a powerful feature that simplifies accessing elements from the end of a list, making code more readable and intuitive."
   ]
  },
  {
   "cell_type": "code",
   "execution_count": null,
   "id": "db9a2662-44b3-43d4-845a-ea55367085d9",
   "metadata": {},
   "outputs": [],
   "source": []
  },
  {
   "cell_type": "markdown",
   "id": "b079a2f3-c857-4985-ae70-4ba680dc191c",
   "metadata": {},
   "source": [
    "## **8]** What is the output of the following code? \n",
    "```python\n",
    "my_string = 'hello'\n",
    "print(my_string.index('l'))"
   ]
  },
  {
   "cell_type": "markdown",
   "id": "447c6844-78d2-40d3-beb0-c898c737837c",
   "metadata": {},
   "source": [
    "The `index()` method in Python is used to find the index of the first occurrence of a substring within a string. \n",
    "\n",
    "Let's analyze the provided code:\n",
    "```python\n",
    "my_string = 'hello'\n",
    "print(my_string.index('l'))\n",
    "```\n",
    "\n",
    "- `my_string` is initialized with the string `'hello'`.\n",
    "- `my_string.index('l')` searches for the first occurrence of the substring `'l'` within `my_string`.\n",
    "\n",
    "In the string `'hello'`:\n",
    "- The character `'l'` appears at index positions 2 and 3 (0-based indexing).\n",
    "\n",
    "The `index()` method returns the index of the first occurrence of the substring `'l'`, which is 2.\n",
    "\n",
    "Therefore, the output of `print(my_string.index('l'))` will be:\n",
    "```\n",
    "2\n",
    "```\n",
    "\n",
    "This is because `'l'` first appears at index 2 in the string `'hello'`."
   ]
  },
  {
   "cell_type": "code",
   "execution_count": null,
   "id": "49ad03cf-b35d-454c-b8b9-3a4e8b89e1ae",
   "metadata": {},
   "outputs": [],
   "source": []
  },
  {
   "cell_type": "markdown",
   "id": "1fc4ffb0-95f7-4484-a8a6-9aa0153d040f",
   "metadata": {},
   "source": [
    "## **9]** Write a Python code to find the maximum and minimum element in a given list."
   ]
  },
  {
   "cell_type": "markdown",
   "id": "f76356cb-760f-4ea7-8823-c9be9ee1bd10",
   "metadata": {},
   "source": [
    "You can find the maximum and minimum elements in a given list using Python's built-in functions `max()` and `min()`. Here’s how you can do it:\n",
    "\n",
    "```python\n",
    "def find_max_min(input_list):\n",
    "    maximum = max(input_list)\n",
    "    minimum = min(input_list)\n",
    "    return maximum, minimum\n",
    "\n",
    "# Example usage:\n",
    "my_list = [3, 7, 2, 8, 4]\n",
    "max_element, min_element = find_max_min(my_list)\n",
    "\n",
    "print(\"Original list:\", my_list)\n",
    "print(\"Maximum element:\", max_element)\n",
    "print(\"Minimum element:\", min_element)\n",
    "```\n",
    "\n",
    "In this code:\n",
    "- The function `find_max_min()` takes `input_list` as an argument.\n",
    "- `max(input_list)` returns the maximum element in `input_list`.\n",
    "- `min(input_list)` returns the minimum element in `input_list`.\n",
    "- The function returns both the maximum and minimum elements as a tuple.\n",
    "- Example usage demonstrates finding the maximum and minimum elements of `my_list`.\n",
    "\n",
    "When you run this code with `my_list = [3, 7, 2, 8, 4]`, the output will be:\n",
    "```\n",
    "Original list: [3, 7, 2, 8, 4]\n",
    "Maximum element: 8\n",
    "Minimum element: 2\n",
    "```\n",
    "\n",
    "This code efficiently finds the maximum and minimum elements in a list using Python's built-in functions `max()` and `min()`."
   ]
  },
  {
   "cell_type": "code",
   "execution_count": null,
   "id": "db1364c1-96bf-4753-b06c-883c1d90b45e",
   "metadata": {},
   "outputs": [],
   "source": []
  },
  {
   "cell_type": "markdown",
   "id": "ab8a48c0-5470-4017-a892-934d2a1b0a0a",
   "metadata": {},
   "source": [
    "## **10]** Explain the difference between remove() and pop() methods in Python lists with examples."
   ]
  },
  {
   "cell_type": "markdown",
   "id": "39a6952d-497b-405f-80a7-6d3a3a3b1ab3",
   "metadata": {},
   "source": [
    "In Python, `remove()` and `pop()` are both methods used to remove elements from a list, but they differ in how they remove elements and the parameters they accept.\n",
    "\n",
    "### `remove()` Method\n",
    "\n",
    "The `remove()` method is used to remove the first occurrence of a specified value from the list.\n",
    "\n",
    "**Syntax:**\n",
    "```python\n",
    "list.remove(value)\n",
    "```\n",
    "\n",
    "- `value`: The element you want to remove from the list.\n",
    "\n",
    "**Example:**\n",
    "```python\n",
    "my_list = [1, 2, 3, 2, 4]\n",
    "my_list.remove(2)\n",
    "print(my_list)  # Output: [1, 3, 2, 4]\n",
    "\n",
    "my_list.remove(5)  # ValueError: list.remove(x): x not in list\n",
    "```\n",
    "\n",
    "- In the first example, `my_list.remove(2)` removes the first occurrence of `2` from `my_list`.\n",
    "- If the specified value (`5` in the second example) is not found in the list, `remove()` raises a `ValueError`.\n",
    "\n",
    "### `pop()` Method\n",
    "\n",
    "The `pop()` method removes and returns the element at a specified index (default is the last element if no index is specified).\n",
    "\n",
    "**Syntax:**\n",
    "```python\n",
    "element = list.pop(index)\n",
    "```\n",
    "\n",
    "- `index` (optional): The index of the element you want to remove. If not specified, `pop()` removes and returns the last element of the list.\n",
    "\n",
    "**Example:**\n",
    "```python\n",
    "my_list = [1, 2, 3, 4, 5]\n",
    "removed_element = my_list.pop(2)\n",
    "print(\"Removed element:\", removed_element)  # Output: Removed element: 3\n",
    "print(\"Updated list:\", my_list)  # Output: Updated list: [1, 2, 4, 5]\n",
    "\n",
    "last_element = my_list.pop()\n",
    "print(\"Last element removed:\", last_element)  # Output: Last element removed: 5\n",
    "print(\"Updated list:\", my_list)  # Output: Updated list: [1, 2, 4]\n",
    "```\n",
    "\n",
    "- `my_list.pop(2)` removes the element at index `2` (which is `3` in this case) and returns it.\n",
    "- `my_list.pop()` without an index removes and returns the last element of `my_list`.\n",
    "\n",
    "### Key Differences\n",
    "\n",
    "1. **Parameters**:\n",
    "   - `remove(value)`: Takes a value to be removed from the list.\n",
    "   - `pop(index)`: Takes an optional index to specify which element to remove. If not provided, removes the last element.\n",
    "\n",
    "2. **Return Value**:\n",
    "   - `remove()`: Does not return any value; it modifies the list in place.\n",
    "   - `pop()`: Returns the removed element and also modifies the list in place.\n",
    "\n",
    "3. **Handling Missing Values**:\n",
    "   - `remove(value)`: Raises a `ValueError` if the specified value is not found in the list.\n",
    "   - `pop(index)`: Raises an `IndexError` if the index is out of range (when specified).\n",
    "\n",
    "### Use Cases:\n",
    "- Use `remove()` when you know the value you want to remove from the list.\n",
    "- Use `pop()` when you need to remove an element by index and potentially use the removed value.\n",
    "\n",
    "In summary, `remove()` and `pop()` are both useful methods for modifying lists in Python, with `remove()` targeting values and `pop()` targeting indices, each suited to different removal needs."
   ]
  },
  {
   "cell_type": "markdown",
   "id": "4fd98055",
   "metadata": {},
   "source": []
  },
  {
   "cell_type": "markdown",
   "id": "85738f42",
   "metadata": {},
   "source": [
    "<i>\"Thank you for exploring all the way to the end of my page!\"</i>\n",
    "\n",
    "<p>\n",
    "regards, <br>\n",
    "<a href=\"https:www.github.com/Rahul-404/\">Rahul Shelke</a>\n",
    "</p>"
   ]
  },
  {
   "cell_type": "markdown",
   "id": "d1fa053b",
   "metadata": {},
   "source": []
  }
 ],
 "metadata": {
  "kernelspec": {
   "display_name": "Python 3 (ipykernel)",
   "language": "python",
   "name": "python3"
  },
  "language_info": {
   "codemirror_mode": {
    "name": "ipython",
    "version": 3
   },
   "file_extension": ".py",
   "mimetype": "text/x-python",
   "name": "python",
   "nbconvert_exporter": "python",
   "pygments_lexer": "ipython3",
   "version": "3.8.0"
  }
 },
 "nbformat": 4,
 "nbformat_minor": 5
}
