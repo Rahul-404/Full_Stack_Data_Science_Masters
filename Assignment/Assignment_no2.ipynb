{
 "cells": [
  {
   "cell_type": "markdown",
   "id": "afe96e7a-8d6d-49be-bd4d-5f3dd9793c95",
   "metadata": {},
   "source": [
    "**1]** What is the difference between an iterator and a generator in Python? Explain with an example."
   ]
  },
  {
   "cell_type": "code",
   "execution_count": null,
   "id": "400d3400-e61c-47ba-b5ff-b8362f275f21",
   "metadata": {},
   "outputs": [],
   "source": []
  },
  {
   "cell_type": "markdown",
   "id": "a36ea676-4754-402c-9166-ff5fa1949b89",
   "metadata": {},
   "source": [
    "**2]** How does the 'yield' keyword work in Python generators? Provide an example to illustrate its usage. "
   ]
  },
  {
   "cell_type": "code",
   "execution_count": null,
   "id": "76199d4a-d5bd-4da8-b62d-e90f9c081946",
   "metadata": {},
   "outputs": [],
   "source": []
  },
  {
   "cell_type": "markdown",
   "id": "2717e109-a14f-4e25-b09a-2dbfcbdc8656",
   "metadata": {},
   "source": [
    "**3]** Explain the use of 'os' module for file system operations in Python. Provide an example of how to create a new directory using 'os' module."
   ]
  },
  {
   "cell_type": "code",
   "execution_count": null,
   "id": "3c119ee1-f90d-4eef-a1ce-b612e08479f0",
   "metadata": {},
   "outputs": [],
   "source": []
  },
  {
   "cell_type": "markdown",
   "id": "b2e4acc7-16ec-42ee-ad08-9f151db2872e",
   "metadata": {},
   "source": [
    "**4]** What are the basic exception handling keywords in Python? Provide a brief explanantion of each keyword."
   ]
  },
  {
   "cell_type": "code",
   "execution_count": null,
   "id": "4a3f5543-d916-49b2-af59-40186eabcce9",
   "metadata": {},
   "outputs": [],
   "source": []
  },
  {
   "cell_type": "markdown",
   "id": "94c779ad-329e-4e00-af42-379e43f08365",
   "metadata": {},
   "source": [
    "**5]** Write a Python code snippet to handle the 'FileNotFound' exception when opeaning a file using 'try-except' block."
   ]
  },
  {
   "cell_type": "code",
   "execution_count": null,
   "id": "582123f8-bd2a-4f8c-b6ca-e50df1c16489",
   "metadata": {},
   "outputs": [],
   "source": []
  },
  {
   "cell_type": "markdown",
   "id": "7a608625-d8e0-4539-8353-07a6bff94b95",
   "metadata": {},
   "source": [
    "**6]** Discuss the significance of the 'next' function in Python iterator. Provide a simple example to demonstrate its usage."
   ]
  },
  {
   "cell_type": "code",
   "execution_count": null,
   "id": "cb10eb20-d1af-440e-ba77-b4a557f7a9d3",
   "metadata": {},
   "outputs": [],
   "source": []
  },
  {
   "cell_type": "markdown",
   "id": "8dfdece9-fe50-4a86-a17e-aef64275f1fd",
   "metadata": {},
   "source": [
    "**7]** What is the difference between 'os.remove()' and 'os.unlike()' functions in Python's 'os' module with regards to file system operation?"
   ]
  },
  {
   "cell_type": "code",
   "execution_count": null,
   "id": "fd4cc268-9b2a-48eb-acd6-782635638033",
   "metadata": {},
   "outputs": [],
   "source": []
  },
  {
   "cell_type": "markdown",
   "id": "d4512011-353d-4b3c-94b7-6e1c692dceff",
   "metadata": {},
   "source": [
    "**8]** Explain the concept of 'StopIteration' exception in Python iterators. How can it be handled?"
   ]
  },
  {
   "cell_type": "code",
   "execution_count": null,
   "id": "738d9686-14a8-47e4-a16a-60752af3550e",
   "metadata": {},
   "outputs": [],
   "source": []
  },
  {
   "cell_type": "markdown",
   "id": "83cb018b-f408-449b-bc20-33dae5f988f0",
   "metadata": {},
   "source": [
    "**9]** Write a Python code snippet to iterate through a file line by line using file handling and a generator."
   ]
  },
  {
   "cell_type": "code",
   "execution_count": null,
   "id": "c351be67-cbc9-4ca8-9890-9acca85708f2",
   "metadata": {},
   "outputs": [],
   "source": []
  },
  {
   "cell_type": "markdown",
   "id": "5ce22013-09e4-4c63-a15c-ba7c047c3661",
   "metadata": {},
   "source": [
    "**10]** Discuss the role of 'finally' block in Python exception handling. Provide a scenario where 'finally' block would be useful."
   ]
  },
  {
   "cell_type": "code",
   "execution_count": null,
   "id": "33121130-2793-4c41-8373-0796586e83ee",
   "metadata": {},
   "outputs": [],
   "source": []
  },
  {
   "cell_type": "markdown",
   "id": "a4f06fa7-beb9-47e2-a2a4-c0bbd10458ad",
   "metadata": {},
   "source": [
    "**11]** Explain the purpose of 'os.walk()' function in Python's 'os' module. Provide an example demonstratingits usage."
   ]
  },
  {
   "cell_type": "code",
   "execution_count": null,
   "id": "41b0ccdc-04ad-4db8-8826-1f41c78fb799",
   "metadata": {},
   "outputs": [],
   "source": []
  },
  {
   "cell_type": "markdown",
   "id": "df3d4be4-da3c-47f0-8a79-c05be07b47d2",
   "metadata": {},
   "source": [
    "**12]** What is the 'raise' keyword used for in Python? How is it related to exception handling?"
   ]
  },
  {
   "cell_type": "code",
   "execution_count": null,
   "id": "573782a9-55fc-410b-a10c-db201e7f1a93",
   "metadata": {},
   "outputs": [],
   "source": []
  },
  {
   "cell_type": "markdown",
   "id": "8b693f37-1918-45e9-a9e0-84a2969ac0f3",
   "metadata": {},
   "source": [
    "**13]** Write a Python code snippet to create a new file and write data into it using file handling and exception handling for file I/O errors."
   ]
  },
  {
   "cell_type": "code",
   "execution_count": null,
   "id": "23187c96-cf46-45d6-8944-08f22e0bec39",
   "metadata": {},
   "outputs": [],
   "source": []
  }
 ],
 "metadata": {
  "kernelspec": {
   "display_name": "Python 3 (ipykernel)",
   "language": "python",
   "name": "python3"
  },
  "language_info": {
   "codemirror_mode": {
    "name": "ipython",
    "version": 3
   },
   "file_extension": ".py",
   "mimetype": "text/x-python",
   "name": "python",
   "nbconvert_exporter": "python",
   "pygments_lexer": "ipython3",
   "version": "3.8.0"
  }
 },
 "nbformat": 4,
 "nbformat_minor": 5
}
