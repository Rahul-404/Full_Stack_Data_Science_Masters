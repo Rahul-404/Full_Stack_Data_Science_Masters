{
 "cells": [
  {
   "cell_type": "markdown",
   "id": "b3db5422-f9be-41b9-801d-38343a67717d",
   "metadata": {},
   "source": [
    "**1]** What is the purpose of statistics in data science?"
   ]
  },
  {
   "cell_type": "markdown",
   "id": "a6ed2b07-39ff-4683-afd4-5efb1f061a9d",
   "metadata": {},
   "source": [
    "**2]** Explain the concept of central tendency in statistics."
   ]
  },
  {
   "cell_type": "markdown",
   "id": "d3f7f65f-8ed3-4229-bbfd-a754cd9ec789",
   "metadata": {},
   "source": [
    "**3]** What are th ebasic types of data in statistics for data science?"
   ]
  },
  {
   "cell_type": "markdown",
   "id": "14076881-265c-4342-9f55-fcf7b3a3e3a0",
   "metadata": {},
   "source": [
    "**4]** What is the difference betweem population and sample in statistics ?"
   ]
  },
  {
   "cell_type": "markdown",
   "id": "97e13b32-bfa3-4602-80fd-c98d9036cecc",
   "metadata": {},
   "source": [
    "**5]** how is the mean affected by outlier in a dataset?"
   ]
  },
  {
   "cell_type": "markdown",
   "id": "2c063ebf-148b-4b0f-a101-08dbfe0bd0cb",
   "metadata": {},
   "source": [
    "**6]** Explain the concept of correlation in statistics or its significance in data science."
   ]
  },
  {
   "cell_type": "markdown",
   "id": "1c244e02-9abd-46ee-9dbf-67628dd5dc6d",
   "metadata": {},
   "source": [
    "**7]** What are the main assumptions of linear regression in statistics for data science ? "
   ]
  },
  {
   "cell_type": "markdown",
   "id": "f155d80b-c999-4d55-93ce-21ceb201d7df",
   "metadata": {},
   "source": [
    "**8]** Discuss the concepts of precision and recall in the conctext of classification models in data science."
   ]
  },
  {
   "cell_type": "markdown",
   "id": "e4c54cdb-7084-40bd-9b27-720b0f2579ee",
   "metadata": {},
   "source": [
    "**9]** How is the concept of p-value use din hypothesis testing in statistics for data science?"
   ]
  },
  {
   "cell_type": "markdown",
   "id": "ea2c6115-8940-4efa-9710-c2e0ddfc25c4",
   "metadata": {},
   "source": [
    "**10]** Write a Python function to calculate the median of a given list of numbers. "
   ]
  },
  {
   "cell_type": "markdown",
   "id": "56e87a1e-8f32-4156-b481-d18bf8822c7a",
   "metadata": {},
   "source": [
    "**11]** Explain th eimportance of smapling techniques in statisyics for data science."
   ]
  },
  {
   "cell_type": "code",
   "execution_count": null,
   "id": "af2be577-ee3a-4af1-8377-952e95d5fe8f",
   "metadata": {},
   "outputs": [],
   "source": []
  }
 ],
 "metadata": {
  "kernelspec": {
   "display_name": "Python 3 (ipykernel)",
   "language": "python",
   "name": "python3"
  },
  "language_info": {
   "codemirror_mode": {
    "name": "ipython",
    "version": 3
   },
   "file_extension": ".py",
   "mimetype": "text/x-python",
   "name": "python",
   "nbconvert_exporter": "python",
   "pygments_lexer": "ipython3",
   "version": "3.11.7"
  }
 },
 "nbformat": 4,
 "nbformat_minor": 5
}
