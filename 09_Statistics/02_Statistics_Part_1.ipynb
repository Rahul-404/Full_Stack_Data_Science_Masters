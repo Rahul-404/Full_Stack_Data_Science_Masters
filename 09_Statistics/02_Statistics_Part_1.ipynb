{
 "cells": [
  {
   "cell_type": "code",
   "execution_count": null,
   "metadata": {},
   "outputs": [],
   "source": []
  },
  {
   "cell_type": "markdown",
   "metadata": {},
   "source": [
    "# **Statistics Part 1**"
   ]
  },
  {
   "cell_type": "markdown",
   "metadata": {},
   "source": [
    "###  **Table of Contents**\n",
    "1. Sampling Techniques\n",
    "2. Covariance and Correlation\n",
    "3. Probability Distribution Function\n",
    "4. Probability Density Function\n",
    "5. Probability Mass Function\n",
    "6. Cummulative Density Function\n",
    "7. Types of Distribution"
   ]
  },
  {
   "cell_type": "markdown",
   "metadata": {},
   "source": [
    "## **1. Sampling Techniques**\n",
    "\n",
    "1. Random Sampling\n",
    "2. Stratified Sampling\n",
    "3. Systematic Sampling\n",
    "4. Purposive Sampling\n",
    "5. Cluster Sampling\n",
    "6. Convenience Sampling"
   ]
  },
  {
   "cell_type": "markdown",
   "metadata": {},
   "source": [
    "#### **1. Random Sampling**\n",
    "\n",
    "$Random\\ Sampling \\Rightarrow Equal\\ Chance$\n",
    "\n",
    "Simple Random sampling gives each memeber of the population an equal chance of being chosen from the sample.\n",
    "\n",
    "eg., \n",
    "\n",
    "- pick a marbal.\n",
    "- pick a card from deck of card\n",
    "- vaccination test of 100 cuples"
   ]
  },
  {
   "cell_type": "markdown",
   "metadata": {},
   "source": [
    "#### **2. Stratified Sampling**\n",
    "\n",
    "$Stratified \\Rightarrow Layers$\n",
    "\n",
    "Stratified sampling involves dividing the population into sub population that may differ in important ways.\n",
    "\n",
    "eg., \n",
    "\n",
    "- Exit pole : dividing the population in two parts for better sampling\n",
    "\n",
    "![Salary](assets/stratified_sampling_example_1.png)\n",
    "\n",
    "- Salary : diving the salary of employee into two groups\n",
    "\n",
    "![Salary](assets/stratified_sampling_example_2.png)"
   ]
  },
  {
   "cell_type": "markdown",
   "metadata": {},
   "source": [
    "#### **3. Systematic Sampling**\n",
    "\n",
    "Systematic smapling is a statistical method involving the selection of elements from an ordered sampling frame\n",
    "\n",
    "eg., \n",
    "- On Airtport a credit card company selling credit card , so they now asking for every n<sup>th</sup> individual.\n",
    "\n",
    "![Airport Example](assets/systematic_sampling_example_1.png)\n",
    "\n",
    "<br>\n",
    "\n",
    "- In Mall, Fill up a form for a cause, what should be the beauty product price\n",
    "\n",
    "![Mall Example](assets/systematic_sampling_example_2.png)"
   ]
  },
  {
   "cell_type": "markdown",
   "metadata": {},
   "source": [
    "#### **4. Purposive Sampling**\n",
    "\n",
    "Judgemental Sampling is a method where researcher decide which member of the target population will be samples.\n",
    "\n",
    "Eg., \n",
    "- A scientific paper is published for a research by PhD\n",
    "    - So target sample is group who have knowledge about paper & has done PhD (Subject matter experties)."
   ]
  },
  {
   "cell_type": "markdown",
   "metadata": {},
   "source": [
    "#### **5. Cluster Sampling**\n",
    "\n",
    "Clustering sample based on theier behaviour\n",
    "\n",
    "Eg., \n",
    "- Clustering customers based on their salary and product price\n",
    "\n",
    "![Cluster Sampling](assets/clustering_sampling_example_1.png)"
   ]
  },
  {
   "cell_type": "markdown",
   "metadata": {},
   "source": [
    "#### **6. Convenience Sampling**\n",
    "\n",
    "Convienece sampling is a non-probability sampling method where units are selected for inclusion in the sample because they are the easiest for the researcher to access, it is also called *accidental sampling*.\n",
    "\n",
    "Eg., \n",
    "\n",
    "- Selecting clinical cases or participants that are available around a particular location."
   ]
  },
  {
   "cell_type": "markdown",
   "metadata": {},
   "source": [
    "## **2. Covariance & Correlation**"
   ]
  },
  {
   "cell_type": "markdown",
   "metadata": {},
   "source": []
  }
 ],
 "metadata": {
  "kernelspec": {
   "display_name": "base",
   "language": "python",
   "name": "python3"
  },
  "language_info": {
   "name": "python",
   "version": "3.11.7"
  }
 },
 "nbformat": 4,
 "nbformat_minor": 2
}
