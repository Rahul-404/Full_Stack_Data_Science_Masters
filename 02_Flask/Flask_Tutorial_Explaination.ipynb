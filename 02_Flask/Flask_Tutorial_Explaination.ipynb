{
 "cells": [
  {
   "cell_type": "markdown",
   "metadata": {},
   "source": [
    "In todays class we will try to understand how to pass data through a form, because there is difference in between passing data through a `form`, passing a data through a `JSON`and passign a data through `URL`. so we already have seen example of google search.\n",
    "\n",
    "When we try to search something on google, so typed query we get appended  into an `URL` and then it will try to send to the server.\n",
    "\n",
    "Now sent data appending into `URL` is exposed to every one. at same point of time if we talk about `GMAIL`, here when ever you try to pass a data it will not be visible inside your `URL` and no one will be able to see it. so simply it behaves like a form. where you are going to pass a data through a body.\n",
    "\n",
    "In our last tutorial we have seenn that Flask by default passes data through `URL` by using `GET` method.\n",
    "\n",
    "But in case of `GMAIL FORM` is try to pass data through body without exposing it.\n",
    "\n",
    "Now here we are trying to understand how i will pass data through form, or using Json, let's try to understand we will end up creating simple app calculator with the help of Flask \n",
    " "
   ]
  },
  {
   "cell_type": "markdown",
   "metadata": {},
   "source": [
    "Have this following project structure in side our IDE\n",
    "\n",
    "This is the directory heirarchy we are following:\n",
    "\n",
    "```\n",
    "src/\n",
    "│\n",
    "├── static/\n",
    "│   │\n",
    "│   └── css\n",
    "│       ├── style.css\n",
    "|       └── main.css\n",
    "|\n",
    "├── templates/\n",
    "│   │\n",
    "│   ├── index.html\n",
    "│   └── resutls.html\n",
    "|      \n",
    "├── app.py\n",
    "├── README.md\n",
    "└── requirements.txt\n",
    "```\n"
   ]
  },
  {
   "cell_type": "markdown",
   "metadata": {},
   "source": [
    "Once our folder structure is ready, let's try to understand our requirements\n",
    "\n",
    "- we have to create very simple form(means html page)\n",
    "- option to user to select some operations\n",
    "    - addition\n",
    "    - division\n",
    "    - subtraction\n",
    "    - multiplication\n",
    "    - logarithmic\n",
    "- two input box to take inputs from user\n",
    "- a submit button for submission \n",
    "\n",
    "So if user selects an operation and gives two intput numbers in two text boxes and clicks on submit button all this input should go to out python application, and then it should do the calculation of number 1 and number 2 with that if i have selected addition then it should do plus given two numbers, then it supposed to give us the final result after clicking on the submit button. \n",
    "\n",
    "so keeping that in mind we should talk about those `static` and `template` folders\n",
    "\n",
    "now let's try to create such type of application and understand how we can do that."
   ]
  },
  {
   "cell_type": "markdown",
   "metadata": {},
   "source": [
    "in side the `app.py` file we are going to perform each and every operations\n",
    "\n",
    "now what kind of operations we are going to perform let's try to understand\n",
    "\n",
    "import every thing which is needed in our python code\n",
    "\n",
    "```python \n",
    "from flask import Flask, request, render_template, jsonify\n",
    "\n",
    "app = Flask(__name__)\n",
    "\n",
    "@app.route(\"/\")\n",
    "def hello_world():\n",
    "    return \"<h1>Hello World</h1>\"\n",
    "\n",
    "if __name__ == \"__main__\":\n",
    "    app.run(host=\"0.0.0.0\")\n",
    "\n",
    "\n",
    "```"
   ]
  },
  {
   "cell_type": "markdown",
   "metadata": {},
   "source": [
    "1st of all in `templates` folder we have this `index.html` page \n",
    "\n",
    "- so `index.html` is going to behave like the form page which we disscused earlier.\n",
    "- what ever input we have to take from this html pages. by the time my app is up and running users are supposed to see this perticular page, once they are able to see this page they are able to enter the information, keeping that in mind we are talking about this `index.html`\n",
    "\n",
    "But in a very 1st place when ever some is going to start an app they are supposed to see  that particular page, so how a user is able to see this page ?\n",
    "\n",
    "so here is the function which will render the `index.html` page\n",
    "```python\n",
    "\n",
    "def home_page():\n",
    "    return render_template(\"index.html\")\n",
    "```\n",
    "\n",
    "but how it will render that page on browser because give function is simple python function?\n",
    "\n",
    "$\\longrightarrow$ so we have to provide it a route, by default what it will do is that it will render this page by time when my function will be available by the time i am going to launch my app.\n",
    "\n",
    "```python\n",
    "@app.route(\"/\")\n",
    "def home_page():\n",
    "    return render_template(\"index.html\")\n",
    "```\n",
    " \n",
    "now it will render this `index.html` page on home location.\n",
    "\n",
    "this is the html code for `index.html`\n",
    "\n",
    "```html\n",
    "<!DOCTYPE html>\n",
    "<html lang=\"en\">\n",
    "<head>\n",
    "    <meta charset=\"UTF-8\">\n",
    "    <meta name=\"viewport\" content=\"width=device-width, initial-scale=1.0\">\n",
    "    <title>Calculator</title>\n",
    "    <link rel=\"stylesheet\" href=\"static/css/style.css\">\n",
    "</head>\n",
    "<body>\n",
    "    <div class=\"content\">\n",
    "        <h1 style=\"text-align: center;\">Calculator</h1>\n",
    "    \n",
    "        <div class=\"form\">\n",
    "            <form action=\"/math\" method=\"post\">\n",
    "                <label for=\"operation\">Choose a Mathematical Operation</label>\n",
    "    \n",
    "                <select name=\"operation\" id=\"operation\">\n",
    "                    <option value=\"add\">add</option>\n",
    "                    <option value=\"subtract\">subtract</option>\n",
    "                    <option value=\"multiply\">multiply</option>\n",
    "                    <option value=\"divide\">divide</option>\n",
    "    \n",
    "                    <input type=\"text\" name=\"num1\" id=\"num1\">\n",
    "                    <input type=\"text\" name=\"num2\" id=\"num2\">\n",
    "                    <input type=\"submit\" name=\"Calculate\">\n",
    "                </select>\n",
    "            </form>\n",
    "        </div>\n",
    "    </div>\n",
    "        \n",
    "</body>\n",
    "</html>\n",
    "```\n"
   ]
  },
  {
   "cell_type": "markdown",
   "metadata": {},
   "source": [
    "this is how the rendered page look like:\n",
    "\n",
    "\n",
    "![index page](asset/index_page.png)"
   ]
  },
  {
   "cell_type": "markdown",
   "metadata": {},
   "source": [
    "the above html page is available to use, as interface of the application.\n",
    "\n",
    "where we cangive multiple select options, we can select either of the options, lets say we selected `add` option and 1st input is `3` and 2nd input is `1` when click on `Calculate` it will going to submit the input data and selection operation to the backend/python code"
   ]
  },
  {
   "cell_type": "code",
   "execution_count": null,
   "metadata": {},
   "outputs": [],
   "source": []
  },
  {
   "cell_type": "code",
   "execution_count": null,
   "metadata": {},
   "outputs": [],
   "source": []
  },
  {
   "cell_type": "code",
   "execution_count": null,
   "metadata": {},
   "outputs": [],
   "source": []
  }
 ],
 "metadata": {
  "language_info": {
   "name": "python"
  }
 },
 "nbformat": 4,
 "nbformat_minor": 2
}
