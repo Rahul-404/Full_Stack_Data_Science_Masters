{
 "cells": [
  {
   "cell_type": "markdown",
   "metadata": {},
   "source": [
    "# **Introduction to Statistics**\n",
    "\n",
    "Stats is the science of counting, collecting, organizing and analyzing **data**\n",
    "\n",
    "> - **Data:** \"facts or pieces of information\"\n",
    "\n",
    "Examples:\n",
    "1. Height of students in classroom.\n",
    "2. No of sales of in terms of revenue of a company\n",
    "3. Salary of people in society\n",
    "4. IQ of student in classroom."
   ]
  },
  {
   "cell_type": "markdown",
   "metadata": {},
   "source": [
    "###  **Table of Contents**\n",
    "1. Scale of Measurements\n",
    "2. Measure of Central Tendency\n",
    "3. Measure of Dispersion\n",
    "4. Random Variable\n",
    "5. Sets\n",
    "6. Histogram and Skewness"
   ]
  },
  {
   "cell_type": "markdown",
   "metadata": {},
   "source": [
    "## **1. Scale of Measurements**"
   ]
  },
  {
   "cell_type": "markdown",
   "metadata": {},
   "source": [
    "There are two main categories under each two sub categories are there in which data is measured\n",
    "\n",
    "- **Categorical**\n",
    "    - Nominal Scale Data\n",
    "    - Ordinal Scale Data\n",
    "\n",
    "- **Numerical**\n",
    "    - Interval Scale Data\n",
    "    - Ratio Scale Data"
   ]
  },
  {
   "cell_type": "markdown",
   "metadata": {},
   "source": [
    "**<u>1.1 Nominal Scale Data</u>**\n",
    "\n",
    "- Qualitative/ Categorical data\n",
    "\n",
    "- Eg., Gender, Color, Labels\n",
    "\n",
    "- Order or Rank does `not` matter\n",
    "\n",
    "Example: favorite color of girls.\n",
    "\n",
    "| Color | Vote | Percentage |\n",
    "|---|---|---|\n",
    "| Red | 5 | 50% |\n",
    "| Yellow | 3 | 30% |\n",
    "| Orange | 2 | 20% |\n",
    "|*Total*| *10* | *100%* |"
   ]
  },
  {
   "cell_type": "markdown",
   "metadata": {},
   "source": [
    "**<u>1.2 Ordinal Scale Data</u>**\n",
    "\n",
    "- Rank matters\n",
    "- Order is important\n",
    "- Difference cannot be mesured\n",
    "\n",
    "Example: Top 3 runner ups of 100m race\n",
    "\n",
    "| Ranks | Reach Time | Difference w.r.t 1<sup>st</sup>| Difference w.r.t 2<sup>nd</sup>|\n",
    "|---|---|---|---|\n",
    "| 1<sup>st</sup> | 12 Sec |  0 Sec | 0 Sec |\n",
    "| 2<sup>nd</sup> | 15 Sec |  3 Sec | 0 Sec |\n",
    "| 3<sup>rd</sup> | 20 Sec |  8 Sec | 5 Sec |"
   ]
  },
  {
   "cell_type": "markdown",
   "metadata": {},
   "source": [
    "**<u>1.3 Interval Scale Data</u>**\n",
    "\n",
    "- Here also order matters\n",
    "- Difference can be measured\n",
    "- The ratio cannot be measured\n",
    "- No zero starting point\n",
    "\n",
    "**Example 1 :** Temperature Variable in Fahrenheit (<sup>o</sup>F)\n",
    "\n",
    "| Temperature | Difference w.r.t 1<sup>st</sup>| Difference w.r.t 2<sup>nd</sup>|\n",
    "|---|---|---|\n",
    "| 30<sup>o</sup>F | 0<sup>o</sup>F | 30<sup>o</sup>F |\n",
    "| 60<sup>o</sup>F | 30<sup>o</sup>F | 0<sup>o</sup>F |\n",
    "| 90<sup>o</sup>F | 60<sup>o</sup>F | 30<sup>o</sup>F |\n",
    "\n",
    "- we can't measure ratio of temperature like : 60 <sup>o</sup>F / 30 <sup>o</sup>F == 2 : 1 \n",
    "- we can't have **0 <sup>o</sup>F** or **0 <sup>o</sup>C** temperature in real world\n",
    "\n",
    "if you did not got 1st example here is 2nd example.\n",
    "\n",
    "**Example 2 :** IQ of students/persons\n",
    "- IQ scores are designed to be a measure of cognitive abilities relative to the general population\n",
    "\n",
    "| Person | IQ |\n",
    "|---|---|\n",
    "| 1 | 140 |\n",
    "| 2 |  70 |\n",
    "| 3 | 210 |\n",
    "\n",
    "- IQ of a person `cannot` be `zero`\n",
    "- IQ<sub>1</sub> / IQ<sub>2</sub> = 140 / 70 = 2:1\n",
    "- from above , equation it says 1st person have 2x(twice) of the IQ of 2nd person\n",
    "- but in reality, there is no such thing of having 2x cognitive abilities"
   ]
  },
  {
   "cell_type": "markdown",
   "metadata": {},
   "source": [
    "**<u>1.4 Ratio Scale Data</u>**\n",
    "\n",
    "- Order matters\n",
    "- Differences are measurable (Ratio)\n",
    "- Contain a zero starting point\n",
    "\n",
    "**Example 1:** Students marks in exam.\n",
    "\n",
    "students scores(out of 100): 0, 90, 60, 30, 75, 40, 50\n",
    "\n",
    "| Student | Score |\n",
    "|---|---|\n",
    "| S1 | 0 |\n",
    "| S2 |  90 |\n",
    "| S3 | 60 |\n",
    "| S4 | 30 |\n",
    "| S5 | 75 |\n",
    "| S6 | 40 |\n",
    "| S7 | 50 |\n",
    "\n",
    "- difference is scores\n",
    "    - S2, S3 = 90 - 60 = 30 \n",
    "- ratio in scores\n",
    "    - S2 : S3 = 90 : 60 = 1.5 : 1 "
   ]
  },
  {
   "cell_type": "markdown",
   "metadata": {},
   "source": [
    "## **2. Measure of Central Tendency**"
   ]
  },
  {
   "cell_type": "markdown",
   "metadata": {},
   "source": [
    "there are 3 measures of central tendency as following\n",
    "\n",
    "- Mean\n",
    "- Median\n",
    "- Mode"
   ]
  },
  {
   "cell_type": "markdown",
   "metadata": {},
   "source": [
    "<img src=\"assets/measure_of_central_tendency.png\" alt=\"Histograms\" height=\"400\">"
   ]
  },
  {
   "cell_type": "markdown",
   "metadata": {},
   "source": [
    "### **1. Mean**\n",
    "\n",
    "The mean provides a central value around which the data points are distributed\n",
    "\n",
    "**Pupulation(N)**\n",
    "\n",
    "`X = {1, 1, 2, 2, 3, 3, 4, 5, 5, 6}`\n",
    "\n",
    "Population mean(&mu;) = $\\mu = \\frac{1}{N} \\sum_{i=1}^{N} x_i$"
   ]
  },
  {
   "cell_type": "markdown",
   "metadata": {},
   "source": [
    "```python\n",
    "\n",
    "= (1 + 1 + 2 + 2 + 3 + 3 + 4 + 5 + 5 + 6)/10 = 32/10 = 3.2\n",
    "\n",
    "```"
   ]
  },
  {
   "cell_type": "code",
   "execution_count": 3,
   "metadata": {},
   "outputs": [
    {
     "name": "stdout",
     "output_type": "stream",
     "text": [
      "3.2\n"
     ]
    }
   ],
   "source": [
    "X = [1,1,2,2,3,3,4,5,5,6]\n",
    "\n",
    "sum_X = sum(X)\n",
    "\n",
    "mu = sum_X / len(X)\n",
    "\n",
    "print(mu)"
   ]
  },
  {
   "cell_type": "markdown",
   "metadata": {},
   "source": [
    "**Sample(n)**\n",
    "\n",
    "`X = {2, 3, 1, 4, 8, 9, 5}`\n",
    "\n",
    "Sample mean(&mu;) = $\\bar{x} = \\frac{1}{n} \\sum_{i=1}^{n} x_i$"
   ]
  },
  {
   "cell_type": "markdown",
   "metadata": {},
   "source": [
    "```python\n",
    "\n",
    "= (2 + 3 + 1 + 4 + 8 + 9 + 5) / 7 = 32/7 = 4.5\n",
    "\n",
    "```"
   ]
  },
  {
   "cell_type": "code",
   "execution_count": 5,
   "metadata": {},
   "outputs": [
    {
     "name": "stdout",
     "output_type": "stream",
     "text": [
      "4.571428571428571\n"
     ]
    }
   ],
   "source": [
    "x = [2, 3, 1, 4, 8, 9, 5]\n",
    "\n",
    "sum_x = sum(x)\n",
    "\n",
    "x_bar = sum_x / len(x)\n",
    "\n",
    "print(x_bar)"
   ]
  },
  {
   "cell_type": "markdown",
   "metadata": {},
   "source": [
    " let's check with extream high and low values, what happends to mean ?\n",
    "\n",
    "`X = {2, 3, 1, 4, 8, 9, 5}`"
   ]
  },
  {
   "cell_type": "code",
   "execution_count": 31,
   "metadata": {},
   "outputs": [
    {
     "name": "stdout",
     "output_type": "stream",
     "text": [
      "-2.25\n"
     ]
    }
   ],
   "source": [
    "# added -50\n",
    "x = [-50, 2, 3, 1, 4, 8, 9, 5]\n",
    "\n",
    "sum_x = sum(x)\n",
    "\n",
    "x_bar = sum_x / len(x)\n",
    "\n",
    "print(x_bar)"
   ]
  },
  {
   "cell_type": "markdown",
   "metadata": {},
   "source": [
    "- mean changed from `4.5` to `-2.25`\n",
    "- moved to left, when we added low extream i.e -50"
   ]
  },
  {
   "cell_type": "code",
   "execution_count": 32,
   "metadata": {},
   "outputs": [
    {
     "name": "stdout",
     "output_type": "stream",
     "text": [
      "10.25\n"
     ]
    }
   ],
   "source": [
    "# added 50\n",
    "x = [2, 3, 1, 4, 8, 9, 5, 50]\n",
    "\n",
    "sum_x = sum(x)\n",
    "\n",
    "x_bar = sum_x / len(x)\n",
    "\n",
    "print(x_bar)"
   ]
  },
  {
   "cell_type": "markdown",
   "metadata": {},
   "source": [
    "- mean changed from `4.5` to `10.25`\n",
    "- moved to right, when we added high extream i.e 50"
   ]
  },
  {
   "cell_type": "markdown",
   "metadata": {},
   "source": [
    "### **Properties**\n",
    "\n",
    "- **Sensitive to Outliers:** The mean is affected by extremely high or low values, making it a sensitive measure of central tendency."
   ]
  },
  {
   "cell_type": "markdown",
   "metadata": {},
   "source": [
    "### **2. Median**\n",
    "\n",
    "The median is a measure of central tendency that represents the middle value of a dataset when it is ordered from smallest to largest. It is especially useful for understanding the distribution of data, particularly when dealing with skewed distributions or outliers"
   ]
  },
  {
   "cell_type": "markdown",
   "metadata": {},
   "source": [
    "**Formula and Calculation**\n",
    "\n",
    "1. **Order the Data:** Arrange the data points in ascending order.\n",
    "\n",
    "2. **Find the Median:**\n",
    "    - *Odd Number of Values:* If there is an odd number of values, the median is the middle value.\n",
    "    - *Even Number of Values:* If there is an even number of values, the median is the average of the two middle values."
   ]
  },
  {
   "cell_type": "code",
   "execution_count": 44,
   "metadata": {},
   "outputs": [],
   "source": [
    "X = [4, 5, 2, 3, 2, 1]"
   ]
  },
  {
   "cell_type": "code",
   "execution_count": 45,
   "metadata": {},
   "outputs": [],
   "source": [
    "# sort X\n",
    "X = sorted(X)"
   ]
  },
  {
   "cell_type": "code",
   "execution_count": 46,
   "metadata": {},
   "outputs": [
    {
     "data": {
      "text/plain": [
       "[1, 2, 2, 3, 4, 5]"
      ]
     },
     "execution_count": 46,
     "metadata": {},
     "output_type": "execute_result"
    }
   ],
   "source": [
    "X"
   ]
  },
  {
   "cell_type": "code",
   "execution_count": 47,
   "metadata": {},
   "outputs": [
    {
     "name": "stdout",
     "output_type": "stream",
     "text": [
      "3.5\n"
     ]
    }
   ],
   "source": [
    "if len(X)%2 == 0:\n",
    "    print((X[int(len(X)/2)] + X[int(len(X)/2) + 1])/2)\n",
    "else:\n",
    "    print(X[int(len(X)/2)])"
   ]
  },
  {
   "cell_type": "markdown",
   "metadata": {},
   "source": [
    " let's check with extream high and low values, what happends to median ?\n",
    "\n",
    "`X = {2, 3, 1, 4, 6, 5}`"
   ]
  },
  {
   "cell_type": "code",
   "execution_count": 52,
   "metadata": {},
   "outputs": [],
   "source": [
    "def median(X):\n",
    "    # sort X\n",
    "    X = sorted(X)\n",
    "    # find median\n",
    "    if len(X)%2 == 0:\n",
    "        print((X[int(len(X)/2)] + X[int(len(X)/2) + 1])/2)\n",
    "    else:\n",
    "        print(X[int(len(X)/2)])"
   ]
  },
  {
   "cell_type": "code",
   "execution_count": 53,
   "metadata": {},
   "outputs": [
    {
     "name": "stdout",
     "output_type": "stream",
     "text": [
      "4.5\n"
     ]
    }
   ],
   "source": [
    "x = [2, 3, 1, 4, 6, 5]\n",
    "median(x)"
   ]
  },
  {
   "cell_type": "code",
   "execution_count": 54,
   "metadata": {},
   "outputs": [
    {
     "name": "stdout",
     "output_type": "stream",
     "text": [
      "3\n"
     ]
    }
   ],
   "source": [
    "# added -50\n",
    "x = [-50, 2, 3, 1, 4, 6, 5]\n",
    "\n",
    "median(x)"
   ]
  },
  {
   "cell_type": "markdown",
   "metadata": {},
   "source": [
    "- median changed from `4.5` to `3`"
   ]
  },
  {
   "cell_type": "code",
   "execution_count": 55,
   "metadata": {},
   "outputs": [
    {
     "name": "stdout",
     "output_type": "stream",
     "text": [
      "4\n"
     ]
    }
   ],
   "source": [
    "# added 50\n",
    "x = [2, 3, 1, 4, 6, 5, 50]\n",
    "\n",
    "median(x)"
   ]
  },
  {
   "cell_type": "markdown",
   "metadata": {},
   "source": [
    "- median changed from `4.5` to `4`"
   ]
  },
  {
   "cell_type": "markdown",
   "metadata": {},
   "source": [
    "### **Properties**\n",
    "\n",
    "- **Robust to Outliers:** The median is not affected by extremely high or low values, making it a robust measure of central tendency compared to the mean.\n",
    "- **Indicates Distribution:** It provides a good indication of the center of a dataset, especially when data is skewed or contains outliers."
   ]
  },
  {
   "cell_type": "markdown",
   "metadata": {},
   "source": [
    "### **3. Mode**\n",
    "\n",
    "The mode is a measure of central tendency that represents the value that appears most frequently in a dataset. Unlike the mean and median, which focus on the center or average value, the mode identifies the most common value in the dataset."
   ]
  },
  {
   "cell_type": "markdown",
   "metadata": {},
   "source": [
    "#### **Characteristics of the Mode**\n",
    "\n",
    "1. **Most Frequent Value:** The mode is the value that occurs with the highest frequency.\n",
    "2. **Multiple Modes:**\n",
    "    - **Unimodal:** A dataset with only one mode.\n",
    "    - **Bimodal:** A dataset with exactly two modes.\n",
    "    - **Multimodal:** A dataset with more than two modes.\n",
    "    - **No Mode:** If no value repeats, the dataset is said to have no mode."
   ]
  },
  {
   "cell_type": "code",
   "execution_count": 61,
   "metadata": {},
   "outputs": [],
   "source": [
    "from scipy import stats"
   ]
  },
  {
   "cell_type": "code",
   "execution_count": 62,
   "metadata": {},
   "outputs": [
    {
     "data": {
      "text/plain": [
       "ModeResult(mode=4, count=3)"
      ]
     },
     "execution_count": 62,
     "metadata": {},
     "output_type": "execute_result"
    }
   ],
   "source": [
    "#unimode;\n",
    "x = [4, 1, 2, 2, 3, 4, 4]\n",
    "\n",
    "stats.mode(x)"
   ]
  },
  {
   "cell_type": "markdown",
   "metadata": {},
   "source": [
    "- 4 (appears three times) , there for 4 is mode "
   ]
  },
  {
   "cell_type": "code",
   "execution_count": 63,
   "metadata": {},
   "outputs": [
    {
     "data": {
      "text/plain": [
       "ModeResult(mode=1, count=2)"
      ]
     },
     "execution_count": 63,
     "metadata": {},
     "output_type": "execute_result"
    }
   ],
   "source": [
    "# Bimodal\n",
    "x = [1, 1, 2, 2, 3, 4]\n",
    "\n",
    "stats.mode(x)"
   ]
  },
  {
   "cell_type": "markdown",
   "metadata": {},
   "source": [
    "-  1 and 2 (both appear twice), there for 1 and 2 are modes\n",
    "- but code only count 1st ones"
   ]
  },
  {
   "cell_type": "code",
   "execution_count": 64,
   "metadata": {},
   "outputs": [
    {
     "data": {
      "text/plain": [
       "ModeResult(mode=5, count=1)"
      ]
     },
     "execution_count": 64,
     "metadata": {},
     "output_type": "execute_result"
    }
   ],
   "source": [
    "# No Mode\n",
    "x = [5, 7, 9, 11]\n",
    "\n",
    "stats.mode(x)"
   ]
  },
  {
   "cell_type": "markdown",
   "metadata": {},
   "source": [
    "- All values occur exactly once.\n",
    "- but code only count 1st ones"
   ]
  },
  {
   "cell_type": "markdown",
   "metadata": {},
   "source": [
    "#### **Applications:**\n",
    "\n",
    "- In Exploratory data analysis & Feature engineering\n",
    "- While handling missing values"
   ]
  },
  {
   "cell_type": "markdown",
   "metadata": {},
   "source": []
  }
 ],
 "metadata": {
  "kernelspec": {
   "display_name": "base",
   "language": "python",
   "name": "python3"
  },
  "language_info": {
   "codemirror_mode": {
    "name": "ipython",
    "version": 3
   },
   "file_extension": ".py",
   "mimetype": "text/x-python",
   "name": "python",
   "nbconvert_exporter": "python",
   "pygments_lexer": "ipython3",
   "version": "3.11.7"
  }
 },
 "nbformat": 4,
 "nbformat_minor": 2
}
